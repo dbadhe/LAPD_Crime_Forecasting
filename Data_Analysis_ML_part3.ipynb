{
 "cells": [
  {
   "cell_type": "code",
   "execution_count": 2,
   "metadata": {},
   "outputs": [],
   "source": [
    "#Adding all libraries \n",
    "import numpy as np\n",
    "import pandas as pd\n",
    "import os\n",
    "from sklearn.preprocessing import LabelEncoder\n",
    "from sklearn.model_selection import train_test_split\n",
    "from sklearn.model_selection import RandomizedSearchCV, GridSearchCV\n",
    "from sklearn import tree\n",
    "from sklearn.metrics import accuracy_score,confusion_matrix\n",
    "import seaborn as sns\n",
    "import matplotlib.pyplot as plt\n",
    "import copy\n",
    "from sklearn.model_selection import cross_val_predict, StratifiedKFold\n",
    "from sklearn.naive_bayes import MultinomialNB, GaussianNB, BernoulliNB, ComplementNB\n",
    "from sklearn.metrics import confusion_matrix, ConfusionMatrixDisplay\n",
    "from sklearn.model_selection import cross_val_predict\n",
    "from sklearn.naive_bayes import MultinomialNB\n",
    "from sklearn.metrics import confusion_matrix\n",
    "import seaborn as sns\n",
    "import matplotlib.pyplot as plt\n",
    "from sklearn.model_selection import train_test_split, GridSearchCV\n",
    "from sklearn.metrics import confusion_matrix,accuracy_score, roc_curve, auc\n",
    "from sklearn.metrics import recall_score,precision_score\n",
    "from sklearn.neighbors import KNeighborsClassifier\n",
    "sns.set_style(\"whitegrid\")\n",
    "%matplotlib inline\n",
    "from sklearn.ensemble import RandomForestClassifier\n",
    "from sklearn.ensemble import ExtraTreesClassifier,VotingClassifier"
   ]
  },
  {
   "cell_type": "code",
   "execution_count": 3,
   "metadata": {},
   "outputs": [],
   "source": [
    "from sklearn.metrics import (\n",
    "    accuracy_score,\n",
    "    confusion_matrix,\n",
    "    ConfusionMatrixDisplay,\n",
    "    f1_score,roc_curve,auc,recall_score,precision_score\n",
    ")\n",
    "from sklearn.model_selection import cross_val_score"
   ]
  },
  {
   "cell_type": "code",
   "execution_count": 4,
   "metadata": {},
   "outputs": [],
   "source": [
    "# Load the all the data from CSV files \n",
    "train_data = pd.read_csv('train_part3.csv')\n",
    "test_data = pd.read_csv('test_part3.csv')\n",
    "df_original = pd.read_csv('df_original.csv')\n",
    "df_clean = pd.read_csv('df_clean.csv')\n",
    "df = pd.read_csv('df_trim.csv')\n"
   ]
  },
  {
   "cell_type": "code",
   "execution_count": 58,
   "metadata": {},
   "outputs": [
    {
     "data": {
      "text/html": [
       "<div>\n",
       "<style scoped>\n",
       "    .dataframe tbody tr th:only-of-type {\n",
       "        vertical-align: middle;\n",
       "    }\n",
       "\n",
       "    .dataframe tbody tr th {\n",
       "        vertical-align: top;\n",
       "    }\n",
       "\n",
       "    .dataframe thead th {\n",
       "        text-align: right;\n",
       "    }\n",
       "</style>\n",
       "<table border=\"1\" class=\"dataframe\">\n",
       "  <thead>\n",
       "    <tr style=\"text-align: right;\">\n",
       "      <th></th>\n",
       "      <th>Date</th>\n",
       "      <th>Month</th>\n",
       "      <th>Hour</th>\n",
       "      <th>LatLon</th>\n",
       "      <th>Premis Cd</th>\n",
       "      <th>Vict Age</th>\n",
       "      <th>Vict Descent</th>\n",
       "      <th>Crime_Category</th>\n",
       "      <th>Crime_Cat_new</th>\n",
       "    </tr>\n",
       "  </thead>\n",
       "  <tbody>\n",
       "    <tr>\n",
       "      <th>0</th>\n",
       "      <td>7</td>\n",
       "      <td>5</td>\n",
       "      <td>2</td>\n",
       "      <td>5862</td>\n",
       "      <td>727</td>\n",
       "      <td>28</td>\n",
       "      <td>3</td>\n",
       "      <td>1</td>\n",
       "      <td>0</td>\n",
       "    </tr>\n",
       "    <tr>\n",
       "      <th>1</th>\n",
       "      <td>28</td>\n",
       "      <td>6</td>\n",
       "      <td>6</td>\n",
       "      <td>35302</td>\n",
       "      <td>210</td>\n",
       "      <td>35</td>\n",
       "      <td>3</td>\n",
       "      <td>1</td>\n",
       "      <td>0</td>\n",
       "    </tr>\n",
       "    <tr>\n",
       "      <th>2</th>\n",
       "      <td>28</td>\n",
       "      <td>4</td>\n",
       "      <td>1</td>\n",
       "      <td>10989</td>\n",
       "      <td>502</td>\n",
       "      <td>25</td>\n",
       "      <td>2</td>\n",
       "      <td>0</td>\n",
       "      <td>0</td>\n",
       "    </tr>\n",
       "    <tr>\n",
       "      <th>3</th>\n",
       "      <td>1</td>\n",
       "      <td>6</td>\n",
       "      <td>6</td>\n",
       "      <td>17808</td>\n",
       "      <td>101</td>\n",
       "      <td>39</td>\n",
       "      <td>4</td>\n",
       "      <td>1</td>\n",
       "      <td>0</td>\n",
       "    </tr>\n",
       "    <tr>\n",
       "      <th>4</th>\n",
       "      <td>7</td>\n",
       "      <td>3</td>\n",
       "      <td>5</td>\n",
       "      <td>2755</td>\n",
       "      <td>101</td>\n",
       "      <td>50</td>\n",
       "      <td>3</td>\n",
       "      <td>0</td>\n",
       "      <td>0</td>\n",
       "    </tr>\n",
       "  </tbody>\n",
       "</table>\n",
       "</div>"
      ],
      "text/plain": [
       "   Date  Month  Hour  LatLon  Premis Cd  Vict Age  Vict Descent  \\\n",
       "0     7      5     2    5862        727        28             3   \n",
       "1    28      6     6   35302        210        35             3   \n",
       "2    28      4     1   10989        502        25             2   \n",
       "3     1      6     6   17808        101        39             4   \n",
       "4     7      3     5    2755        101        50             3   \n",
       "\n",
       "   Crime_Category  Crime_Cat_new  \n",
       "0               1              0  \n",
       "1               1              0  \n",
       "2               0              0  \n",
       "3               1              0  \n",
       "4               0              0  "
      ]
     },
     "execution_count": 58,
     "metadata": {},
     "output_type": "execute_result"
    }
   ],
   "source": [
    "train_data.head(5)\n",
    "#We know the age is repeatative but the way it is calculated is different. \n",
    "# Vict age is the exact number, \n",
    "#vict_age1 is stated bins classifier and \n",
    "# vict_age2 is equal frequency classisifer"
   ]
  },
  {
   "cell_type": "code",
   "execution_count": 14,
   "metadata": {},
   "outputs": [
    {
     "data": {
      "text/plain": [
       "Crime_Cat_new\n",
       "0    161257\n",
       "1      6898\n",
       "Name: count, dtype: int64"
      ]
     },
     "execution_count": 14,
     "metadata": {},
     "output_type": "execute_result"
    }
   ],
   "source": [
    "train_data.Crime_Cat_new.value_counts()"
   ]
  },
  {
   "cell_type": "code",
   "execution_count": 5,
   "metadata": {},
   "outputs": [],
   "source": [
    "# Separate features and target variable for training data\n",
    "x_train = train_data.drop([\"Crime_Category\",\"Crime_Cat_new\"], axis=1)\n",
    "y_train = train_data[\"Crime_Cat_new\"]\n",
    "\n",
    "# Separate features and target variable for testing data\n",
    "x_test = test_data.drop([\"Crime_Category\",\"Crime_Cat_new\"], axis=1)\n",
    "y_test = test_data[\"Crime_Cat_new\"]"
   ]
  },
  {
   "cell_type": "code",
   "execution_count": 6,
   "metadata": {},
   "outputs": [
    {
     "name": "stdout",
     "output_type": "stream",
     "text": [
      "x_train (168155, 7)\n",
      "y_train (168155,)\n",
      "x_test (72067, 7)\n",
      "y_test (72067,)\n"
     ]
    }
   ],
   "source": [
    "#Faced issue earlier that there was discrepancy in the number of rows\n",
    "#Hence, checking the shape of the datasets. \n",
    "print(\"x_train\", x_train.shape)\n",
    "print(\"y_train\", y_train.shape)\n",
    "print(\"x_test\", x_test.shape)\n",
    "print(\"y_test\", y_test.shape)"
   ]
  },
  {
   "cell_type": "code",
   "execution_count": 13,
   "metadata": {},
   "outputs": [
    {
     "ename": "AttributeError",
     "evalue": "'DataFrame' object has no attribute 'Crime_cat_new'",
     "output_type": "error",
     "traceback": [
      "\u001b[0;31m---------------------------------------------------------------------------\u001b[0m",
      "\u001b[0;31mAttributeError\u001b[0m                            Traceback (most recent call last)",
      "\u001b[0;32m/var/folders/hz/ws3q5b8d38q_zyr3p29kkh0c0000gn/T/ipykernel_77421/754396759.py\u001b[0m in \u001b[0;36m?\u001b[0;34m()\u001b[0m\n\u001b[0;32m----> 1\u001b[0;31m \u001b[0mdf\u001b[0m\u001b[0;34m.\u001b[0m\u001b[0mCrime_cat_new\u001b[0m\u001b[0;34m.\u001b[0m\u001b[0mvalue_counts\u001b[0m\u001b[0;34m(\u001b[0m\u001b[0;34m)\u001b[0m\u001b[0;34m\u001b[0m\u001b[0;34m\u001b[0m\u001b[0m\n\u001b[0m",
      "\u001b[0;32m~/Library/Python/3.8/lib/python/site-packages/pandas/core/generic.py\u001b[0m in \u001b[0;36m?\u001b[0;34m(self, name)\u001b[0m\n\u001b[1;32m   5985\u001b[0m             \u001b[0;32mand\u001b[0m \u001b[0mname\u001b[0m \u001b[0;32mnot\u001b[0m \u001b[0;32min\u001b[0m \u001b[0mself\u001b[0m\u001b[0;34m.\u001b[0m\u001b[0m_accessors\u001b[0m\u001b[0;34m\u001b[0m\u001b[0;34m\u001b[0m\u001b[0m\n\u001b[1;32m   5986\u001b[0m             \u001b[0;32mand\u001b[0m \u001b[0mself\u001b[0m\u001b[0;34m.\u001b[0m\u001b[0m_info_axis\u001b[0m\u001b[0;34m.\u001b[0m\u001b[0m_can_hold_identifiers_and_holds_name\u001b[0m\u001b[0;34m(\u001b[0m\u001b[0mname\u001b[0m\u001b[0;34m)\u001b[0m\u001b[0;34m\u001b[0m\u001b[0;34m\u001b[0m\u001b[0m\n\u001b[1;32m   5987\u001b[0m         ):\n\u001b[1;32m   5988\u001b[0m             \u001b[0;32mreturn\u001b[0m \u001b[0mself\u001b[0m\u001b[0;34m[\u001b[0m\u001b[0mname\u001b[0m\u001b[0;34m]\u001b[0m\u001b[0;34m\u001b[0m\u001b[0;34m\u001b[0m\u001b[0m\n\u001b[0;32m-> 5989\u001b[0;31m         \u001b[0;32mreturn\u001b[0m \u001b[0mobject\u001b[0m\u001b[0;34m.\u001b[0m\u001b[0m__getattribute__\u001b[0m\u001b[0;34m(\u001b[0m\u001b[0mself\u001b[0m\u001b[0;34m,\u001b[0m \u001b[0mname\u001b[0m\u001b[0;34m)\u001b[0m\u001b[0;34m\u001b[0m\u001b[0;34m\u001b[0m\u001b[0m\n\u001b[0m",
      "\u001b[0;31mAttributeError\u001b[0m: 'DataFrame' object has no attribute 'Crime_cat_new'"
     ]
    }
   ],
   "source": [
    "df.Crime_cat_new.value_counts()"
   ]
  },
  {
   "cell_type": "code",
   "execution_count": 61,
   "metadata": {},
   "outputs": [
    {
     "data": {
      "text/plain": [
       "Date            0\n",
       "Month           0\n",
       "Hour            0\n",
       "LatLon          0\n",
       "Premis Cd       0\n",
       "Vict Age        0\n",
       "Vict Descent    0\n",
       "dtype: int64"
      ]
     },
     "execution_count": 61,
     "metadata": {},
     "output_type": "execute_result"
    }
   ],
   "source": [
    "#checking if there are any null values \n",
    "x_train.isnull().sum()"
   ]
  },
  {
   "cell_type": "code",
   "execution_count": 62,
   "metadata": {},
   "outputs": [
    {
     "data": {
      "text/plain": [
       "Date            0\n",
       "Month           0\n",
       "Hour            0\n",
       "LatLon          0\n",
       "Premis Cd       0\n",
       "Vict Age        0\n",
       "Vict Descent    0\n",
       "dtype: int64"
      ]
     },
     "execution_count": 62,
     "metadata": {},
     "output_type": "execute_result"
    }
   ],
   "source": [
    "x_test.isnull().sum()"
   ]
  },
  {
   "cell_type": "code",
   "execution_count": 8,
   "metadata": {},
   "outputs": [],
   "source": [
    "#Creating separate X and Y \n",
    "x = df.drop([\"Crime_Category\",\"Crime_Cat_new\"], axis=1)\n",
    "y = df.Crime_Cat_new.values"
   ]
  },
  {
   "cell_type": "markdown",
   "metadata": {},
   "source": [
    "## Data Analysis - Part 1 \n",
    "In this part, our output category has 6 values. We will perform all analysis for this particular thing. "
   ]
  },
  {
   "cell_type": "code",
   "execution_count": 9,
   "metadata": {},
   "outputs": [],
   "source": [
    "#labels & classes \n",
    "labels = [0,1]\n",
    "classes = [0,1]\n",
    "\n",
    "## Cost Matrix \n",
    "cost_matrix = np.array([[30,-20],  # a: Cost of True Positive, b: Cost of False Negative\n",
    "                        [-5,5]]) # c: Cost of False Positive, d: Cost of True Negative"
   ]
  },
  {
   "cell_type": "code",
   "execution_count": 10,
   "metadata": {},
   "outputs": [],
   "source": [
    "def plot_confusionmatrix(y_train_pred,y_train,dom):\n",
    "    print(f'{dom} Confusion matrix')\n",
    "    cf = confusion_matrix(y_train_pred,y_train)\n",
    "    # When annot is set to True, it adds text annotations to each cell of the heatmap.\n",
    "    sns.heatmap(cf,annot=True,yticklabels=classes,xticklabels=classes,cmap='Blues', fmt='g')\n",
    "    plt.tight_layout()\n",
    "    plt.show()"
   ]
  },
  {
   "cell_type": "markdown",
   "metadata": {},
   "source": [
    "### Naive Bayes"
   ]
  },
  {
   "cell_type": "code",
   "execution_count": 66,
   "metadata": {},
   "outputs": [
    {
     "name": "stdout",
     "output_type": "stream",
     "text": [
      "TEST ACCURACY  MultinomialNB  is : 0.6086974620838942\n",
      "TRAIN ACCURACY MultinomialNB  is : 0.6085575808034254\n",
      "EXPECTED VALUE  MultinomialNB  is : 741165\n",
      "___________________________\n",
      "TEST ACCURACY  GaussianNB  is : 0.9571926124300998\n",
      "TRAIN ACCURACY GaussianNB  is : 0.9589783235705153\n",
      "EXPECTED VALUE  GaussianNB  is : 2054035\n",
      "___________________________\n",
      "TEST ACCURACY  ComplementNB  is : 0.5635589104583235\n",
      "TRAIN ACCURACY ComplementNB  is : 0.5628556986114002\n",
      "EXPECTED VALUE  ComplementNB  is : 572315\n",
      "___________________________\n"
     ]
    },
    {
     "name": "stdout",
     "output_type": "stream",
     "text": [
      "TEST ACCURACY  BernoulliNB  is : 0.9571926124300998\n",
      "TRAIN ACCURACY BernoulliNB  is : 0.9589783235705153\n",
      "EXPECTED VALUE  BernoulliNB  is : 2054035\n",
      "___________________________\n"
     ]
    }
   ],
   "source": [
    "'''We will look into Naive Bayes models \n",
    "1. Multinomial Naive Bayes - MultinomialNB\n",
    "2. Gaussian Naive Bayes - GaussianNB\n",
    "3. Complement Naive Bayes - ComplementNB\n",
    "4. Bernoulli Naive Bayes - BernoulliNB\n",
    "\n",
    "'''\n",
    "#Defining all the models as a dictionary\n",
    "NB_models = {\n",
    "    'MultinomialNB': MultinomialNB(),\n",
    "    'GaussianNB': GaussianNB(),\n",
    "    'ComplementNB': ComplementNB(),\n",
    "    'BernoulliNB': BernoulliNB()\n",
    "}\n",
    "\n",
    "#for every model in NB model, we will run all the code to calculate everything in one go \n",
    "#took reference from ensemble learning code. \n",
    "\n",
    "for name, classifier in NB_models.items():\n",
    "    \n",
    "    #fit the model to our data \n",
    "    classifier.fit(x_train, y_train)\n",
    "    \n",
    "    '''Calculating all the predicitons'''\n",
    "    #Prediction for the testing dataset \n",
    "    y_pred = classifier.predict(x_test)\n",
    "    #Prediction for the training dataset \n",
    "    y_pred_train =  classifier.predict(x_train)\n",
    "    \n",
    "    #Confusion matrix for calculation \n",
    "    cm = confusion_matrix(y_test, y_pred, labels=labels)\n",
    "\n",
    "    #hashed because I want to evaluate the models faster, can unhash to see the exact confusion matrixes\n",
    "    #plot_confusionmatrix(y_pred_train,y_train,dom='Train')\n",
    "    #plot_confusionmatrix(y_pred,y_test,dom='Test')\n",
    "    \n",
    "    #Calculating Expected Value \n",
    "    EV = np.sum(cm * cost_matrix)\n",
    "    \n",
    "    #Calculatinf other scores for comparision \n",
    "    #f1_score = f1_score(y_test, y_pred, average='weighted')\n",
    "    #Recall = recall_score(y_test, y_pred)\n",
    "    #Precision= precision_score(y_test, y_pred)\n",
    "    \n",
    "    print(\"TEST ACCURACY \",name,\" is :\", accuracy_score(y_test, y_pred))\n",
    "    print(\"TRAIN ACCURACY\",name,\" is :\", accuracy_score(y_train, y_pred_train))\n",
    "    print(\"EXPECTED VALUE \",name,\" is :\", EV)\n",
    "    print(\"___________________________\")\n",
    "    #print(\"F-1 SCORE \",name,\" is :\", f1_score)\n",
    "    #print(\"RECALL \",name,\" is :\", Recall)\n",
    "    #print(\"PRECISION \",name,\" is :\", Precision)\n"
   ]
  },
  {
   "cell_type": "markdown",
   "metadata": {},
   "source": [
    "### Decision Trees"
   ]
  },
  {
   "cell_type": "code",
   "execution_count": 67,
   "metadata": {},
   "outputs": [
    {
     "name": "stdout",
     "output_type": "stream",
     "text": [
      "TEST ACCURACY  GiniTree_NoEstimators  is : 0.9215729806985167\n",
      "TRAIN ACCURACY GiniTree_NoEstimators  is : 0.9998513276441379\n",
      "EXPECTED VALUE  GiniTree_NoEstimators  is : 1904565\n",
      "___________________________\n",
      "TEST ACCURACY  EntropyTree_NoEstimators  is : 0.9244453078385392\n",
      "TRAIN ACCURACY EntropyTree_NoEstimators  is : 0.9998513276441379\n",
      "EXPECTED VALUE  EntropyTree_NoEstimators  is : 1916275\n",
      "___________________________\n",
      "TEST ACCURACY  RandomForest  is : 0.9589409854718526\n",
      "TRAIN ACCURACY RandomForest  is : 0.999791858701793\n",
      "EXPECTED VALUE  RandomForest  is : 2050895\n",
      "___________________________\n",
      "TEST ACCURACY  ExtraTrees_Gini  is : 0.9585940860588064\n",
      "TRAIN ACCURACY ExtraTrees_Gini  is : 0.9998513276441379\n",
      "EXPECTED VALUE  ExtraTrees_Gini  is : 2051125\n",
      "___________________________\n",
      "TEST ACCURACY  ExtraTrees_Entropy  is : 0.9585247061761971\n",
      "TRAIN ACCURACY ExtraTrees_Entropy  is : 0.9998513276441379\n",
      "EXPECTED VALUE  ExtraTrees_Entropy  is : 2051235\n",
      "___________________________\n"
     ]
    }
   ],
   "source": [
    "'''\n",
    "In this section, we will look at decision tree models\n",
    "\n",
    "1. tree.DecisionTreeClassifier(criterion='gini', random_state=42)\n",
    "2.  tree.DecisionTreeClassifier(criterion='entropy', random_state=42) \n",
    "3.Extremely Randomized Trees\n",
    "4. Random Forest - RandomForestClassifier(random_state=42)\n",
    "'''\n",
    "\n",
    "Tree_models_42 = {\n",
    "    'GiniTree_NoEstimators' : tree.DecisionTreeClassifier(criterion='gini', random_state=42), \n",
    "    'EntropyTree_NoEstimators' : tree.DecisionTreeClassifier(criterion='entropy', random_state=42),\n",
    "    'RandomForest' : RandomForestClassifier(random_state=42),\n",
    "    'ExtraTrees_Gini': ExtraTreesClassifier( criterion='gini', random_state=42), \n",
    "    'ExtraTrees_Entropy': ExtraTreesClassifier( criterion='entropy', random_state=42), \n",
    "       \n",
    "}\n",
    "\n",
    "#took reference from ensemble learning code. \n",
    "\n",
    "for name, classifier in Tree_models_42.items():\n",
    "    \n",
    "    #fit the model to our data \n",
    "    classifier.fit(x_train, y_train)\n",
    "    \n",
    "    '''Calculating all the predicitons'''\n",
    "    #Prediction for the testing dataset \n",
    "    y_pred = classifier.predict(x_test)\n",
    "    #Prediction for the training dataset \n",
    "    y_pred_train =  classifier.predict(x_train)\n",
    "    \n",
    "    #Confusion matrix for calculation \n",
    "    cm = confusion_matrix(y_test, y_pred, labels=labels)\n",
    "\n",
    "    #hashed because I want to evaluate the models faster, can unhash to see the exact confusion matrixes\n",
    "    #plot_confusionmatrix(y_pred_train,y_train,dom='Train')\n",
    "    #plot_confusionmatrix(y_pred,y_test,dom='Test')\n",
    "    \n",
    "    #Calculating Expected Value \n",
    "    EV = np.sum(cm * cost_matrix)\n",
    "    \n",
    "    #Calculatinf other scores for comparision \n",
    "    #f1_score = f1_score(y_test, y_pred, average='weighted')\n",
    "    #Recall = recall_score(y_test, y_pred)\n",
    "    #Precision= precision_score(y_test, y_pred)\n",
    "    \n",
    "    print(\"TEST ACCURACY \",name,\" is :\", accuracy_score(y_test, y_pred))\n",
    "    print(\"TRAIN ACCURACY\",name,\" is :\", accuracy_score(y_train, y_pred_train))\n",
    "    print(\"EXPECTED VALUE \",name,\" is :\", EV)\n",
    "    print(\"___________________________\")\n",
    "    #print(\"F-1 SCORE \",name,\" is :\", f1_score)\n",
    "    #print(\"RECALL \",name,\" is :\", Recall)\n",
    "    #print(\"PRECISION \",name,\" is :\", Precision)"
   ]
  },
  {
   "cell_type": "markdown",
   "metadata": {},
   "source": [
    "Up until now, Random forest give us the best results with maximum EV. Now let's try to improve the performances of these models. \n",
    "\n",
    "* We will do pre-pruning and post pruning to see improvements. \n",
    "* After that for both the types of models, we will perform cross validation. "
   ]
  },
  {
   "cell_type": "code",
   "execution_count": 68,
   "metadata": {},
   "outputs": [
    {
     "name": "stdout",
     "output_type": "stream",
     "text": [
      "Best Fit Model: DecisionTreeClassifier(criterion='entropy', max_depth=6, min_samples_leaf=2,\n",
      "                       random_state=42)\n",
      "TEST ACCURACY is: 0.9583165665283694\n",
      "TRAIN ACCURACY is: 0.9602152775712884\n",
      "EXPECTED VALUE is: 2050485\n"
     ]
    }
   ],
   "source": [
    "params = {\n",
    "    'max_depth': [2, 4, 6],\n",
    "    'min_samples_split': [2, 4],\n",
    "    'min_samples_leaf': [1, 2]\n",
    "}\n",
    "\n",
    "classifier = tree.DecisionTreeClassifier(criterion='entropy', random_state=42)\n",
    "gcv = GridSearchCV(estimator=classifier, param_grid=params)\n",
    "gcv.fit(x_train, y_train)\n",
    "\n",
    "modelgcv = gcv.best_estimator_\n",
    "print(\"Best Fit Model:\", modelgcv)\n",
    "\n",
    "modelgcv.fit(x_train, y_train)\n",
    "\n",
    "# Predictions\n",
    "y_pred = modelgcv.predict(x_test)\n",
    "y_pred_train = modelgcv.predict(x_train)\n",
    "\n",
    "# Confusion matrix\n",
    "cm = confusion_matrix(y_test, y_pred, labels=labels)\n",
    "\n",
    "# Calculating Expected Value\n",
    "EV = np.sum(cm * cost_matrix)\n",
    "\n",
    "# Calculating other scores\n",
    "#f1 = f1_score(y_test, y_pred, average='weighted')\n",
    "#Recall = recall_score(y_test, y_pred, average='weighted')  # Add average='weighted' for multiclass\n",
    "#Precision = precision_score(y_test, y_pred, average='weighted')  # Add average='weighted' for multiclass\n",
    "\n",
    "# Printing results\n",
    "print(\"TEST ACCURACY is:\", accuracy_score(y_test, y_pred))\n",
    "print(\"TRAIN ACCURACY is:\", accuracy_score(y_train, y_pred_train))\n",
    "print(\"EXPECTED VALUE is:\", EV)\n",
    "#print(\"F-1 SCORE is:\", f1)\n",
    "#print(\"RECALL is:\", Recall)\n",
    "#print(\"PRECISION is:\", Precision)"
   ]
  },
  {
   "cell_type": "code",
   "execution_count": 69,
   "metadata": {},
   "outputs": [
    {
     "name": "stdout",
     "output_type": "stream",
     "text": [
      "Best Fit Model for GiniTree_NoEstimators DecisionTreeClassifier(max_depth=6, min_samples_leaf=3, random_state=42)\n",
      "TEST ACCURACY  GiniTree_NoEstimators  is : 0.9215729806985167\n",
      "TRAIN ACCURACY GiniTree_NoEstimators  is : 0.9998513276441379\n",
      "EXPECTED VALUE  GiniTree_NoEstimators  is : 1904565\n",
      "___________________________\n",
      "Best Fit Model for EntropyTree_NoEstimators DecisionTreeClassifier(criterion='entropy', max_depth=6, min_samples_leaf=3,\n",
      "                       random_state=42)\n",
      "TEST ACCURACY  EntropyTree_NoEstimators  is : 0.9244453078385392\n",
      "TRAIN ACCURACY EntropyTree_NoEstimators  is : 0.9998513276441379\n",
      "EXPECTED VALUE  EntropyTree_NoEstimators  is : 1916275\n",
      "___________________________\n",
      "Best Fit Model for RandomForest RandomForestClassifier(max_depth=6, min_samples_leaf=3, random_state=42)\n",
      "TEST ACCURACY  RandomForest  is : 0.9589409854718526\n",
      "TRAIN ACCURACY RandomForest  is : 0.999791858701793\n",
      "EXPECTED VALUE  RandomForest  is : 2050895\n",
      "___________________________\n",
      "Best Fit Model for ExtraTrees_Gini ExtraTreesClassifier(max_depth=2, min_samples_leaf=2, random_state=42)\n",
      "TEST ACCURACY  ExtraTrees_Gini  is : 0.9585940860588064\n",
      "TRAIN ACCURACY ExtraTrees_Gini  is : 0.9998513276441379\n",
      "EXPECTED VALUE  ExtraTrees_Gini  is : 2051125\n",
      "___________________________\n",
      "Best Fit Model for ExtraTrees_Entropy ExtraTreesClassifier(criterion='entropy', max_depth=2, min_samples_leaf=2,\n",
      "                     random_state=42)\n",
      "TEST ACCURACY  ExtraTrees_Entropy  is : 0.9585247061761971\n",
      "TRAIN ACCURACY ExtraTrees_Entropy  is : 0.9998513276441379\n",
      "EXPECTED VALUE  ExtraTrees_Entropy  is : 2051235\n",
      "___________________________\n"
     ]
    }
   ],
   "source": [
    "# Pre-pruning \n",
    "for name, classifier in Tree_models_42.items():\n",
    "    \n",
    "    # parameters \n",
    "    params = {'max_depth': [2,4,6],\n",
    "         'min_samples_split': [2,3,4],\n",
    "         'min_samples_leaf': [2,3]}\n",
    "    \n",
    "    \n",
    "    gcv = GridSearchCV(estimator=classifier,param_grid=params)\n",
    "    gcv.fit(x_train,y_train)\n",
    "\n",
    "    modelgcv = gcv.best_estimator_\n",
    "    print(\"Best Fit Model for\", name, modelgcv)\n",
    "    \n",
    "\n",
    "    modelgcv.fit(x_train,y_train)\n",
    "    \n",
    "    '''Calculating all the predicitons'''\n",
    "    #Prediction for the testing dataset \n",
    "    y_pred = classifier.predict(x_test)\n",
    "    #Prediction for the training dataset \n",
    "    y_pred_train =  classifier.predict(x_train)\n",
    "    \n",
    "    #Confusion matrix for calculation \n",
    "    cm = confusion_matrix(y_test, y_pred, labels=labels)\n",
    "\n",
    "    #hashed because I want to evaluate the models faster, can unhash to see the exact confusion matrixes\n",
    "    #plot_confusionmatrix(y_pred_train,y_train,dom='Train')\n",
    "    #plot_confusionmatrix(y_pred,y_test,dom='Test')\n",
    "    \n",
    "    #Calculating Expected Value \n",
    "    EV = np.sum(cm * cost_matrix)\n",
    "    \n",
    "    #Calculatinf other scores for comparision \n",
    "    #f1_score = f1_score(y_test, y_pred, average='weighted')\n",
    "    #Recall = recall_score(y_test, y_pred)\n",
    "    #Precision= precision_score(y_test, y_pred)\n",
    "    \n",
    "    print(\"TEST ACCURACY \",name,\" is :\", accuracy_score(y_test, y_pred))\n",
    "    print(\"TRAIN ACCURACY\",name,\" is :\", accuracy_score(y_train, y_pred_train))\n",
    "    print(\"EXPECTED VALUE \",name,\" is :\", EV)\n",
    "    print(\"___________________________\")\n",
    "    #print(\"F-1 SCORE \",name,\" is :\", f1_score)\n",
    "    #print(\"RECALL \",name,\" is :\", Recall)\n",
    "    #print(\"PRECISION \",name,\" is :\", Precision)"
   ]
  },
  {
   "cell_type": "code",
   "execution_count": 70,
   "metadata": {},
   "outputs": [
    {
     "name": "stdout",
     "output_type": "stream",
     "text": [
      "GiniTree_NoEstimators\n",
      "[0.00000000e+00 1.69829850e-06 1.91021451e-06 ... 2.72653284e-04\n",
      " 4.47259026e-04 3.50640291e-03]\n",
      "(2874,)\n",
      "0.003506402914424847\n",
      "______________________\n",
      "EntropyTree_NoEstimators\n",
      "[0.00000000e+00 2.91531620e-06 3.70227617e-06 ... 1.54568077e-03\n",
      " 1.67241892e-03 1.49586709e-02]\n",
      "(4388,)\n",
      "0.014958670946649322\n",
      "______________________\n",
      "GiniTree_BestGCV\n",
      "[0.00000000e+00 1.10171181e-06 1.14690103e-06 1.64934065e-06\n",
      " 1.76656031e-06 2.97344712e-06 3.49979167e-06 4.61600644e-06\n",
      " 4.80308057e-06 5.17943509e-06 5.22791486e-06 6.12839036e-06\n",
      " 6.34575464e-06 6.60766026e-06 8.35084170e-06 8.45587997e-06\n",
      " 8.81660219e-06 8.92160119e-06 9.28318125e-06 1.02420540e-05\n",
      " 1.03439918e-05 1.04117302e-05 1.08793485e-05 1.11128900e-05\n",
      " 1.13330141e-05 1.13364718e-05 1.15847470e-05 1.27712543e-05\n",
      " 1.52262759e-05 1.61429046e-05 1.63510915e-05 2.36628530e-05\n",
      " 2.49769558e-05 2.58948254e-05 2.64104110e-05 2.75045366e-05\n",
      " 2.98853884e-05 3.21296753e-05 3.41823924e-05 4.01745518e-05\n",
      " 4.56573913e-05 4.64262950e-05 4.98885088e-05 5.31534504e-05\n",
      " 6.21605588e-05 8.79518373e-05 9.47189097e-05 1.17283657e-04\n",
      " 2.43857602e-04 2.72653284e-04 4.47259026e-04 3.50640291e-03]\n",
      "(52,)\n",
      "0.0035064029144248887\n",
      "______________________\n",
      "EntropyTree_BestGCV\n",
      "[0.00000000e+00 8.74594860e-06 1.24876779e-05 1.30989471e-05\n",
      " 1.41318989e-05 1.60350234e-05 1.81119315e-05 2.00125934e-05\n",
      " 2.22968562e-05 2.35660687e-05 2.43475999e-05 2.44760625e-05\n",
      " 2.48994216e-05 2.82644525e-05 2.85972549e-05 2.96364835e-05\n",
      " 3.04577406e-05 3.15065499e-05 3.87976837e-05 3.95146828e-05\n",
      " 4.17242402e-05 4.18835122e-05 4.51155960e-05 5.06883230e-05\n",
      " 5.12134212e-05 5.87831538e-05 6.50319642e-05 6.51681173e-05\n",
      " 6.66685962e-05 7.38433965e-05 7.50124145e-05 8.11028248e-05\n",
      " 9.38309175e-05 9.44996413e-05 1.07792892e-04 1.11541839e-04\n",
      " 1.27021389e-04 1.36215931e-04 1.51984349e-04 1.55654976e-04\n",
      " 1.91720645e-04 3.01730780e-04 4.21237363e-04 4.52225864e-04\n",
      " 5.53201859e-04 7.05759416e-04 1.00798682e-03 1.36363265e-03\n",
      " 1.54568077e-03 1.67241892e-03 1.49586709e-02]\n",
      "(51,)\n",
      "0.014958670946648878\n",
      "______________________\n"
     ]
    }
   ],
   "source": [
    "#Post Pruning \n",
    "Tree_models_new = {\n",
    "    'GiniTree_NoEstimators' : tree.DecisionTreeClassifier(criterion='gini', random_state=42), \n",
    "    'EntropyTree_NoEstimators' : tree.DecisionTreeClassifier(criterion='entropy', random_state=42),\n",
    "    'GiniTree_BestGCV' : tree.DecisionTreeClassifier(criterion='gini',max_depth=6, min_samples_leaf=3, random_state=42), \n",
    "    'EntropyTree_BestGCV' : tree.DecisionTreeClassifier(criterion='entropy',max_depth=6, min_samples_leaf=2, random_state=42),\n",
    "    #'RandomForest' : RandomForestClassifier(random_state=42),\n",
    "    #'ExtraTrees_Gini': ExtraTreesClassifier( criterion='gini', random_state=42), \n",
    "    #'ExtraTrees_Entropy': ExtraTreesClassifier( criterion='entropy', random_state=42), \n",
    "       \n",
    "}\n",
    "for name, model in Tree_models_new.items():\n",
    "    path = model.cost_complexity_pruning_path(x_train, y_train)\n",
    "    ccp_alphas, impurities = path.ccp_alphas, path.impurities\n",
    "    print(name)\n",
    "    print(ccp_alphas)\n",
    "    print(ccp_alphas.shape)\n",
    "    print(max(ccp_alphas))\n",
    "    ccp_alphas2 = np.arange(0,max(ccp_alphas),0.001)\n",
    "    print(\"______________________\")\n"
   ]
  },
  {
   "cell_type": "code",
   "execution_count": 71,
   "metadata": {},
   "outputs": [
    {
     "data": {
      "image/png": "[encoded data removed]",
      "text/plain": [
       "<Figure size 640x480 with 1 Axes>"
      ]
     },
     "metadata": {},
     "output_type": "display_data"
    }
   ],
   "source": [
    "#For Entropy Tree GCV \n",
    "ccp_alphas2 = np.arange(0,0.037,0.01)\n",
    "models = []\n",
    "for ccp_alpha in ccp_alphas2:\n",
    "    model = tree.DecisionTreeClassifier(criterion='entropy',max_depth=6, min_samples_leaf=2, random_state=42, ccp_alpha=ccp_alpha)\n",
    "    model.fit(x_train, y_train)\n",
    "    models.append(model)\n",
    "    \n",
    "#Plotting the CCP alphas and their corresponding accuracy scores\n",
    "train_acc = []\n",
    "test_acc  = []\n",
    "for m in models:\n",
    "    y_train_pred = m.predict(x_train)\n",
    "    y_test_pred = m.predict(x_test)\n",
    "    train_acc.append(accuracy_score(y_train_pred,y_train))\n",
    "    test_acc.append(accuracy_score(y_test_pred,y_test))\n",
    "\n",
    "plt.scatter(ccp_alphas2,train_acc)\n",
    "plt.scatter(ccp_alphas2,test_acc)\n",
    "plt.plot(ccp_alphas2,train_acc,label='train_accuracy',drawstyle=\"steps-post\")\n",
    "plt.plot(ccp_alphas2,test_acc,label='test_accuracy',drawstyle=\"steps-post\")\n",
    "plt.legend()\n",
    "plt.title('Accuracy vs Alpha')\n",
    "plt.show()"
   ]
  },
  {
   "cell_type": "code",
   "execution_count": 72,
   "metadata": {},
   "outputs": [
    {
     "name": "stdout",
     "output_type": "stream",
     "text": [
      "TEST ACCURACY  EntropyTree_BestGCV  is : 0.9583165665283694\n",
      "TRAIN ACCURACY EntropyTree_BestGCV  is : 0.9602152775712884\n",
      "EXPECTED VALUE  EntropyTree_BestGCV  is : 2050485\n",
      "___________________________\n"
     ]
    }
   ],
   "source": [
    "#performing post pruning for every model \n",
    "# alpha = select\n",
    "#selecting the alpha and trying out the accuracy and models\n",
    "\n",
    "classifier = tree.DecisionTreeClassifier(criterion='entropy',max_depth=6, min_samples_leaf=2, random_state=42, ccp_alpha=0)\n",
    "classifier.fit(x_train,y_train)\n",
    "\n",
    "#Prediction for the testing dataset \n",
    "y_pred = classifier.predict(x_test)\n",
    "#Prediction for the training dataset \n",
    "y_pred_train =  classifier.predict(x_train)\n",
    "\n",
    "#Confusion matrix for calculation \n",
    "cm = confusion_matrix(y_test, y_pred, labels=labels)\n",
    "\n",
    "#hashed because I want to evaluate the models faster, can unhash to see the exact confusion matrixes\n",
    "#plot_confusionmatrix(y_pred_train,y_train,dom='Train')\n",
    "#plot_confusionmatrix(y_pred,y_test,dom='Test')\n",
    "\n",
    "#Calculating Expected Value \n",
    "EV = np.sum(cm * cost_matrix)\n",
    "\n",
    "#Calculatinf other scores for comparision \n",
    "#f1_score = f1_score(y_test, y_pred, average='weighted')\n",
    "#Recall = recall_score(y_test, y_pred)\n",
    "#Precision= precision_score(y_test, y_pred)\n",
    "\n",
    "print(\"TEST ACCURACY \",name,\" is :\", accuracy_score(y_test, y_pred))\n",
    "print(\"TRAIN ACCURACY\",name,\" is :\", accuracy_score(y_train, y_pred_train))\n",
    "print(\"EXPECTED VALUE \",name,\" is :\", EV)\n",
    "print(\"___________________________\")\n",
    "#print(\"F-1 SCORE \",name,\" is :\", f1_score)\n",
    "#print(\"RECALL \",name,\" is :\", Recall)\n",
    "#print(\"PRECISION \",name,\" is :\", Precision)"
   ]
  },
  {
   "cell_type": "code",
   "execution_count": 73,
   "metadata": {},
   "outputs": [
    {
     "data": {
      "image/png": "[encoded data removed]",
      "text/plain": [
       "<Figure size 640x480 with 1 Axes>"
      ]
     },
     "metadata": {},
     "output_type": "display_data"
    }
   ],
   "source": [
    "#Gini GCV model\n",
    "ccp_alphas2 = np.arange(0,0.0167,0.001)\n",
    "models = []\n",
    "for ccp_alpha in ccp_alphas2:\n",
    "    model = tree.DecisionTreeClassifier(criterion='gini',max_depth=6, min_samples_leaf=3, random_state=42, ccp_alpha=ccp_alpha)\n",
    "    model.fit(x_train, y_train)\n",
    "    models.append(model)\n",
    "    \n",
    "#Plotting the CCP alphas and their corresponding accuracy scores\n",
    "train_acc = []\n",
    "test_acc  = []\n",
    "for m in models:\n",
    "    y_train_pred = m.predict(x_train)\n",
    "    y_test_pred = m.predict(x_test)\n",
    "    train_acc.append(accuracy_score(y_train_pred,y_train))\n",
    "    test_acc.append(accuracy_score(y_test_pred,y_test))\n",
    "\n",
    "plt.scatter(ccp_alphas2,train_acc)\n",
    "plt.scatter(ccp_alphas2,test_acc)\n",
    "plt.plot(ccp_alphas2,train_acc,label='train_accuracy',drawstyle=\"steps-post\")\n",
    "plt.plot(ccp_alphas2,test_acc,label='test_accuracy',drawstyle=\"steps-post\")\n",
    "plt.legend()\n",
    "plt.title('Accuracy vs Alpha')\n",
    "plt.show()"
   ]
  },
  {
   "cell_type": "code",
   "execution_count": 74,
   "metadata": {},
   "outputs": [
    {
     "name": "stdout",
     "output_type": "stream",
     "text": [
      "TEST ACCURACY  EntropyTree_BestGCV  is : 0.9582610626222821\n",
      "TRAIN ACCURACY EntropyTree_BestGCV  is : 0.9602033837828194\n",
      "EXPECTED VALUE  EntropyTree_BestGCV  is : 2050325\n",
      "___________________________\n"
     ]
    }
   ],
   "source": [
    "#performing post pruning for every model \n",
    "# alpha = select\n",
    "#selecting the alpha and trying out the accuracy and models\n",
    "\n",
    "classifier = tree.DecisionTreeClassifier(criterion='gini',max_depth=6, min_samples_leaf=3, random_state=42, ccp_alpha=0)\n",
    "classifier.fit(x_train,y_train)\n",
    "\n",
    "#Prediction for the testing dataset \n",
    "y_pred = classifier.predict(x_test)\n",
    "#Prediction for the training dataset \n",
    "y_pred_train =  classifier.predict(x_train)\n",
    "\n",
    "#Confusion matrix for calculation \n",
    "cm = confusion_matrix(y_test, y_pred, labels=labels)\n",
    "\n",
    "#hashed because I want to evaluate the models faster, can unhash to see the exact confusion matrixes\n",
    "#plot_confusionmatrix(y_pred_train,y_train,dom='Train')\n",
    "#plot_confusionmatrix(y_pred,y_test,dom='Test')\n",
    "\n",
    "#Calculating Expected Value \n",
    "EV = np.sum(cm * cost_matrix)\n",
    "\n",
    "#Calculatinf other scores for comparision \n",
    "#f1_score = f1_score(y_test, y_pred, average='weighted')\n",
    "#Recall = recall_score(y_test, y_pred)\n",
    "#Precision= precision_score(y_test, y_pred)\n",
    "\n",
    "print(\"TEST ACCURACY \",name,\" is :\", accuracy_score(y_test, y_pred))\n",
    "print(\"TRAIN ACCURACY\",name,\" is :\", accuracy_score(y_train, y_pred_train))\n",
    "print(\"EXPECTED VALUE \",name,\" is :\", EV)\n",
    "print(\"___________________________\")\n",
    "#print(\"F-1 SCORE \",name,\" is :\", f1_score)\n",
    "#print(\"RECALL \",name,\" is :\", Recall)\n",
    "#print(\"PRECISION \",name,\" is :\", Precision)"
   ]
  },
  {
   "cell_type": "markdown",
   "metadata": {},
   "source": [
    "Stratified sampling for all the models "
   ]
  },
  {
   "cell_type": "markdown",
   "metadata": {},
   "source": [
    "### Stratified Sampling"
   ]
  },
  {
   "cell_type": "markdown",
   "metadata": {},
   "source": [
    "#### Stratified Sampling - Naive Bayes Models"
   ]
  },
  {
   "cell_type": "code",
   "execution_count": 75,
   "metadata": {},
   "outputs": [
    {
     "name": "stdout",
     "output_type": "stream",
     "text": [
      "Fold 1: Accuracy: 0.6078\n",
      "Fold 2: Accuracy: 0.6029\n",
      "Fold 3: Accuracy: 0.5991\n",
      "Fold 4: Accuracy: 0.5917\n",
      "Fold 5: Accuracy: 0.5994\n",
      "Fold 6: Accuracy: 0.6016\n",
      "Fold 7: Accuracy: 0.6034\n",
      "Fold 8: Accuracy: 0.6024\n",
      "Fold 9: Accuracy: 0.6029\n",
      "Fold 10: Accuracy: 0.6081\n",
      "Average Score for MultinomialNB is 0.6019223598587473\n",
      "Fold 1: Accuracy: 0.6078\n",
      "Fold 2: Accuracy: 0.6029\n",
      "Fold 3: Accuracy: 0.5991\n",
      "Fold 4: Accuracy: 0.5917\n",
      "Fold 5: Accuracy: 0.5994\n",
      "Fold 6: Accuracy: 0.6016\n",
      "Fold 7: Accuracy: 0.6034\n",
      "Fold 8: Accuracy: 0.6024\n",
      "Fold 9: Accuracy: 0.6029\n",
      "Fold 10: Accuracy: 0.6081\n",
      "Fold 11: Accuracy: 0.9584\n",
      "Fold 12: Accuracy: 0.9584\n",
      "Fold 13: Accuracy: 0.9585\n",
      "Fold 14: Accuracy: 0.9585\n",
      "Fold 15: Accuracy: 0.9585\n",
      "Fold 16: Accuracy: 0.9585\n",
      "Fold 17: Accuracy: 0.9585\n",
      "Fold 18: Accuracy: 0.9585\n",
      "Fold 19: Accuracy: 0.9585\n",
      "Fold 20: Accuracy: 0.9584\n",
      "Average Score for GaussianNB is 0.7801824836723908\n",
      "Fold 1: Accuracy: 0.6078\n",
      "Fold 2: Accuracy: 0.6029\n",
      "Fold 3: Accuracy: 0.5991\n",
      "Fold 4: Accuracy: 0.5917\n",
      "Fold 5: Accuracy: 0.5994\n",
      "Fold 6: Accuracy: 0.6016\n",
      "Fold 7: Accuracy: 0.6034\n",
      "Fold 8: Accuracy: 0.6024\n",
      "Fold 9: Accuracy: 0.6029\n",
      "Fold 10: Accuracy: 0.6081\n",
      "Fold 11: Accuracy: 0.9584\n",
      "Fold 12: Accuracy: 0.9584\n",
      "Fold 13: Accuracy: 0.9585\n",
      "Fold 14: Accuracy: 0.9585\n",
      "Fold 15: Accuracy: 0.9585\n",
      "Fold 16: Accuracy: 0.9585\n",
      "Fold 17: Accuracy: 0.9585\n",
      "Fold 18: Accuracy: 0.9585\n",
      "Fold 19: Accuracy: 0.9585\n",
      "Fold 20: Accuracy: 0.9584\n",
      "Fold 21: Accuracy: 0.5670\n",
      "Fold 22: Accuracy: 0.5632\n",
      "Fold 23: Accuracy: 0.5576\n",
      "Fold 24: Accuracy: 0.5549\n",
      "Fold 25: Accuracy: 0.5602\n",
      "Fold 26: Accuracy: 0.5604\n",
      "Fold 27: Accuracy: 0.5627\n",
      "Fold 28: Accuracy: 0.5620\n",
      "Fold 29: Accuracy: 0.5632\n",
      "Fold 30: Accuracy: 0.5631\n",
      "Average Score for ComplementNB is 0.7072638167865382\n",
      "Fold 1: Accuracy: 0.6078\n",
      "Fold 2: Accuracy: 0.6029\n",
      "Fold 3: Accuracy: 0.5991\n",
      "Fold 4: Accuracy: 0.5917\n",
      "Fold 5: Accuracy: 0.5994\n",
      "Fold 6: Accuracy: 0.6016\n",
      "Fold 7: Accuracy: 0.6034\n",
      "Fold 8: Accuracy: 0.6024\n",
      "Fold 9: Accuracy: 0.6029\n",
      "Fold 10: Accuracy: 0.6081\n",
      "Fold 11: Accuracy: 0.9584\n",
      "Fold 12: Accuracy: 0.9584\n",
      "Fold 13: Accuracy: 0.9585\n",
      "Fold 14: Accuracy: 0.9585\n",
      "Fold 15: Accuracy: 0.9585\n",
      "Fold 16: Accuracy: 0.9585\n",
      "Fold 17: Accuracy: 0.9585\n",
      "Fold 18: Accuracy: 0.9585\n",
      "Fold 19: Accuracy: 0.9585\n",
      "Fold 20: Accuracy: 0.9584\n",
      "Fold 21: Accuracy: 0.5670\n",
      "Fold 22: Accuracy: 0.5632\n",
      "Fold 23: Accuracy: 0.5576\n",
      "Fold 24: Accuracy: 0.5549\n",
      "Fold 25: Accuracy: 0.5602\n",
      "Fold 26: Accuracy: 0.5604\n",
      "Fold 27: Accuracy: 0.5627\n",
      "Fold 28: Accuracy: 0.5620\n",
      "Fold 29: Accuracy: 0.5632\n",
      "Fold 30: Accuracy: 0.5631\n",
      "Fold 31: Accuracy: 0.9584\n",
      "Fold 32: Accuracy: 0.9584\n",
      "Fold 33: Accuracy: 0.9585\n",
      "Fold 34: Accuracy: 0.9585\n",
      "Fold 35: Accuracy: 0.9585\n",
      "Fold 36: Accuracy: 0.9585\n",
      "Fold 37: Accuracy: 0.9585\n",
      "Fold 38: Accuracy: 0.9585\n",
      "Fold 39: Accuracy: 0.9585\n",
      "Fold 40: Accuracy: 0.9584\n",
      "Average Score for BernoulliNB is 0.770058514461412\n"
     ]
    }
   ],
   "source": [
    "#Creating stratified sample \n",
    "\n",
    "stratified_sample =  StratifiedKFold(n_splits=10, shuffle=True, random_state=42)\n",
    "\n",
    "#Empty list to maintain all the scores\n",
    "scores = []\n",
    "\n",
    "#For loops for all calculations \n",
    "for model_name,model in NB_models.items():\n",
    "    for train_index, test_index in stratified_sample.split(x, y):\n",
    "        # Split the data into training and test sets for this fold\n",
    "        X_train, X_test = x.iloc[train_index], x.iloc[test_index]\n",
    "        Y_train, Y_test = y[train_index], y[test_index]\n",
    "\n",
    "        # Train the classifier and make predictions\n",
    "        model.fit(X_train, Y_train)\n",
    "        predictions = model.predict(X_test)\n",
    "\n",
    "        # Calculate and store the accuracy for this fold\n",
    "        score = accuracy_score(Y_test, predictions)\n",
    "        scores.append(score)\n",
    "    # Print the accuracy for each fold\n",
    "    for cnt, score in enumerate(scores, 1):\n",
    "        print(f'Fold {cnt}: Accuracy: {score:.4f}')\n",
    "    print(\"Average Score for\", model_name, \"is\", np.mean(scores))"
   ]
  },
  {
   "cell_type": "markdown",
   "metadata": {},
   "source": [
    "#### Stratified Sampling - Tree Models"
   ]
  },
  {
   "cell_type": "code",
   "execution_count": 76,
   "metadata": {},
   "outputs": [
    {
     "name": "stdout",
     "output_type": "stream",
     "text": [
      "Fold 1: Accuracy: 0.6078\n",
      "Fold 2: Accuracy: 0.6029\n",
      "Fold 3: Accuracy: 0.5991\n",
      "Fold 4: Accuracy: 0.5917\n",
      "Fold 5: Accuracy: 0.5994\n",
      "Fold 6: Accuracy: 0.6016\n",
      "Fold 7: Accuracy: 0.6034\n",
      "Fold 8: Accuracy: 0.6024\n",
      "Fold 9: Accuracy: 0.6029\n",
      "Fold 10: Accuracy: 0.6081\n",
      "Fold 11: Accuracy: 0.9584\n",
      "Fold 12: Accuracy: 0.9584\n",
      "Fold 13: Accuracy: 0.9585\n",
      "Fold 14: Accuracy: 0.9585\n",
      "Fold 15: Accuracy: 0.9585\n",
      "Fold 16: Accuracy: 0.9585\n",
      "Fold 17: Accuracy: 0.9585\n",
      "Fold 18: Accuracy: 0.9585\n",
      "Fold 19: Accuracy: 0.9585\n",
      "Fold 20: Accuracy: 0.9584\n",
      "Fold 21: Accuracy: 0.5670\n",
      "Fold 22: Accuracy: 0.5632\n",
      "Fold 23: Accuracy: 0.5576\n",
      "Fold 24: Accuracy: 0.5549\n",
      "Fold 25: Accuracy: 0.5602\n",
      "Fold 26: Accuracy: 0.5604\n",
      "Fold 27: Accuracy: 0.5627\n",
      "Fold 28: Accuracy: 0.5620\n",
      "Fold 29: Accuracy: 0.5632\n",
      "Fold 30: Accuracy: 0.5631\n",
      "Fold 31: Accuracy: 0.9584\n",
      "Fold 32: Accuracy: 0.9584\n",
      "Fold 33: Accuracy: 0.9585\n",
      "Fold 34: Accuracy: 0.9585\n",
      "Fold 35: Accuracy: 0.9585\n",
      "Fold 36: Accuracy: 0.9585\n",
      "Fold 37: Accuracy: 0.9585\n",
      "Fold 38: Accuracy: 0.9585\n",
      "Fold 39: Accuracy: 0.9585\n",
      "Fold 40: Accuracy: 0.9584\n",
      "Fold 41: Accuracy: 0.9232\n",
      "Fold 42: Accuracy: 0.9232\n",
      "Fold 43: Accuracy: 0.9198\n",
      "Fold 44: Accuracy: 0.9211\n",
      "Fold 45: Accuracy: 0.9230\n",
      "Fold 46: Accuracy: 0.9207\n",
      "Fold 47: Accuracy: 0.9219\n",
      "Fold 48: Accuracy: 0.9250\n",
      "Fold 49: Accuracy: 0.9217\n",
      "Fold 50: Accuracy: 0.9225\n",
      "Average Score for GiniTree_NoEstimators is 0.8004920314532338\n",
      "Fold 1: Accuracy: 0.6078\n",
      "Fold 2: Accuracy: 0.6029\n",
      "Fold 3: Accuracy: 0.5991\n",
      "Fold 4: Accuracy: 0.5917\n",
      "Fold 5: Accuracy: 0.5994\n",
      "Fold 6: Accuracy: 0.6016\n",
      "Fold 7: Accuracy: 0.6034\n",
      "Fold 8: Accuracy: 0.6024\n",
      "Fold 9: Accuracy: 0.6029\n",
      "Fold 10: Accuracy: 0.6081\n",
      "Fold 11: Accuracy: 0.9584\n",
      "Fold 12: Accuracy: 0.9584\n",
      "Fold 13: Accuracy: 0.9585\n",
      "Fold 14: Accuracy: 0.9585\n",
      "Fold 15: Accuracy: 0.9585\n",
      "Fold 16: Accuracy: 0.9585\n",
      "Fold 17: Accuracy: 0.9585\n",
      "Fold 18: Accuracy: 0.9585\n",
      "Fold 19: Accuracy: 0.9585\n",
      "Fold 20: Accuracy: 0.9584\n",
      "Fold 21: Accuracy: 0.5670\n",
      "Fold 22: Accuracy: 0.5632\n",
      "Fold 23: Accuracy: 0.5576\n",
      "Fold 24: Accuracy: 0.5549\n",
      "Fold 25: Accuracy: 0.5602\n",
      "Fold 26: Accuracy: 0.5604\n",
      "Fold 27: Accuracy: 0.5627\n",
      "Fold 28: Accuracy: 0.5620\n",
      "Fold 29: Accuracy: 0.5632\n",
      "Fold 30: Accuracy: 0.5631\n",
      "Fold 31: Accuracy: 0.9584\n",
      "Fold 32: Accuracy: 0.9584\n",
      "Fold 33: Accuracy: 0.9585\n",
      "Fold 34: Accuracy: 0.9585\n",
      "Fold 35: Accuracy: 0.9585\n",
      "Fold 36: Accuracy: 0.9585\n",
      "Fold 37: Accuracy: 0.9585\n",
      "Fold 38: Accuracy: 0.9585\n",
      "Fold 39: Accuracy: 0.9585\n",
      "Fold 40: Accuracy: 0.9584\n",
      "Fold 41: Accuracy: 0.9232\n",
      "Fold 42: Accuracy: 0.9232\n",
      "Fold 43: Accuracy: 0.9198\n",
      "Fold 44: Accuracy: 0.9211\n",
      "Fold 45: Accuracy: 0.9230\n",
      "Fold 46: Accuracy: 0.9207\n",
      "Fold 47: Accuracy: 0.9219\n",
      "Fold 48: Accuracy: 0.9250\n",
      "Fold 49: Accuracy: 0.9217\n",
      "Fold 50: Accuracy: 0.9225\n",
      "Fold 51: Accuracy: 0.9245\n",
      "Fold 52: Accuracy: 0.9219\n",
      "Fold 53: Accuracy: 0.9257\n",
      "Fold 54: Accuracy: 0.9227\n",
      "Fold 55: Accuracy: 0.9270\n",
      "Fold 56: Accuracy: 0.9245\n",
      "Fold 57: Accuracy: 0.9261\n",
      "Fold 58: Accuracy: 0.9260\n",
      "Fold 59: Accuracy: 0.9257\n",
      "Fold 60: Accuracy: 0.9260\n",
      "Average Score for EntropyTree_NoEstimators is 0.8212458944448676\n",
      "Fold 1: Accuracy: 0.6078\n",
      "Fold 2: Accuracy: 0.6029\n",
      "Fold 3: Accuracy: 0.5991\n",
      "Fold 4: Accuracy: 0.5917\n",
      "Fold 5: Accuracy: 0.5994\n",
      "Fold 6: Accuracy: 0.6016\n",
      "Fold 7: Accuracy: 0.6034\n",
      "Fold 8: Accuracy: 0.6024\n",
      "Fold 9: Accuracy: 0.6029\n",
      "Fold 10: Accuracy: 0.6081\n",
      "Fold 11: Accuracy: 0.9584\n",
      "Fold 12: Accuracy: 0.9584\n",
      "Fold 13: Accuracy: 0.9585\n",
      "Fold 14: Accuracy: 0.9585\n",
      "Fold 15: Accuracy: 0.9585\n",
      "Fold 16: Accuracy: 0.9585\n",
      "Fold 17: Accuracy: 0.9585\n",
      "Fold 18: Accuracy: 0.9585\n",
      "Fold 19: Accuracy: 0.9585\n",
      "Fold 20: Accuracy: 0.9584\n",
      "Fold 21: Accuracy: 0.5670\n",
      "Fold 22: Accuracy: 0.5632\n",
      "Fold 23: Accuracy: 0.5576\n",
      "Fold 24: Accuracy: 0.5549\n",
      "Fold 25: Accuracy: 0.5602\n",
      "Fold 26: Accuracy: 0.5604\n",
      "Fold 27: Accuracy: 0.5627\n",
      "Fold 28: Accuracy: 0.5620\n",
      "Fold 29: Accuracy: 0.5632\n",
      "Fold 30: Accuracy: 0.5631\n",
      "Fold 31: Accuracy: 0.9584\n",
      "Fold 32: Accuracy: 0.9584\n",
      "Fold 33: Accuracy: 0.9585\n",
      "Fold 34: Accuracy: 0.9585\n",
      "Fold 35: Accuracy: 0.9585\n",
      "Fold 36: Accuracy: 0.9585\n",
      "Fold 37: Accuracy: 0.9585\n",
      "Fold 38: Accuracy: 0.9585\n",
      "Fold 39: Accuracy: 0.9585\n",
      "Fold 40: Accuracy: 0.9584\n",
      "Fold 41: Accuracy: 0.9232\n",
      "Fold 42: Accuracy: 0.9232\n",
      "Fold 43: Accuracy: 0.9198\n",
      "Fold 44: Accuracy: 0.9211\n",
      "Fold 45: Accuracy: 0.9230\n",
      "Fold 46: Accuracy: 0.9207\n",
      "Fold 47: Accuracy: 0.9219\n",
      "Fold 48: Accuracy: 0.9250\n",
      "Fold 49: Accuracy: 0.9217\n",
      "Fold 50: Accuracy: 0.9225\n",
      "Fold 51: Accuracy: 0.9245\n",
      "Fold 52: Accuracy: 0.9219\n",
      "Fold 53: Accuracy: 0.9257\n",
      "Fold 54: Accuracy: 0.9227\n",
      "Fold 55: Accuracy: 0.9270\n",
      "Fold 56: Accuracy: 0.9245\n",
      "Fold 57: Accuracy: 0.9261\n",
      "Fold 58: Accuracy: 0.9260\n",
      "Fold 59: Accuracy: 0.9257\n",
      "Fold 60: Accuracy: 0.9260\n",
      "Fold 61: Accuracy: 0.9604\n",
      "Fold 62: Accuracy: 0.9595\n",
      "Fold 63: Accuracy: 0.9602\n",
      "Fold 64: Accuracy: 0.9596\n",
      "Fold 65: Accuracy: 0.9602\n",
      "Fold 66: Accuracy: 0.9602\n",
      "Fold 67: Accuracy: 0.9602\n",
      "Fold 68: Accuracy: 0.9594\n",
      "Fold 69: Accuracy: 0.9602\n",
      "Fold 70: Accuracy: 0.9605\n",
      "Average Score for RandomForest is 0.8410743798370481\n",
      "Fold 1: Accuracy: 0.6078\n",
      "Fold 2: Accuracy: 0.6029\n",
      "Fold 3: Accuracy: 0.5991\n",
      "Fold 4: Accuracy: 0.5917\n",
      "Fold 5: Accuracy: 0.5994\n",
      "Fold 6: Accuracy: 0.6016\n",
      "Fold 7: Accuracy: 0.6034\n",
      "Fold 8: Accuracy: 0.6024\n",
      "Fold 9: Accuracy: 0.6029\n",
      "Fold 10: Accuracy: 0.6081\n",
      "Fold 11: Accuracy: 0.9584\n",
      "Fold 12: Accuracy: 0.9584\n",
      "Fold 13: Accuracy: 0.9585\n",
      "Fold 14: Accuracy: 0.9585\n",
      "Fold 15: Accuracy: 0.9585\n",
      "Fold 16: Accuracy: 0.9585\n",
      "Fold 17: Accuracy: 0.9585\n",
      "Fold 18: Accuracy: 0.9585\n",
      "Fold 19: Accuracy: 0.9585\n",
      "Fold 20: Accuracy: 0.9584\n",
      "Fold 21: Accuracy: 0.5670\n",
      "Fold 22: Accuracy: 0.5632\n",
      "Fold 23: Accuracy: 0.5576\n",
      "Fold 24: Accuracy: 0.5549\n",
      "Fold 25: Accuracy: 0.5602\n",
      "Fold 26: Accuracy: 0.5604\n",
      "Fold 27: Accuracy: 0.5627\n",
      "Fold 28: Accuracy: 0.5620\n",
      "Fold 29: Accuracy: 0.5632\n",
      "Fold 30: Accuracy: 0.5631\n",
      "Fold 31: Accuracy: 0.9584\n",
      "Fold 32: Accuracy: 0.9584\n",
      "Fold 33: Accuracy: 0.9585\n",
      "Fold 34: Accuracy: 0.9585\n",
      "Fold 35: Accuracy: 0.9585\n",
      "Fold 36: Accuracy: 0.9585\n",
      "Fold 37: Accuracy: 0.9585\n",
      "Fold 38: Accuracy: 0.9585\n",
      "Fold 39: Accuracy: 0.9585\n",
      "Fold 40: Accuracy: 0.9584\n",
      "Fold 41: Accuracy: 0.9232\n",
      "Fold 42: Accuracy: 0.9232\n",
      "Fold 43: Accuracy: 0.9198\n",
      "Fold 44: Accuracy: 0.9211\n",
      "Fold 45: Accuracy: 0.9230\n",
      "Fold 46: Accuracy: 0.9207\n",
      "Fold 47: Accuracy: 0.9219\n",
      "Fold 48: Accuracy: 0.9250\n",
      "Fold 49: Accuracy: 0.9217\n",
      "Fold 50: Accuracy: 0.9225\n",
      "Fold 51: Accuracy: 0.9245\n",
      "Fold 52: Accuracy: 0.9219\n",
      "Fold 53: Accuracy: 0.9257\n",
      "Fold 54: Accuracy: 0.9227\n",
      "Fold 55: Accuracy: 0.9270\n",
      "Fold 56: Accuracy: 0.9245\n",
      "Fold 57: Accuracy: 0.9261\n",
      "Fold 58: Accuracy: 0.9260\n",
      "Fold 59: Accuracy: 0.9257\n",
      "Fold 60: Accuracy: 0.9260\n",
      "Fold 61: Accuracy: 0.9604\n",
      "Fold 62: Accuracy: 0.9595\n",
      "Fold 63: Accuracy: 0.9602\n",
      "Fold 64: Accuracy: 0.9596\n",
      "Fold 65: Accuracy: 0.9602\n",
      "Fold 66: Accuracy: 0.9602\n",
      "Fold 67: Accuracy: 0.9602\n",
      "Fold 68: Accuracy: 0.9594\n",
      "Fold 69: Accuracy: 0.9602\n",
      "Fold 70: Accuracy: 0.9605\n",
      "Fold 71: Accuracy: 0.9598\n",
      "Fold 72: Accuracy: 0.9596\n",
      "Fold 73: Accuracy: 0.9597\n",
      "Fold 74: Accuracy: 0.9591\n",
      "Fold 75: Accuracy: 0.9592\n",
      "Fold 76: Accuracy: 0.9596\n",
      "Fold 77: Accuracy: 0.9595\n",
      "Fold 78: Accuracy: 0.9587\n",
      "Fold 79: Accuracy: 0.9593\n",
      "Fold 80: Accuracy: 0.9596\n",
      "Average Score for ExtraTrees_Gini is 0.8558676906684489\n",
      "Fold 1: Accuracy: 0.6078\n",
      "Fold 2: Accuracy: 0.6029\n",
      "Fold 3: Accuracy: 0.5991\n",
      "Fold 4: Accuracy: 0.5917\n",
      "Fold 5: Accuracy: 0.5994\n",
      "Fold 6: Accuracy: 0.6016\n",
      "Fold 7: Accuracy: 0.6034\n",
      "Fold 8: Accuracy: 0.6024\n",
      "Fold 9: Accuracy: 0.6029\n",
      "Fold 10: Accuracy: 0.6081\n",
      "Fold 11: Accuracy: 0.9584\n",
      "Fold 12: Accuracy: 0.9584\n",
      "Fold 13: Accuracy: 0.9585\n",
      "Fold 14: Accuracy: 0.9585\n",
      "Fold 15: Accuracy: 0.9585\n",
      "Fold 16: Accuracy: 0.9585\n",
      "Fold 17: Accuracy: 0.9585\n",
      "Fold 18: Accuracy: 0.9585\n",
      "Fold 19: Accuracy: 0.9585\n",
      "Fold 20: Accuracy: 0.9584\n",
      "Fold 21: Accuracy: 0.5670\n",
      "Fold 22: Accuracy: 0.5632\n",
      "Fold 23: Accuracy: 0.5576\n",
      "Fold 24: Accuracy: 0.5549\n",
      "Fold 25: Accuracy: 0.5602\n",
      "Fold 26: Accuracy: 0.5604\n",
      "Fold 27: Accuracy: 0.5627\n",
      "Fold 28: Accuracy: 0.5620\n",
      "Fold 29: Accuracy: 0.5632\n",
      "Fold 30: Accuracy: 0.5631\n",
      "Fold 31: Accuracy: 0.9584\n",
      "Fold 32: Accuracy: 0.9584\n",
      "Fold 33: Accuracy: 0.9585\n",
      "Fold 34: Accuracy: 0.9585\n",
      "Fold 35: Accuracy: 0.9585\n",
      "Fold 36: Accuracy: 0.9585\n",
      "Fold 37: Accuracy: 0.9585\n",
      "Fold 38: Accuracy: 0.9585\n",
      "Fold 39: Accuracy: 0.9585\n",
      "Fold 40: Accuracy: 0.9584\n",
      "Fold 41: Accuracy: 0.9232\n",
      "Fold 42: Accuracy: 0.9232\n",
      "Fold 43: Accuracy: 0.9198\n",
      "Fold 44: Accuracy: 0.9211\n",
      "Fold 45: Accuracy: 0.9230\n",
      "Fold 46: Accuracy: 0.9207\n",
      "Fold 47: Accuracy: 0.9219\n",
      "Fold 48: Accuracy: 0.9250\n",
      "Fold 49: Accuracy: 0.9217\n",
      "Fold 50: Accuracy: 0.9225\n",
      "Fold 51: Accuracy: 0.9245\n",
      "Fold 52: Accuracy: 0.9219\n",
      "Fold 53: Accuracy: 0.9257\n",
      "Fold 54: Accuracy: 0.9227\n",
      "Fold 55: Accuracy: 0.9270\n",
      "Fold 56: Accuracy: 0.9245\n",
      "Fold 57: Accuracy: 0.9261\n",
      "Fold 58: Accuracy: 0.9260\n",
      "Fold 59: Accuracy: 0.9257\n",
      "Fold 60: Accuracy: 0.9260\n",
      "Fold 61: Accuracy: 0.9604\n",
      "Fold 62: Accuracy: 0.9595\n",
      "Fold 63: Accuracy: 0.9602\n",
      "Fold 64: Accuracy: 0.9596\n",
      "Fold 65: Accuracy: 0.9602\n",
      "Fold 66: Accuracy: 0.9602\n",
      "Fold 67: Accuracy: 0.9602\n",
      "Fold 68: Accuracy: 0.9594\n",
      "Fold 69: Accuracy: 0.9602\n",
      "Fold 70: Accuracy: 0.9605\n",
      "Fold 71: Accuracy: 0.9598\n",
      "Fold 72: Accuracy: 0.9596\n",
      "Fold 73: Accuracy: 0.9597\n",
      "Fold 74: Accuracy: 0.9591\n",
      "Fold 75: Accuracy: 0.9592\n",
      "Fold 76: Accuracy: 0.9596\n",
      "Fold 77: Accuracy: 0.9595\n",
      "Fold 78: Accuracy: 0.9587\n",
      "Fold 79: Accuracy: 0.9593\n",
      "Fold 80: Accuracy: 0.9596\n",
      "Fold 81: Accuracy: 0.9599\n",
      "Fold 82: Accuracy: 0.9592\n",
      "Fold 83: Accuracy: 0.9599\n",
      "Fold 84: Accuracy: 0.9590\n",
      "Fold 85: Accuracy: 0.9599\n",
      "Fold 86: Accuracy: 0.9598\n",
      "Fold 87: Accuracy: 0.9593\n",
      "Fold 88: Accuracy: 0.9589\n",
      "Fold 89: Accuracy: 0.9590\n",
      "Fold 90: Accuracy: 0.9593\n",
      "Average Score for ExtraTrees_Entropy is 0.8673726742074741\n"
     ]
    }
   ],
   "source": [
    "#For loops for all calculations \n",
    "for model_name,model in Tree_models_42.items():\n",
    "    for train_index, test_index in stratified_sample.split(x, y):\n",
    "        # Split the data into training and test sets for this fold\n",
    "        X_train, X_test = x.iloc[train_index], x.iloc[test_index]\n",
    "        Y_train, Y_test = y[train_index], y[test_index]\n",
    "\n",
    "        # Train the classifier and make predictions\n",
    "        model.fit(X_train, Y_train)\n",
    "        predictions = model.predict(X_test)\n",
    "\n",
    "        # Calculate and store the accuracy for this fold\n",
    "        score = accuracy_score(Y_test, predictions)\n",
    "        scores.append(score)\n",
    "    # Print the accuracy for each fold\n",
    "    for cnt, score in enumerate(scores, 1):\n",
    "        print(f'Fold {cnt}: Accuracy: {score:.4f}')\n",
    "    print(\"Average Score for\", model_name, \"is\", np.mean(scores))"
   ]
  },
  {
   "cell_type": "markdown",
   "metadata": {},
   "source": [
    "### Ensemble Learning "
   ]
  },
  {
   "cell_type": "markdown",
   "metadata": {},
   "source": [
    "Ensemble learning \n",
    "* Simple averaging \n",
    "* Boosting \n",
    "* Bagging "
   ]
  },
  {
   "cell_type": "markdown",
   "metadata": {},
   "source": [
    "#### Simple Averaging"
   ]
  },
  {
   "cell_type": "code",
   "execution_count": 77,
   "metadata": {},
   "outputs": [
    {
     "data": {
      "text/plain": [
       "(168155, 7)"
      ]
     },
     "execution_count": 77,
     "metadata": {},
     "output_type": "execute_result"
    }
   ],
   "source": [
    "x_train.shape"
   ]
  },
  {
   "cell_type": "code",
   "execution_count": 78,
   "metadata": {},
   "outputs": [
    {
     "data": {
      "text/plain": [
       "(168155,)"
      ]
     },
     "execution_count": 78,
     "metadata": {},
     "output_type": "execute_result"
    }
   ],
   "source": [
    "y_train.shape"
   ]
  },
  {
   "cell_type": "code",
   "execution_count": 79,
   "metadata": {},
   "outputs": [
    {
     "name": "stdout",
     "output_type": "stream",
     "text": [
      "TEST ACCURACY  GiniTree_NoEstimators  is : 0.9215729806985167\n",
      "TRAIN ACCURACY GiniTree_NoEstimators  is : 0.9998513276441379\n",
      "EXPECTED VALUE  GiniTree_NoEstimators  is : 1904565\n",
      "TEST ACCURACY  EntropyTree_NoEstimators  is : 0.9244453078385392\n",
      "TRAIN ACCURACY EntropyTree_NoEstimators  is : 0.9998513276441379\n",
      "EXPECTED VALUE  EntropyTree_NoEstimators  is : 1916275\n",
      "TEST ACCURACY  ExtraTrees_Gini  is : 0.9585940860588064\n",
      "TRAIN ACCURACY ExtraTrees_Gini  is : 0.9998513276441379\n",
      "EXPECTED VALUE  ExtraTrees_Gini  is : 2051125\n",
      "TEST ACCURACY  ExtraTrees_Entropy  is : 0.9585247061761971\n",
      "TRAIN ACCURACY ExtraTrees_Entropy  is : 0.9998513276441379\n",
      "EXPECTED VALUE  ExtraTrees_Entropy  is : 2051235\n",
      "TEST ACCURACY  MultinomialNB  is : 0.6086974620838942\n",
      "TRAIN ACCURACY MultinomialNB  is : 0.6085575808034254\n",
      "EXPECTED VALUE  MultinomialNB  is : 741165\n",
      "TEST ACCURACY  GaussianNB  is : 0.9571926124300998\n",
      "TRAIN ACCURACY GaussianNB  is : 0.9589783235705153\n",
      "EXPECTED VALUE  GaussianNB  is : 2054035\n",
      "TEST ACCURACY  ComplementNB  is : 0.5635589104583235\n",
      "TRAIN ACCURACY ComplementNB  is : 0.5628556986114002\n",
      "EXPECTED VALUE  ComplementNB  is : 572315\n",
      "TEST ACCURACY  BernoulliNB  is : 0.9571926124300998\n",
      "TRAIN ACCURACY BernoulliNB  is : 0.9589783235705153\n",
      "EXPECTED VALUE  BernoulliNB  is : 2054035\n"
     ]
    }
   ],
   "source": [
    "models_dict = {\n",
    "    'GiniTree_NoEstimators' : tree.DecisionTreeClassifier(criterion='gini', random_state=42), \n",
    "    'EntropyTree_NoEstimators' : tree.DecisionTreeClassifier(criterion='entropy', random_state=42),\n",
    "    'ExtraTrees_Gini': ExtraTreesClassifier( criterion='gini', random_state=42), \n",
    "    'ExtraTrees_Entropy': ExtraTreesClassifier( criterion='entropy', random_state=42),\n",
    "    'MultinomialNB': MultinomialNB(),\n",
    "    'GaussianNB': GaussianNB(),\n",
    "    'ComplementNB': ComplementNB(),\n",
    "    'BernoulliNB': BernoulliNB()\n",
    "}\n",
    "\n",
    "for name, classifier in models_dict.items():\n",
    "    #fit the model \n",
    "    classifier.fit(x_train, y_train)\n",
    "    #make prediciton \n",
    "    #Calculating all the predicitons \n",
    "    y_pred = classifier.predict(x_test)\n",
    "    y_pred_train =  classifier.predict(x_train)\n",
    "    \n",
    "    #confusion matrix \n",
    "    cm = confusion_matrix(y_test, y_pred, labels=labels)\n",
    "    \n",
    "    #Calculating Expected Value \n",
    "    EV = np.sum(cm * cost_matrix)\n",
    "    \n",
    "    print(\"TEST ACCURACY \",name,\" is :\", accuracy_score(y_test, y_pred))\n",
    "    print(\"TRAIN ACCURACY\",name,\" is :\", accuracy_score(y_train, y_pred_train))\n",
    "    print(\"EXPECTED VALUE \",name,\" is :\", EV)"
   ]
  },
  {
   "cell_type": "code",
   "execution_count": 80,
   "metadata": {},
   "outputs": [
    {
     "name": "stdout",
     "output_type": "stream",
     "text": [
      "Train accuracy:  0.9788647378906367\n",
      "Test accuracy:  0.9583026905518476\n",
      "Expected Value:  2052955\n"
     ]
    }
   ],
   "source": [
    "#HARD VOTING\n",
    "models_dict_2 = [('GiniTree_NoEstimators' , tree.DecisionTreeClassifier(criterion='gini', random_state=42)), \n",
    "                 ('EntropyTree_NoEstimators' , tree.DecisionTreeClassifier(criterion='entropy', random_state=42)),\n",
    "                 ('ExtraTrees_Gini', ExtraTreesClassifier( criterion='gini', random_state=42)), \n",
    "                 ('ExtraTrees_Entropy', ExtraTreesClassifier( criterion='entropy', random_state=42)),\n",
    "                 ('MultinomialNB', MultinomialNB()),\n",
    "                 ('GaussianNB', GaussianNB()),\n",
    "                 ('ComplementNB', ComplementNB()),\n",
    "                 ('BernoulliNB', BernoulliNB())]\n",
    "\n",
    "\n",
    "model = VotingClassifier(estimators=[('GiniTree_NoEstimators' , tree.DecisionTreeClassifier(criterion='gini', random_state=42)), \n",
    "                 ('EntropyTree_NoEstimators' , tree.DecisionTreeClassifier(criterion='entropy', random_state=42)),\n",
    "                 ('ExtraTrees_Gini', ExtraTreesClassifier( criterion='gini', random_state=42)), \n",
    "                 ('ExtraTrees_Entropy', ExtraTreesClassifier( criterion='entropy', random_state=42)),\n",
    "                 ('MultinomialNB', MultinomialNB()),\n",
    "                 ('GaussianNB', GaussianNB()),\n",
    "                 ('ComplementNB', ComplementNB()),\n",
    "                 ('BernoulliNB', BernoulliNB())], voting='hard')\n",
    "#Fitting the model \n",
    "model.fit(x_train,y_train)\n",
    "#Calculating all the predicitons \n",
    "y_pred = model.predict(x_test)\n",
    "y_pred_train =  model.predict(x_train)\n",
    "\n",
    "#Confusion matrix \n",
    "cm = confusion_matrix(y_test, y_pred, labels=labels)\n",
    "\n",
    "#Calculating Expected Value \n",
    "EV = np.sum(cm * cost_matrix)\n",
    "\n",
    "print(\"Train accuracy: \",accuracy_score(y_train, y_pred_train))\n",
    "print(\"Test accuracy: \", accuracy_score(y_test, y_pred))\n",
    "print(\"Expected Value: \", EV)"
   ]
  },
  {
   "cell_type": "code",
   "execution_count": 81,
   "metadata": {},
   "outputs": [
    {
     "name": "stdout",
     "output_type": "stream",
     "text": [
      "Train accuracy:  0.9998453807499034\n",
      "Test accuracy:  0.9558327667309587\n",
      "Expected Value:  2038455\n"
     ]
    }
   ],
   "source": [
    "#SOFT VOTING\n",
    "model = VotingClassifier(estimators=models_dict_2, voting='soft')\n",
    "#Fitting the model \n",
    "model.fit(x_train,y_train)\n",
    "#Calculating all the predicitons \n",
    "y_pred = model.predict(x_test)\n",
    "y_pred_train =  model.predict(x_train)\n",
    "\n",
    "#Confusion matrix \n",
    "cm = confusion_matrix(y_test, y_pred, labels=labels)\n",
    "\n",
    "#Calculating Expected Value \n",
    "EV = np.sum(cm * cost_matrix)\n",
    "\n",
    "print(\"Train accuracy: \",accuracy_score(y_train, y_pred_train))\n",
    "print(\"Test accuracy: \", accuracy_score(y_test, y_pred))\n",
    "print(\"Expected Value: \", EV)\n"
   ]
  },
  {
   "cell_type": "markdown",
   "metadata": {},
   "source": [
    "#### Bagging"
   ]
  },
  {
   "cell_type": "code",
   "execution_count": 82,
   "metadata": {},
   "outputs": [
    {
     "name": "stderr",
     "output_type": "stream",
     "text": [
      "/Users/pingle/Library/Python/3.8/lib/python/site-packages/sklearn/ensemble/_base.py:156: FutureWarning: `base_estimator` was renamed to `estimator` in version 1.2 and will be removed in 1.4.\n",
      "  warnings.warn(\n"
     ]
    },
    {
     "name": "stdout",
     "output_type": "stream",
     "text": [
      "TEST ACCURACY  MultinomialNB  is : 0.609446764816074\n",
      "TRAIN ACCURACY MultinomialNB  is : 0.6090690137075913\n",
      "EXPECTED VALUE  MultinomialNB  is : 743865\n",
      "___________________________\n"
     ]
    },
    {
     "name": "stderr",
     "output_type": "stream",
     "text": [
      "/Users/pingle/Library/Python/3.8/lib/python/site-packages/sklearn/ensemble/_base.py:156: FutureWarning: `base_estimator` was renamed to `estimator` in version 1.2 and will be removed in 1.4.\n",
      "  warnings.warn(\n"
     ]
    },
    {
     "name": "stdout",
     "output_type": "stream",
     "text": [
      "TEST ACCURACY  GaussianNB  is : 0.9571926124300998\n",
      "TRAIN ACCURACY GaussianNB  is : 0.9589783235705153\n",
      "EXPECTED VALUE  GaussianNB  is : 2054035\n",
      "___________________________\n"
     ]
    },
    {
     "name": "stderr",
     "output_type": "stream",
     "text": [
      "/Users/pingle/Library/Python/3.8/lib/python/site-packages/sklearn/ensemble/_base.py:156: FutureWarning: `base_estimator` was renamed to `estimator` in version 1.2 and will be removed in 1.4.\n",
      "  warnings.warn(\n"
     ]
    },
    {
     "name": "stdout",
     "output_type": "stream",
     "text": [
      "TEST ACCURACY  ComplementNB  is : 0.5638364299887605\n",
      "TRAIN ACCURACY ComplementNB  is : 0.5631708840058279\n",
      "EXPECTED VALUE  ComplementNB  is : 573275\n",
      "___________________________\n"
     ]
    },
    {
     "name": "stderr",
     "output_type": "stream",
     "text": [
      "/Users/pingle/Library/Python/3.8/lib/python/site-packages/sklearn/ensemble/_base.py:156: FutureWarning: `base_estimator` was renamed to `estimator` in version 1.2 and will be removed in 1.4.\n",
      "  warnings.warn(\n"
     ]
    },
    {
     "name": "stdout",
     "output_type": "stream",
     "text": [
      "TEST ACCURACY  BernoulliNB  is : 0.9571926124300998\n",
      "TRAIN ACCURACY BernoulliNB  is : 0.9589783235705153\n",
      "EXPECTED VALUE  BernoulliNB  is : 2054035\n",
      "___________________________\n",
      "Train accuracy of RandomForest algo:  0.999779964913324\n",
      "Test accuracy of RandomForest algo:  0.9593711407440298\n",
      "Expected Value of RandomForest algo:  2051765\n"
     ]
    },
    {
     "data": {
      "image/png": "[encoded data removed]",
      "text/plain": [
       "<Figure size 640x480 with 2 Axes>"
      ]
     },
     "metadata": {},
     "output_type": "display_data"
    }
   ],
   "source": [
    "#### Bagging for Naives Bayes models \n",
    "\n",
    "from sklearn.ensemble import BaggingClassifier\n",
    "\n",
    "for name, classifier in NB_models.items():\n",
    "    \n",
    "    model = BaggingClassifier(base_estimator=classifier, n_estimators=100, random_state=42)\n",
    "    \n",
    "    #fit the model to our data \n",
    "    model.fit(x_train, y_train)\n",
    "    \n",
    "    '''Calculating all the predicitons'''\n",
    "    #Prediction for the testing dataset \n",
    "    y_pred = model.predict(x_test)\n",
    "    #Prediction for the training dataset \n",
    "    y_pred_train =  model.predict(x_train)\n",
    "    \n",
    "    #Confusion matrix for calculation \n",
    "    cm = confusion_matrix(y_test, y_pred, labels=labels)\n",
    "\n",
    "    #hashed because I want to evaluate the models faster, can unhash to see the exact confusion matrixes\n",
    "    #plot_confusionmatrix(y_pred_train,y_train,dom='Train')\n",
    "    #plot_confusionmatrix(y_pred,y_test,dom='Test')\n",
    "    \n",
    "    #Calculating Expected Value \n",
    "    EV = np.sum(cm * cost_matrix)\n",
    "    \n",
    "    #Calculatinf other scores for comparision \n",
    "    #f1_score = f1_score(y_test, y_pred, average='weighted')\n",
    "    #Recall = recall_score(y_test, y_pred)\n",
    "    #Precision= precision_score(y_test, y_pred)\n",
    "    \n",
    "    print(\"TEST ACCURACY \",name,\" is :\", accuracy_score(y_test, y_pred))\n",
    "    print(\"TRAIN ACCURACY\",name,\" is :\", accuracy_score(y_train, y_pred_train))\n",
    "    print(\"EXPECTED VALUE \",name,\" is :\", EV)\n",
    "    print(\"___________________________\")\n",
    "    #print(\"F-1 SCORE \",name,\" is :\", f1_score)\n",
    "    #print(\"RECALL \",name,\" is :\", Recall)\n",
    "    #print(\"PRECISION \",name,\" is :\", Precision)\n",
    "\n",
    "\n",
    "\n",
    "# Bagging with Random Forest Classifier \n",
    "# Build a Gaussian Classifier\n",
    "modelMNB = RandomForestClassifier()\n",
    "modelMNB.fit(x_train, y_train)\n",
    "\n",
    "#Calculating all the predicitons \n",
    "y_pred = modelMNB.predict(x_test)\n",
    "y_pred_train =  modelMNB.predict(x_train)\n",
    "\n",
    "#Calculating accuracy \n",
    "mnb_train_accuracy = accuracy_score(y_train, modelMNB.predict(x_train))\n",
    "mnb_test_accuracy = accuracy_score(y_test, modelMNB.predict(x_test))\n",
    "\n",
    "#Confusion matrix \n",
    "cm = confusion_matrix(y_test, y_pred, labels=labels)\n",
    "disp = ConfusionMatrixDisplay(confusion_matrix=cm, display_labels=labels)\n",
    "disp.plot();\n",
    "#plot_confusionmatrix(y_pred_train,y_train,dom='Train')\n",
    "#plot_confusionmatrix(y_pred,y_test,dom='Test')\n",
    "\n",
    "#Calculating Expected Value \n",
    "EV_MNB = np.sum(cm * cost_matrix)\n",
    "\n",
    "print(\"Train accuracy of RandomForest algo: \", mnb_train_accuracy)\n",
    "print(\"Test accuracy of RandomForest algo: \", mnb_test_accuracy)\n",
    "print(\"Expected Value of RandomForest algo: \", EV_MNB)\n",
    "\n"
   ]
  },
  {
   "cell_type": "markdown",
   "metadata": {},
   "source": [
    "#### Boosting"
   ]
  },
  {
   "cell_type": "code",
   "execution_count": 83,
   "metadata": {},
   "outputs": [
    {
     "name": "stderr",
     "output_type": "stream",
     "text": [
      "/Users/pingle/Library/Python/3.8/lib/python/site-packages/sklearn/ensemble/_base.py:156: FutureWarning: `base_estimator` was renamed to `estimator` in version 1.2 and will be removed in 1.4.\n",
      "  warnings.warn(\n"
     ]
    },
    {
     "name": "stdout",
     "output_type": "stream",
     "text": [
      "TEST ACCURACY  GiniTree_NoEstimators  is : 0.9485617550335105\n",
      "TRAIN ACCURACY GiniTree_NoEstimators  is : 0.9998513276441379\n",
      "EXPECTED VALUE  GiniTree_NoEstimators  is : 2007415\n",
      "___________________________\n"
     ]
    },
    {
     "name": "stderr",
     "output_type": "stream",
     "text": [
      "/Users/pingle/Library/Python/3.8/lib/python/site-packages/sklearn/ensemble/_base.py:156: FutureWarning: `base_estimator` was renamed to `estimator` in version 1.2 and will be removed in 1.4.\n",
      "  warnings.warn(\n"
     ]
    },
    {
     "name": "stdout",
     "output_type": "stream",
     "text": [
      "TEST ACCURACY  EntropyTree_NoEstimators  is : 0.9486311349161197\n",
      "TRAIN ACCURACY EntropyTree_NoEstimators  is : 0.9998513276441379\n",
      "EXPECTED VALUE  EntropyTree_NoEstimators  is : 2008225\n",
      "___________________________\n"
     ]
    },
    {
     "name": "stderr",
     "output_type": "stream",
     "text": [
      "/Users/pingle/Library/Python/3.8/lib/python/site-packages/sklearn/ensemble/_base.py:156: FutureWarning: `base_estimator` was renamed to `estimator` in version 1.2 and will be removed in 1.4.\n",
      "  warnings.warn(\n"
     ]
    },
    {
     "name": "stdout",
     "output_type": "stream",
     "text": [
      "TEST ACCURACY  ExtraTrees_Gini  is : 0.9585247061761971\n",
      "TRAIN ACCURACY ExtraTrees_Gini  is : 0.9998513276441379\n",
      "EXPECTED VALUE  ExtraTrees_Gini  is : 2052155\n",
      "___________________________\n"
     ]
    },
    {
     "name": "stderr",
     "output_type": "stream",
     "text": [
      "/Users/pingle/Library/Python/3.8/lib/python/site-packages/sklearn/ensemble/_base.py:156: FutureWarning: `base_estimator` was renamed to `estimator` in version 1.2 and will be removed in 1.4.\n",
      "  warnings.warn(\n"
     ]
    }
   ],
   "source": [
    "#Adaboost for all our models \n",
    "from sklearn.ensemble import AdaBoostClassifier\n",
    "\n",
    "for name, classifier in models_dict.items():\n",
    "    \n",
    "    model = AdaBoostClassifier(base_estimator=classifier, n_estimators=100, random_state=42)\n",
    "    \n",
    "    #fit the model to our data \n",
    "    model.fit(x_train, y_train)\n",
    "    \n",
    "    '''Calculating all the predicitons'''\n",
    "    #Prediction for the testing dataset \n",
    "    y_pred = model.predict(x_test)\n",
    "    #Prediction for the training dataset \n",
    "    y_pred_train =  model.predict(x_train)\n",
    "    \n",
    "    #Confusion matrix for calculation \n",
    "    cm = confusion_matrix(y_test, y_pred, labels=labels)\n",
    "\n",
    "    #hashed because I want to evaluate the models faster, can unhash to see the exact confusion matrixes\n",
    "    #plot_confusionmatrix(y_pred_train,y_train,dom='Train')\n",
    "    #plot_confusionmatrix(y_pred,y_test,dom='Test')\n",
    "    \n",
    "    #Calculating Expected Value \n",
    "    EV = np.sum(cm * cost_matrix)\n",
    "    \n",
    "    #Calculatinf other scores for comparision \n",
    "    #f1_score = f1_score(y_test, y_pred, average='weighted')\n",
    "    #Recall = recall_score(y_test, y_pred)\n",
    "    #Precision= precision_score(y_test, y_pred)\n",
    "    \n",
    "    print(\"TEST ACCURACY \",name,\" is :\", accuracy_score(y_test, y_pred))\n",
    "    print(\"TRAIN ACCURACY\",name,\" is :\", accuracy_score(y_train, y_pred_train))\n",
    "    print(\"EXPECTED VALUE \",name,\" is :\", EV)\n",
    "    print(\"___________________________\")\n",
    "    #print(\"F-1 SCORE \",name,\" is :\", f1_score)\n",
    "    #print(\"RECALL \",name,\" is :\", Recall)\n",
    "    #print(\"PRECISION \",name,\" is :\", Precision)"
   ]
  },
  {
   "cell_type": "code",
   "execution_count": 11,
   "metadata": {},
   "outputs": [
    {
     "name": "stdout",
     "output_type": "stream",
     "text": [
      "Train accuracy of XGBoost algo:  0.9743510451666617\n",
      "Test accuracy of XGBoost algo:  0.9582055587161946\n",
      "Expected Value of XGBoost algo:  2046045\n"
     ]
    },
    {
     "data": {
      "image/png": "[encoded data removed]",
      "text/plain": [
       "<Figure size 640x480 with 2 Axes>"
      ]
     },
     "metadata": {},
     "output_type": "display_data"
    }
   ],
   "source": [
    "#XGBoost \n",
    "import xgboost as xgb\n",
    "\n",
    "# Build a Gaussian Classifier\n",
    "modelXG = xgb.XGBClassifier(n_estimators=100, max_depth=10, random_state=42, \n",
    "                                 booster='gbtree', subsample=0.8, colsample_bytree=0.8)\n",
    "modelXG.fit(x_train, y_train)\n",
    "\n",
    "#Calculating all the predicitons \n",
    "y_pred = modelXG.predict(x_test)\n",
    "y_pred_train =  modelXG.predict(x_train)\n",
    "\n",
    "#Calculating accuracy \n",
    "mnb_train_accuracy = accuracy_score(y_train, modelXG.predict(x_train))\n",
    "mnb_test_accuracy = accuracy_score(y_test, modelXG.predict(x_test))\n",
    "\n",
    "#Confusion matrix \n",
    "cm = confusion_matrix(y_test, y_pred, labels=labels)\n",
    "disp = ConfusionMatrixDisplay(confusion_matrix=cm, display_labels=labels)\n",
    "disp.plot();\n",
    "#plot_confusionmatrix(y_pred_train,y_train,dom='Train')\n",
    "#plot_confusionmatrix(y_pred,y_test,dom='Test')\n",
    "\n",
    "#Calculating Expected Value \n",
    "EV_MNB = np.sum(cm * cost_matrix)\n",
    "\n",
    "print(\"Train accuracy of XGBoost algo: \", mnb_train_accuracy)\n",
    "print(\"Test accuracy of XGBoost algo: \", mnb_test_accuracy)\n",
    "print(\"Expected Value of XGBoost algo: \", EV_MNB)\n"
   ]
  },
  {
   "cell_type": "markdown",
   "metadata": {},
   "source": [
    "##  Data analysis - SMOTE sampling "
   ]
  },
  {
   "cell_type": "markdown",
   "metadata": {},
   "source": [
    "In order to remove the discrepancy of oversampling of 0. 0 forms 95% of the dataframe, therefore stratified accuracy is high before we even start sampling. Therefore, we are using smote sampling going forward"
   ]
  },
  {
   "cell_type": "code",
   "execution_count": 15,
   "metadata": {},
   "outputs": [
    {
     "name": "stdout",
     "output_type": "stream",
     "text": [
      "Defaulting to user installation because normal site-packages is not writeable\n",
      "Requirement already satisfied: imbalanced-learn in /Users/pingle/Library/Python/3.8/lib/python/site-packages (0.11.0)\n",
      "Requirement already satisfied: threadpoolctl>=2.0.0 in /Users/pingle/Library/Python/3.8/lib/python/site-packages (from imbalanced-learn) (3.2.0)\n",
      "Requirement already satisfied: scikit-learn>=1.0.2 in /Users/pingle/Library/Python/3.8/lib/python/site-packages (from imbalanced-learn) (1.3.0)\n",
      "Requirement already satisfied: joblib>=1.1.1 in /Users/pingle/Library/Python/3.8/lib/python/site-packages (from imbalanced-learn) (1.3.2)\n",
      "Requirement already satisfied: scipy>=1.5.0 in /Users/pingle/Library/Python/3.8/lib/python/site-packages (from imbalanced-learn) (1.10.1)\n",
      "Requirement already satisfied: numpy>=1.17.3 in /Users/pingle/Library/Python/3.8/lib/python/site-packages (from imbalanced-learn) (1.24.4)\n",
      "\u001b[33mWARNING: You are using pip version 22.0.4; however, version 23.3.1 is available.\n",
      "You should consider upgrading via the '/Library/Developer/CommandLineTools/usr/bin/python3 -m pip install --upgrade pip' command.\u001b[0m\u001b[33m\n",
      "\u001b[0mNote: you may need to restart the kernel to use updated packages.\n"
     ]
    }
   ],
   "source": [
    "pip install imbalanced-learn\n"
   ]
  },
  {
   "cell_type": "code",
   "execution_count": 16,
   "metadata": {},
   "outputs": [],
   "source": [
    "from imblearn.over_sampling import SMOTE\n",
    "\n",
    "\n",
    "# Creating a SMOTE object\n",
    "smote = SMOTE()\n",
    "\n",
    "# Generating the oversampled dataset\n",
    "x_smote, y_smote = smote.fit_resample(x, y)\n",
    "\n",
    "# You can now create a new DataFrame from X_smote and y_smote\n",
    "df_balanced = pd.DataFrame(x_smote, columns=x.columns)\n",
    "df_balanced['Crime_Cat_new'] = y_smote\n"
   ]
  },
  {
   "cell_type": "code",
   "execution_count": 17,
   "metadata": {},
   "outputs": [
    {
     "data": {
      "text/plain": [
       "Crime_Cat_new\n",
       "0    230239\n",
       "1    230239\n",
       "Name: count, dtype: int64"
      ]
     },
     "execution_count": 17,
     "metadata": {},
     "output_type": "execute_result"
    }
   ],
   "source": [
    "df_balanced.Crime_Cat_new.value_counts()"
   ]
  },
  {
   "cell_type": "code",
   "execution_count": 18,
   "metadata": {},
   "outputs": [],
   "source": [
    "# Save the subsets to separate CSV files\n",
    "df_balanced.to_csv('df_balanced.csv', index=False)\n"
   ]
  }
 ],
 "metadata": {
  "kernelspec": {
   "display_name": "Python 3",
   "language": "python",
   "name": "python3"
  },
  "language_info": {
   "codemirror_mode": {
    "name": "ipython",
    "version": 3
   },
   "file_extension": ".py",
   "mimetype": "text/x-python",
   "name": "python",
   "nbconvert_exporter": "python",
   "pygments_lexer": "ipython3",
   "version": "3.8.9"
  }
 },
 "nbformat": 4,
 "nbformat_minor": 2
}
