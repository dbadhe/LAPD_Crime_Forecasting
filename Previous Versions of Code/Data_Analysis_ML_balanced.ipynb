{
 "cells": [
  {
   "cell_type": "code",
   "execution_count": 20,
   "metadata": {},
   "outputs": [],
   "source": [
    "#Adding all libraries \n",
    "import numpy as np\n",
    "import pandas as pd\n",
    "import os\n",
    "from sklearn.preprocessing import LabelEncoder\n",
    "from sklearn.model_selection import train_test_split\n",
    "from sklearn.model_selection import RandomizedSearchCV, GridSearchCV\n",
    "from sklearn import tree\n",
    "from sklearn.metrics import accuracy_score,confusion_matrix\n",
    "import seaborn as sns\n",
    "import matplotlib.pyplot as plt\n",
    "import copy\n",
    "from sklearn.model_selection import cross_val_predict, StratifiedKFold\n",
    "from sklearn.naive_bayes import MultinomialNB, GaussianNB, BernoulliNB, ComplementNB\n",
    "from sklearn.metrics import confusion_matrix, ConfusionMatrixDisplay\n",
    "from sklearn.model_selection import cross_val_predict\n",
    "from sklearn.naive_bayes import MultinomialNB\n",
    "from sklearn.metrics import confusion_matrix\n",
    "import seaborn as sns\n",
    "import matplotlib.pyplot as plt\n",
    "from sklearn.model_selection import train_test_split, GridSearchCV\n",
    "from sklearn.metrics import confusion_matrix,accuracy_score, roc_curve, auc\n",
    "from sklearn.metrics import recall_score,precision_score\n",
    "from sklearn.neighbors import KNeighborsClassifier\n",
    "sns.set_style(\"whitegrid\")\n",
    "%matplotlib inline\n",
    "from sklearn.ensemble import RandomForestClassifier\n",
    "from sklearn.ensemble import ExtraTreesClassifier,VotingClassifier"
   ]
  },
  {
   "cell_type": "code",
   "execution_count": 21,
   "metadata": {},
   "outputs": [],
   "source": [
    "from sklearn.metrics import (\n",
    "    accuracy_score,\n",
    "    confusion_matrix,\n",
    "    ConfusionMatrixDisplay,\n",
    "    f1_score,roc_curve,auc,recall_score,precision_score\n",
    ")\n",
    "from sklearn.model_selection import cross_val_score"
   ]
  },
  {
   "cell_type": "code",
   "execution_count": 22,
   "metadata": {},
   "outputs": [],
   "source": [
    "# Load the all the data from CSV files \n",
    "df_original = pd.read_csv('df_original.csv')\n",
    "df_clean = pd.read_csv('df_clean.csv')\n",
    "df = pd.read_csv('df_balanced.csv')\n"
   ]
  },
  {
   "cell_type": "code",
   "execution_count": 23,
   "metadata": {},
   "outputs": [
    {
     "data": {
      "text/html": [
       "<div>\n",
       "<style scoped>\n",
       "    .dataframe tbody tr th:only-of-type {\n",
       "        vertical-align: middle;\n",
       "    }\n",
       "\n",
       "    .dataframe tbody tr th {\n",
       "        vertical-align: top;\n",
       "    }\n",
       "\n",
       "    .dataframe thead th {\n",
       "        text-align: right;\n",
       "    }\n",
       "</style>\n",
       "<table border=\"1\" class=\"dataframe\">\n",
       "  <thead>\n",
       "    <tr style=\"text-align: right;\">\n",
       "      <th></th>\n",
       "      <th>Date</th>\n",
       "      <th>Month</th>\n",
       "      <th>Hour</th>\n",
       "      <th>LatLon</th>\n",
       "      <th>Premis Cd</th>\n",
       "      <th>Vict Age</th>\n",
       "      <th>Vict Descent</th>\n",
       "      <th>Crime_Cat_new</th>\n",
       "    </tr>\n",
       "  </thead>\n",
       "  <tbody>\n",
       "    <tr>\n",
       "      <th>0</th>\n",
       "      <td>8</td>\n",
       "      <td>1</td>\n",
       "      <td>6</td>\n",
       "      <td>13212</td>\n",
       "      <td>501</td>\n",
       "      <td>36</td>\n",
       "      <td>1</td>\n",
       "      <td>0</td>\n",
       "    </tr>\n",
       "    <tr>\n",
       "      <th>1</th>\n",
       "      <td>1</td>\n",
       "      <td>1</td>\n",
       "      <td>1</td>\n",
       "      <td>20466</td>\n",
       "      <td>102</td>\n",
       "      <td>25</td>\n",
       "      <td>3</td>\n",
       "      <td>0</td>\n",
       "    </tr>\n",
       "    <tr>\n",
       "      <th>2</th>\n",
       "      <td>16</td>\n",
       "      <td>9</td>\n",
       "      <td>3</td>\n",
       "      <td>7239</td>\n",
       "      <td>502</td>\n",
       "      <td>62</td>\n",
       "      <td>1</td>\n",
       "      <td>0</td>\n",
       "    </tr>\n",
       "    <tr>\n",
       "      <th>3</th>\n",
       "      <td>1</td>\n",
       "      <td>1</td>\n",
       "      <td>5</td>\n",
       "      <td>36772</td>\n",
       "      <td>502</td>\n",
       "      <td>76</td>\n",
       "      <td>2</td>\n",
       "      <td>0</td>\n",
       "    </tr>\n",
       "    <tr>\n",
       "      <th>4</th>\n",
       "      <td>1</td>\n",
       "      <td>1</td>\n",
       "      <td>1</td>\n",
       "      <td>43900</td>\n",
       "      <td>409</td>\n",
       "      <td>31</td>\n",
       "      <td>4</td>\n",
       "      <td>0</td>\n",
       "    </tr>\n",
       "    <tr>\n",
       "      <th>5</th>\n",
       "      <td>1</td>\n",
       "      <td>1</td>\n",
       "      <td>1</td>\n",
       "      <td>20252</td>\n",
       "      <td>735</td>\n",
       "      <td>25</td>\n",
       "      <td>3</td>\n",
       "      <td>1</td>\n",
       "    </tr>\n",
       "    <tr>\n",
       "      <th>6</th>\n",
       "      <td>2</td>\n",
       "      <td>1</td>\n",
       "      <td>4</td>\n",
       "      <td>21207</td>\n",
       "      <td>404</td>\n",
       "      <td>23</td>\n",
       "      <td>3</td>\n",
       "      <td>0</td>\n",
       "    </tr>\n",
       "    <tr>\n",
       "      <th>7</th>\n",
       "      <td>4</td>\n",
       "      <td>1</td>\n",
       "      <td>1</td>\n",
       "      <td>20148</td>\n",
       "      <td>726</td>\n",
       "      <td>39</td>\n",
       "      <td>4</td>\n",
       "      <td>0</td>\n",
       "    </tr>\n",
       "    <tr>\n",
       "      <th>8</th>\n",
       "      <td>4</td>\n",
       "      <td>1</td>\n",
       "      <td>1</td>\n",
       "      <td>25557</td>\n",
       "      <td>502</td>\n",
       "      <td>23</td>\n",
       "      <td>1</td>\n",
       "      <td>0</td>\n",
       "    </tr>\n",
       "    <tr>\n",
       "      <th>9</th>\n",
       "      <td>12</td>\n",
       "      <td>9</td>\n",
       "      <td>1</td>\n",
       "      <td>2889</td>\n",
       "      <td>101</td>\n",
       "      <td>21</td>\n",
       "      <td>1</td>\n",
       "      <td>0</td>\n",
       "    </tr>\n",
       "  </tbody>\n",
       "</table>\n",
       "</div>"
      ],
      "text/plain": [
       "   Date  Month  Hour  LatLon  Premis Cd  Vict Age  Vict Descent  Crime_Cat_new\n",
       "0     8      1     6   13212        501        36             1              0\n",
       "1     1      1     1   20466        102        25             3              0\n",
       "2    16      9     3    7239        502        62             1              0\n",
       "3     1      1     5   36772        502        76             2              0\n",
       "4     1      1     1   43900        409        31             4              0\n",
       "5     1      1     1   20252        735        25             3              1\n",
       "6     2      1     4   21207        404        23             3              0\n",
       "7     4      1     1   20148        726        39             4              0\n",
       "8     4      1     1   25557        502        23             1              0\n",
       "9    12      9     1    2889        101        21             1              0"
      ]
     },
     "execution_count": 23,
     "metadata": {},
     "output_type": "execute_result"
    }
   ],
   "source": [
    "df.head(10)"
   ]
  },
  {
   "cell_type": "code",
   "execution_count": 24,
   "metadata": {},
   "outputs": [],
   "source": [
    "# Split the DataFrame into training and testing sets\n",
    "train_data, test_data = train_test_split(df, test_size=0.3, random_state=1)\n",
    "\n",
    "# Save the subsets to separate CSV files\n",
    "train_data.to_csv('train_balanced.csv', index=False)\n",
    "test_data.to_csv('test_balanced.csv', index=False)\n",
    "\n",
    "\n",
    "# Separate features and target variable for training data\n",
    "x_train = train_data.drop([\"Crime_Cat_new\"], axis=1)\n",
    "y_train = train_data[\"Crime_Cat_new\"]\n",
    "\n",
    "# Separate features and target variable for testing data\n",
    "x_test = test_data.drop([\"Crime_Cat_new\"], axis=1)\n",
    "y_test = test_data[\"Crime_Cat_new\"]"
   ]
  },
  {
   "cell_type": "code",
   "execution_count": 25,
   "metadata": {},
   "outputs": [
    {
     "name": "stdout",
     "output_type": "stream",
     "text": [
      "x_train (322334, 7)\n",
      "y_train (322334,)\n",
      "x_test (138144, 7)\n",
      "y_test (138144,)\n"
     ]
    }
   ],
   "source": [
    "#Faced issue earlier that there was discrepancy in the number of rows\n",
    "#Hence, checking the shape of the datasets. \n",
    "print(\"x_train\", x_train.shape)\n",
    "print(\"y_train\", y_train.shape)\n",
    "print(\"x_test\", x_test.shape)\n",
    "print(\"y_test\", y_test.shape)"
   ]
  },
  {
   "cell_type": "code",
   "execution_count": 26,
   "metadata": {},
   "outputs": [
    {
     "data": {
      "text/plain": [
       "Date            0\n",
       "Month           0\n",
       "Hour            0\n",
       "LatLon          0\n",
       "Premis Cd       0\n",
       "Vict Age        0\n",
       "Vict Descent    0\n",
       "dtype: int64"
      ]
     },
     "execution_count": 26,
     "metadata": {},
     "output_type": "execute_result"
    }
   ],
   "source": [
    "#checking if there are any null values \n",
    "x_train.isnull().sum()"
   ]
  },
  {
   "cell_type": "code",
   "execution_count": 27,
   "metadata": {},
   "outputs": [
    {
     "data": {
      "text/plain": [
       "Date            0\n",
       "Month           0\n",
       "Hour            0\n",
       "LatLon          0\n",
       "Premis Cd       0\n",
       "Vict Age        0\n",
       "Vict Descent    0\n",
       "dtype: int64"
      ]
     },
     "execution_count": 27,
     "metadata": {},
     "output_type": "execute_result"
    }
   ],
   "source": [
    "x_test.isnull().sum()"
   ]
  },
  {
   "cell_type": "code",
   "execution_count": 28,
   "metadata": {},
   "outputs": [],
   "source": [
    "#Creating separate X and Y \n",
    "x = df.drop([\"Crime_Cat_new\"], axis=1)\n",
    "y = df.Crime_Cat_new.values"
   ]
  },
  {
   "cell_type": "markdown",
   "metadata": {},
   "source": [
    "## Data Analysis - Part 1 \n",
    "In this part, our output category has 6 values. We will perform all analysis for this particular thing. "
   ]
  },
  {
   "cell_type": "code",
   "execution_count": 29,
   "metadata": {},
   "outputs": [],
   "source": [
    "#labels & classes \n",
    "labels = [0,1,2,3,4,5]\n",
    "classes = [0,1,2,3,4,5]\n",
    "\n",
    "## Cost Matrix \n",
    "cost_matrix = np.array([[10,-10,-10,-5,-5,-1],  # a: Cost of True Positive, b: Cost of False Negative\n",
    "                        [-1,15,-5,-10,-10,-10], \n",
    "                        [-10,-1,15,-10,-5,-10],\n",
    "                        [-5,-5,-5,10,-1,-1],\n",
    "                        [-5,-10,-10,-5,10,-5],\n",
    "                        [-1,-10,-10,-5,-1,10]]) # c: Cost of False Positive, d: Cost of True Negative"
   ]
  },
  {
   "cell_type": "code",
   "execution_count": 30,
   "metadata": {},
   "outputs": [],
   "source": [
    "def plot_confusionmatrix(y_train_pred,y_train,dom):\n",
    "    print(f'{dom} Confusion matrix')\n",
    "    cf = confusion_matrix(y_train_pred,y_train)\n",
    "    # When annot is set to True, it adds text annotations to each cell of the heatmap.\n",
    "    sns.heatmap(cf,annot=True,yticklabels=classes,xticklabels=classes,cmap='Blues', fmt='g')\n",
    "    plt.tight_layout()\n",
    "    plt.show()"
   ]
  },
  {
   "cell_type": "markdown",
   "metadata": {},
   "source": [
    "### Naive Bayes"
   ]
  },
  {
   "cell_type": "code",
   "execution_count": 31,
   "metadata": {},
   "outputs": [
    {
     "name": "stdout",
     "output_type": "stream",
     "text": [
      "TEST ACCURACY  MultinomialNB  is : 0.5326181375955524\n",
      "TRAIN ACCURACY MultinomialNB  is : 0.533142640863204\n",
      "EXPECTED VALUE  MultinomialNB  is : 576546\n",
      "___________________________\n",
      "TEST ACCURACY  GaussianNB  is : 0.6966643502432245\n",
      "TRAIN ACCURACY GaussianNB  is : 0.6953408576197361\n",
      "EXPECTED VALUE  GaussianNB  is : 962666\n",
      "___________________________\n",
      "TEST ACCURACY  ComplementNB  is : 0.5325964211257818\n",
      "TRAIN ACCURACY ComplementNB  is : 0.533142640863204\n",
      "EXPECTED VALUE  ComplementNB  is : 576482\n",
      "___________________________\n",
      "TEST ACCURACY  BernoulliNB  is : 0.49871872828353025\n",
      "TRAIN ACCURACY BernoulliNB  is : 0.5004777652993478\n",
      "EXPECTED VALUE  BernoulliNB  is : 617526\n",
      "___________________________\n"
     ]
    }
   ],
   "source": [
    "'''We will look into Naive Bayes models \n",
    "1. Multinomial Naive Bayes - MultinomialNB\n",
    "2. Gaussian Naive Bayes - GaussianNB\n",
    "3. Complement Naive Bayes - ComplementNB\n",
    "4. Bernoulli Naive Bayes - BernoulliNB\n",
    "\n",
    "'''\n",
    "#Defining all the models as a dictionary\n",
    "NB_models = {\n",
    "    'MultinomialNB': MultinomialNB(),\n",
    "    'GaussianNB': GaussianNB(),\n",
    "    'ComplementNB': ComplementNB(),\n",
    "    'BernoulliNB': BernoulliNB()\n",
    "}\n",
    "\n",
    "#for every model in NB model, we will run all the code to calculate everything in one go \n",
    "#took reference from ensemble learning code. \n",
    "\n",
    "for name, classifier in NB_models.items():\n",
    "    \n",
    "    #fit the model to our data \n",
    "    classifier.fit(x_train, y_train)\n",
    "    \n",
    "    '''Calculating all the predicitons'''\n",
    "    #Prediction for the testing dataset \n",
    "    y_pred = classifier.predict(x_test)\n",
    "    #Prediction for the training dataset \n",
    "    y_pred_train =  classifier.predict(x_train)\n",
    "    \n",
    "    #Confusion matrix for calculation \n",
    "    cm = confusion_matrix(y_test, y_pred, labels=labels)\n",
    "\n",
    "    #hashed because I want to evaluate the models faster, can unhash to see the exact confusion matrixes\n",
    "    #plot_confusionmatrix(y_pred_train,y_train,dom='Train')\n",
    "    #plot_confusionmatrix(y_pred,y_test,dom='Test')\n",
    "    \n",
    "    #Calculating Expected Value \n",
    "    EV = np.sum(cm * cost_matrix)\n",
    "    \n",
    "    #Calculatinf other scores for comparision \n",
    "    #f1_score = f1_score(y_test, y_pred, average='weighted')\n",
    "    #Recall = recall_score(y_test, y_pred)\n",
    "    #Precision= precision_score(y_test, y_pred)\n",
    "    \n",
    "    print(\"TEST ACCURACY \",name,\" is :\", accuracy_score(y_test, y_pred))\n",
    "    print(\"TRAIN ACCURACY\",name,\" is :\", accuracy_score(y_train, y_pred_train))\n",
    "    print(\"EXPECTED VALUE \",name,\" is :\", EV)\n",
    "    print(\"___________________________\")\n",
    "    #print(\"F-1 SCORE \",name,\" is :\", f1_score)\n",
    "    #print(\"RECALL \",name,\" is :\", Recall)\n",
    "    #print(\"PRECISION \",name,\" is :\", Precision)\n"
   ]
  },
  {
   "cell_type": "markdown",
   "metadata": {},
   "source": [
    "### Decision Trees"
   ]
  },
  {
   "cell_type": "code",
   "execution_count": 32,
   "metadata": {},
   "outputs": [
    {
     "name": "stdout",
     "output_type": "stream",
     "text": [
      "TEST ACCURACY  GiniTree_NoEstimators  is : 0.8506051656242761\n",
      "TRAIN ACCURACY GiniTree_NoEstimators  is : 0.9999038264657157\n",
      "EXPECTED VALUE  GiniTree_NoEstimators  is : 1346866\n",
      "___________________________\n",
      "TEST ACCURACY  EntropyTree_NoEstimators  is : 0.8566278665740097\n",
      "TRAIN ACCURACY EntropyTree_NoEstimators  is : 0.9999038264657157\n",
      "EXPECTED VALUE  EntropyTree_NoEstimators  is : 1362438\n",
      "___________________________\n",
      "TEST ACCURACY  RandomForest  is : 0.8827744961779013\n",
      "TRAIN ACCURACY RandomForest  is : 0.9998945193494946\n",
      "EXPECTED VALUE  RandomForest  is : 1426694\n",
      "___________________________\n",
      "TEST ACCURACY  ExtraTrees_Gini  is : 0.8737114894602733\n",
      "TRAIN ACCURACY ExtraTrees_Gini  is : 0.9999038264657157\n",
      "EXPECTED VALUE  ExtraTrees_Gini  is : 1404458\n",
      "___________________________\n",
      "TEST ACCURACY  ExtraTrees_Entropy  is : 0.8736535788742182\n",
      "TRAIN ACCURACY ExtraTrees_Entropy  is : 0.9999038264657157\n",
      "EXPECTED VALUE  ExtraTrees_Entropy  is : 1404042\n",
      "___________________________\n"
     ]
    }
   ],
   "source": [
    "'''\n",
    "In this section, we will look at decision tree models\n",
    "\n",
    "1. tree.DecisionTreeClassifier(criterion='gini', random_state=42)\n",
    "2.  tree.DecisionTreeClassifier(criterion='entropy', random_state=42) \n",
    "3.Extremely Randomized Trees\n",
    "4. Random Forest - RandomForestClassifier(random_state=42)\n",
    "'''\n",
    "\n",
    "Tree_models_42 = {\n",
    "    'GiniTree_NoEstimators' : tree.DecisionTreeClassifier(criterion='gini', random_state=42), \n",
    "    'EntropyTree_NoEstimators' : tree.DecisionTreeClassifier(criterion='entropy', random_state=42),\n",
    "    'RandomForest' : RandomForestClassifier(random_state=42),\n",
    "    'ExtraTrees_Gini': ExtraTreesClassifier( criterion='gini', random_state=42), \n",
    "    'ExtraTrees_Entropy': ExtraTreesClassifier( criterion='entropy', random_state=42), \n",
    "       \n",
    "}\n",
    "\n",
    "#took reference from ensemble learning code. \n",
    "\n",
    "for name, classifier in Tree_models_42.items():\n",
    "    \n",
    "    #fit the model to our data \n",
    "    classifier.fit(x_train, y_train)\n",
    "    \n",
    "    '''Calculating all the predicitons'''\n",
    "    #Prediction for the testing dataset \n",
    "    y_pred = classifier.predict(x_test)\n",
    "    #Prediction for the training dataset \n",
    "    y_pred_train =  classifier.predict(x_train)\n",
    "    \n",
    "    #Confusion matrix for calculation \n",
    "    cm = confusion_matrix(y_test, y_pred, labels=labels)\n",
    "\n",
    "    #hashed because I want to evaluate the models faster, can unhash to see the exact confusion matrixes\n",
    "    #plot_confusionmatrix(y_pred_train,y_train,dom='Train')\n",
    "    #plot_confusionmatrix(y_pred,y_test,dom='Test')\n",
    "    \n",
    "    #Calculating Expected Value \n",
    "    EV = np.sum(cm * cost_matrix)\n",
    "    \n",
    "    #Calculatinf other scores for comparision \n",
    "    #f1_score = f1_score(y_test, y_pred, average='weighted')\n",
    "    #Recall = recall_score(y_test, y_pred)\n",
    "    #Precision= precision_score(y_test, y_pred)\n",
    "    \n",
    "    print(\"TEST ACCURACY \",name,\" is :\", accuracy_score(y_test, y_pred))\n",
    "    print(\"TRAIN ACCURACY\",name,\" is :\", accuracy_score(y_train, y_pred_train))\n",
    "    print(\"EXPECTED VALUE \",name,\" is :\", EV)\n",
    "    print(\"___________________________\")\n",
    "    #print(\"F-1 SCORE \",name,\" is :\", f1_score)\n",
    "    #print(\"RECALL \",name,\" is :\", Recall)\n",
    "    #print(\"PRECISION \",name,\" is :\", Precision)"
   ]
  },
  {
   "cell_type": "markdown",
   "metadata": {},
   "source": [
    "Up until now, Random forest give us the best results with maximum EV. Now let's try to improve the performances of these models. \n",
    "\n",
    "* We will do pre-pruning and post pruning to see improvements. \n",
    "* After that for both the types of models, we will perform cross validation. "
   ]
  },
  {
   "cell_type": "code",
   "execution_count": 33,
   "metadata": {},
   "outputs": [
    {
     "name": "stdout",
     "output_type": "stream",
     "text": [
      "Best Fit Model: DecisionTreeClassifier(criterion='entropy', max_depth=6, random_state=42)\n",
      "TEST ACCURACY is: 0.7145659601575168\n",
      "TRAIN ACCURACY is: 0.7134463010417765\n",
      "EXPECTED VALUE is: 973274\n"
     ]
    }
   ],
   "source": [
    "params = {\n",
    "    'max_depth': [2, 4, 6],\n",
    "    'min_samples_split': [2, 4],\n",
    "    'min_samples_leaf': [1, 2]\n",
    "}\n",
    "\n",
    "classifier = tree.DecisionTreeClassifier(criterion='entropy', random_state=42)\n",
    "gcv = GridSearchCV(estimator=classifier, param_grid=params)\n",
    "gcv.fit(x_train, y_train)\n",
    "\n",
    "modelgcv = gcv.best_estimator_\n",
    "print(\"Best Fit Model:\", modelgcv)\n",
    "\n",
    "modelgcv.fit(x_train, y_train)\n",
    "\n",
    "# Predictions\n",
    "y_pred = modelgcv.predict(x_test)\n",
    "y_pred_train = modelgcv.predict(x_train)\n",
    "\n",
    "# Confusion matrix\n",
    "cm = confusion_matrix(y_test, y_pred, labels=labels)\n",
    "\n",
    "# Calculating Expected Value\n",
    "EV = np.sum(cm * cost_matrix)\n",
    "\n",
    "# Calculating other scores\n",
    "#f1 = f1_score(y_test, y_pred, average='weighted')\n",
    "#Recall = recall_score(y_test, y_pred, average='weighted')  # Add average='weighted' for multiclass\n",
    "#Precision = precision_score(y_test, y_pred, average='weighted')  # Add average='weighted' for multiclass\n",
    "\n",
    "# Printing results\n",
    "print(\"TEST ACCURACY is:\", accuracy_score(y_test, y_pred))\n",
    "print(\"TRAIN ACCURACY is:\", accuracy_score(y_train, y_pred_train))\n",
    "print(\"EXPECTED VALUE is:\", EV)\n",
    "#print(\"F-1 SCORE is:\", f1)\n",
    "#print(\"RECALL is:\", Recall)\n",
    "#print(\"PRECISION is:\", Precision)"
   ]
  },
  {
   "cell_type": "code",
   "execution_count": 34,
   "metadata": {},
   "outputs": [
    {
     "name": "stdout",
     "output_type": "stream",
     "text": [
      "Best Fit Model for GiniTree_NoEstimators DecisionTreeClassifier(max_depth=6, min_samples_leaf=2, random_state=42)\n",
      "TEST ACCURACY  GiniTree_NoEstimators  is : 0.8506051656242761\n",
      "TRAIN ACCURACY GiniTree_NoEstimators  is : 0.9999038264657157\n",
      "EXPECTED VALUE  GiniTree_NoEstimators  is : 1346866\n",
      "___________________________\n",
      "Best Fit Model for EntropyTree_NoEstimators DecisionTreeClassifier(criterion='entropy', max_depth=6, min_samples_leaf=2,\n",
      "                       random_state=42)\n",
      "TEST ACCURACY  EntropyTree_NoEstimators  is : 0.8566278665740097\n",
      "TRAIN ACCURACY EntropyTree_NoEstimators  is : 0.9999038264657157\n",
      "EXPECTED VALUE  EntropyTree_NoEstimators  is : 1362438\n",
      "___________________________\n"
     ]
    },
    {
     "ename": "KeyboardInterrupt",
     "evalue": "",
     "output_type": "error",
     "traceback": [
      "\u001b[0;31m---------------------------------------------------------------------------\u001b[0m",
      "\u001b[0;31mKeyboardInterrupt\u001b[0m                         Traceback (most recent call last)",
      "\u001b[1;32m/Users/pingle/Desktop/ML project/Data_Analysis_ML_balanced.ipynb Cell 19\u001b[0m line \u001b[0;36m1\n\u001b[1;32m      <a href='vscode-notebook-cell:/Users/pingle/Desktop/ML%20project/Data_Analysis_ML_balanced.ipynb#X24sZmlsZQ%3D%3D?line=4'>5</a>\u001b[0m params \u001b[39m=\u001b[39m {\u001b[39m'\u001b[39m\u001b[39mmax_depth\u001b[39m\u001b[39m'\u001b[39m: [\u001b[39m2\u001b[39m,\u001b[39m4\u001b[39m,\u001b[39m6\u001b[39m],\n\u001b[1;32m      <a href='vscode-notebook-cell:/Users/pingle/Desktop/ML%20project/Data_Analysis_ML_balanced.ipynb#X24sZmlsZQ%3D%3D?line=5'>6</a>\u001b[0m      \u001b[39m'\u001b[39m\u001b[39mmin_samples_split\u001b[39m\u001b[39m'\u001b[39m: [\u001b[39m2\u001b[39m,\u001b[39m3\u001b[39m,\u001b[39m4\u001b[39m],\n\u001b[1;32m      <a href='vscode-notebook-cell:/Users/pingle/Desktop/ML%20project/Data_Analysis_ML_balanced.ipynb#X24sZmlsZQ%3D%3D?line=6'>7</a>\u001b[0m      \u001b[39m'\u001b[39m\u001b[39mmin_samples_leaf\u001b[39m\u001b[39m'\u001b[39m: [\u001b[39m2\u001b[39m,\u001b[39m3\u001b[39m]}\n\u001b[1;32m     <a href='vscode-notebook-cell:/Users/pingle/Desktop/ML%20project/Data_Analysis_ML_balanced.ipynb#X24sZmlsZQ%3D%3D?line=9'>10</a>\u001b[0m gcv \u001b[39m=\u001b[39m GridSearchCV(estimator\u001b[39m=\u001b[39mclassifier,param_grid\u001b[39m=\u001b[39mparams)\n\u001b[0;32m---> <a href='vscode-notebook-cell:/Users/pingle/Desktop/ML%20project/Data_Analysis_ML_balanced.ipynb#X24sZmlsZQ%3D%3D?line=10'>11</a>\u001b[0m gcv\u001b[39m.\u001b[39;49mfit(x_train,y_train)\n\u001b[1;32m     <a href='vscode-notebook-cell:/Users/pingle/Desktop/ML%20project/Data_Analysis_ML_balanced.ipynb#X24sZmlsZQ%3D%3D?line=12'>13</a>\u001b[0m modelgcv \u001b[39m=\u001b[39m gcv\u001b[39m.\u001b[39mbest_estimator_\n\u001b[1;32m     <a href='vscode-notebook-cell:/Users/pingle/Desktop/ML%20project/Data_Analysis_ML_balanced.ipynb#X24sZmlsZQ%3D%3D?line=13'>14</a>\u001b[0m \u001b[39mprint\u001b[39m(\u001b[39m\"\u001b[39m\u001b[39mBest Fit Model for\u001b[39m\u001b[39m\"\u001b[39m, name, modelgcv)\n",
      "File \u001b[0;32m~/Library/Python/3.8/lib/python/site-packages/sklearn/base.py:1151\u001b[0m, in \u001b[0;36m_fit_context.<locals>.decorator.<locals>.wrapper\u001b[0;34m(estimator, *args, **kwargs)\u001b[0m\n\u001b[1;32m   1144\u001b[0m     estimator\u001b[39m.\u001b[39m_validate_params()\n\u001b[1;32m   1146\u001b[0m \u001b[39mwith\u001b[39;00m config_context(\n\u001b[1;32m   1147\u001b[0m     skip_parameter_validation\u001b[39m=\u001b[39m(\n\u001b[1;32m   1148\u001b[0m         prefer_skip_nested_validation \u001b[39mor\u001b[39;00m global_skip_validation\n\u001b[1;32m   1149\u001b[0m     )\n\u001b[1;32m   1150\u001b[0m ):\n\u001b[0;32m-> 1151\u001b[0m     \u001b[39mreturn\u001b[39;00m fit_method(estimator, \u001b[39m*\u001b[39;49margs, \u001b[39m*\u001b[39;49m\u001b[39m*\u001b[39;49mkwargs)\n",
      "File \u001b[0;32m~/Library/Python/3.8/lib/python/site-packages/sklearn/model_selection/_search.py:898\u001b[0m, in \u001b[0;36mBaseSearchCV.fit\u001b[0;34m(self, X, y, groups, **fit_params)\u001b[0m\n\u001b[1;32m    892\u001b[0m     results \u001b[39m=\u001b[39m \u001b[39mself\u001b[39m\u001b[39m.\u001b[39m_format_results(\n\u001b[1;32m    893\u001b[0m         all_candidate_params, n_splits, all_out, all_more_results\n\u001b[1;32m    894\u001b[0m     )\n\u001b[1;32m    896\u001b[0m     \u001b[39mreturn\u001b[39;00m results\n\u001b[0;32m--> 898\u001b[0m \u001b[39mself\u001b[39;49m\u001b[39m.\u001b[39;49m_run_search(evaluate_candidates)\n\u001b[1;32m    900\u001b[0m \u001b[39m# multimetric is determined here because in the case of a callable\u001b[39;00m\n\u001b[1;32m    901\u001b[0m \u001b[39m# self.scoring the return type is only known after calling\u001b[39;00m\n\u001b[1;32m    902\u001b[0m first_test_score \u001b[39m=\u001b[39m all_out[\u001b[39m0\u001b[39m][\u001b[39m\"\u001b[39m\u001b[39mtest_scores\u001b[39m\u001b[39m\"\u001b[39m]\n",
      "File \u001b[0;32m~/Library/Python/3.8/lib/python/site-packages/sklearn/model_selection/_search.py:1419\u001b[0m, in \u001b[0;36mGridSearchCV._run_search\u001b[0;34m(self, evaluate_candidates)\u001b[0m\n\u001b[1;32m   1417\u001b[0m \u001b[39mdef\u001b[39;00m \u001b[39m_run_search\u001b[39m(\u001b[39mself\u001b[39m, evaluate_candidates):\n\u001b[1;32m   1418\u001b[0m     \u001b[39m\"\"\"Search all candidates in param_grid\"\"\"\u001b[39;00m\n\u001b[0;32m-> 1419\u001b[0m     evaluate_candidates(ParameterGrid(\u001b[39mself\u001b[39;49m\u001b[39m.\u001b[39;49mparam_grid))\n",
      "File \u001b[0;32m~/Library/Python/3.8/lib/python/site-packages/sklearn/model_selection/_search.py:845\u001b[0m, in \u001b[0;36mBaseSearchCV.fit.<locals>.evaluate_candidates\u001b[0;34m(candidate_params, cv, more_results)\u001b[0m\n\u001b[1;32m    837\u001b[0m \u001b[39mif\u001b[39;00m \u001b[39mself\u001b[39m\u001b[39m.\u001b[39mverbose \u001b[39m>\u001b[39m \u001b[39m0\u001b[39m:\n\u001b[1;32m    838\u001b[0m     \u001b[39mprint\u001b[39m(\n\u001b[1;32m    839\u001b[0m         \u001b[39m\"\u001b[39m\u001b[39mFitting \u001b[39m\u001b[39m{0}\u001b[39;00m\u001b[39m folds for each of \u001b[39m\u001b[39m{1}\u001b[39;00m\u001b[39m candidates,\u001b[39m\u001b[39m\"\u001b[39m\n\u001b[1;32m    840\u001b[0m         \u001b[39m\"\u001b[39m\u001b[39m totalling \u001b[39m\u001b[39m{2}\u001b[39;00m\u001b[39m fits\u001b[39m\u001b[39m\"\u001b[39m\u001b[39m.\u001b[39mformat(\n\u001b[1;32m    841\u001b[0m             n_splits, n_candidates, n_candidates \u001b[39m*\u001b[39m n_splits\n\u001b[1;32m    842\u001b[0m         )\n\u001b[1;32m    843\u001b[0m     )\n\u001b[0;32m--> 845\u001b[0m out \u001b[39m=\u001b[39m parallel(\n\u001b[1;32m    846\u001b[0m     delayed(_fit_and_score)(\n\u001b[1;32m    847\u001b[0m         clone(base_estimator),\n\u001b[1;32m    848\u001b[0m         X,\n\u001b[1;32m    849\u001b[0m         y,\n\u001b[1;32m    850\u001b[0m         train\u001b[39m=\u001b[39;49mtrain,\n\u001b[1;32m    851\u001b[0m         test\u001b[39m=\u001b[39;49mtest,\n\u001b[1;32m    852\u001b[0m         parameters\u001b[39m=\u001b[39;49mparameters,\n\u001b[1;32m    853\u001b[0m         split_progress\u001b[39m=\u001b[39;49m(split_idx, n_splits),\n\u001b[1;32m    854\u001b[0m         candidate_progress\u001b[39m=\u001b[39;49m(cand_idx, n_candidates),\n\u001b[1;32m    855\u001b[0m         \u001b[39m*\u001b[39;49m\u001b[39m*\u001b[39;49mfit_and_score_kwargs,\n\u001b[1;32m    856\u001b[0m     )\n\u001b[1;32m    857\u001b[0m     \u001b[39mfor\u001b[39;49;00m (cand_idx, parameters), (split_idx, (train, test)) \u001b[39min\u001b[39;49;00m product(\n\u001b[1;32m    858\u001b[0m         \u001b[39menumerate\u001b[39;49m(candidate_params), \u001b[39menumerate\u001b[39;49m(cv\u001b[39m.\u001b[39;49msplit(X, y, groups))\n\u001b[1;32m    859\u001b[0m     )\n\u001b[1;32m    860\u001b[0m )\n\u001b[1;32m    862\u001b[0m \u001b[39mif\u001b[39;00m \u001b[39mlen\u001b[39m(out) \u001b[39m<\u001b[39m \u001b[39m1\u001b[39m:\n\u001b[1;32m    863\u001b[0m     \u001b[39mraise\u001b[39;00m \u001b[39mValueError\u001b[39;00m(\n\u001b[1;32m    864\u001b[0m         \u001b[39m\"\u001b[39m\u001b[39mNo fits were performed. \u001b[39m\u001b[39m\"\u001b[39m\n\u001b[1;32m    865\u001b[0m         \u001b[39m\"\u001b[39m\u001b[39mWas the CV iterator empty? \u001b[39m\u001b[39m\"\u001b[39m\n\u001b[1;32m    866\u001b[0m         \u001b[39m\"\u001b[39m\u001b[39mWere there no candidates?\u001b[39m\u001b[39m\"\u001b[39m\n\u001b[1;32m    867\u001b[0m     )\n",
      "File \u001b[0;32m~/Library/Python/3.8/lib/python/site-packages/sklearn/utils/parallel.py:65\u001b[0m, in \u001b[0;36mParallel.__call__\u001b[0;34m(self, iterable)\u001b[0m\n\u001b[1;32m     60\u001b[0m config \u001b[39m=\u001b[39m get_config()\n\u001b[1;32m     61\u001b[0m iterable_with_config \u001b[39m=\u001b[39m (\n\u001b[1;32m     62\u001b[0m     (_with_config(delayed_func, config), args, kwargs)\n\u001b[1;32m     63\u001b[0m     \u001b[39mfor\u001b[39;00m delayed_func, args, kwargs \u001b[39min\u001b[39;00m iterable\n\u001b[1;32m     64\u001b[0m )\n\u001b[0;32m---> 65\u001b[0m \u001b[39mreturn\u001b[39;00m \u001b[39msuper\u001b[39;49m()\u001b[39m.\u001b[39;49m\u001b[39m__call__\u001b[39;49m(iterable_with_config)\n",
      "File \u001b[0;32m~/Library/Python/3.8/lib/python/site-packages/joblib/parallel.py:1863\u001b[0m, in \u001b[0;36mParallel.__call__\u001b[0;34m(self, iterable)\u001b[0m\n\u001b[1;32m   1861\u001b[0m     output \u001b[39m=\u001b[39m \u001b[39mself\u001b[39m\u001b[39m.\u001b[39m_get_sequential_output(iterable)\n\u001b[1;32m   1862\u001b[0m     \u001b[39mnext\u001b[39m(output)\n\u001b[0;32m-> 1863\u001b[0m     \u001b[39mreturn\u001b[39;00m output \u001b[39mif\u001b[39;00m \u001b[39mself\u001b[39m\u001b[39m.\u001b[39mreturn_generator \u001b[39melse\u001b[39;00m \u001b[39mlist\u001b[39;49m(output)\n\u001b[1;32m   1865\u001b[0m \u001b[39m# Let's create an ID that uniquely identifies the current call. If the\u001b[39;00m\n\u001b[1;32m   1866\u001b[0m \u001b[39m# call is interrupted early and that the same instance is immediately\u001b[39;00m\n\u001b[1;32m   1867\u001b[0m \u001b[39m# re-used, this id will be used to prevent workers that were\u001b[39;00m\n\u001b[1;32m   1868\u001b[0m \u001b[39m# concurrently finalizing a task from the previous call to run the\u001b[39;00m\n\u001b[1;32m   1869\u001b[0m \u001b[39m# callback.\u001b[39;00m\n\u001b[1;32m   1870\u001b[0m \u001b[39mwith\u001b[39;00m \u001b[39mself\u001b[39m\u001b[39m.\u001b[39m_lock:\n",
      "File \u001b[0;32m~/Library/Python/3.8/lib/python/site-packages/joblib/parallel.py:1792\u001b[0m, in \u001b[0;36mParallel._get_sequential_output\u001b[0;34m(self, iterable)\u001b[0m\n\u001b[1;32m   1790\u001b[0m \u001b[39mself\u001b[39m\u001b[39m.\u001b[39mn_dispatched_batches \u001b[39m+\u001b[39m\u001b[39m=\u001b[39m \u001b[39m1\u001b[39m\n\u001b[1;32m   1791\u001b[0m \u001b[39mself\u001b[39m\u001b[39m.\u001b[39mn_dispatched_tasks \u001b[39m+\u001b[39m\u001b[39m=\u001b[39m \u001b[39m1\u001b[39m\n\u001b[0;32m-> 1792\u001b[0m res \u001b[39m=\u001b[39m func(\u001b[39m*\u001b[39;49margs, \u001b[39m*\u001b[39;49m\u001b[39m*\u001b[39;49mkwargs)\n\u001b[1;32m   1793\u001b[0m \u001b[39mself\u001b[39m\u001b[39m.\u001b[39mn_completed_tasks \u001b[39m+\u001b[39m\u001b[39m=\u001b[39m \u001b[39m1\u001b[39m\n\u001b[1;32m   1794\u001b[0m \u001b[39mself\u001b[39m\u001b[39m.\u001b[39mprint_progress()\n",
      "File \u001b[0;32m~/Library/Python/3.8/lib/python/site-packages/sklearn/utils/parallel.py:127\u001b[0m, in \u001b[0;36m_FuncWrapper.__call__\u001b[0;34m(self, *args, **kwargs)\u001b[0m\n\u001b[1;32m    125\u001b[0m     config \u001b[39m=\u001b[39m {}\n\u001b[1;32m    126\u001b[0m \u001b[39mwith\u001b[39;00m config_context(\u001b[39m*\u001b[39m\u001b[39m*\u001b[39mconfig):\n\u001b[0;32m--> 127\u001b[0m     \u001b[39mreturn\u001b[39;00m \u001b[39mself\u001b[39;49m\u001b[39m.\u001b[39;49mfunction(\u001b[39m*\u001b[39;49margs, \u001b[39m*\u001b[39;49m\u001b[39m*\u001b[39;49mkwargs)\n",
      "File \u001b[0;32m~/Library/Python/3.8/lib/python/site-packages/sklearn/model_selection/_validation.py:732\u001b[0m, in \u001b[0;36m_fit_and_score\u001b[0;34m(estimator, X, y, scorer, train, test, verbose, parameters, fit_params, return_train_score, return_parameters, return_n_test_samples, return_times, return_estimator, split_progress, candidate_progress, error_score)\u001b[0m\n\u001b[1;32m    730\u001b[0m         estimator\u001b[39m.\u001b[39mfit(X_train, \u001b[39m*\u001b[39m\u001b[39m*\u001b[39mfit_params)\n\u001b[1;32m    731\u001b[0m     \u001b[39melse\u001b[39;00m:\n\u001b[0;32m--> 732\u001b[0m         estimator\u001b[39m.\u001b[39;49mfit(X_train, y_train, \u001b[39m*\u001b[39;49m\u001b[39m*\u001b[39;49mfit_params)\n\u001b[1;32m    734\u001b[0m \u001b[39mexcept\u001b[39;00m \u001b[39mException\u001b[39;00m:\n\u001b[1;32m    735\u001b[0m     \u001b[39m# Note fit time as time until error\u001b[39;00m\n\u001b[1;32m    736\u001b[0m     fit_time \u001b[39m=\u001b[39m time\u001b[39m.\u001b[39mtime() \u001b[39m-\u001b[39m start_time\n",
      "File \u001b[0;32m~/Library/Python/3.8/lib/python/site-packages/sklearn/base.py:1151\u001b[0m, in \u001b[0;36m_fit_context.<locals>.decorator.<locals>.wrapper\u001b[0;34m(estimator, *args, **kwargs)\u001b[0m\n\u001b[1;32m   1144\u001b[0m     estimator\u001b[39m.\u001b[39m_validate_params()\n\u001b[1;32m   1146\u001b[0m \u001b[39mwith\u001b[39;00m config_context(\n\u001b[1;32m   1147\u001b[0m     skip_parameter_validation\u001b[39m=\u001b[39m(\n\u001b[1;32m   1148\u001b[0m         prefer_skip_nested_validation \u001b[39mor\u001b[39;00m global_skip_validation\n\u001b[1;32m   1149\u001b[0m     )\n\u001b[1;32m   1150\u001b[0m ):\n\u001b[0;32m-> 1151\u001b[0m     \u001b[39mreturn\u001b[39;00m fit_method(estimator, \u001b[39m*\u001b[39;49margs, \u001b[39m*\u001b[39;49m\u001b[39m*\u001b[39;49mkwargs)\n",
      "File \u001b[0;32m~/Library/Python/3.8/lib/python/site-packages/sklearn/ensemble/_forest.py:456\u001b[0m, in \u001b[0;36mBaseForest.fit\u001b[0;34m(self, X, y, sample_weight)\u001b[0m\n\u001b[1;32m    445\u001b[0m trees \u001b[39m=\u001b[39m [\n\u001b[1;32m    446\u001b[0m     \u001b[39mself\u001b[39m\u001b[39m.\u001b[39m_make_estimator(append\u001b[39m=\u001b[39m\u001b[39mFalse\u001b[39;00m, random_state\u001b[39m=\u001b[39mrandom_state)\n\u001b[1;32m    447\u001b[0m     \u001b[39mfor\u001b[39;00m i \u001b[39min\u001b[39;00m \u001b[39mrange\u001b[39m(n_more_estimators)\n\u001b[1;32m    448\u001b[0m ]\n\u001b[1;32m    450\u001b[0m \u001b[39m# Parallel loop: we prefer the threading backend as the Cython code\u001b[39;00m\n\u001b[1;32m    451\u001b[0m \u001b[39m# for fitting the trees is internally releasing the Python GIL\u001b[39;00m\n\u001b[1;32m    452\u001b[0m \u001b[39m# making threading more efficient than multiprocessing in\u001b[39;00m\n\u001b[1;32m    453\u001b[0m \u001b[39m# that case. However, for joblib 0.12+ we respect any\u001b[39;00m\n\u001b[1;32m    454\u001b[0m \u001b[39m# parallel_backend contexts set at a higher level,\u001b[39;00m\n\u001b[1;32m    455\u001b[0m \u001b[39m# since correctness does not rely on using threads.\u001b[39;00m\n\u001b[0;32m--> 456\u001b[0m trees \u001b[39m=\u001b[39m Parallel(\n\u001b[1;32m    457\u001b[0m     n_jobs\u001b[39m=\u001b[39;49m\u001b[39mself\u001b[39;49m\u001b[39m.\u001b[39;49mn_jobs,\n\u001b[1;32m    458\u001b[0m     verbose\u001b[39m=\u001b[39;49m\u001b[39mself\u001b[39;49m\u001b[39m.\u001b[39;49mverbose,\n\u001b[1;32m    459\u001b[0m     prefer\u001b[39m=\u001b[39;49m\u001b[39m\"\u001b[39;49m\u001b[39mthreads\u001b[39;49m\u001b[39m\"\u001b[39;49m,\n\u001b[1;32m    460\u001b[0m )(\n\u001b[1;32m    461\u001b[0m     delayed(_parallel_build_trees)(\n\u001b[1;32m    462\u001b[0m         t,\n\u001b[1;32m    463\u001b[0m         \u001b[39mself\u001b[39;49m\u001b[39m.\u001b[39;49mbootstrap,\n\u001b[1;32m    464\u001b[0m         X,\n\u001b[1;32m    465\u001b[0m         y,\n\u001b[1;32m    466\u001b[0m         sample_weight,\n\u001b[1;32m    467\u001b[0m         i,\n\u001b[1;32m    468\u001b[0m         \u001b[39mlen\u001b[39;49m(trees),\n\u001b[1;32m    469\u001b[0m         verbose\u001b[39m=\u001b[39;49m\u001b[39mself\u001b[39;49m\u001b[39m.\u001b[39;49mverbose,\n\u001b[1;32m    470\u001b[0m         class_weight\u001b[39m=\u001b[39;49m\u001b[39mself\u001b[39;49m\u001b[39m.\u001b[39;49mclass_weight,\n\u001b[1;32m    471\u001b[0m         n_samples_bootstrap\u001b[39m=\u001b[39;49mn_samples_bootstrap,\n\u001b[1;32m    472\u001b[0m     )\n\u001b[1;32m    473\u001b[0m     \u001b[39mfor\u001b[39;49;00m i, t \u001b[39min\u001b[39;49;00m \u001b[39menumerate\u001b[39;49m(trees)\n\u001b[1;32m    474\u001b[0m )\n\u001b[1;32m    476\u001b[0m \u001b[39m# Collect newly grown trees\u001b[39;00m\n\u001b[1;32m    477\u001b[0m \u001b[39mself\u001b[39m\u001b[39m.\u001b[39mestimators_\u001b[39m.\u001b[39mextend(trees)\n",
      "File \u001b[0;32m~/Library/Python/3.8/lib/python/site-packages/sklearn/utils/parallel.py:65\u001b[0m, in \u001b[0;36mParallel.__call__\u001b[0;34m(self, iterable)\u001b[0m\n\u001b[1;32m     60\u001b[0m config \u001b[39m=\u001b[39m get_config()\n\u001b[1;32m     61\u001b[0m iterable_with_config \u001b[39m=\u001b[39m (\n\u001b[1;32m     62\u001b[0m     (_with_config(delayed_func, config), args, kwargs)\n\u001b[1;32m     63\u001b[0m     \u001b[39mfor\u001b[39;00m delayed_func, args, kwargs \u001b[39min\u001b[39;00m iterable\n\u001b[1;32m     64\u001b[0m )\n\u001b[0;32m---> 65\u001b[0m \u001b[39mreturn\u001b[39;00m \u001b[39msuper\u001b[39;49m()\u001b[39m.\u001b[39;49m\u001b[39m__call__\u001b[39;49m(iterable_with_config)\n",
      "File \u001b[0;32m~/Library/Python/3.8/lib/python/site-packages/joblib/parallel.py:1863\u001b[0m, in \u001b[0;36mParallel.__call__\u001b[0;34m(self, iterable)\u001b[0m\n\u001b[1;32m   1861\u001b[0m     output \u001b[39m=\u001b[39m \u001b[39mself\u001b[39m\u001b[39m.\u001b[39m_get_sequential_output(iterable)\n\u001b[1;32m   1862\u001b[0m     \u001b[39mnext\u001b[39m(output)\n\u001b[0;32m-> 1863\u001b[0m     \u001b[39mreturn\u001b[39;00m output \u001b[39mif\u001b[39;00m \u001b[39mself\u001b[39m\u001b[39m.\u001b[39mreturn_generator \u001b[39melse\u001b[39;00m \u001b[39mlist\u001b[39;49m(output)\n\u001b[1;32m   1865\u001b[0m \u001b[39m# Let's create an ID that uniquely identifies the current call. If the\u001b[39;00m\n\u001b[1;32m   1866\u001b[0m \u001b[39m# call is interrupted early and that the same instance is immediately\u001b[39;00m\n\u001b[1;32m   1867\u001b[0m \u001b[39m# re-used, this id will be used to prevent workers that were\u001b[39;00m\n\u001b[1;32m   1868\u001b[0m \u001b[39m# concurrently finalizing a task from the previous call to run the\u001b[39;00m\n\u001b[1;32m   1869\u001b[0m \u001b[39m# callback.\u001b[39;00m\n\u001b[1;32m   1870\u001b[0m \u001b[39mwith\u001b[39;00m \u001b[39mself\u001b[39m\u001b[39m.\u001b[39m_lock:\n",
      "File \u001b[0;32m~/Library/Python/3.8/lib/python/site-packages/joblib/parallel.py:1792\u001b[0m, in \u001b[0;36mParallel._get_sequential_output\u001b[0;34m(self, iterable)\u001b[0m\n\u001b[1;32m   1790\u001b[0m \u001b[39mself\u001b[39m\u001b[39m.\u001b[39mn_dispatched_batches \u001b[39m+\u001b[39m\u001b[39m=\u001b[39m \u001b[39m1\u001b[39m\n\u001b[1;32m   1791\u001b[0m \u001b[39mself\u001b[39m\u001b[39m.\u001b[39mn_dispatched_tasks \u001b[39m+\u001b[39m\u001b[39m=\u001b[39m \u001b[39m1\u001b[39m\n\u001b[0;32m-> 1792\u001b[0m res \u001b[39m=\u001b[39m func(\u001b[39m*\u001b[39;49margs, \u001b[39m*\u001b[39;49m\u001b[39m*\u001b[39;49mkwargs)\n\u001b[1;32m   1793\u001b[0m \u001b[39mself\u001b[39m\u001b[39m.\u001b[39mn_completed_tasks \u001b[39m+\u001b[39m\u001b[39m=\u001b[39m \u001b[39m1\u001b[39m\n\u001b[1;32m   1794\u001b[0m \u001b[39mself\u001b[39m\u001b[39m.\u001b[39mprint_progress()\n",
      "File \u001b[0;32m~/Library/Python/3.8/lib/python/site-packages/sklearn/utils/parallel.py:127\u001b[0m, in \u001b[0;36m_FuncWrapper.__call__\u001b[0;34m(self, *args, **kwargs)\u001b[0m\n\u001b[1;32m    125\u001b[0m     config \u001b[39m=\u001b[39m {}\n\u001b[1;32m    126\u001b[0m \u001b[39mwith\u001b[39;00m config_context(\u001b[39m*\u001b[39m\u001b[39m*\u001b[39mconfig):\n\u001b[0;32m--> 127\u001b[0m     \u001b[39mreturn\u001b[39;00m \u001b[39mself\u001b[39;49m\u001b[39m.\u001b[39;49mfunction(\u001b[39m*\u001b[39;49margs, \u001b[39m*\u001b[39;49m\u001b[39m*\u001b[39;49mkwargs)\n",
      "File \u001b[0;32m~/Library/Python/3.8/lib/python/site-packages/sklearn/ensemble/_forest.py:188\u001b[0m, in \u001b[0;36m_parallel_build_trees\u001b[0;34m(tree, bootstrap, X, y, sample_weight, tree_idx, n_trees, verbose, class_weight, n_samples_bootstrap)\u001b[0m\n\u001b[1;32m    185\u001b[0m     \u001b[39melif\u001b[39;00m class_weight \u001b[39m==\u001b[39m \u001b[39m\"\u001b[39m\u001b[39mbalanced_subsample\u001b[39m\u001b[39m\"\u001b[39m:\n\u001b[1;32m    186\u001b[0m         curr_sample_weight \u001b[39m*\u001b[39m\u001b[39m=\u001b[39m compute_sample_weight(\u001b[39m\"\u001b[39m\u001b[39mbalanced\u001b[39m\u001b[39m\"\u001b[39m, y, indices\u001b[39m=\u001b[39mindices)\n\u001b[0;32m--> 188\u001b[0m     tree\u001b[39m.\u001b[39;49mfit(X, y, sample_weight\u001b[39m=\u001b[39;49mcurr_sample_weight, check_input\u001b[39m=\u001b[39;49m\u001b[39mFalse\u001b[39;49;00m)\n\u001b[1;32m    189\u001b[0m \u001b[39melse\u001b[39;00m:\n\u001b[1;32m    190\u001b[0m     tree\u001b[39m.\u001b[39mfit(X, y, sample_weight\u001b[39m=\u001b[39msample_weight, check_input\u001b[39m=\u001b[39m\u001b[39mFalse\u001b[39;00m)\n",
      "File \u001b[0;32m~/Library/Python/3.8/lib/python/site-packages/sklearn/base.py:1151\u001b[0m, in \u001b[0;36m_fit_context.<locals>.decorator.<locals>.wrapper\u001b[0;34m(estimator, *args, **kwargs)\u001b[0m\n\u001b[1;32m   1144\u001b[0m     estimator\u001b[39m.\u001b[39m_validate_params()\n\u001b[1;32m   1146\u001b[0m \u001b[39mwith\u001b[39;00m config_context(\n\u001b[1;32m   1147\u001b[0m     skip_parameter_validation\u001b[39m=\u001b[39m(\n\u001b[1;32m   1148\u001b[0m         prefer_skip_nested_validation \u001b[39mor\u001b[39;00m global_skip_validation\n\u001b[1;32m   1149\u001b[0m     )\n\u001b[1;32m   1150\u001b[0m ):\n\u001b[0;32m-> 1151\u001b[0m     \u001b[39mreturn\u001b[39;00m fit_method(estimator, \u001b[39m*\u001b[39;49margs, \u001b[39m*\u001b[39;49m\u001b[39m*\u001b[39;49mkwargs)\n",
      "File \u001b[0;32m~/Library/Python/3.8/lib/python/site-packages/sklearn/tree/_classes.py:959\u001b[0m, in \u001b[0;36mDecisionTreeClassifier.fit\u001b[0;34m(self, X, y, sample_weight, check_input)\u001b[0m\n\u001b[1;32m    928\u001b[0m \u001b[39m@_fit_context\u001b[39m(prefer_skip_nested_validation\u001b[39m=\u001b[39m\u001b[39mTrue\u001b[39;00m)\n\u001b[1;32m    929\u001b[0m \u001b[39mdef\u001b[39;00m \u001b[39mfit\u001b[39m(\u001b[39mself\u001b[39m, X, y, sample_weight\u001b[39m=\u001b[39m\u001b[39mNone\u001b[39;00m, check_input\u001b[39m=\u001b[39m\u001b[39mTrue\u001b[39;00m):\n\u001b[1;32m    930\u001b[0m     \u001b[39m\"\"\"Build a decision tree classifier from the training set (X, y).\u001b[39;00m\n\u001b[1;32m    931\u001b[0m \n\u001b[1;32m    932\u001b[0m \u001b[39m    Parameters\u001b[39;00m\n\u001b[0;32m   (...)\u001b[0m\n\u001b[1;32m    956\u001b[0m \u001b[39m        Fitted estimator.\u001b[39;00m\n\u001b[1;32m    957\u001b[0m \u001b[39m    \"\"\"\u001b[39;00m\n\u001b[0;32m--> 959\u001b[0m     \u001b[39msuper\u001b[39;49m()\u001b[39m.\u001b[39;49m_fit(\n\u001b[1;32m    960\u001b[0m         X,\n\u001b[1;32m    961\u001b[0m         y,\n\u001b[1;32m    962\u001b[0m         sample_weight\u001b[39m=\u001b[39;49msample_weight,\n\u001b[1;32m    963\u001b[0m         check_input\u001b[39m=\u001b[39;49mcheck_input,\n\u001b[1;32m    964\u001b[0m     )\n\u001b[1;32m    965\u001b[0m     \u001b[39mreturn\u001b[39;00m \u001b[39mself\u001b[39m\n",
      "File \u001b[0;32m~/Library/Python/3.8/lib/python/site-packages/sklearn/tree/_classes.py:443\u001b[0m, in \u001b[0;36mBaseDecisionTree._fit\u001b[0;34m(self, X, y, sample_weight, check_input, missing_values_in_feature_mask)\u001b[0m\n\u001b[1;32m    432\u001b[0m \u001b[39melse\u001b[39;00m:\n\u001b[1;32m    433\u001b[0m     builder \u001b[39m=\u001b[39m BestFirstTreeBuilder(\n\u001b[1;32m    434\u001b[0m         splitter,\n\u001b[1;32m    435\u001b[0m         min_samples_split,\n\u001b[0;32m   (...)\u001b[0m\n\u001b[1;32m    440\u001b[0m         \u001b[39mself\u001b[39m\u001b[39m.\u001b[39mmin_impurity_decrease,\n\u001b[1;32m    441\u001b[0m     )\n\u001b[0;32m--> 443\u001b[0m builder\u001b[39m.\u001b[39;49mbuild(\u001b[39mself\u001b[39;49m\u001b[39m.\u001b[39;49mtree_, X, y, sample_weight, missing_values_in_feature_mask)\n\u001b[1;32m    445\u001b[0m \u001b[39mif\u001b[39;00m \u001b[39mself\u001b[39m\u001b[39m.\u001b[39mn_outputs_ \u001b[39m==\u001b[39m \u001b[39m1\u001b[39m \u001b[39mand\u001b[39;00m is_classifier(\u001b[39mself\u001b[39m):\n\u001b[1;32m    446\u001b[0m     \u001b[39mself\u001b[39m\u001b[39m.\u001b[39mn_classes_ \u001b[39m=\u001b[39m \u001b[39mself\u001b[39m\u001b[39m.\u001b[39mn_classes_[\u001b[39m0\u001b[39m]\n",
      "\u001b[0;31mKeyboardInterrupt\u001b[0m: "
     ]
    }
   ],
   "source": [
    "# Pre-pruning \n",
    "for name, classifier in Tree_models_42.items():\n",
    "    \n",
    "    # parameters \n",
    "    params = {'max_depth': [2,4,6],\n",
    "         'min_samples_split': [2,3,4],\n",
    "         'min_samples_leaf': [2,3]}\n",
    "    \n",
    "    \n",
    "    gcv = GridSearchCV(estimator=classifier,param_grid=params)\n",
    "    gcv.fit(x_train,y_train)\n",
    "\n",
    "    modelgcv = gcv.best_estimator_\n",
    "    print(\"Best Fit Model for\", name, modelgcv)\n",
    "    \n",
    "\n",
    "    modelgcv.fit(x_train,y_train)\n",
    "    \n",
    "    '''Calculating all the predicitons'''\n",
    "    #Prediction for the testing dataset \n",
    "    y_pred = classifier.predict(x_test)\n",
    "    #Prediction for the training dataset \n",
    "    y_pred_train =  classifier.predict(x_train)\n",
    "    \n",
    "    #Confusion matrix for calculation \n",
    "    cm = confusion_matrix(y_test, y_pred, labels=labels)\n",
    "\n",
    "    #hashed because I want to evaluate the models faster, can unhash to see the exact confusion matrixes\n",
    "    #plot_confusionmatrix(y_pred_train,y_train,dom='Train')\n",
    "    #plot_confusionmatrix(y_pred,y_test,dom='Test')\n",
    "    \n",
    "    #Calculating Expected Value \n",
    "    EV = np.sum(cm * cost_matrix)\n",
    "    \n",
    "    #Calculatinf other scores for comparision \n",
    "    #f1_score = f1_score(y_test, y_pred, average='weighted')\n",
    "    #Recall = recall_score(y_test, y_pred)\n",
    "    #Precision= precision_score(y_test, y_pred)\n",
    "    \n",
    "    print(\"TEST ACCURACY \",name,\" is :\", accuracy_score(y_test, y_pred))\n",
    "    print(\"TRAIN ACCURACY\",name,\" is :\", accuracy_score(y_train, y_pred_train))\n",
    "    print(\"EXPECTED VALUE \",name,\" is :\", EV)\n",
    "    print(\"___________________________\")\n",
    "    #print(\"F-1 SCORE \",name,\" is :\", f1_score)\n",
    "    #print(\"RECALL \",name,\" is :\", Recall)\n",
    "    #print(\"PRECISION \",name,\" is :\", Precision)"
   ]
  },
  {
   "cell_type": "code",
   "execution_count": null,
   "metadata": {},
   "outputs": [
    {
     "name": "stdout",
     "output_type": "stream",
     "text": [
      "GiniTree_NoEstimators\n",
      "[0.00000000e+00 7.92919231e-07 9.91149039e-07 ... 4.93041648e-03\n",
      " 8.72985412e-03 1.65595211e-02]\n",
      "(29771,)\n",
      "0.01655952108755443\n",
      "______________________\n",
      "EntropyTree_NoEstimators\n",
      "[0.00000000e+00 0.00000000e+00 2.91531620e-06 ... 1.87701065e-02\n",
      " 2.37406125e-02 3.69087818e-02]\n",
      "(35867,)\n",
      "0.0369087818441769\n",
      "______________________\n",
      "GiniTree_BestGCV\n",
      "[0.00000000e+00 2.47787260e-06 4.96968358e-06 5.73450515e-06\n",
      " 7.40257044e-06 1.08466473e-05 1.22663708e-05 1.39560485e-05\n",
      " 1.40698645e-05 1.71236426e-05 1.98921854e-05 2.08072881e-05\n",
      " 3.72813971e-05 4.13179880e-05 4.20499272e-05 4.46237536e-05\n",
      " 5.61059810e-05 6.08776508e-05 6.68742064e-05 7.63323756e-05\n",
      " 1.33876859e-04 1.38260724e-04 1.41536566e-04 1.48984408e-04\n",
      " 1.64914190e-04 1.89244270e-04 2.26545940e-04 2.59934658e-04\n",
      " 2.77007229e-04 2.81236230e-04 3.09830851e-04 3.22618844e-04\n",
      " 3.46159853e-04 4.53185859e-04 5.10837198e-04 5.43700678e-04\n",
      " 6.08397065e-04 6.15029917e-04 6.56621020e-04 6.67005443e-04\n",
      " 7.97188541e-04 8.11208939e-04 8.96702535e-04 1.23048641e-03\n",
      " 1.33979527e-03 1.55698171e-03 1.91183793e-03 1.93544367e-03\n",
      " 3.22773530e-03 4.30122167e-03 4.93041648e-03 8.72985412e-03\n",
      " 1.65595211e-02]\n",
      "(53,)\n",
      "0.016559521087563978\n",
      "______________________\n",
      "EntropyTree_BestGCV\n",
      "[0.00000000e+00 1.63830246e-05 2.68850292e-05 4.24548525e-05\n",
      " 4.41380903e-05 4.55393058e-05 5.29836769e-05 5.32387928e-05\n",
      " 5.52717739e-05 6.30782700e-05 6.78246218e-05 7.04971218e-05\n",
      " 7.15599080e-05 7.57863981e-05 8.49776182e-05 9.67394856e-05\n",
      " 9.71693382e-05 1.01778589e-04 1.04688312e-04 1.05888694e-04\n",
      " 1.21823922e-04 1.24633775e-04 1.35672262e-04 1.68145675e-04\n",
      " 1.86835184e-04 2.38717534e-04 2.50649027e-04 2.87110153e-04\n",
      " 2.92202492e-04 2.94296970e-04 3.05563071e-04 3.35273317e-04\n",
      " 3.44325579e-04 3.47420024e-04 3.50755455e-04 4.50829107e-04\n",
      " 5.91637237e-04 6.30104570e-04 6.63459003e-04 8.57137559e-04\n",
      " 1.20603873e-03 1.35587903e-03 1.44405539e-03 1.75775924e-03\n",
      " 1.99164566e-03 2.21782255e-03 2.54000952e-03 2.80010414e-03\n",
      " 2.96257312e-03 3.34102796e-03 3.70711210e-03 5.90170528e-03\n",
      " 1.07867352e-02 1.19305130e-02 1.87701065e-02 2.37406125e-02\n",
      " 3.69087818e-02]\n",
      "(57,)\n",
      "0.03690878184426105\n",
      "______________________\n"
     ]
    }
   ],
   "source": [
    "#Post Pruning \n",
    "Tree_models_new = {\n",
    "    'GiniTree_NoEstimators' : tree.DecisionTreeClassifier(criterion='gini', random_state=42), \n",
    "    'EntropyTree_NoEstimators' : tree.DecisionTreeClassifier(criterion='entropy', random_state=42),\n",
    "    'GiniTree_BestGCV' : tree.DecisionTreeClassifier(criterion='gini',max_depth=6, min_samples_leaf=3, random_state=42), \n",
    "    'EntropyTree_BestGCV' : tree.DecisionTreeClassifier(criterion='entropy',max_depth=6, min_samples_leaf=2, random_state=42),\n",
    "    #'RandomForest' : RandomForestClassifier(random_state=42),\n",
    "    #'ExtraTrees_Gini': ExtraTreesClassifier( criterion='gini', random_state=42), \n",
    "    #'ExtraTrees_Entropy': ExtraTreesClassifier( criterion='entropy', random_state=42), \n",
    "       \n",
    "}\n",
    "for name, model in Tree_models_new.items():\n",
    "    path = model.cost_complexity_pruning_path(x_train, y_train)\n",
    "    ccp_alphas, impurities = path.ccp_alphas, path.impurities\n",
    "    print(name)\n",
    "    print(ccp_alphas)\n",
    "    print(ccp_alphas.shape)\n",
    "    print(max(ccp_alphas))\n",
    "    ccp_alphas2 = np.arange(0,max(ccp_alphas),0.001)\n",
    "    print(\"______________________\")\n"
   ]
  },
  {
   "cell_type": "code",
   "execution_count": null,
   "metadata": {},
   "outputs": [
    {
     "data": {
      "image/png": "[encoded data removed]",
      "text/plain": [
       "<Figure size 640x480 with 1 Axes>"
      ]
     },
     "metadata": {},
     "output_type": "display_data"
    }
   ],
   "source": [
    "#For Entropy Tree GCV \n",
    "ccp_alphas2 = np.arange(0,0.037,0.01)\n",
    "models = []\n",
    "for ccp_alpha in ccp_alphas2:\n",
    "    model = tree.DecisionTreeClassifier(criterion='entropy',max_depth=6, min_samples_leaf=2, random_state=42, ccp_alpha=ccp_alpha)\n",
    "    model.fit(x_train, y_train)\n",
    "    models.append(model)\n",
    "    \n",
    "#Plotting the CCP alphas and their corresponding accuracy scores\n",
    "train_acc = []\n",
    "test_acc  = []\n",
    "for m in models:\n",
    "    y_train_pred = m.predict(x_train)\n",
    "    y_test_pred = m.predict(x_test)\n",
    "    train_acc.append(accuracy_score(y_train_pred,y_train))\n",
    "    test_acc.append(accuracy_score(y_test_pred,y_test))\n",
    "\n",
    "plt.scatter(ccp_alphas2,train_acc)\n",
    "plt.scatter(ccp_alphas2,test_acc)\n",
    "plt.plot(ccp_alphas2,train_acc,label='train_accuracy',drawstyle=\"steps-post\")\n",
    "plt.plot(ccp_alphas2,test_acc,label='test_accuracy',drawstyle=\"steps-post\")\n",
    "plt.legend()\n",
    "plt.title('Accuracy vs Alpha')\n",
    "plt.show()"
   ]
  },
  {
   "cell_type": "code",
   "execution_count": null,
   "metadata": {},
   "outputs": [
    {
     "name": "stdout",
     "output_type": "stream",
     "text": [
      "TEST ACCURACY  EntropyTree_BestGCV  is : 0.5207376469119014\n",
      "TRAIN ACCURACY EntropyTree_BestGCV  is : 0.5261217329249799\n",
      "EXPECTED VALUE  EntropyTree_BestGCV  is : 248703\n",
      "___________________________\n"
     ]
    }
   ],
   "source": [
    "#performing post pruning for every model \n",
    "# alpha = select\n",
    "#selecting the alpha and trying out the accuracy and models\n",
    "\n",
    "classifier = tree.DecisionTreeClassifier(criterion='entropy',max_depth=6, min_samples_leaf=2, random_state=42, ccp_alpha=0)\n",
    "classifier.fit(x_train,y_train)\n",
    "\n",
    "#Prediction for the testing dataset \n",
    "y_pred = classifier.predict(x_test)\n",
    "#Prediction for the training dataset \n",
    "y_pred_train =  classifier.predict(x_train)\n",
    "\n",
    "#Confusion matrix for calculation \n",
    "cm = confusion_matrix(y_test, y_pred, labels=labels)\n",
    "\n",
    "#hashed because I want to evaluate the models faster, can unhash to see the exact confusion matrixes\n",
    "#plot_confusionmatrix(y_pred_train,y_train,dom='Train')\n",
    "#plot_confusionmatrix(y_pred,y_test,dom='Test')\n",
    "\n",
    "#Calculating Expected Value \n",
    "EV = np.sum(cm * cost_matrix)\n",
    "\n",
    "#Calculatinf other scores for comparision \n",
    "#f1_score = f1_score(y_test, y_pred, average='weighted')\n",
    "#Recall = recall_score(y_test, y_pred)\n",
    "#Precision= precision_score(y_test, y_pred)\n",
    "\n",
    "print(\"TEST ACCURACY \",name,\" is :\", accuracy_score(y_test, y_pred))\n",
    "print(\"TRAIN ACCURACY\",name,\" is :\", accuracy_score(y_train, y_pred_train))\n",
    "print(\"EXPECTED VALUE \",name,\" is :\", EV)\n",
    "print(\"___________________________\")\n",
    "#print(\"F-1 SCORE \",name,\" is :\", f1_score)\n",
    "#print(\"RECALL \",name,\" is :\", Recall)\n",
    "#print(\"PRECISION \",name,\" is :\", Precision)"
   ]
  },
  {
   "cell_type": "code",
   "execution_count": null,
   "metadata": {},
   "outputs": [
    {
     "data": {
      "image/png": "[encoded data removed]",
      "text/plain": [
       "<Figure size 640x480 with 1 Axes>"
      ]
     },
     "metadata": {},
     "output_type": "display_data"
    }
   ],
   "source": [
    "#Gini GCV model\n",
    "ccp_alphas2 = np.arange(0,0.0167,0.001)\n",
    "models = []\n",
    "for ccp_alpha in ccp_alphas2:\n",
    "    model = tree.DecisionTreeClassifier(criterion='gini',max_depth=6, min_samples_leaf=3, random_state=42, ccp_alpha=ccp_alpha)\n",
    "    model.fit(x_train, y_train)\n",
    "    models.append(model)\n",
    "    \n",
    "#Plotting the CCP alphas and their corresponding accuracy scores\n",
    "train_acc = []\n",
    "test_acc  = []\n",
    "for m in models:\n",
    "    y_train_pred = m.predict(x_train)\n",
    "    y_test_pred = m.predict(x_test)\n",
    "    train_acc.append(accuracy_score(y_train_pred,y_train))\n",
    "    test_acc.append(accuracy_score(y_test_pred,y_test))\n",
    "\n",
    "plt.scatter(ccp_alphas2,train_acc)\n",
    "plt.scatter(ccp_alphas2,test_acc)\n",
    "plt.plot(ccp_alphas2,train_acc,label='train_accuracy',drawstyle=\"steps-post\")\n",
    "plt.plot(ccp_alphas2,test_acc,label='test_accuracy',drawstyle=\"steps-post\")\n",
    "plt.legend()\n",
    "plt.title('Accuracy vs Alpha')\n",
    "plt.show()"
   ]
  },
  {
   "cell_type": "code",
   "execution_count": null,
   "metadata": {},
   "outputs": [
    {
     "name": "stdout",
     "output_type": "stream",
     "text": [
      "TEST ACCURACY  EntropyTree_BestGCV  is : 0.5288550931771824\n",
      "TRAIN ACCURACY EntropyTree_BestGCV  is : 0.534209509083881\n",
      "EXPECTED VALUE  EntropyTree_BestGCV  is : 282219\n",
      "___________________________\n"
     ]
    }
   ],
   "source": [
    "#performing post pruning for every model \n",
    "# alpha = select\n",
    "#selecting the alpha and trying out the accuracy and models\n",
    "\n",
    "classifier = tree.DecisionTreeClassifier(criterion='gini',max_depth=6, min_samples_leaf=3, random_state=42, ccp_alpha=0)\n",
    "classifier.fit(x_train,y_train)\n",
    "\n",
    "#Prediction for the testing dataset \n",
    "y_pred = classifier.predict(x_test)\n",
    "#Prediction for the training dataset \n",
    "y_pred_train =  classifier.predict(x_train)\n",
    "\n",
    "#Confusion matrix for calculation \n",
    "cm = confusion_matrix(y_test, y_pred, labels=labels)\n",
    "\n",
    "#hashed because I want to evaluate the models faster, can unhash to see the exact confusion matrixes\n",
    "#plot_confusionmatrix(y_pred_train,y_train,dom='Train')\n",
    "#plot_confusionmatrix(y_pred,y_test,dom='Test')\n",
    "\n",
    "#Calculating Expected Value \n",
    "EV = np.sum(cm * cost_matrix)\n",
    "\n",
    "#Calculatinf other scores for comparision \n",
    "#f1_score = f1_score(y_test, y_pred, average='weighted')\n",
    "#Recall = recall_score(y_test, y_pred)\n",
    "#Precision= precision_score(y_test, y_pred)\n",
    "\n",
    "print(\"TEST ACCURACY \",name,\" is :\", accuracy_score(y_test, y_pred))\n",
    "print(\"TRAIN ACCURACY\",name,\" is :\", accuracy_score(y_train, y_pred_train))\n",
    "print(\"EXPECTED VALUE \",name,\" is :\", EV)\n",
    "print(\"___________________________\")\n",
    "#print(\"F-1 SCORE \",name,\" is :\", f1_score)\n",
    "#print(\"RECALL \",name,\" is :\", Recall)\n",
    "#print(\"PRECISION \",name,\" is :\", Precision)"
   ]
  },
  {
   "cell_type": "markdown",
   "metadata": {},
   "source": [
    "Stratified sampling for all the models "
   ]
  },
  {
   "cell_type": "markdown",
   "metadata": {},
   "source": [
    "### Stratified Sampling"
   ]
  },
  {
   "cell_type": "markdown",
   "metadata": {},
   "source": [
    "#### Stratified Sampling - Naive Bayes Models"
   ]
  },
  {
   "cell_type": "code",
   "execution_count": 35,
   "metadata": {},
   "outputs": [
    {
     "name": "stdout",
     "output_type": "stream",
     "text": [
      "Fold 1: Accuracy: 0.5344\n",
      "Fold 2: Accuracy: 0.5340\n",
      "Fold 3: Accuracy: 0.5349\n",
      "Fold 4: Accuracy: 0.5337\n",
      "Fold 5: Accuracy: 0.5335\n",
      "Fold 6: Accuracy: 0.5296\n",
      "Fold 7: Accuracy: 0.5326\n",
      "Fold 8: Accuracy: 0.5334\n",
      "Fold 9: Accuracy: 0.5341\n",
      "Fold 10: Accuracy: 0.5350\n",
      "Average Score for MultinomialNB is 0.5335108343824698\n",
      "Fold 1: Accuracy: 0.5344\n",
      "Fold 2: Accuracy: 0.5340\n",
      "Fold 3: Accuracy: 0.5349\n",
      "Fold 4: Accuracy: 0.5337\n",
      "Fold 5: Accuracy: 0.5335\n",
      "Fold 6: Accuracy: 0.5296\n",
      "Fold 7: Accuracy: 0.5326\n",
      "Fold 8: Accuracy: 0.5334\n",
      "Fold 9: Accuracy: 0.5341\n",
      "Fold 10: Accuracy: 0.5350\n",
      "Fold 11: Accuracy: 0.6956\n",
      "Fold 12: Accuracy: 0.6954\n",
      "Fold 13: Accuracy: 0.6944\n",
      "Fold 14: Accuracy: 0.6971\n",
      "Fold 15: Accuracy: 0.6931\n",
      "Fold 16: Accuracy: 0.6956\n",
      "Fold 17: Accuracy: 0.6951\n",
      "Fold 18: Accuracy: 0.6967\n",
      "Fold 19: Accuracy: 0.6974\n",
      "Fold 20: Accuracy: 0.6968\n",
      "Average Score for GaussianNB is 0.6146167729804516\n",
      "Fold 1: Accuracy: 0.5344\n",
      "Fold 2: Accuracy: 0.5340\n",
      "Fold 3: Accuracy: 0.5349\n",
      "Fold 4: Accuracy: 0.5337\n",
      "Fold 5: Accuracy: 0.5335\n",
      "Fold 6: Accuracy: 0.5296\n",
      "Fold 7: Accuracy: 0.5326\n",
      "Fold 8: Accuracy: 0.5334\n",
      "Fold 9: Accuracy: 0.5341\n",
      "Fold 10: Accuracy: 0.5350\n",
      "Fold 11: Accuracy: 0.6956\n",
      "Fold 12: Accuracy: 0.6954\n",
      "Fold 13: Accuracy: 0.6944\n",
      "Fold 14: Accuracy: 0.6971\n",
      "Fold 15: Accuracy: 0.6931\n",
      "Fold 16: Accuracy: 0.6956\n",
      "Fold 17: Accuracy: 0.6951\n",
      "Fold 18: Accuracy: 0.6967\n",
      "Fold 19: Accuracy: 0.6974\n",
      "Fold 20: Accuracy: 0.6968\n",
      "Fold 21: Accuracy: 0.5344\n",
      "Fold 22: Accuracy: 0.5340\n",
      "Fold 23: Accuracy: 0.5349\n",
      "Fold 24: Accuracy: 0.5337\n",
      "Fold 25: Accuracy: 0.5335\n",
      "Fold 26: Accuracy: 0.5296\n",
      "Fold 27: Accuracy: 0.5326\n",
      "Fold 28: Accuracy: 0.5334\n",
      "Fold 29: Accuracy: 0.5341\n",
      "Fold 30: Accuracy: 0.5350\n",
      "Average Score for ComplementNB is 0.5875814601144576\n",
      "Fold 1: Accuracy: 0.5344\n",
      "Fold 2: Accuracy: 0.5340\n",
      "Fold 3: Accuracy: 0.5349\n",
      "Fold 4: Accuracy: 0.5337\n",
      "Fold 5: Accuracy: 0.5335\n",
      "Fold 6: Accuracy: 0.5296\n",
      "Fold 7: Accuracy: 0.5326\n",
      "Fold 8: Accuracy: 0.5334\n",
      "Fold 9: Accuracy: 0.5341\n",
      "Fold 10: Accuracy: 0.5350\n",
      "Fold 11: Accuracy: 0.6956\n",
      "Fold 12: Accuracy: 0.6954\n",
      "Fold 13: Accuracy: 0.6944\n",
      "Fold 14: Accuracy: 0.6971\n",
      "Fold 15: Accuracy: 0.6931\n",
      "Fold 16: Accuracy: 0.6956\n",
      "Fold 17: Accuracy: 0.6951\n",
      "Fold 18: Accuracy: 0.6967\n",
      "Fold 19: Accuracy: 0.6974\n",
      "Fold 20: Accuracy: 0.6968\n",
      "Fold 21: Accuracy: 0.5344\n",
      "Fold 22: Accuracy: 0.5340\n",
      "Fold 23: Accuracy: 0.5349\n",
      "Fold 24: Accuracy: 0.5337\n",
      "Fold 25: Accuracy: 0.5335\n",
      "Fold 26: Accuracy: 0.5296\n",
      "Fold 27: Accuracy: 0.5326\n",
      "Fold 28: Accuracy: 0.5334\n",
      "Fold 29: Accuracy: 0.5341\n",
      "Fold 30: Accuracy: 0.5350\n",
      "Fold 31: Accuracy: 0.4999\n",
      "Fold 32: Accuracy: 0.4997\n",
      "Fold 33: Accuracy: 0.5002\n",
      "Fold 34: Accuracy: 0.4999\n",
      "Fold 35: Accuracy: 0.4998\n",
      "Fold 36: Accuracy: 0.5000\n",
      "Fold 37: Accuracy: 0.4994\n",
      "Fold 38: Accuracy: 0.4999\n",
      "Fold 39: Accuracy: 0.5003\n",
      "Fold 40: Accuracy: 0.5002\n",
      "Average Score for BernoulliNB is 0.5656692651283209\n"
     ]
    }
   ],
   "source": [
    "#Creating stratified sample \n",
    "\n",
    "stratified_sample =  StratifiedKFold(n_splits=10, shuffle=True, random_state=42)\n",
    "\n",
    "#Empty list to maintain all the scores\n",
    "scores = []\n",
    "\n",
    "#For loops for all calculations \n",
    "for model_name,model in NB_models.items():\n",
    "    for train_index, test_index in stratified_sample.split(x, y):\n",
    "        # Split the data into training and test sets for this fold\n",
    "        X_train, X_test = x.iloc[train_index], x.iloc[test_index]\n",
    "        Y_train, Y_test = y[train_index], y[test_index]\n",
    "\n",
    "        # Train the classifier and make predictions\n",
    "        model.fit(X_train, Y_train)\n",
    "        predictions = model.predict(X_test)\n",
    "\n",
    "        # Calculate and store the accuracy for this fold\n",
    "        score = accuracy_score(Y_test, predictions)\n",
    "        scores.append(score)\n",
    "    # Print the accuracy for each fold\n",
    "    for cnt, score in enumerate(scores, 1):\n",
    "        print(f'Fold {cnt}: Accuracy: {score:.4f}')\n",
    "    print(\"Average Score for\", model_name, \"is\", np.mean(scores))"
   ]
  },
  {
   "cell_type": "markdown",
   "metadata": {},
   "source": [
    "#### Stratified Sampling - Tree Models"
   ]
  },
  {
   "cell_type": "code",
   "execution_count": 36,
   "metadata": {},
   "outputs": [
    {
     "name": "stdout",
     "output_type": "stream",
     "text": [
      "Fold 1: Accuracy: 0.5344\n",
      "Fold 2: Accuracy: 0.5340\n",
      "Fold 3: Accuracy: 0.5349\n",
      "Fold 4: Accuracy: 0.5337\n",
      "Fold 5: Accuracy: 0.5335\n",
      "Fold 6: Accuracy: 0.5296\n",
      "Fold 7: Accuracy: 0.5326\n",
      "Fold 8: Accuracy: 0.5334\n",
      "Fold 9: Accuracy: 0.5341\n",
      "Fold 10: Accuracy: 0.5350\n",
      "Fold 11: Accuracy: 0.6956\n",
      "Fold 12: Accuracy: 0.6954\n",
      "Fold 13: Accuracy: 0.6944\n",
      "Fold 14: Accuracy: 0.6971\n",
      "Fold 15: Accuracy: 0.6931\n",
      "Fold 16: Accuracy: 0.6956\n",
      "Fold 17: Accuracy: 0.6951\n",
      "Fold 18: Accuracy: 0.6967\n",
      "Fold 19: Accuracy: 0.6974\n",
      "Fold 20: Accuracy: 0.6968\n",
      "Fold 21: Accuracy: 0.5344\n",
      "Fold 22: Accuracy: 0.5340\n",
      "Fold 23: Accuracy: 0.5349\n",
      "Fold 24: Accuracy: 0.5337\n",
      "Fold 25: Accuracy: 0.5335\n",
      "Fold 26: Accuracy: 0.5296\n",
      "Fold 27: Accuracy: 0.5326\n",
      "Fold 28: Accuracy: 0.5334\n",
      "Fold 29: Accuracy: 0.5341\n",
      "Fold 30: Accuracy: 0.5350\n",
      "Fold 31: Accuracy: 0.4999\n",
      "Fold 32: Accuracy: 0.4997\n",
      "Fold 33: Accuracy: 0.5002\n",
      "Fold 34: Accuracy: 0.4999\n",
      "Fold 35: Accuracy: 0.4998\n",
      "Fold 36: Accuracy: 0.5000\n",
      "Fold 37: Accuracy: 0.4994\n",
      "Fold 38: Accuracy: 0.4999\n",
      "Fold 39: Accuracy: 0.5003\n",
      "Fold 40: Accuracy: 0.5002\n",
      "Fold 41: Accuracy: 0.8660\n",
      "Fold 42: Accuracy: 0.8673\n",
      "Fold 43: Accuracy: 0.8626\n",
      "Fold 44: Accuracy: 0.8651\n",
      "Fold 45: Accuracy: 0.8624\n",
      "Fold 46: Accuracy: 0.8666\n",
      "Fold 47: Accuracy: 0.8655\n",
      "Fold 48: Accuracy: 0.8640\n",
      "Fold 49: Accuracy: 0.8640\n",
      "Fold 50: Accuracy: 0.8645\n",
      "Average Score for GiniTree_NoEstimators is 0.6254922087039418\n",
      "Fold 1: Accuracy: 0.5344\n",
      "Fold 2: Accuracy: 0.5340\n",
      "Fold 3: Accuracy: 0.5349\n",
      "Fold 4: Accuracy: 0.5337\n",
      "Fold 5: Accuracy: 0.5335\n",
      "Fold 6: Accuracy: 0.5296\n",
      "Fold 7: Accuracy: 0.5326\n",
      "Fold 8: Accuracy: 0.5334\n",
      "Fold 9: Accuracy: 0.5341\n",
      "Fold 10: Accuracy: 0.5350\n",
      "Fold 11: Accuracy: 0.6956\n",
      "Fold 12: Accuracy: 0.6954\n",
      "Fold 13: Accuracy: 0.6944\n",
      "Fold 14: Accuracy: 0.6971\n",
      "Fold 15: Accuracy: 0.6931\n",
      "Fold 16: Accuracy: 0.6956\n",
      "Fold 17: Accuracy: 0.6951\n",
      "Fold 18: Accuracy: 0.6967\n",
      "Fold 19: Accuracy: 0.6974\n",
      "Fold 20: Accuracy: 0.6968\n",
      "Fold 21: Accuracy: 0.5344\n",
      "Fold 22: Accuracy: 0.5340\n",
      "Fold 23: Accuracy: 0.5349\n",
      "Fold 24: Accuracy: 0.5337\n",
      "Fold 25: Accuracy: 0.5335\n",
      "Fold 26: Accuracy: 0.5296\n",
      "Fold 27: Accuracy: 0.5326\n",
      "Fold 28: Accuracy: 0.5334\n",
      "Fold 29: Accuracy: 0.5341\n",
      "Fold 30: Accuracy: 0.5350\n",
      "Fold 31: Accuracy: 0.4999\n",
      "Fold 32: Accuracy: 0.4997\n",
      "Fold 33: Accuracy: 0.5002\n",
      "Fold 34: Accuracy: 0.4999\n",
      "Fold 35: Accuracy: 0.4998\n",
      "Fold 36: Accuracy: 0.5000\n",
      "Fold 37: Accuracy: 0.4994\n",
      "Fold 38: Accuracy: 0.4999\n",
      "Fold 39: Accuracy: 0.5003\n",
      "Fold 40: Accuracy: 0.5002\n",
      "Fold 41: Accuracy: 0.8660\n",
      "Fold 42: Accuracy: 0.8673\n",
      "Fold 43: Accuracy: 0.8626\n",
      "Fold 44: Accuracy: 0.8651\n",
      "Fold 45: Accuracy: 0.8624\n",
      "Fold 46: Accuracy: 0.8666\n",
      "Fold 47: Accuracy: 0.8655\n",
      "Fold 48: Accuracy: 0.8640\n",
      "Fold 49: Accuracy: 0.8640\n",
      "Fold 50: Accuracy: 0.8645\n",
      "Fold 51: Accuracy: 0.8720\n",
      "Fold 52: Accuracy: 0.8664\n",
      "Fold 53: Accuracy: 0.8721\n",
      "Fold 54: Accuracy: 0.8688\n",
      "Fold 55: Accuracy: 0.8674\n",
      "Fold 56: Accuracy: 0.8688\n",
      "Fold 57: Accuracy: 0.8706\n",
      "Fold 58: Accuracy: 0.8716\n",
      "Fold 59: Accuracy: 0.8700\n",
      "Fold 60: Accuracy: 0.8701\n",
      "Average Score for EntropyTree_NoEstimators is 0.6662095355124913\n"
     ]
    },
    {
     "ename": "KeyboardInterrupt",
     "evalue": "",
     "output_type": "error",
     "traceback": [
      "\u001b[0;31m---------------------------------------------------------------------------\u001b[0m",
      "\u001b[0;31mKeyboardInterrupt\u001b[0m                         Traceback (most recent call last)",
      "\u001b[1;32m/Users/pingle/Desktop/ML project/Data_Analysis_ML_balanced.ipynb Cell 30\u001b[0m line \u001b[0;36m9\n\u001b[1;32m      <a href='vscode-notebook-cell:/Users/pingle/Desktop/ML%20project/Data_Analysis_ML_balanced.ipynb#X41sZmlsZQ%3D%3D?line=5'>6</a>\u001b[0m Y_train, Y_test \u001b[39m=\u001b[39m y[train_index], y[test_index]\n\u001b[1;32m      <a href='vscode-notebook-cell:/Users/pingle/Desktop/ML%20project/Data_Analysis_ML_balanced.ipynb#X41sZmlsZQ%3D%3D?line=7'>8</a>\u001b[0m \u001b[39m# Train the classifier and make predictions\u001b[39;00m\n\u001b[0;32m----> <a href='vscode-notebook-cell:/Users/pingle/Desktop/ML%20project/Data_Analysis_ML_balanced.ipynb#X41sZmlsZQ%3D%3D?line=8'>9</a>\u001b[0m model\u001b[39m.\u001b[39;49mfit(X_train, Y_train)\n\u001b[1;32m     <a href='vscode-notebook-cell:/Users/pingle/Desktop/ML%20project/Data_Analysis_ML_balanced.ipynb#X41sZmlsZQ%3D%3D?line=9'>10</a>\u001b[0m predictions \u001b[39m=\u001b[39m model\u001b[39m.\u001b[39mpredict(X_test)\n\u001b[1;32m     <a href='vscode-notebook-cell:/Users/pingle/Desktop/ML%20project/Data_Analysis_ML_balanced.ipynb#X41sZmlsZQ%3D%3D?line=11'>12</a>\u001b[0m \u001b[39m# Calculate and store the accuracy for this fold\u001b[39;00m\n",
      "File \u001b[0;32m~/Library/Python/3.8/lib/python/site-packages/sklearn/base.py:1151\u001b[0m, in \u001b[0;36m_fit_context.<locals>.decorator.<locals>.wrapper\u001b[0;34m(estimator, *args, **kwargs)\u001b[0m\n\u001b[1;32m   1144\u001b[0m     estimator\u001b[39m.\u001b[39m_validate_params()\n\u001b[1;32m   1146\u001b[0m \u001b[39mwith\u001b[39;00m config_context(\n\u001b[1;32m   1147\u001b[0m     skip_parameter_validation\u001b[39m=\u001b[39m(\n\u001b[1;32m   1148\u001b[0m         prefer_skip_nested_validation \u001b[39mor\u001b[39;00m global_skip_validation\n\u001b[1;32m   1149\u001b[0m     )\n\u001b[1;32m   1150\u001b[0m ):\n\u001b[0;32m-> 1151\u001b[0m     \u001b[39mreturn\u001b[39;00m fit_method(estimator, \u001b[39m*\u001b[39;49margs, \u001b[39m*\u001b[39;49m\u001b[39m*\u001b[39;49mkwargs)\n",
      "File \u001b[0;32m~/Library/Python/3.8/lib/python/site-packages/sklearn/ensemble/_forest.py:456\u001b[0m, in \u001b[0;36mBaseForest.fit\u001b[0;34m(self, X, y, sample_weight)\u001b[0m\n\u001b[1;32m    445\u001b[0m trees \u001b[39m=\u001b[39m [\n\u001b[1;32m    446\u001b[0m     \u001b[39mself\u001b[39m\u001b[39m.\u001b[39m_make_estimator(append\u001b[39m=\u001b[39m\u001b[39mFalse\u001b[39;00m, random_state\u001b[39m=\u001b[39mrandom_state)\n\u001b[1;32m    447\u001b[0m     \u001b[39mfor\u001b[39;00m i \u001b[39min\u001b[39;00m \u001b[39mrange\u001b[39m(n_more_estimators)\n\u001b[1;32m    448\u001b[0m ]\n\u001b[1;32m    450\u001b[0m \u001b[39m# Parallel loop: we prefer the threading backend as the Cython code\u001b[39;00m\n\u001b[1;32m    451\u001b[0m \u001b[39m# for fitting the trees is internally releasing the Python GIL\u001b[39;00m\n\u001b[1;32m    452\u001b[0m \u001b[39m# making threading more efficient than multiprocessing in\u001b[39;00m\n\u001b[1;32m    453\u001b[0m \u001b[39m# that case. However, for joblib 0.12+ we respect any\u001b[39;00m\n\u001b[1;32m    454\u001b[0m \u001b[39m# parallel_backend contexts set at a higher level,\u001b[39;00m\n\u001b[1;32m    455\u001b[0m \u001b[39m# since correctness does not rely on using threads.\u001b[39;00m\n\u001b[0;32m--> 456\u001b[0m trees \u001b[39m=\u001b[39m Parallel(\n\u001b[1;32m    457\u001b[0m     n_jobs\u001b[39m=\u001b[39;49m\u001b[39mself\u001b[39;49m\u001b[39m.\u001b[39;49mn_jobs,\n\u001b[1;32m    458\u001b[0m     verbose\u001b[39m=\u001b[39;49m\u001b[39mself\u001b[39;49m\u001b[39m.\u001b[39;49mverbose,\n\u001b[1;32m    459\u001b[0m     prefer\u001b[39m=\u001b[39;49m\u001b[39m\"\u001b[39;49m\u001b[39mthreads\u001b[39;49m\u001b[39m\"\u001b[39;49m,\n\u001b[1;32m    460\u001b[0m )(\n\u001b[1;32m    461\u001b[0m     delayed(_parallel_build_trees)(\n\u001b[1;32m    462\u001b[0m         t,\n\u001b[1;32m    463\u001b[0m         \u001b[39mself\u001b[39;49m\u001b[39m.\u001b[39;49mbootstrap,\n\u001b[1;32m    464\u001b[0m         X,\n\u001b[1;32m    465\u001b[0m         y,\n\u001b[1;32m    466\u001b[0m         sample_weight,\n\u001b[1;32m    467\u001b[0m         i,\n\u001b[1;32m    468\u001b[0m         \u001b[39mlen\u001b[39;49m(trees),\n\u001b[1;32m    469\u001b[0m         verbose\u001b[39m=\u001b[39;49m\u001b[39mself\u001b[39;49m\u001b[39m.\u001b[39;49mverbose,\n\u001b[1;32m    470\u001b[0m         class_weight\u001b[39m=\u001b[39;49m\u001b[39mself\u001b[39;49m\u001b[39m.\u001b[39;49mclass_weight,\n\u001b[1;32m    471\u001b[0m         n_samples_bootstrap\u001b[39m=\u001b[39;49mn_samples_bootstrap,\n\u001b[1;32m    472\u001b[0m     )\n\u001b[1;32m    473\u001b[0m     \u001b[39mfor\u001b[39;49;00m i, t \u001b[39min\u001b[39;49;00m \u001b[39menumerate\u001b[39;49m(trees)\n\u001b[1;32m    474\u001b[0m )\n\u001b[1;32m    476\u001b[0m \u001b[39m# Collect newly grown trees\u001b[39;00m\n\u001b[1;32m    477\u001b[0m \u001b[39mself\u001b[39m\u001b[39m.\u001b[39mestimators_\u001b[39m.\u001b[39mextend(trees)\n",
      "File \u001b[0;32m~/Library/Python/3.8/lib/python/site-packages/sklearn/utils/parallel.py:65\u001b[0m, in \u001b[0;36mParallel.__call__\u001b[0;34m(self, iterable)\u001b[0m\n\u001b[1;32m     60\u001b[0m config \u001b[39m=\u001b[39m get_config()\n\u001b[1;32m     61\u001b[0m iterable_with_config \u001b[39m=\u001b[39m (\n\u001b[1;32m     62\u001b[0m     (_with_config(delayed_func, config), args, kwargs)\n\u001b[1;32m     63\u001b[0m     \u001b[39mfor\u001b[39;00m delayed_func, args, kwargs \u001b[39min\u001b[39;00m iterable\n\u001b[1;32m     64\u001b[0m )\n\u001b[0;32m---> 65\u001b[0m \u001b[39mreturn\u001b[39;00m \u001b[39msuper\u001b[39;49m()\u001b[39m.\u001b[39;49m\u001b[39m__call__\u001b[39;49m(iterable_with_config)\n",
      "File \u001b[0;32m~/Library/Python/3.8/lib/python/site-packages/joblib/parallel.py:1863\u001b[0m, in \u001b[0;36mParallel.__call__\u001b[0;34m(self, iterable)\u001b[0m\n\u001b[1;32m   1861\u001b[0m     output \u001b[39m=\u001b[39m \u001b[39mself\u001b[39m\u001b[39m.\u001b[39m_get_sequential_output(iterable)\n\u001b[1;32m   1862\u001b[0m     \u001b[39mnext\u001b[39m(output)\n\u001b[0;32m-> 1863\u001b[0m     \u001b[39mreturn\u001b[39;00m output \u001b[39mif\u001b[39;00m \u001b[39mself\u001b[39m\u001b[39m.\u001b[39mreturn_generator \u001b[39melse\u001b[39;00m \u001b[39mlist\u001b[39;49m(output)\n\u001b[1;32m   1865\u001b[0m \u001b[39m# Let's create an ID that uniquely identifies the current call. If the\u001b[39;00m\n\u001b[1;32m   1866\u001b[0m \u001b[39m# call is interrupted early and that the same instance is immediately\u001b[39;00m\n\u001b[1;32m   1867\u001b[0m \u001b[39m# re-used, this id will be used to prevent workers that were\u001b[39;00m\n\u001b[1;32m   1868\u001b[0m \u001b[39m# concurrently finalizing a task from the previous call to run the\u001b[39;00m\n\u001b[1;32m   1869\u001b[0m \u001b[39m# callback.\u001b[39;00m\n\u001b[1;32m   1870\u001b[0m \u001b[39mwith\u001b[39;00m \u001b[39mself\u001b[39m\u001b[39m.\u001b[39m_lock:\n",
      "File \u001b[0;32m~/Library/Python/3.8/lib/python/site-packages/joblib/parallel.py:1792\u001b[0m, in \u001b[0;36mParallel._get_sequential_output\u001b[0;34m(self, iterable)\u001b[0m\n\u001b[1;32m   1790\u001b[0m \u001b[39mself\u001b[39m\u001b[39m.\u001b[39mn_dispatched_batches \u001b[39m+\u001b[39m\u001b[39m=\u001b[39m \u001b[39m1\u001b[39m\n\u001b[1;32m   1791\u001b[0m \u001b[39mself\u001b[39m\u001b[39m.\u001b[39mn_dispatched_tasks \u001b[39m+\u001b[39m\u001b[39m=\u001b[39m \u001b[39m1\u001b[39m\n\u001b[0;32m-> 1792\u001b[0m res \u001b[39m=\u001b[39m func(\u001b[39m*\u001b[39;49margs, \u001b[39m*\u001b[39;49m\u001b[39m*\u001b[39;49mkwargs)\n\u001b[1;32m   1793\u001b[0m \u001b[39mself\u001b[39m\u001b[39m.\u001b[39mn_completed_tasks \u001b[39m+\u001b[39m\u001b[39m=\u001b[39m \u001b[39m1\u001b[39m\n\u001b[1;32m   1794\u001b[0m \u001b[39mself\u001b[39m\u001b[39m.\u001b[39mprint_progress()\n",
      "File \u001b[0;32m~/Library/Python/3.8/lib/python/site-packages/sklearn/utils/parallel.py:127\u001b[0m, in \u001b[0;36m_FuncWrapper.__call__\u001b[0;34m(self, *args, **kwargs)\u001b[0m\n\u001b[1;32m    125\u001b[0m     config \u001b[39m=\u001b[39m {}\n\u001b[1;32m    126\u001b[0m \u001b[39mwith\u001b[39;00m config_context(\u001b[39m*\u001b[39m\u001b[39m*\u001b[39mconfig):\n\u001b[0;32m--> 127\u001b[0m     \u001b[39mreturn\u001b[39;00m \u001b[39mself\u001b[39;49m\u001b[39m.\u001b[39;49mfunction(\u001b[39m*\u001b[39;49margs, \u001b[39m*\u001b[39;49m\u001b[39m*\u001b[39;49mkwargs)\n",
      "File \u001b[0;32m~/Library/Python/3.8/lib/python/site-packages/sklearn/ensemble/_forest.py:188\u001b[0m, in \u001b[0;36m_parallel_build_trees\u001b[0;34m(tree, bootstrap, X, y, sample_weight, tree_idx, n_trees, verbose, class_weight, n_samples_bootstrap)\u001b[0m\n\u001b[1;32m    185\u001b[0m     \u001b[39melif\u001b[39;00m class_weight \u001b[39m==\u001b[39m \u001b[39m\"\u001b[39m\u001b[39mbalanced_subsample\u001b[39m\u001b[39m\"\u001b[39m:\n\u001b[1;32m    186\u001b[0m         curr_sample_weight \u001b[39m*\u001b[39m\u001b[39m=\u001b[39m compute_sample_weight(\u001b[39m\"\u001b[39m\u001b[39mbalanced\u001b[39m\u001b[39m\"\u001b[39m, y, indices\u001b[39m=\u001b[39mindices)\n\u001b[0;32m--> 188\u001b[0m     tree\u001b[39m.\u001b[39;49mfit(X, y, sample_weight\u001b[39m=\u001b[39;49mcurr_sample_weight, check_input\u001b[39m=\u001b[39;49m\u001b[39mFalse\u001b[39;49;00m)\n\u001b[1;32m    189\u001b[0m \u001b[39melse\u001b[39;00m:\n\u001b[1;32m    190\u001b[0m     tree\u001b[39m.\u001b[39mfit(X, y, sample_weight\u001b[39m=\u001b[39msample_weight, check_input\u001b[39m=\u001b[39m\u001b[39mFalse\u001b[39;00m)\n",
      "File \u001b[0;32m~/Library/Python/3.8/lib/python/site-packages/sklearn/base.py:1151\u001b[0m, in \u001b[0;36m_fit_context.<locals>.decorator.<locals>.wrapper\u001b[0;34m(estimator, *args, **kwargs)\u001b[0m\n\u001b[1;32m   1144\u001b[0m     estimator\u001b[39m.\u001b[39m_validate_params()\n\u001b[1;32m   1146\u001b[0m \u001b[39mwith\u001b[39;00m config_context(\n\u001b[1;32m   1147\u001b[0m     skip_parameter_validation\u001b[39m=\u001b[39m(\n\u001b[1;32m   1148\u001b[0m         prefer_skip_nested_validation \u001b[39mor\u001b[39;00m global_skip_validation\n\u001b[1;32m   1149\u001b[0m     )\n\u001b[1;32m   1150\u001b[0m ):\n\u001b[0;32m-> 1151\u001b[0m     \u001b[39mreturn\u001b[39;00m fit_method(estimator, \u001b[39m*\u001b[39;49margs, \u001b[39m*\u001b[39;49m\u001b[39m*\u001b[39;49mkwargs)\n",
      "File \u001b[0;32m~/Library/Python/3.8/lib/python/site-packages/sklearn/tree/_classes.py:959\u001b[0m, in \u001b[0;36mDecisionTreeClassifier.fit\u001b[0;34m(self, X, y, sample_weight, check_input)\u001b[0m\n\u001b[1;32m    928\u001b[0m \u001b[39m@_fit_context\u001b[39m(prefer_skip_nested_validation\u001b[39m=\u001b[39m\u001b[39mTrue\u001b[39;00m)\n\u001b[1;32m    929\u001b[0m \u001b[39mdef\u001b[39;00m \u001b[39mfit\u001b[39m(\u001b[39mself\u001b[39m, X, y, sample_weight\u001b[39m=\u001b[39m\u001b[39mNone\u001b[39;00m, check_input\u001b[39m=\u001b[39m\u001b[39mTrue\u001b[39;00m):\n\u001b[1;32m    930\u001b[0m     \u001b[39m\"\"\"Build a decision tree classifier from the training set (X, y).\u001b[39;00m\n\u001b[1;32m    931\u001b[0m \n\u001b[1;32m    932\u001b[0m \u001b[39m    Parameters\u001b[39;00m\n\u001b[0;32m   (...)\u001b[0m\n\u001b[1;32m    956\u001b[0m \u001b[39m        Fitted estimator.\u001b[39;00m\n\u001b[1;32m    957\u001b[0m \u001b[39m    \"\"\"\u001b[39;00m\n\u001b[0;32m--> 959\u001b[0m     \u001b[39msuper\u001b[39;49m()\u001b[39m.\u001b[39;49m_fit(\n\u001b[1;32m    960\u001b[0m         X,\n\u001b[1;32m    961\u001b[0m         y,\n\u001b[1;32m    962\u001b[0m         sample_weight\u001b[39m=\u001b[39;49msample_weight,\n\u001b[1;32m    963\u001b[0m         check_input\u001b[39m=\u001b[39;49mcheck_input,\n\u001b[1;32m    964\u001b[0m     )\n\u001b[1;32m    965\u001b[0m     \u001b[39mreturn\u001b[39;00m \u001b[39mself\u001b[39m\n",
      "File \u001b[0;32m~/Library/Python/3.8/lib/python/site-packages/sklearn/tree/_classes.py:443\u001b[0m, in \u001b[0;36mBaseDecisionTree._fit\u001b[0;34m(self, X, y, sample_weight, check_input, missing_values_in_feature_mask)\u001b[0m\n\u001b[1;32m    432\u001b[0m \u001b[39melse\u001b[39;00m:\n\u001b[1;32m    433\u001b[0m     builder \u001b[39m=\u001b[39m BestFirstTreeBuilder(\n\u001b[1;32m    434\u001b[0m         splitter,\n\u001b[1;32m    435\u001b[0m         min_samples_split,\n\u001b[0;32m   (...)\u001b[0m\n\u001b[1;32m    440\u001b[0m         \u001b[39mself\u001b[39m\u001b[39m.\u001b[39mmin_impurity_decrease,\n\u001b[1;32m    441\u001b[0m     )\n\u001b[0;32m--> 443\u001b[0m builder\u001b[39m.\u001b[39;49mbuild(\u001b[39mself\u001b[39;49m\u001b[39m.\u001b[39;49mtree_, X, y, sample_weight, missing_values_in_feature_mask)\n\u001b[1;32m    445\u001b[0m \u001b[39mif\u001b[39;00m \u001b[39mself\u001b[39m\u001b[39m.\u001b[39mn_outputs_ \u001b[39m==\u001b[39m \u001b[39m1\u001b[39m \u001b[39mand\u001b[39;00m is_classifier(\u001b[39mself\u001b[39m):\n\u001b[1;32m    446\u001b[0m     \u001b[39mself\u001b[39m\u001b[39m.\u001b[39mn_classes_ \u001b[39m=\u001b[39m \u001b[39mself\u001b[39m\u001b[39m.\u001b[39mn_classes_[\u001b[39m0\u001b[39m]\n",
      "\u001b[0;31mKeyboardInterrupt\u001b[0m: "
     ]
    }
   ],
   "source": [
    "#For loops for all calculations \n",
    "for model_name,model in Tree_models_42.items():\n",
    "    for train_index, test_index in stratified_sample.split(x, y):\n",
    "        # Split the data into training and test sets for this fold\n",
    "        X_train, X_test = x.iloc[train_index], x.iloc[test_index]\n",
    "        Y_train, Y_test = y[train_index], y[test_index]\n",
    "\n",
    "        # Train the classifier and make predictions\n",
    "        model.fit(X_train, Y_train)\n",
    "        predictions = model.predict(X_test)\n",
    "\n",
    "        # Calculate and store the accuracy for this fold\n",
    "        score = accuracy_score(Y_test, predictions)\n",
    "        scores.append(score)\n",
    "    # Print the accuracy for each fold\n",
    "    for cnt, score in enumerate(scores, 1):\n",
    "        print(f'Fold {cnt}: Accuracy: {score:.4f}')\n",
    "    print(\"Average Score for\", model_name, \"is\", np.mean(scores))"
   ]
  },
  {
   "cell_type": "markdown",
   "metadata": {},
   "source": [
    "### Ensemble Learning "
   ]
  },
  {
   "cell_type": "markdown",
   "metadata": {},
   "source": [
    "Ensemble learning \n",
    "* Simple averaging \n",
    "* Boosting \n",
    "* Bagging "
   ]
  },
  {
   "cell_type": "markdown",
   "metadata": {},
   "source": [
    "#### Simple Averaging"
   ]
  },
  {
   "cell_type": "code",
   "execution_count": null,
   "metadata": {},
   "outputs": [
    {
     "data": {
      "text/plain": [
       "(168155, 14)"
      ]
     },
     "execution_count": 73,
     "metadata": {},
     "output_type": "execute_result"
    }
   ],
   "source": [
    "x_train.shape"
   ]
  },
  {
   "cell_type": "code",
   "execution_count": null,
   "metadata": {},
   "outputs": [
    {
     "data": {
      "text/plain": [
       "(216200,)"
      ]
     },
     "execution_count": 74,
     "metadata": {},
     "output_type": "execute_result"
    }
   ],
   "source": [
    "y_train.shape"
   ]
  },
  {
   "cell_type": "code",
   "execution_count": 37,
   "metadata": {},
   "outputs": [
    {
     "name": "stdout",
     "output_type": "stream",
     "text": [
      "TEST ACCURACY  GiniTree_NoEstimators  is : 0.8506051656242761\n",
      "TRAIN ACCURACY GiniTree_NoEstimators  is : 0.9999038264657157\n",
      "EXPECTED VALUE  GiniTree_NoEstimators  is : 1346866\n",
      "TEST ACCURACY  EntropyTree_NoEstimators  is : 0.8566278665740097\n",
      "TRAIN ACCURACY EntropyTree_NoEstimators  is : 0.9999038264657157\n",
      "EXPECTED VALUE  EntropyTree_NoEstimators  is : 1362438\n",
      "TEST ACCURACY  ExtraTrees_Gini  is : 0.8737114894602733\n",
      "TRAIN ACCURACY ExtraTrees_Gini  is : 0.9999038264657157\n",
      "EXPECTED VALUE  ExtraTrees_Gini  is : 1404458\n",
      "TEST ACCURACY  ExtraTrees_Entropy  is : 0.8736535788742182\n",
      "TRAIN ACCURACY ExtraTrees_Entropy  is : 0.9999038264657157\n",
      "EXPECTED VALUE  ExtraTrees_Entropy  is : 1404042\n",
      "TEST ACCURACY  MultinomialNB  is : 0.5326181375955524\n",
      "TRAIN ACCURACY MultinomialNB  is : 0.533142640863204\n",
      "EXPECTED VALUE  MultinomialNB  is : 576546\n",
      "TEST ACCURACY  GaussianNB  is : 0.6966643502432245\n",
      "TRAIN ACCURACY GaussianNB  is : 0.6953408576197361\n",
      "EXPECTED VALUE  GaussianNB  is : 962666\n",
      "TEST ACCURACY  ComplementNB  is : 0.5325964211257818\n",
      "TRAIN ACCURACY ComplementNB  is : 0.533142640863204\n",
      "EXPECTED VALUE  ComplementNB  is : 576482\n",
      "TEST ACCURACY  BernoulliNB  is : 0.49871872828353025\n",
      "TRAIN ACCURACY BernoulliNB  is : 0.5004777652993478\n",
      "EXPECTED VALUE  BernoulliNB  is : 617526\n"
     ]
    }
   ],
   "source": [
    "models_dict = {\n",
    "    'GiniTree_NoEstimators' : tree.DecisionTreeClassifier(criterion='gini', random_state=42), \n",
    "    'EntropyTree_NoEstimators' : tree.DecisionTreeClassifier(criterion='entropy', random_state=42),\n",
    "    'ExtraTrees_Gini': ExtraTreesClassifier( criterion='gini', random_state=42), \n",
    "    'ExtraTrees_Entropy': ExtraTreesClassifier( criterion='entropy', random_state=42),\n",
    "    'MultinomialNB': MultinomialNB(),\n",
    "    'GaussianNB': GaussianNB(),\n",
    "    'ComplementNB': ComplementNB(),\n",
    "    'BernoulliNB': BernoulliNB()\n",
    "}\n",
    "\n",
    "for name, classifier in models_dict.items():\n",
    "    #fit the model \n",
    "    classifier.fit(x_train, y_train)\n",
    "    #make prediciton \n",
    "    #Calculating all the predicitons \n",
    "    y_pred = classifier.predict(x_test)\n",
    "    y_pred_train =  classifier.predict(x_train)\n",
    "    \n",
    "    #confusion matrix \n",
    "    cm = confusion_matrix(y_test, y_pred, labels=labels)\n",
    "    \n",
    "    #Calculating Expected Value \n",
    "    EV = np.sum(cm * cost_matrix)\n",
    "    \n",
    "    print(\"TEST ACCURACY \",name,\" is :\", accuracy_score(y_test, y_pred))\n",
    "    print(\"TRAIN ACCURACY\",name,\" is :\", accuracy_score(y_train, y_pred_train))\n",
    "    print(\"EXPECTED VALUE \",name,\" is :\", EV)"
   ]
  },
  {
   "cell_type": "code",
   "execution_count": 38,
   "metadata": {},
   "outputs": [
    {
     "name": "stdout",
     "output_type": "stream",
     "text": [
      "Train accuracy:  0.9158357480129307\n",
      "Test accuracy:  0.8182041927264304\n",
      "Expected Value:  1298066\n"
     ]
    }
   ],
   "source": [
    "#HARD VOTING\n",
    "models_dict_2 = [('GiniTree_NoEstimators' , tree.DecisionTreeClassifier(criterion='gini', random_state=42)), \n",
    "                 ('EntropyTree_NoEstimators' , tree.DecisionTreeClassifier(criterion='entropy', random_state=42)),\n",
    "                 ('ExtraTrees_Gini', ExtraTreesClassifier( criterion='gini', random_state=42)), \n",
    "                 ('ExtraTrees_Entropy', ExtraTreesClassifier( criterion='entropy', random_state=42)),\n",
    "                 ('MultinomialNB', MultinomialNB()),\n",
    "                 ('GaussianNB', GaussianNB()),\n",
    "                 ('ComplementNB', ComplementNB()),\n",
    "                 ('BernoulliNB', BernoulliNB())]\n",
    "\n",
    "\n",
    "model = VotingClassifier(estimators=[('GiniTree_NoEstimators' , tree.DecisionTreeClassifier(criterion='gini', random_state=42)), \n",
    "                 ('EntropyTree_NoEstimators' , tree.DecisionTreeClassifier(criterion='entropy', random_state=42)),\n",
    "                 ('ExtraTrees_Gini', ExtraTreesClassifier( criterion='gini', random_state=42)), \n",
    "                 ('ExtraTrees_Entropy', ExtraTreesClassifier( criterion='entropy', random_state=42)),\n",
    "                 ('MultinomialNB', MultinomialNB()),\n",
    "                 ('GaussianNB', GaussianNB()),\n",
    "                 ('ComplementNB', ComplementNB()),\n",
    "                 ('BernoulliNB', BernoulliNB())], voting='hard')\n",
    "#Fitting the model \n",
    "model.fit(x_train,y_train)\n",
    "#Calculating all the predicitons \n",
    "y_pred = model.predict(x_test)\n",
    "y_pred_train =  model.predict(x_train)\n",
    "\n",
    "#Confusion matrix \n",
    "cm = confusion_matrix(y_test, y_pred, labels=labels)\n",
    "\n",
    "#Calculating Expected Value \n",
    "EV = np.sum(cm * cost_matrix)\n",
    "\n",
    "print(\"Train accuracy: \",accuracy_score(y_train, y_pred_train))\n",
    "print(\"Test accuracy: \", accuracy_score(y_test, y_pred))\n",
    "print(\"Expected Value: \", EV)"
   ]
  },
  {
   "cell_type": "code",
   "execution_count": 39,
   "metadata": {},
   "outputs": [
    {
     "name": "stdout",
     "output_type": "stream",
     "text": [
      "Train accuracy:  0.9998976217215683\n",
      "Test accuracy:  0.8525741255501506\n",
      "Expected Value:  1352574\n"
     ]
    }
   ],
   "source": [
    "#SOFT VOTING\n",
    "model = VotingClassifier(estimators=models_dict_2, voting='soft')\n",
    "#Fitting the model \n",
    "model.fit(x_train,y_train)\n",
    "#Calculating all the predicitons \n",
    "y_pred = model.predict(x_test)\n",
    "y_pred_train =  model.predict(x_train)\n",
    "\n",
    "#Confusion matrix \n",
    "cm = confusion_matrix(y_test, y_pred, labels=labels)\n",
    "\n",
    "#Calculating Expected Value \n",
    "EV = np.sum(cm * cost_matrix)\n",
    "\n",
    "print(\"Train accuracy: \",accuracy_score(y_train, y_pred_train))\n",
    "print(\"Test accuracy: \", accuracy_score(y_test, y_pred))\n",
    "print(\"Expected Value: \", EV)\n"
   ]
  },
  {
   "cell_type": "markdown",
   "metadata": {},
   "source": [
    "#### Bagging"
   ]
  },
  {
   "cell_type": "code",
   "execution_count": 40,
   "metadata": {},
   "outputs": [
    {
     "name": "stderr",
     "output_type": "stream",
     "text": [
      "/Users/pingle/Library/Python/3.8/lib/python/site-packages/sklearn/ensemble/_base.py:156: FutureWarning: `base_estimator` was renamed to `estimator` in version 1.2 and will be removed in 1.4.\n",
      "  warnings.warn(\n"
     ]
    },
    {
     "name": "stdout",
     "output_type": "stream",
     "text": [
      "TEST ACCURACY  MultinomialNB  is : 0.5326036599490387\n",
      "TRAIN ACCURACY MultinomialNB  is : 0.5331457432352777\n",
      "EXPECTED VALUE  MultinomialNB  is : 576510\n",
      "___________________________\n"
     ]
    },
    {
     "name": "stderr",
     "output_type": "stream",
     "text": [
      "/Users/pingle/Library/Python/3.8/lib/python/site-packages/sklearn/ensemble/_base.py:156: FutureWarning: `base_estimator` was renamed to `estimator` in version 1.2 and will be removed in 1.4.\n",
      "  warnings.warn(\n"
     ]
    },
    {
     "name": "stdout",
     "output_type": "stream",
     "text": [
      "TEST ACCURACY  GaussianNB  is : 0.6966860667129952\n",
      "TRAIN ACCURACY GaussianNB  is : 0.6953687789683992\n",
      "EXPECTED VALUE  GaussianNB  is : 962710\n",
      "___________________________\n"
     ]
    },
    {
     "name": "stderr",
     "output_type": "stream",
     "text": [
      "/Users/pingle/Library/Python/3.8/lib/python/site-packages/sklearn/ensemble/_base.py:156: FutureWarning: `base_estimator` was renamed to `estimator` in version 1.2 and will be removed in 1.4.\n",
      "  warnings.warn(\n"
     ]
    },
    {
     "name": "stdout",
     "output_type": "stream",
     "text": [
      "TEST ACCURACY  ComplementNB  is : 0.5326181375955524\n",
      "TRAIN ACCURACY ComplementNB  is : 0.533142640863204\n",
      "EXPECTED VALUE  ComplementNB  is : 576538\n",
      "___________________________\n"
     ]
    },
    {
     "name": "stderr",
     "output_type": "stream",
     "text": [
      "/Users/pingle/Library/Python/3.8/lib/python/site-packages/sklearn/ensemble/_base.py:156: FutureWarning: `base_estimator` was renamed to `estimator` in version 1.2 and will be removed in 1.4.\n",
      "  warnings.warn(\n"
     ]
    },
    {
     "name": "stdout",
     "output_type": "stream",
     "text": [
      "TEST ACCURACY  BernoulliNB  is : 0.49871872828353025\n",
      "TRAIN ACCURACY BernoulliNB  is : 0.5004777652993478\n",
      "EXPECTED VALUE  BernoulliNB  is : 617526\n",
      "___________________________\n",
      "Train accuracy of RandomForest algo:  0.9999038264657157\n",
      "Test accuracy of RandomForest algo:  0.8824125550150568\n",
      "Expected Value of RandomForest algo:  1425798\n"
     ]
    },
    {
     "data": {
      "image/png": "[encoded data removed]",
      "text/plain": [
       "<Figure size 640x480 with 2 Axes>"
      ]
     },
     "metadata": {},
     "output_type": "display_data"
    }
   ],
   "source": [
    "#### Bagging for Naives Bayes models \n",
    "\n",
    "from sklearn.ensemble import BaggingClassifier\n",
    "\n",
    "for name, classifier in NB_models.items():\n",
    "    \n",
    "    model = BaggingClassifier(base_estimator=classifier, n_estimators=100, random_state=42)\n",
    "    \n",
    "    #fit the model to our data \n",
    "    model.fit(x_train, y_train)\n",
    "    \n",
    "    '''Calculating all the predicitons'''\n",
    "    #Prediction for the testing dataset \n",
    "    y_pred = model.predict(x_test)\n",
    "    #Prediction for the training dataset \n",
    "    y_pred_train =  model.predict(x_train)\n",
    "    \n",
    "    #Confusion matrix for calculation \n",
    "    cm = confusion_matrix(y_test, y_pred, labels=labels)\n",
    "\n",
    "    #hashed because I want to evaluate the models faster, can unhash to see the exact confusion matrixes\n",
    "    #plot_confusionmatrix(y_pred_train,y_train,dom='Train')\n",
    "    #plot_confusionmatrix(y_pred,y_test,dom='Test')\n",
    "    \n",
    "    #Calculating Expected Value \n",
    "    EV = np.sum(cm * cost_matrix)\n",
    "    \n",
    "    #Calculatinf other scores for comparision \n",
    "    #f1_score = f1_score(y_test, y_pred, average='weighted')\n",
    "    #Recall = recall_score(y_test, y_pred)\n",
    "    #Precision= precision_score(y_test, y_pred)\n",
    "    \n",
    "    print(\"TEST ACCURACY \",name,\" is :\", accuracy_score(y_test, y_pred))\n",
    "    print(\"TRAIN ACCURACY\",name,\" is :\", accuracy_score(y_train, y_pred_train))\n",
    "    print(\"EXPECTED VALUE \",name,\" is :\", EV)\n",
    "    print(\"___________________________\")\n",
    "    #print(\"F-1 SCORE \",name,\" is :\", f1_score)\n",
    "    #print(\"RECALL \",name,\" is :\", Recall)\n",
    "    #print(\"PRECISION \",name,\" is :\", Precision)\n",
    "\n",
    "\n",
    "\n",
    "# Bagging with Random Forest Classifier \n",
    "# Build a Gaussian Classifier\n",
    "modelMNB = RandomForestClassifier()\n",
    "modelMNB.fit(x_train, y_train)\n",
    "\n",
    "#Calculating all the predicitons \n",
    "y_pred = modelMNB.predict(x_test)\n",
    "y_pred_train =  modelMNB.predict(x_train)\n",
    "\n",
    "#Calculating accuracy \n",
    "mnb_train_accuracy = accuracy_score(y_train, modelMNB.predict(x_train))\n",
    "mnb_test_accuracy = accuracy_score(y_test, modelMNB.predict(x_test))\n",
    "\n",
    "#Confusion matrix \n",
    "labels = [0,1,2,3,4,5]\n",
    "classes = [0,1,2,3,4,5]\n",
    "cm = confusion_matrix(y_test, y_pred, labels=labels)\n",
    "disp = ConfusionMatrixDisplay(confusion_matrix=cm, display_labels=labels)\n",
    "disp.plot();\n",
    "#plot_confusionmatrix(y_pred_train,y_train,dom='Train')\n",
    "#plot_confusionmatrix(y_pred,y_test,dom='Test')\n",
    "\n",
    "#Calculating Expected Value \n",
    "EV_MNB = np.sum(cm * cost_matrix)\n",
    "\n",
    "print(\"Train accuracy of RandomForest algo: \", mnb_train_accuracy)\n",
    "print(\"Test accuracy of RandomForest algo: \", mnb_test_accuracy)\n",
    "print(\"Expected Value of RandomForest algo: \", EV_MNB)\n",
    "\n"
   ]
  },
  {
   "cell_type": "markdown",
   "metadata": {},
   "source": [
    "#### Boosting"
   ]
  },
  {
   "cell_type": "code",
   "execution_count": 41,
   "metadata": {},
   "outputs": [
    {
     "name": "stderr",
     "output_type": "stream",
     "text": [
      "/Users/pingle/Library/Python/3.8/lib/python/site-packages/sklearn/ensemble/_base.py:156: FutureWarning: `base_estimator` was renamed to `estimator` in version 1.2 and will be removed in 1.4.\n",
      "  warnings.warn(\n"
     ]
    },
    {
     "name": "stdout",
     "output_type": "stream",
     "text": [
      "TEST ACCURACY  GiniTree_NoEstimators  is : 0.9095436645818855\n",
      "TRAIN ACCURACY GiniTree_NoEstimators  is : 0.9999038264657157\n",
      "EXPECTED VALUE  GiniTree_NoEstimators  is : 1494306\n",
      "___________________________\n"
     ]
    },
    {
     "name": "stderr",
     "output_type": "stream",
     "text": [
      "/Users/pingle/Library/Python/3.8/lib/python/site-packages/sklearn/ensemble/_base.py:156: FutureWarning: `base_estimator` was renamed to `estimator` in version 1.2 and will be removed in 1.4.\n",
      "  warnings.warn(\n"
     ]
    },
    {
     "name": "stdout",
     "output_type": "stream",
     "text": [
      "TEST ACCURACY  EntropyTree_NoEstimators  is : 0.9115850127403289\n",
      "TRAIN ACCURACY EntropyTree_NoEstimators  is : 0.9999038264657157\n",
      "EXPECTED VALUE  EntropyTree_NoEstimators  is : 1499522\n",
      "___________________________\n"
     ]
    },
    {
     "name": "stderr",
     "output_type": "stream",
     "text": [
      "/Users/pingle/Library/Python/3.8/lib/python/site-packages/sklearn/ensemble/_base.py:156: FutureWarning: `base_estimator` was renamed to `estimator` in version 1.2 and will be removed in 1.4.\n",
      "  warnings.warn(\n"
     ]
    },
    {
     "ename": "KeyboardInterrupt",
     "evalue": "",
     "output_type": "error",
     "traceback": [
      "\u001b[0;31m---------------------------------------------------------------------------\u001b[0m",
      "\u001b[0;31mKeyboardInterrupt\u001b[0m                         Traceback (most recent call last)",
      "\u001b[1;32m/Users/pingle/Desktop/ML project/Data_Analysis_ML_balanced.ipynb Cell 42\u001b[0m line \u001b[0;36m9\n\u001b[1;32m      <a href='vscode-notebook-cell:/Users/pingle/Desktop/ML%20project/Data_Analysis_ML_balanced.ipynb#X56sZmlsZQ%3D%3D?line=5'>6</a>\u001b[0m model \u001b[39m=\u001b[39m AdaBoostClassifier(base_estimator\u001b[39m=\u001b[39mclassifier, n_estimators\u001b[39m=\u001b[39m\u001b[39m100\u001b[39m, random_state\u001b[39m=\u001b[39m\u001b[39m42\u001b[39m)\n\u001b[1;32m      <a href='vscode-notebook-cell:/Users/pingle/Desktop/ML%20project/Data_Analysis_ML_balanced.ipynb#X56sZmlsZQ%3D%3D?line=7'>8</a>\u001b[0m \u001b[39m#fit the model to our data \u001b[39;00m\n\u001b[0;32m----> <a href='vscode-notebook-cell:/Users/pingle/Desktop/ML%20project/Data_Analysis_ML_balanced.ipynb#X56sZmlsZQ%3D%3D?line=8'>9</a>\u001b[0m model\u001b[39m.\u001b[39;49mfit(x_train, y_train)\n\u001b[1;32m     <a href='vscode-notebook-cell:/Users/pingle/Desktop/ML%20project/Data_Analysis_ML_balanced.ipynb#X56sZmlsZQ%3D%3D?line=10'>11</a>\u001b[0m \u001b[39m'''Calculating all the predicitons'''\u001b[39;00m\n\u001b[1;32m     <a href='vscode-notebook-cell:/Users/pingle/Desktop/ML%20project/Data_Analysis_ML_balanced.ipynb#X56sZmlsZQ%3D%3D?line=11'>12</a>\u001b[0m \u001b[39m#Prediction for the testing dataset \u001b[39;00m\n",
      "File \u001b[0;32m~/Library/Python/3.8/lib/python/site-packages/sklearn/base.py:1151\u001b[0m, in \u001b[0;36m_fit_context.<locals>.decorator.<locals>.wrapper\u001b[0;34m(estimator, *args, **kwargs)\u001b[0m\n\u001b[1;32m   1144\u001b[0m     estimator\u001b[39m.\u001b[39m_validate_params()\n\u001b[1;32m   1146\u001b[0m \u001b[39mwith\u001b[39;00m config_context(\n\u001b[1;32m   1147\u001b[0m     skip_parameter_validation\u001b[39m=\u001b[39m(\n\u001b[1;32m   1148\u001b[0m         prefer_skip_nested_validation \u001b[39mor\u001b[39;00m global_skip_validation\n\u001b[1;32m   1149\u001b[0m     )\n\u001b[1;32m   1150\u001b[0m ):\n\u001b[0;32m-> 1151\u001b[0m     \u001b[39mreturn\u001b[39;00m fit_method(estimator, \u001b[39m*\u001b[39;49margs, \u001b[39m*\u001b[39;49m\u001b[39m*\u001b[39;49mkwargs)\n",
      "File \u001b[0;32m~/Library/Python/3.8/lib/python/site-packages/sklearn/ensemble/_weight_boosting.py:171\u001b[0m, in \u001b[0;36mBaseWeightBoosting.fit\u001b[0;34m(self, X, y, sample_weight)\u001b[0m\n\u001b[1;32m    168\u001b[0m sample_weight[zero_weight_mask] \u001b[39m=\u001b[39m \u001b[39m0.0\u001b[39m\n\u001b[1;32m    170\u001b[0m \u001b[39m# Boosting step\u001b[39;00m\n\u001b[0;32m--> 171\u001b[0m sample_weight, estimator_weight, estimator_error \u001b[39m=\u001b[39m \u001b[39mself\u001b[39;49m\u001b[39m.\u001b[39;49m_boost(\n\u001b[1;32m    172\u001b[0m     iboost, X, y, sample_weight, random_state\n\u001b[1;32m    173\u001b[0m )\n\u001b[1;32m    175\u001b[0m \u001b[39m# Early termination\u001b[39;00m\n\u001b[1;32m    176\u001b[0m \u001b[39mif\u001b[39;00m sample_weight \u001b[39mis\u001b[39;00m \u001b[39mNone\u001b[39;00m:\n",
      "File \u001b[0;32m~/Library/Python/3.8/lib/python/site-packages/sklearn/ensemble/_weight_boosting.py:579\u001b[0m, in \u001b[0;36mAdaBoostClassifier._boost\u001b[0;34m(self, iboost, X, y, sample_weight, random_state)\u001b[0m\n\u001b[1;32m    540\u001b[0m \u001b[39m\"\"\"Implement a single boost.\u001b[39;00m\n\u001b[1;32m    541\u001b[0m \n\u001b[1;32m    542\u001b[0m \u001b[39mPerform a single boost according to the real multi-class SAMME.R\u001b[39;00m\n\u001b[0;32m   (...)\u001b[0m\n\u001b[1;32m    576\u001b[0m \u001b[39m    If None then boosting has terminated early.\u001b[39;00m\n\u001b[1;32m    577\u001b[0m \u001b[39m\"\"\"\u001b[39;00m\n\u001b[1;32m    578\u001b[0m \u001b[39mif\u001b[39;00m \u001b[39mself\u001b[39m\u001b[39m.\u001b[39malgorithm \u001b[39m==\u001b[39m \u001b[39m\"\u001b[39m\u001b[39mSAMME.R\u001b[39m\u001b[39m\"\u001b[39m:\n\u001b[0;32m--> 579\u001b[0m     \u001b[39mreturn\u001b[39;00m \u001b[39mself\u001b[39;49m\u001b[39m.\u001b[39;49m_boost_real(iboost, X, y, sample_weight, random_state)\n\u001b[1;32m    581\u001b[0m \u001b[39melse\u001b[39;00m:  \u001b[39m# elif self.algorithm == \"SAMME\":\u001b[39;00m\n\u001b[1;32m    582\u001b[0m     \u001b[39mreturn\u001b[39;00m \u001b[39mself\u001b[39m\u001b[39m.\u001b[39m_boost_discrete(iboost, X, y, sample_weight, random_state)\n",
      "File \u001b[0;32m~/Library/Python/3.8/lib/python/site-packages/sklearn/ensemble/_weight_boosting.py:590\u001b[0m, in \u001b[0;36mAdaBoostClassifier._boost_real\u001b[0;34m(self, iboost, X, y, sample_weight, random_state)\u001b[0m\n\u001b[1;32m    586\u001b[0m estimator \u001b[39m=\u001b[39m \u001b[39mself\u001b[39m\u001b[39m.\u001b[39m_make_estimator(random_state\u001b[39m=\u001b[39mrandom_state)\n\u001b[1;32m    588\u001b[0m estimator\u001b[39m.\u001b[39mfit(X, y, sample_weight\u001b[39m=\u001b[39msample_weight)\n\u001b[0;32m--> 590\u001b[0m y_predict_proba \u001b[39m=\u001b[39m estimator\u001b[39m.\u001b[39;49mpredict_proba(X)\n\u001b[1;32m    592\u001b[0m \u001b[39mif\u001b[39;00m iboost \u001b[39m==\u001b[39m \u001b[39m0\u001b[39m:\n\u001b[1;32m    593\u001b[0m     \u001b[39mself\u001b[39m\u001b[39m.\u001b[39mclasses_ \u001b[39m=\u001b[39m \u001b[39mgetattr\u001b[39m(estimator, \u001b[39m\"\u001b[39m\u001b[39mclasses_\u001b[39m\u001b[39m\"\u001b[39m, \u001b[39mNone\u001b[39;00m)\n",
      "File \u001b[0;32m~/Library/Python/3.8/lib/python/site-packages/sklearn/ensemble/_forest.py:876\u001b[0m, in \u001b[0;36mForestClassifier.predict_proba\u001b[0;34m(self, X)\u001b[0m\n\u001b[1;32m    871\u001b[0m all_proba \u001b[39m=\u001b[39m [\n\u001b[1;32m    872\u001b[0m     np\u001b[39m.\u001b[39mzeros((X\u001b[39m.\u001b[39mshape[\u001b[39m0\u001b[39m], j), dtype\u001b[39m=\u001b[39mnp\u001b[39m.\u001b[39mfloat64)\n\u001b[1;32m    873\u001b[0m     \u001b[39mfor\u001b[39;00m j \u001b[39min\u001b[39;00m np\u001b[39m.\u001b[39matleast_1d(\u001b[39mself\u001b[39m\u001b[39m.\u001b[39mn_classes_)\n\u001b[1;32m    874\u001b[0m ]\n\u001b[1;32m    875\u001b[0m lock \u001b[39m=\u001b[39m threading\u001b[39m.\u001b[39mLock()\n\u001b[0;32m--> 876\u001b[0m Parallel(n_jobs\u001b[39m=\u001b[39;49mn_jobs, verbose\u001b[39m=\u001b[39;49m\u001b[39mself\u001b[39;49m\u001b[39m.\u001b[39;49mverbose, require\u001b[39m=\u001b[39;49m\u001b[39m\"\u001b[39;49m\u001b[39msharedmem\u001b[39;49m\u001b[39m\"\u001b[39;49m)(\n\u001b[1;32m    877\u001b[0m     delayed(_accumulate_prediction)(e\u001b[39m.\u001b[39;49mpredict_proba, X, all_proba, lock)\n\u001b[1;32m    878\u001b[0m     \u001b[39mfor\u001b[39;49;00m e \u001b[39min\u001b[39;49;00m \u001b[39mself\u001b[39;49m\u001b[39m.\u001b[39;49mestimators_\n\u001b[1;32m    879\u001b[0m )\n\u001b[1;32m    881\u001b[0m \u001b[39mfor\u001b[39;00m proba \u001b[39min\u001b[39;00m all_proba:\n\u001b[1;32m    882\u001b[0m     proba \u001b[39m/\u001b[39m\u001b[39m=\u001b[39m \u001b[39mlen\u001b[39m(\u001b[39mself\u001b[39m\u001b[39m.\u001b[39mestimators_)\n",
      "File \u001b[0;32m~/Library/Python/3.8/lib/python/site-packages/sklearn/utils/parallel.py:65\u001b[0m, in \u001b[0;36mParallel.__call__\u001b[0;34m(self, iterable)\u001b[0m\n\u001b[1;32m     60\u001b[0m config \u001b[39m=\u001b[39m get_config()\n\u001b[1;32m     61\u001b[0m iterable_with_config \u001b[39m=\u001b[39m (\n\u001b[1;32m     62\u001b[0m     (_with_config(delayed_func, config), args, kwargs)\n\u001b[1;32m     63\u001b[0m     \u001b[39mfor\u001b[39;00m delayed_func, args, kwargs \u001b[39min\u001b[39;00m iterable\n\u001b[1;32m     64\u001b[0m )\n\u001b[0;32m---> 65\u001b[0m \u001b[39mreturn\u001b[39;00m \u001b[39msuper\u001b[39;49m()\u001b[39m.\u001b[39;49m\u001b[39m__call__\u001b[39;49m(iterable_with_config)\n",
      "File \u001b[0;32m~/Library/Python/3.8/lib/python/site-packages/joblib/parallel.py:1863\u001b[0m, in \u001b[0;36mParallel.__call__\u001b[0;34m(self, iterable)\u001b[0m\n\u001b[1;32m   1861\u001b[0m     output \u001b[39m=\u001b[39m \u001b[39mself\u001b[39m\u001b[39m.\u001b[39m_get_sequential_output(iterable)\n\u001b[1;32m   1862\u001b[0m     \u001b[39mnext\u001b[39m(output)\n\u001b[0;32m-> 1863\u001b[0m     \u001b[39mreturn\u001b[39;00m output \u001b[39mif\u001b[39;00m \u001b[39mself\u001b[39m\u001b[39m.\u001b[39mreturn_generator \u001b[39melse\u001b[39;00m \u001b[39mlist\u001b[39;49m(output)\n\u001b[1;32m   1865\u001b[0m \u001b[39m# Let's create an ID that uniquely identifies the current call. If the\u001b[39;00m\n\u001b[1;32m   1866\u001b[0m \u001b[39m# call is interrupted early and that the same instance is immediately\u001b[39;00m\n\u001b[1;32m   1867\u001b[0m \u001b[39m# re-used, this id will be used to prevent workers that were\u001b[39;00m\n\u001b[1;32m   1868\u001b[0m \u001b[39m# concurrently finalizing a task from the previous call to run the\u001b[39;00m\n\u001b[1;32m   1869\u001b[0m \u001b[39m# callback.\u001b[39;00m\n\u001b[1;32m   1870\u001b[0m \u001b[39mwith\u001b[39;00m \u001b[39mself\u001b[39m\u001b[39m.\u001b[39m_lock:\n",
      "File \u001b[0;32m~/Library/Python/3.8/lib/python/site-packages/joblib/parallel.py:1792\u001b[0m, in \u001b[0;36mParallel._get_sequential_output\u001b[0;34m(self, iterable)\u001b[0m\n\u001b[1;32m   1790\u001b[0m \u001b[39mself\u001b[39m\u001b[39m.\u001b[39mn_dispatched_batches \u001b[39m+\u001b[39m\u001b[39m=\u001b[39m \u001b[39m1\u001b[39m\n\u001b[1;32m   1791\u001b[0m \u001b[39mself\u001b[39m\u001b[39m.\u001b[39mn_dispatched_tasks \u001b[39m+\u001b[39m\u001b[39m=\u001b[39m \u001b[39m1\u001b[39m\n\u001b[0;32m-> 1792\u001b[0m res \u001b[39m=\u001b[39m func(\u001b[39m*\u001b[39;49margs, \u001b[39m*\u001b[39;49m\u001b[39m*\u001b[39;49mkwargs)\n\u001b[1;32m   1793\u001b[0m \u001b[39mself\u001b[39m\u001b[39m.\u001b[39mn_completed_tasks \u001b[39m+\u001b[39m\u001b[39m=\u001b[39m \u001b[39m1\u001b[39m\n\u001b[1;32m   1794\u001b[0m \u001b[39mself\u001b[39m\u001b[39m.\u001b[39mprint_progress()\n",
      "File \u001b[0;32m~/Library/Python/3.8/lib/python/site-packages/sklearn/utils/parallel.py:127\u001b[0m, in \u001b[0;36m_FuncWrapper.__call__\u001b[0;34m(self, *args, **kwargs)\u001b[0m\n\u001b[1;32m    125\u001b[0m     config \u001b[39m=\u001b[39m {}\n\u001b[1;32m    126\u001b[0m \u001b[39mwith\u001b[39;00m config_context(\u001b[39m*\u001b[39m\u001b[39m*\u001b[39mconfig):\n\u001b[0;32m--> 127\u001b[0m     \u001b[39mreturn\u001b[39;00m \u001b[39mself\u001b[39;49m\u001b[39m.\u001b[39;49mfunction(\u001b[39m*\u001b[39;49margs, \u001b[39m*\u001b[39;49m\u001b[39m*\u001b[39;49mkwargs)\n",
      "File \u001b[0;32m~/Library/Python/3.8/lib/python/site-packages/sklearn/ensemble/_forest.py:647\u001b[0m, in \u001b[0;36m_accumulate_prediction\u001b[0;34m(predict, X, out, lock)\u001b[0m\n\u001b[1;32m    640\u001b[0m \u001b[39mdef\u001b[39;00m \u001b[39m_accumulate_prediction\u001b[39m(predict, X, out, lock):\n\u001b[1;32m    641\u001b[0m     \u001b[39m\"\"\"\u001b[39;00m\n\u001b[1;32m    642\u001b[0m \u001b[39m    This is a utility function for joblib's Parallel.\u001b[39;00m\n\u001b[1;32m    643\u001b[0m \n\u001b[1;32m    644\u001b[0m \u001b[39m    It can't go locally in ForestClassifier or ForestRegressor, because joblib\u001b[39;00m\n\u001b[1;32m    645\u001b[0m \u001b[39m    complains that it cannot pickle it when placed there.\u001b[39;00m\n\u001b[1;32m    646\u001b[0m \u001b[39m    \"\"\"\u001b[39;00m\n\u001b[0;32m--> 647\u001b[0m     prediction \u001b[39m=\u001b[39m predict(X, check_input\u001b[39m=\u001b[39;49m\u001b[39mFalse\u001b[39;49;00m)\n\u001b[1;32m    648\u001b[0m     \u001b[39mwith\u001b[39;00m lock:\n\u001b[1;32m    649\u001b[0m         \u001b[39mif\u001b[39;00m \u001b[39mlen\u001b[39m(out) \u001b[39m==\u001b[39m \u001b[39m1\u001b[39m:\n",
      "File \u001b[0;32m~/Library/Python/3.8/lib/python/site-packages/sklearn/tree/_classes.py:993\u001b[0m, in \u001b[0;36mDecisionTreeClassifier.predict_proba\u001b[0;34m(self, X, check_input)\u001b[0m\n\u001b[1;32m    991\u001b[0m check_is_fitted(\u001b[39mself\u001b[39m)\n\u001b[1;32m    992\u001b[0m X \u001b[39m=\u001b[39m \u001b[39mself\u001b[39m\u001b[39m.\u001b[39m_validate_X_predict(X, check_input)\n\u001b[0;32m--> 993\u001b[0m proba \u001b[39m=\u001b[39m \u001b[39mself\u001b[39;49m\u001b[39m.\u001b[39;49mtree_\u001b[39m.\u001b[39;49mpredict(X)\n\u001b[1;32m    995\u001b[0m \u001b[39mif\u001b[39;00m \u001b[39mself\u001b[39m\u001b[39m.\u001b[39mn_outputs_ \u001b[39m==\u001b[39m \u001b[39m1\u001b[39m:\n\u001b[1;32m    996\u001b[0m     proba \u001b[39m=\u001b[39m proba[:, : \u001b[39mself\u001b[39m\u001b[39m.\u001b[39mn_classes_]\n",
      "\u001b[0;31mKeyboardInterrupt\u001b[0m: "
     ]
    }
   ],
   "source": [
    "#Adaboost for all our models \n",
    "from sklearn.ensemble import AdaBoostClassifier\n",
    "\n",
    "for name, classifier in models_dict.items():\n",
    "    \n",
    "    model = AdaBoostClassifier(base_estimator=classifier, n_estimators=100, random_state=42)\n",
    "    \n",
    "    #fit the model to our data \n",
    "    model.fit(x_train, y_train)\n",
    "    \n",
    "    '''Calculating all the predicitons'''\n",
    "    #Prediction for the testing dataset \n",
    "    y_pred = model.predict(x_test)\n",
    "    #Prediction for the training dataset \n",
    "    y_pred_train =  model.predict(x_train)\n",
    "    \n",
    "    #Confusion matrix for calculation \n",
    "    cm = confusion_matrix(y_test, y_pred, labels=labels)\n",
    "\n",
    "    #hashed because I want to evaluate the models faster, can unhash to see the exact confusion matrixes\n",
    "    #plot_confusionmatrix(y_pred_train,y_train,dom='Train')\n",
    "    #plot_confusionmatrix(y_pred,y_test,dom='Test')\n",
    "    \n",
    "    #Calculating Expected Value \n",
    "    EV = np.sum(cm * cost_matrix)\n",
    "    \n",
    "    #Calculatinf other scores for comparision \n",
    "    #f1_score = f1_score(y_test, y_pred, average='weighted')\n",
    "    #Recall = recall_score(y_test, y_pred)\n",
    "    #Precision= precision_score(y_test, y_pred)\n",
    "    \n",
    "    print(\"TEST ACCURACY \",name,\" is :\", accuracy_score(y_test, y_pred))\n",
    "    print(\"TRAIN ACCURACY\",name,\" is :\", accuracy_score(y_train, y_pred_train))\n",
    "    print(\"EXPECTED VALUE \",name,\" is :\", EV)\n",
    "    print(\"___________________________\")\n",
    "    #print(\"F-1 SCORE \",name,\" is :\", f1_score)\n",
    "    #print(\"RECALL \",name,\" is :\", Recall)\n",
    "    #print(\"PRECISION \",name,\" is :\", Precision)"
   ]
  },
  {
   "cell_type": "code",
   "execution_count": null,
   "metadata": {},
   "outputs": [],
   "source": [
    "#XGBoost \n",
    "import xgboost as xgb\n",
    "\n",
    "# Build a Gaussian Classifier\n",
    "modelXG = xgb.XGBClassifier(n_estimators=100, max_depth=10, random_state=42, \n",
    "                                 booster='gbtree', subsample=0.8, colsample_bytree=0.8)\n",
    "modelXG.fit(x_train, y_train)\n",
    "\n",
    "#Calculating all the predicitons \n",
    "y_pred = modelXG.predict(x_test)\n",
    "y_pred_train =  modelXG.predict(x_train)\n",
    "\n",
    "#Calculating accuracy \n",
    "mnb_train_accuracy = accuracy_score(y_train, modelXG.predict(x_train))\n",
    "mnb_test_accuracy = accuracy_score(y_test, modelXG.predict(x_test))\n",
    "\n",
    "#Confusion matrix \n",
    "labels = [0,1,2,3,4,5]\n",
    "classes = [0,1,2,3,4,5]\n",
    "cm = confusion_matrix(y_test, y_pred, labels=labels)\n",
    "disp = ConfusionMatrixDisplay(confusion_matrix=cm, display_labels=labels)\n",
    "disp.plot();\n",
    "#plot_confusionmatrix(y_pred_train,y_train,dom='Train')\n",
    "#plot_confusionmatrix(y_pred,y_test,dom='Test')\n",
    "\n",
    "#Calculating Expected Value \n",
    "EV_MNB = np.sum(cm * cost_matrix)\n",
    "\n",
    "print(\"Train accuracy of XGBoost algo: \", mnb_train_accuracy)\n",
    "print(\"Test accuracy of XGBoost algo: \", mnb_test_accuracy)\n",
    "print(\"Expected Value of XGBoost algo: \", EV_MNB)\n"
   ]
  },
  {
   "cell_type": "markdown",
   "metadata": {},
   "source": [
    "## Feature Selection - Data analysis Part 2"
   ]
  },
  {
   "cell_type": "markdown",
   "metadata": {},
   "source": [
    "Further improve accuracy by first feature selection - keeping only relevant features \n",
    "* For NB methods - simple + stratified \n",
    "* For tree methods - simple, pre-prune, post prune\n",
    "* Ensemble - simple, boosting, bagging"
   ]
  },
  {
   "cell_type": "code",
   "execution_count": null,
   "metadata": {},
   "outputs": [
    {
     "data": {
      "image/png": "[encoded data removed]",
      "text/plain": [
       "<Figure size 640x480 with 1 Axes>"
      ]
     },
     "metadata": {},
     "output_type": "display_data"
    }
   ],
   "source": [
    "#Selecting features part 1 - using feature importances\n",
    "\n",
    "# storing the feature names in a list\n",
    "feature_names_from_dataset = df.columns.drop('Crime_Category').tolist()\n",
    "feature_names_from_dataset\n",
    "\n",
    "#rf model \n",
    "rf_model= RandomForestClassifier(n_estimators = 100)\n",
    "rf_model.fit(x_train, y_train)\n",
    "\n",
    "#Calculating importance of all features and plotting them\n",
    "importances = rf_model.feature_importances_\n",
    "std = np.std([tree.feature_importances_ for tree in rf_model.estimators_], axis=0)\n",
    "forest_importances = pd.Series(importances, index = feature_names_from_dataset)\n",
    "# print(forest_importances)\n",
    "\n",
    "fig, ax = plt.subplots()\n",
    "forest_importances.plot.bar(yerr=std, ax=ax)\n",
    "ax.set_title(\"Feature importances using MDI\")\n",
    "ax.set_ylabel(\"Mean decrease in impurity\")\n",
    "fig.tight_layout()"
   ]
  },
  {
   "cell_type": "code",
   "execution_count": null,
   "metadata": {},
   "outputs": [
    {
     "data": {
      "image/png": "[encoded data removed]",
      "text/plain": [
       "<Figure size 640x480 with 1 Axes>"
      ]
     },
     "metadata": {},
     "output_type": "display_data"
    }
   ],
   "source": [
    "\n",
    "# storing the feature names in a list\n",
    "feature_names_from_dataset = df.columns.drop('Crime_Category').tolist()\n",
    "feature_names_from_dataset\n",
    "\n",
    "#rf model \n",
    "rf_model= RandomForestClassifier(n_estimators = 300)\n",
    "rf_model.fit(x_train, y_train)\n",
    "\n",
    "#Calculating importance of all features and plotting them\n",
    "importances = rf_model.feature_importances_\n",
    "std = np.std([tree.feature_importances_ for tree in rf_model.estimators_], axis=0)\n",
    "forest_importances = pd.Series(importances, index = feature_names_from_dataset)\n",
    "# print(forest_importances)\n",
    "\n",
    "fig, ax = plt.subplots()\n",
    "forest_importances.plot.bar(yerr=std, ax=ax)\n",
    "ax.set_title(\"Feature importances using MDI\")\n",
    "ax.set_ylabel(\"Mean decrease in impurity\")\n",
    "fig.tight_layout()"
   ]
  },
  {
   "cell_type": "code",
   "execution_count": null,
   "metadata": {},
   "outputs": [
    {
     "data": {
      "text/plain": [
       "Index(['AREA', 'Rpt Dist No', 'Vict Age', 'Vict Sex', 'Vict Descent',\n",
       "       'Premis Cd', 'Year', 'Date', 'Month', 'Hour', 'Vict_Age1', 'Vict_Age2',\n",
       "       'Day', 'LatLon'],\n",
       "      dtype='object')"
      ]
     },
     "execution_count": 20,
     "metadata": {},
     "output_type": "execute_result"
    }
   ],
   "source": [
    "x_train.columns\n",
    "\n"
   ]
  },
  {
   "cell_type": "markdown",
   "metadata": {},
   "source": [
    "Guassian NB gave highest accuracy, so we will do feature selection according to it. "
   ]
  },
  {
   "cell_type": "code",
   "execution_count": null,
   "metadata": {},
   "outputs": [],
   "source": [
    "from sklearn.feature_selection import SequentialFeatureSelector\n",
    "\n",
    "\n",
    "sfs = SequentialFeatureSelector(modelGB, n_features_to_select=3, direction=”forward”)\n",
    "sfs.fit(x_train, y_train)\n",
    "X_selection = sfs.transform(X)"
   ]
  },
  {
   "cell_type": "code",
   "execution_count": null,
   "metadata": {},
   "outputs": [
    {
     "name": "stderr",
     "output_type": "stream",
     "text": [
      "/Users/pingle/Library/Python/3.8/lib/python/site-packages/sklearn/naive_bayes.py:510: RuntimeWarning: divide by zero encountered in log\n",
      "  n_ij = -0.5 * np.sum(np.log(2.0 * np.pi * self.var_[i, :]))\n",
      "/Users/pingle/Library/Python/3.8/lib/python/site-packages/sklearn/naive_bayes.py:511: RuntimeWarning: invalid value encountered in divide\n",
      "  n_ij -= 0.5 * np.sum(((X - self.theta_[i, :]) ** 2) / (self.var_[i, :]), 1)\n",
      "/Users/pingle/Library/Python/3.8/lib/python/site-packages/sklearn/naive_bayes.py:510: RuntimeWarning: divide by zero encountered in log\n",
      "  n_ij = -0.5 * np.sum(np.log(2.0 * np.pi * self.var_[i, :]))\n",
      "/Users/pingle/Library/Python/3.8/lib/python/site-packages/sklearn/naive_bayes.py:511: RuntimeWarning: invalid value encountered in divide\n",
      "  n_ij -= 0.5 * np.sum(((X - self.theta_[i, :]) ** 2) / (self.var_[i, :]), 1)\n",
      "/Users/pingle/Library/Python/3.8/lib/python/site-packages/sklearn/naive_bayes.py:510: RuntimeWarning: divide by zero encountered in log\n",
      "  n_ij = -0.5 * np.sum(np.log(2.0 * np.pi * self.var_[i, :]))\n",
      "/Users/pingle/Library/Python/3.8/lib/python/site-packages/sklearn/naive_bayes.py:511: RuntimeWarning: invalid value encountered in divide\n",
      "  n_ij -= 0.5 * np.sum(((X - self.theta_[i, :]) ** 2) / (self.var_[i, :]), 1)\n",
      "/Users/pingle/Library/Python/3.8/lib/python/site-packages/sklearn/naive_bayes.py:510: RuntimeWarning: divide by zero encountered in log\n",
      "  n_ij = -0.5 * np.sum(np.log(2.0 * np.pi * self.var_[i, :]))\n",
      "/Users/pingle/Library/Python/3.8/lib/python/site-packages/sklearn/naive_bayes.py:511: RuntimeWarning: invalid value encountered in divide\n",
      "  n_ij -= 0.5 * np.sum(((X - self.theta_[i, :]) ** 2) / (self.var_[i, :]), 1)\n",
      "/Users/pingle/Library/Python/3.8/lib/python/site-packages/sklearn/naive_bayes.py:510: RuntimeWarning: divide by zero encountered in log\n",
      "  n_ij = -0.5 * np.sum(np.log(2.0 * np.pi * self.var_[i, :]))\n",
      "/Users/pingle/Library/Python/3.8/lib/python/site-packages/sklearn/naive_bayes.py:511: RuntimeWarning: invalid value encountered in divide\n",
      "  n_ij -= 0.5 * np.sum(((X - self.theta_[i, :]) ** 2) / (self.var_[i, :]), 1)\n"
     ]
    },
    {
     "name": "stdout",
     "output_type": "stream",
     "text": [
      "['Vict Sex' 'Vict Descent' 'Premis Cd' 'Year' 'Date' 'Month' 'Hour'\n",
      " 'Vict_Age1' 'Vict_Age2' 'LatLon']\n"
     ]
    }
   ],
   "source": [
    "from sklearn.feature_selection import SequentialFeatureSelector as sfs\n",
    "modelGB= GaussianNB()\n",
    "\n",
    "modelGB_forward=sfs(modelGB,n_features_to_select=10, direction=\"forward\")\n",
    "modelGB_forward.fit(x_train,y_train)\n",
    "\n",
    "# Get the column names for the selected features\n",
    "selected_features = modelGB_forward.get_feature_names_out()\n",
    "print(selected_features)\n",
    "\n",
    "#modelGB_forward_r2=sfs(modelGB,n_features_to_select=8, direction=\"forward\",scoring='callable')\n",
    "#modelGB_forward_r1.fit(x_train,y_train)\n",
    "#Get the column name for the selected feature.\n",
    "#modelGB_forward_r1.k_feature_names_\n"
   ]
  },
  {
   "cell_type": "code",
   "execution_count": null,
   "metadata": {},
   "outputs": [
    {
     "name": "stdout",
     "output_type": "stream",
     "text": [
      "['Rpt Dist No' 'Vict Descent' 'Premis Cd' 'Year' 'Date' 'Month' 'Hour'\n",
      " 'Vict_Age1' 'Day' 'LatLon']\n"
     ]
    }
   ],
   "source": [
    "modelGB_back=sfs(modelGB,n_features_to_select=10, direction=\"backward\")\n",
    "modelGB_back.fit(x_train,y_train)\n",
    "\n",
    "# Get the column names for the selected features\n",
    "selected_features = modelGB_back.get_feature_names_out()\n",
    "print(selected_features)"
   ]
  },
  {
   "cell_type": "markdown",
   "metadata": {},
   "source": [
    "Based on this, we will trim our features and drop the remaining features. \n",
    "\n",
    "For trees - 'Rpt Dist No', 'Vict Age','Premis Cd''Date', 'Month', 'Hour' ,'Day', 'LatLon'\n",
    "For NB models - 'Vict Descent' 'Premis Cd' 'Year' 'Date' 'Month' 'Hour'\n",
    " 'Vict_Age1''LatLon'\n",
    "\n",
    " Both - 'Date', 'Month', 'Hour', 'LatLon', 'Premis Cd', 'Vict Age', 'Vict Descent'"
   ]
  },
  {
   "cell_type": "code",
   "execution_count": null,
   "metadata": {},
   "outputs": [
    {
     "data": {
      "text/html": [
       "<div>\n",
       "<style scoped>\n",
       "    .dataframe tbody tr th:only-of-type {\n",
       "        vertical-align: middle;\n",
       "    }\n",
       "\n",
       "    .dataframe tbody tr th {\n",
       "        vertical-align: top;\n",
       "    }\n",
       "\n",
       "    .dataframe thead th {\n",
       "        text-align: right;\n",
       "    }\n",
       "</style>\n",
       "<table border=\"1\" class=\"dataframe\">\n",
       "  <thead>\n",
       "    <tr style=\"text-align: right;\">\n",
       "      <th></th>\n",
       "      <th>AREA</th>\n",
       "      <th>Rpt Dist No</th>\n",
       "      <th>Vict Age</th>\n",
       "      <th>Vict Sex</th>\n",
       "      <th>Vict Descent</th>\n",
       "      <th>Premis Cd</th>\n",
       "      <th>Crime_Category</th>\n",
       "      <th>Year</th>\n",
       "      <th>Date</th>\n",
       "      <th>Month</th>\n",
       "      <th>Hour</th>\n",
       "      <th>Vict_Age1</th>\n",
       "      <th>Vict_Age2</th>\n",
       "      <th>Day</th>\n",
       "      <th>LatLon</th>\n",
       "    </tr>\n",
       "  </thead>\n",
       "  <tbody>\n",
       "    <tr>\n",
       "      <th>0</th>\n",
       "      <td>3</td>\n",
       "      <td>377</td>\n",
       "      <td>36</td>\n",
       "      <td>0</td>\n",
       "      <td>1</td>\n",
       "      <td>501</td>\n",
       "      <td>1</td>\n",
       "      <td>2020</td>\n",
       "      <td>8</td>\n",
       "      <td>1</td>\n",
       "      <td>6</td>\n",
       "      <td>3</td>\n",
       "      <td>3</td>\n",
       "      <td>3</td>\n",
       "      <td>13212</td>\n",
       "    </tr>\n",
       "    <tr>\n",
       "      <th>1</th>\n",
       "      <td>1</td>\n",
       "      <td>163</td>\n",
       "      <td>25</td>\n",
       "      <td>0</td>\n",
       "      <td>3</td>\n",
       "      <td>102</td>\n",
       "      <td>1</td>\n",
       "      <td>2020</td>\n",
       "      <td>1</td>\n",
       "      <td>1</td>\n",
       "      <td>1</td>\n",
       "      <td>2</td>\n",
       "      <td>1</td>\n",
       "      <td>3</td>\n",
       "      <td>20466</td>\n",
       "    </tr>\n",
       "    <tr>\n",
       "      <th>2</th>\n",
       "      <td>12</td>\n",
       "      <td>1259</td>\n",
       "      <td>62</td>\n",
       "      <td>0</td>\n",
       "      <td>1</td>\n",
       "      <td>502</td>\n",
       "      <td>0</td>\n",
       "      <td>2020</td>\n",
       "      <td>16</td>\n",
       "      <td>9</td>\n",
       "      <td>3</td>\n",
       "      <td>4</td>\n",
       "      <td>5</td>\n",
       "      <td>3</td>\n",
       "      <td>7239</td>\n",
       "    </tr>\n",
       "    <tr>\n",
       "      <th>3</th>\n",
       "      <td>15</td>\n",
       "      <td>1543</td>\n",
       "      <td>76</td>\n",
       "      <td>0</td>\n",
       "      <td>2</td>\n",
       "      <td>502</td>\n",
       "      <td>0</td>\n",
       "      <td>2020</td>\n",
       "      <td>1</td>\n",
       "      <td>1</td>\n",
       "      <td>5</td>\n",
       "      <td>5</td>\n",
       "      <td>5</td>\n",
       "      <td>3</td>\n",
       "      <td>36772</td>\n",
       "    </tr>\n",
       "    <tr>\n",
       "      <th>4</th>\n",
       "      <td>19</td>\n",
       "      <td>1998</td>\n",
       "      <td>31</td>\n",
       "      <td>0</td>\n",
       "      <td>4</td>\n",
       "      <td>409</td>\n",
       "      <td>0</td>\n",
       "      <td>2020</td>\n",
       "      <td>1</td>\n",
       "      <td>1</td>\n",
       "      <td>1</td>\n",
       "      <td>3</td>\n",
       "      <td>2</td>\n",
       "      <td>3</td>\n",
       "      <td>43900</td>\n",
       "    </tr>\n",
       "  </tbody>\n",
       "</table>\n",
       "</div>"
      ],
      "text/plain": [
       "   AREA  Rpt Dist No  Vict Age  Vict Sex  Vict Descent  Premis Cd  \\\n",
       "0     3          377        36         0             1        501   \n",
       "1     1          163        25         0             3        102   \n",
       "2    12         1259        62         0             1        502   \n",
       "3    15         1543        76         0             2        502   \n",
       "4    19         1998        31         0             4        409   \n",
       "\n",
       "   Crime_Category  Year  Date  Month  Hour  Vict_Age1  Vict_Age2  Day  LatLon  \n",
       "0               1  2020     8      1     6          3          3    3   13212  \n",
       "1               1  2020     1      1     1          2          1    3   20466  \n",
       "2               0  2020    16      9     3          4          5    3    7239  \n",
       "3               0  2020     1      1     5          5          5    3   36772  \n",
       "4               0  2020     1      1     1          3          2    3   43900  "
      ]
     },
     "execution_count": 23,
     "metadata": {},
     "output_type": "execute_result"
    }
   ],
   "source": [
    "df.head(5)"
   ]
  },
  {
   "cell_type": "code",
   "execution_count": null,
   "metadata": {},
   "outputs": [],
   "source": [
    "df_trim = df [['Date', 'Month', 'Hour', 'LatLon', 'Premis Cd', 'Vict Age', 'Vict Descent','Crime_Category']]"
   ]
  },
  {
   "cell_type": "code",
   "execution_count": null,
   "metadata": {},
   "outputs": [
    {
     "data": {
      "text/plain": [
       "Crime_Cat_new\n",
       "0    240222\n",
       "Name: count, dtype: int64"
      ]
     },
     "execution_count": 30,
     "metadata": {},
     "output_type": "execute_result"
    }
   ],
   "source": [
    "df_trim['Crime_Cat_new'].value_counts()"
   ]
  },
  {
   "cell_type": "markdown",
   "metadata": {},
   "source": [
    "## Data analysis Part 3 - Reducing Categories + Features"
   ]
  },
  {
   "cell_type": "markdown",
   "metadata": {},
   "source": [
    "Maybe due to multi classes of the output, we have this issue. Maybe we can reduce the classes of the output and see how it can categorize well. Classifying it into crimes where you cna get hurt vs where you can't get hurt. "
   ]
  },
  {
   "cell_type": "code",
   "execution_count": null,
   "metadata": {},
   "outputs": [
    {
     "name": "stderr",
     "output_type": "stream",
     "text": [
      "/var/folders/hz/ws3q5b8d38q_zyr3p29kkh0c0000gn/T/ipykernel_65751/1839291075.py:7: SettingWithCopyWarning: \n",
      "A value is trying to be set on a copy of a slice from a DataFrame.\n",
      "Try using .loc[row_indexer,col_indexer] = value instead\n",
      "\n",
      "See the caveats in the documentation: https://pandas.pydata.org/pandas-docs/stable/user_guide/indexing.html#returning-a-view-versus-a-copy\n",
      "  df_trim['Crime_Cat_new'] = df_trim.Crime_Category.map(lambda x: 1 if (x == 2 or x == 4) else 0)\n"
     ]
    },
    {
     "data": {
      "text/plain": [
       "Crime_Cat_new\n",
       "0    230239\n",
       "1      9983\n",
       "Name: count, dtype: int64"
      ]
     },
     "execution_count": 31,
     "metadata": {},
     "output_type": "execute_result"
    }
   ],
   "source": [
    "# Create conditional DataFrame column by lambda.\n",
    "# 1 is basically all the events where you can get seriously hurt\n",
    "# 0 is the event where you won't get seriously hurt\n",
    "\n",
    "df_trim = df [['Date', 'Month', 'Hour', 'LatLon', 'Premis Cd', 'Vict Age', 'Vict Descent','Crime_Category']]\n",
    "\n",
    "df_trim['Crime_Cat_new'] = df_trim.Crime_Category.map(lambda x: 1 if (x == 2 or x == 4) else 0)\n",
    "\n",
    "df_trim['Crime_Cat_new'].value_counts()"
   ]
  },
  {
   "cell_type": "code",
   "execution_count": null,
   "metadata": {},
   "outputs": [],
   "source": [
    "# Split the DataFrame into training and testing sets\n",
    "train_data, test_data = train_test_split(df_trim, test_size=0.3, random_state=1)\n",
    "\n",
    "# Save the subsets to separate CSV files\n",
    "train_data.to_csv('train_part3.csv', index=False)\n",
    "test_data.to_csv('test_part3.csv', index=False)\n",
    "df_trim.to_csv('df_trim.csv', index=False) \n",
    "\n",
    "\n",
    "# Separate features and target variable for training data\n",
    "x_train_new = train_data.drop([\"Crime_Category\",\"Crime_Cat_new\"], axis=1)\n",
    "y_train_new = train_data[\"Crime_Cat_new\"]\n",
    "\n",
    "# Separate features and target variable for testing data\n",
    "x_test_new = test_data.drop([\"Crime_Category\",\"Crime_Cat_new\"], axis=1)\n",
    "y_test_new = test_data[\"Crime_Cat_new\"]"
   ]
  },
  {
   "cell_type": "code",
   "execution_count": null,
   "metadata": {},
   "outputs": [
    {
     "data": {
      "text/html": [
       "<div>\n",
       "<style scoped>\n",
       "    .dataframe tbody tr th:only-of-type {\n",
       "        vertical-align: middle;\n",
       "    }\n",
       "\n",
       "    .dataframe tbody tr th {\n",
       "        vertical-align: top;\n",
       "    }\n",
       "\n",
       "    .dataframe thead th {\n",
       "        text-align: right;\n",
       "    }\n",
       "</style>\n",
       "<table border=\"1\" class=\"dataframe\">\n",
       "  <thead>\n",
       "    <tr style=\"text-align: right;\">\n",
       "      <th></th>\n",
       "      <th>Date</th>\n",
       "      <th>Month</th>\n",
       "      <th>Hour</th>\n",
       "      <th>LatLon</th>\n",
       "      <th>Premis Cd</th>\n",
       "      <th>Vict Age</th>\n",
       "      <th>Vict Descent</th>\n",
       "      <th>Crime_Category</th>\n",
       "      <th>Crime_Cat_new</th>\n",
       "    </tr>\n",
       "  </thead>\n",
       "  <tbody>\n",
       "    <tr>\n",
       "      <th>0</th>\n",
       "      <td>8</td>\n",
       "      <td>1</td>\n",
       "      <td>6</td>\n",
       "      <td>13212</td>\n",
       "      <td>501</td>\n",
       "      <td>36</td>\n",
       "      <td>1</td>\n",
       "      <td>1</td>\n",
       "      <td>0</td>\n",
       "    </tr>\n",
       "    <tr>\n",
       "      <th>1</th>\n",
       "      <td>1</td>\n",
       "      <td>1</td>\n",
       "      <td>1</td>\n",
       "      <td>20466</td>\n",
       "      <td>102</td>\n",
       "      <td>25</td>\n",
       "      <td>3</td>\n",
       "      <td>1</td>\n",
       "      <td>0</td>\n",
       "    </tr>\n",
       "    <tr>\n",
       "      <th>2</th>\n",
       "      <td>16</td>\n",
       "      <td>9</td>\n",
       "      <td>3</td>\n",
       "      <td>7239</td>\n",
       "      <td>502</td>\n",
       "      <td>62</td>\n",
       "      <td>1</td>\n",
       "      <td>0</td>\n",
       "      <td>0</td>\n",
       "    </tr>\n",
       "    <tr>\n",
       "      <th>3</th>\n",
       "      <td>1</td>\n",
       "      <td>1</td>\n",
       "      <td>5</td>\n",
       "      <td>36772</td>\n",
       "      <td>502</td>\n",
       "      <td>76</td>\n",
       "      <td>2</td>\n",
       "      <td>0</td>\n",
       "      <td>0</td>\n",
       "    </tr>\n",
       "  </tbody>\n",
       "</table>\n",
       "</div>"
      ],
      "text/plain": [
       "   Date  Month  Hour  LatLon  Premis Cd  Vict Age  Vict Descent  \\\n",
       "0     8      1     6   13212        501        36             1   \n",
       "1     1      1     1   20466        102        25             3   \n",
       "2    16      9     3    7239        502        62             1   \n",
       "3     1      1     5   36772        502        76             2   \n",
       "\n",
       "   Crime_Category  Crime_Cat_new  \n",
       "0               1              0  \n",
       "1               1              0  \n",
       "2               0              0  \n",
       "3               0              0  "
      ]
     },
     "execution_count": 34,
     "metadata": {},
     "output_type": "execute_result"
    }
   ],
   "source": [
    "df_trim.head(4)"
   ]
  }
 ],
 "metadata": {
  "kernelspec": {
   "display_name": "Python 3",
   "language": "python",
   "name": "python3"
  },
  "language_info": {
   "codemirror_mode": {
    "name": "ipython",
    "version": 3
   },
   "file_extension": ".py",
   "mimetype": "text/x-python",
   "name": "python",
   "nbconvert_exporter": "python",
   "pygments_lexer": "ipython3",
   "version": "3.8.9"
  }
 },
 "nbformat": 4,
 "nbformat_minor": 2
}
