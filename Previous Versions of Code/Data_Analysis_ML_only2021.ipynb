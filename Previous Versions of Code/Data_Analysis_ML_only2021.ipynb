{
 "cells": [
  {
   "cell_type": "code",
   "execution_count": 70,
   "metadata": {},
   "outputs": [],
   "source": [
    "#Adding all libraries \n",
    "import numpy as np\n",
    "import pandas as pd\n",
    "import os\n",
    "from sklearn.preprocessing import LabelEncoder\n",
    "from sklearn.model_selection import train_test_split\n",
    "from sklearn.model_selection import RandomizedSearchCV, GridSearchCV\n",
    "from sklearn import tree\n",
    "from sklearn.metrics import accuracy_score,confusion_matrix\n",
    "import seaborn as sns\n",
    "import matplotlib.pyplot as plt\n",
    "import copy\n",
    "from sklearn.model_selection import cross_val_predict, StratifiedKFold\n",
    "from sklearn.naive_bayes import MultinomialNB, GaussianNB, BernoulliNB, ComplementNB\n",
    "from sklearn.metrics import confusion_matrix, ConfusionMatrixDisplay\n",
    "from sklearn.model_selection import cross_val_predict\n",
    "from sklearn.naive_bayes import MultinomialNB\n",
    "from sklearn.metrics import confusion_matrix\n",
    "import seaborn as sns\n",
    "import matplotlib.pyplot as plt\n",
    "from sklearn.model_selection import train_test_split, GridSearchCV\n",
    "from sklearn.metrics import confusion_matrix,accuracy_score, roc_curve, auc\n",
    "from sklearn.metrics import recall_score,precision_score\n",
    "from sklearn.neighbors import KNeighborsClassifier\n",
    "sns.set_style(\"whitegrid\")\n",
    "%matplotlib inline\n",
    "from sklearn.ensemble import RandomForestClassifier\n",
    "from sklearn.ensemble import ExtraTreesClassifier,VotingClassifier"
   ]
  },
  {
   "cell_type": "code",
   "execution_count": 71,
   "metadata": {},
   "outputs": [],
   "source": [
    "from sklearn.metrics import (\n",
    "    accuracy_score,\n",
    "    confusion_matrix,\n",
    "    ConfusionMatrixDisplay,\n",
    "    f1_score,roc_curve,auc,recall_score,precision_score\n",
    ")\n",
    "from sklearn.model_selection import cross_val_score"
   ]
  },
  {
   "cell_type": "code",
   "execution_count": 72,
   "metadata": {},
   "outputs": [],
   "source": [
    "# Load the all the data from CSV files \n",
    "#train_data = pd.read_csv('train.csv')\n",
    "# test_data = pd.read_csv('test.csv')\n",
    "df_original = pd.read_csv('df_original.csv')\n",
    "df_clean = pd.read_csv('df_clean.csv')\n",
    "df = pd.read_csv('df_trim.csv')\n"
   ]
  },
  {
   "cell_type": "code",
   "execution_count": 73,
   "metadata": {},
   "outputs": [],
   "source": [
    "#considering only 2021 data. \n",
    "df_2021 = df_clean[df_clean['Year'] == 2021]\n",
    "df = df_2021"
   ]
  },
  {
   "cell_type": "code",
   "execution_count": 24,
   "metadata": {},
   "outputs": [
    {
     "data": {
      "text/plain": [
       "Index(['AREA', 'Rpt Dist No', 'Vict Age', 'Vict Sex', 'Vict Descent',\n",
       "       'Premis Cd', 'Crime_Category', 'Year', 'Date', 'Month', 'Hour',\n",
       "       'Vict_Age1', 'Vict_Age2', 'Day', 'LatLon'],\n",
       "      dtype='object')"
      ]
     },
     "execution_count": 24,
     "metadata": {},
     "output_type": "execute_result"
    }
   ],
   "source": [
    "df.columns"
   ]
  },
  {
   "cell_type": "code",
   "execution_count": 25,
   "metadata": {},
   "outputs": [
    {
     "data": {
      "text/plain": [
       "Crime_Category\n",
       "0    30977\n",
       "1    22089\n",
       "3    12797\n",
       "4     1417\n",
       "2     1390\n",
       "5      154\n",
       "Name: count, dtype: int64"
      ]
     },
     "execution_count": 25,
     "metadata": {},
     "output_type": "execute_result"
    }
   ],
   "source": [
    "df.Crime_Category.value_counts()"
   ]
  },
  {
   "cell_type": "code",
   "execution_count": 76,
   "metadata": {},
   "outputs": [
    {
     "name": "stderr",
     "output_type": "stream",
     "text": [
      "/var/folders/hz/ws3q5b8d38q_zyr3p29kkh0c0000gn/T/ipykernel_17150/661723001.py:12: SettingWithCopyWarning: \n",
      "A value is trying to be set on a copy of a slice from a DataFrame.\n",
      "Try using .loc[row_indexer,col_indexer] = value instead\n",
      "\n",
      "See the caveats in the documentation: https://pandas.pydata.org/pandas-docs/stable/user_guide/indexing.html#returning-a-view-versus-a-copy\n",
      "  df['Crime_Category'] = df['Crime_Category'].map(category)\n",
      "/var/folders/hz/ws3q5b8d38q_zyr3p29kkh0c0000gn/T/ipykernel_17150/661723001.py:15: SettingWithCopyWarning: \n",
      "A value is trying to be set on a copy of a slice from a DataFrame\n",
      "\n",
      "See the caveats in the documentation: https://pandas.pydata.org/pandas-docs/stable/user_guide/indexing.html#returning-a-view-versus-a-copy\n",
      "  df['Crime_Category'].fillna(0, inplace=True)\n",
      "/var/folders/hz/ws3q5b8d38q_zyr3p29kkh0c0000gn/T/ipykernel_17150/661723001.py:18: SettingWithCopyWarning: \n",
      "A value is trying to be set on a copy of a slice from a DataFrame.\n",
      "Try using .loc[row_indexer,col_indexer] = value instead\n",
      "\n",
      "See the caveats in the documentation: https://pandas.pydata.org/pandas-docs/stable/user_guide/indexing.html#returning-a-view-versus-a-copy\n",
      "  df['Crime_Category'] = df['Crime_Category'].astype(int)\n"
     ]
    }
   ],
   "source": [
    "#Now that we have these catgories, we will encode them, \n",
    "category = {\n",
    "    1: 1,\n",
    "    2: 1,\n",
    "    4: 1,\n",
    "    0: 0,\n",
    "    3 :0, \n",
    "    5 : 0 \n",
    "}\n",
    "\n",
    "# Similarly, applying the category to the same crime category column\n",
    "df['Crime_Category'] = df['Crime_Category'].map(category)\n",
    "\n",
    "# For Miscellaneous Crimes, we will define category to be 0\n",
    "df['Crime_Category'].fillna(0, inplace=True)\n",
    "\n",
    "#converting it into int as float might not work for some models \n",
    "df['Crime_Category'] = df['Crime_Category'].astype(int)\n"
   ]
  },
  {
   "cell_type": "code",
   "execution_count": 77,
   "metadata": {},
   "outputs": [
    {
     "data": {
      "text/plain": [
       "Crime_Category\n",
       "0    43928\n",
       "1    24896\n",
       "Name: count, dtype: int64"
      ]
     },
     "execution_count": 77,
     "metadata": {},
     "output_type": "execute_result"
    }
   ],
   "source": [
    "df.Crime_Category.value_counts()"
   ]
  },
  {
   "cell_type": "code",
   "execution_count": 28,
   "metadata": {},
   "outputs": [
    {
     "data": {
      "text/html": [
       "<div>\n",
       "<style scoped>\n",
       "    .dataframe tbody tr th:only-of-type {\n",
       "        vertical-align: middle;\n",
       "    }\n",
       "\n",
       "    .dataframe tbody tr th {\n",
       "        vertical-align: top;\n",
       "    }\n",
       "\n",
       "    .dataframe thead th {\n",
       "        text-align: right;\n",
       "    }\n",
       "</style>\n",
       "<table border=\"1\" class=\"dataframe\">\n",
       "  <thead>\n",
       "    <tr style=\"text-align: right;\">\n",
       "      <th></th>\n",
       "      <th>AREA</th>\n",
       "      <th>Rpt Dist No</th>\n",
       "      <th>Vict Age</th>\n",
       "      <th>Vict Sex</th>\n",
       "      <th>Vict Descent</th>\n",
       "      <th>Premis Cd</th>\n",
       "      <th>Crime_Category</th>\n",
       "      <th>Year</th>\n",
       "      <th>Date</th>\n",
       "      <th>Month</th>\n",
       "      <th>Hour</th>\n",
       "      <th>Vict_Age1</th>\n",
       "      <th>Vict_Age2</th>\n",
       "      <th>Day</th>\n",
       "      <th>LatLon</th>\n",
       "    </tr>\n",
       "  </thead>\n",
       "  <tbody>\n",
       "    <tr>\n",
       "      <th>234</th>\n",
       "      <td>7</td>\n",
       "      <td>722</td>\n",
       "      <td>31</td>\n",
       "      <td>0</td>\n",
       "      <td>3</td>\n",
       "      <td>203</td>\n",
       "      <td>0</td>\n",
       "      <td>2021</td>\n",
       "      <td>1</td>\n",
       "      <td>2</td>\n",
       "      <td>2</td>\n",
       "      <td>3</td>\n",
       "      <td>2</td>\n",
       "      <td>1</td>\n",
       "      <td>26852</td>\n",
       "    </tr>\n",
       "    <tr>\n",
       "      <th>1408</th>\n",
       "      <td>16</td>\n",
       "      <td>1675</td>\n",
       "      <td>32</td>\n",
       "      <td>0</td>\n",
       "      <td>3</td>\n",
       "      <td>101</td>\n",
       "      <td>0</td>\n",
       "      <td>2021</td>\n",
       "      <td>25</td>\n",
       "      <td>4</td>\n",
       "      <td>1</td>\n",
       "      <td>3</td>\n",
       "      <td>2</td>\n",
       "      <td>7</td>\n",
       "      <td>45042</td>\n",
       "    </tr>\n",
       "    <tr>\n",
       "      <th>2950</th>\n",
       "      <td>2</td>\n",
       "      <td>236</td>\n",
       "      <td>39</td>\n",
       "      <td>0</td>\n",
       "      <td>4</td>\n",
       "      <td>247</td>\n",
       "      <td>0</td>\n",
       "      <td>2021</td>\n",
       "      <td>7</td>\n",
       "      <td>2</td>\n",
       "      <td>5</td>\n",
       "      <td>3</td>\n",
       "      <td>3</td>\n",
       "      <td>7</td>\n",
       "      <td>24787</td>\n",
       "    </tr>\n",
       "    <tr>\n",
       "      <th>3841</th>\n",
       "      <td>11</td>\n",
       "      <td>1148</td>\n",
       "      <td>36</td>\n",
       "      <td>0</td>\n",
       "      <td>3</td>\n",
       "      <td>101</td>\n",
       "      <td>1</td>\n",
       "      <td>2021</td>\n",
       "      <td>25</td>\n",
       "      <td>1</td>\n",
       "      <td>1</td>\n",
       "      <td>3</td>\n",
       "      <td>3</td>\n",
       "      <td>1</td>\n",
       "      <td>31610</td>\n",
       "    </tr>\n",
       "    <tr>\n",
       "      <th>4709</th>\n",
       "      <td>1</td>\n",
       "      <td>124</td>\n",
       "      <td>54</td>\n",
       "      <td>0</td>\n",
       "      <td>2</td>\n",
       "      <td>702</td>\n",
       "      <td>0</td>\n",
       "      <td>2021</td>\n",
       "      <td>9</td>\n",
       "      <td>2</td>\n",
       "      <td>6</td>\n",
       "      <td>4</td>\n",
       "      <td>5</td>\n",
       "      <td>2</td>\n",
       "      <td>0</td>\n",
       "    </tr>\n",
       "  </tbody>\n",
       "</table>\n",
       "</div>"
      ],
      "text/plain": [
       "      AREA  Rpt Dist No  Vict Age  Vict Sex  Vict Descent  Premis Cd  \\\n",
       "234      7          722        31         0             3        203   \n",
       "1408    16         1675        32         0             3        101   \n",
       "2950     2          236        39         0             4        247   \n",
       "3841    11         1148        36         0             3        101   \n",
       "4709     1          124        54         0             2        702   \n",
       "\n",
       "      Crime_Category  Year  Date  Month  Hour  Vict_Age1  Vict_Age2  Day  \\\n",
       "234                0  2021     1      2     2          3          2    1   \n",
       "1408               0  2021    25      4     1          3          2    7   \n",
       "2950               0  2021     7      2     5          3          3    7   \n",
       "3841               1  2021    25      1     1          3          3    1   \n",
       "4709               0  2021     9      2     6          4          5    2   \n",
       "\n",
       "      LatLon  \n",
       "234    26852  \n",
       "1408   45042  \n",
       "2950   24787  \n",
       "3841   31610  \n",
       "4709       0  "
      ]
     },
     "execution_count": 28,
     "metadata": {},
     "output_type": "execute_result"
    }
   ],
   "source": [
    "df.head(5)\n",
    "#We know the age is repeatative but the way it is calculated is different. \n",
    "# Vict age is the exact number, \n",
    "#vict_age1 is stated bins classifier and \n",
    "# vict_age2 is equal frequency classisifer"
   ]
  },
  {
   "cell_type": "code",
   "execution_count": 29,
   "metadata": {},
   "outputs": [],
   "source": [
    "# Split the DataFrame into training and testing sets\n",
    "train_data, test_data = train_test_split(df, test_size=0.3, random_state=1)\n",
    "\n",
    "# Save the subsets to separate CSV files\n",
    "train_data.to_csv('train_2021.csv', index=False)\n",
    "test_data.to_csv('test_2021.csv', index=False)\n",
    "\n",
    "\n",
    "# Separate features and target variable for training data\n",
    "x_train = train_data.drop([\"Crime_Category\"], axis=1)\n",
    "y_train = train_data[\"Crime_Category\"]\n",
    "\n",
    "# Separate features and target variable for testing data\n",
    "x_test = test_data.drop([\"Crime_Category\"], axis=1)\n",
    "y_test = test_data[\"Crime_Category\"]"
   ]
  },
  {
   "cell_type": "code",
   "execution_count": 30,
   "metadata": {},
   "outputs": [
    {
     "name": "stdout",
     "output_type": "stream",
     "text": [
      "x_train (48176, 14)\n",
      "y_train (48176,)\n",
      "x_test (20648, 14)\n",
      "y_test (20648,)\n"
     ]
    }
   ],
   "source": [
    "#Faced issue earlier that there was discrepancy in the number of rows\n",
    "#Hence, checking the shape of the datasets. \n",
    "print(\"x_train\", x_train.shape)\n",
    "print(\"y_train\", y_train.shape)\n",
    "print(\"x_test\", x_test.shape)\n",
    "print(\"y_test\", y_test.shape)"
   ]
  },
  {
   "cell_type": "code",
   "execution_count": 31,
   "metadata": {},
   "outputs": [
    {
     "data": {
      "text/plain": [
       "AREA            0\n",
       "Rpt Dist No     0\n",
       "Vict Age        0\n",
       "Vict Sex        0\n",
       "Vict Descent    0\n",
       "Premis Cd       0\n",
       "Year            0\n",
       "Date            0\n",
       "Month           0\n",
       "Hour            0\n",
       "Vict_Age1       0\n",
       "Vict_Age2       0\n",
       "Day             0\n",
       "LatLon          0\n",
       "dtype: int64"
      ]
     },
     "execution_count": 31,
     "metadata": {},
     "output_type": "execute_result"
    }
   ],
   "source": [
    "#checking if there are any null values \n",
    "x_train.isnull().sum()"
   ]
  },
  {
   "cell_type": "code",
   "execution_count": 26,
   "metadata": {},
   "outputs": [
    {
     "data": {
      "text/plain": [
       "AREA            0\n",
       "Rpt Dist No     0\n",
       "Vict Age        0\n",
       "Vict Sex        0\n",
       "Vict Descent    0\n",
       "Premis Cd       0\n",
       "Year            0\n",
       "Date            0\n",
       "Month           0\n",
       "Hour            0\n",
       "Vict_Age1       0\n",
       "Vict_Age2       0\n",
       "Day             0\n",
       "LatLon          0\n",
       "dtype: int64"
      ]
     },
     "execution_count": 26,
     "metadata": {},
     "output_type": "execute_result"
    }
   ],
   "source": [
    "x_test.isnull().sum()"
   ]
  },
  {
   "cell_type": "code",
   "execution_count": 32,
   "metadata": {},
   "outputs": [],
   "source": [
    "#Creating separate X and Y \n",
    "x = df.drop([\"Crime_Category\"], axis=1)\n",
    "y = df.Crime_Category.values"
   ]
  },
  {
   "cell_type": "code",
   "execution_count": 33,
   "metadata": {},
   "outputs": [
    {
     "data": {
      "text/plain": [
       "Crime_Category\n",
       "0    43928\n",
       "1    24896\n",
       "Name: count, dtype: int64"
      ]
     },
     "execution_count": 33,
     "metadata": {},
     "output_type": "execute_result"
    }
   ],
   "source": [
    "df.Crime_Category.value_counts()"
   ]
  },
  {
   "cell_type": "markdown",
   "metadata": {},
   "source": [
    "## Data Analysis - Part 1 \n",
    "In this part, our output category has 6 values. We will perform all analysis for this particular thing. "
   ]
  },
  {
   "cell_type": "code",
   "execution_count": 58,
   "metadata": {},
   "outputs": [],
   "source": [
    "#labels & classes \n",
    "labels = [0,1]\n",
    "classes = [0,1]\n",
    "\n",
    "## Cost Matrix \n",
    "cost_matrix = np.array([[10,-100],  # a: Cost of True Positive, b: Cost of False Negative\n",
    "                        [150,-10]]) # c: Cost of False Positive, d: Cost of True Negative"
   ]
  },
  {
   "cell_type": "code",
   "execution_count": 35,
   "metadata": {},
   "outputs": [],
   "source": [
    "def plot_confusionmatrix(y_train_pred,y_train,dom):\n",
    "    print(f'{dom} Confusion matrix')\n",
    "    cf = confusion_matrix(y_train_pred,y_train)\n",
    "    # When annot is set to True, it adds text annotations to each cell of the heatmap.\n",
    "    sns.heatmap(cf,annot=True,yticklabels=classes,xticklabels=classes,cmap='Blues', fmt='g')\n",
    "    plt.tight_layout()\n",
    "    plt.show()"
   ]
  },
  {
   "cell_type": "markdown",
   "metadata": {},
   "source": [
    "### Naive Bayes"
   ]
  },
  {
   "cell_type": "code",
   "execution_count": 39,
   "metadata": {},
   "outputs": [
    {
     "name": "stdout",
     "output_type": "stream",
     "text": [
      "TEST ACCURACY  MultinomialNB  is : 0.5509976753196435\n",
      "TRAIN ACCURACY MultinomialNB  is : 0.5527441049485221\n",
      "EXPECTED VALUE  MultinomialNB  is : 65310\n",
      "___________________________\n",
      "TEST ACCURACY  GaussianNB  is : 0.6439364587369236\n",
      "TRAIN ACCURACY GaussianNB  is : 0.6443664895383594\n",
      "EXPECTED VALUE  GaussianNB  is : 621190\n",
      "___________________________\n",
      "TEST ACCURACY  ComplementNB  is : 0.5507555211158466\n",
      "TRAIN ACCURACY ComplementNB  is : 0.5524327465958153\n",
      "EXPECTED VALUE  ComplementNB  is : 62600\n",
      "___________________________\n",
      "TEST ACCURACY  BernoulliNB  is : 0.6353157690817512\n",
      "TRAIN ACCURACY BernoulliNB  is : 0.639530056459648\n",
      "EXPECTED VALUE  BernoulliNB  is : 1260680\n",
      "___________________________\n"
     ]
    }
   ],
   "source": [
    "'''We will look into Naive Bayes models \n",
    "1. Multinomial Naive Bayes - MultinomialNB\n",
    "2. Gaussian Naive Bayes - GaussianNB\n",
    "3. Complement Naive Bayes - ComplementNB\n",
    "4. Bernoulli Naive Bayes - BernoulliNB\n",
    "\n",
    "'''\n",
    "#Defining all the models as a dictionary\n",
    "NB_models = {\n",
    "    'MultinomialNB': MultinomialNB(),\n",
    "    'GaussianNB': GaussianNB(),\n",
    "    'ComplementNB': ComplementNB(),\n",
    "    'BernoulliNB': BernoulliNB()\n",
    "}\n",
    "\n",
    "#for every model in NB model, we will run all the code to calculate everything in one go \n",
    "#took reference from ensemble learning code. \n",
    "\n",
    "for name, classifier in NB_models.items():\n",
    "    \n",
    "    #fit the model to our data \n",
    "    classifier.fit(x_train, y_train)\n",
    "    \n",
    "    '''Calculating all the predicitons'''\n",
    "    #Prediction for the testing dataset \n",
    "    y_pred = classifier.predict(x_test)\n",
    "    #Prediction for the training dataset \n",
    "    y_pred_train =  classifier.predict(x_train)\n",
    "    \n",
    "    #Confusion matrix for calculation \n",
    "    cm = confusion_matrix(y_test, y_pred, labels=labels)\n",
    "\n",
    "    #hashed because I want to evaluate the models faster, can unhash to see the exact confusion matrixes\n",
    "    #plot_confusionmatrix(y_pred_train,y_train,dom='Train')\n",
    "    #plot_confusionmatrix(y_pred,y_test,dom='Test')\n",
    "    \n",
    "    #Calculating Expected Value \n",
    "    EV = np.sum(cm * cost_matrix)\n",
    "    \n",
    "    #Calculatinf other scores for comparision \n",
    "    #f1_score = f1_score(y_test, y_pred, average='weighted')\n",
    "    #Recall = recall_score(y_test, y_pred)\n",
    "    #Precision= precision_score(y_test, y_pred)\n",
    "    \n",
    "    print(\"TEST ACCURACY \",name,\" is :\", accuracy_score(y_test, y_pred))\n",
    "    print(\"TRAIN ACCURACY\",name,\" is :\", accuracy_score(y_train, y_pred_train))\n",
    "    print(\"EXPECTED VALUE \",name,\" is :\", EV)\n",
    "    print(\"___________________________\")\n",
    "    #print(\"F-1 SCORE \",name,\" is :\", f1_score)\n",
    "    #print(\"RECALL \",name,\" is :\", Recall)\n",
    "    #print(\"PRECISION \",name,\" is :\", Precision)\n"
   ]
  },
  {
   "cell_type": "markdown",
   "metadata": {},
   "source": [
    "### Decision Trees"
   ]
  },
  {
   "cell_type": "code",
   "execution_count": 40,
   "metadata": {},
   "outputs": [
    {
     "name": "stdout",
     "output_type": "stream",
     "text": [
      "TEST ACCURACY  GiniTree_NoEstimators  is : 0.6499903138318481\n",
      "TRAIN ACCURACY GiniTree_NoEstimators  is : 0.9993357688475589\n",
      "EXPECTED VALUE  GiniTree_NoEstimators  is : 232910\n",
      "___________________________\n",
      "TEST ACCURACY  EntropyTree_NoEstimators  is : 0.6546881053855095\n",
      "TRAIN ACCURACY EntropyTree_NoEstimators  is : 0.9993357688475589\n",
      "EXPECTED VALUE  EntropyTree_NoEstimators  is : 226570\n",
      "___________________________\n",
      "TEST ACCURACY  RandomForest  is : 0.7191979852770244\n",
      "TRAIN ACCURACY RandomForest  is : 0.9993150116240451\n",
      "EXPECTED VALUE  RandomForest  is : 507820\n",
      "___________________________\n",
      "TEST ACCURACY  ExtraTrees_Gini  is : 0.6948372723750484\n",
      "TRAIN ACCURACY ExtraTrees_Gini  is : 0.9993357688475589\n",
      "EXPECTED VALUE  ExtraTrees_Gini  is : 556440\n",
      "___________________________\n",
      "TEST ACCURACY  ExtraTrees_Entropy  is : 0.6956605966679582\n",
      "TRAIN ACCURACY ExtraTrees_Entropy  is : 0.9993357688475589\n",
      "EXPECTED VALUE  ExtraTrees_Entropy  is : 559930\n",
      "___________________________\n"
     ]
    }
   ],
   "source": [
    "'''\n",
    "In this section, we will look at decision tree models\n",
    "\n",
    "1. tree.DecisionTreeClassifier(criterion='gini', random_state=42)\n",
    "2.  tree.DecisionTreeClassifier(criterion='entropy', random_state=42) \n",
    "3.Extremely Randomized Trees\n",
    "4. Random Forest - RandomForestClassifier(random_state=42)\n",
    "'''\n",
    "\n",
    "Tree_models_42 = {\n",
    "    'GiniTree_NoEstimators' : tree.DecisionTreeClassifier(criterion='gini', random_state=42), \n",
    "    'EntropyTree_NoEstimators' : tree.DecisionTreeClassifier(criterion='entropy', random_state=42),\n",
    "    'RandomForest' : RandomForestClassifier(random_state=42),\n",
    "    'ExtraTrees_Gini': ExtraTreesClassifier( criterion='gini', random_state=42), \n",
    "    'ExtraTrees_Entropy': ExtraTreesClassifier( criterion='entropy', random_state=42), \n",
    "       \n",
    "}\n",
    "\n",
    "#took reference from ensemble learning code. \n",
    "\n",
    "for name, classifier in Tree_models_42.items():\n",
    "    \n",
    "    #fit the model to our data \n",
    "    classifier.fit(x_train, y_train)\n",
    "    \n",
    "    '''Calculating all the predicitons'''\n",
    "    #Prediction for the testing dataset \n",
    "    y_pred = classifier.predict(x_test)\n",
    "    #Prediction for the training dataset \n",
    "    y_pred_train =  classifier.predict(x_train)\n",
    "    \n",
    "    #Confusion matrix for calculation \n",
    "    cm = confusion_matrix(y_test, y_pred, labels=labels)\n",
    "\n",
    "    #hashed because I want to evaluate the models faster, can unhash to see the exact confusion matrixes\n",
    "    #plot_confusionmatrix(y_pred_train,y_train,dom='Train')\n",
    "    #plot_confusionmatrix(y_pred,y_test,dom='Test')\n",
    "    \n",
    "    #Calculating Expected Value \n",
    "    EV = np.sum(cm * cost_matrix)\n",
    "    \n",
    "    #Calculatinf other scores for comparision \n",
    "    #f1_score = f1_score(y_test, y_pred, average='weighted')\n",
    "    #Recall = recall_score(y_test, y_pred)\n",
    "    #Precision= precision_score(y_test, y_pred)\n",
    "    \n",
    "    print(\"TEST ACCURACY \",name,\" is :\", accuracy_score(y_test, y_pred))\n",
    "    print(\"TRAIN ACCURACY\",name,\" is :\", accuracy_score(y_train, y_pred_train))\n",
    "    print(\"EXPECTED VALUE \",name,\" is :\", EV)\n",
    "    print(\"___________________________\")\n",
    "    #print(\"F-1 SCORE \",name,\" is :\", f1_score)\n",
    "    #print(\"RECALL \",name,\" is :\", Recall)\n",
    "    #print(\"PRECISION \",name,\" is :\", Precision)"
   ]
  },
  {
   "cell_type": "markdown",
   "metadata": {},
   "source": [
    "Up until now, Random forest give us the best results with maximum EV. Now let's try to improve the performances of these models. \n",
    "\n",
    "* We will do pre-pruning and post pruning to see improvements. \n",
    "* After that for both the types of models, we will perform cross validation. "
   ]
  },
  {
   "cell_type": "code",
   "execution_count": 42,
   "metadata": {},
   "outputs": [
    {
     "name": "stdout",
     "output_type": "stream",
     "text": [
      "Best Fit Model: DecisionTreeClassifier(criterion='entropy', max_depth=6, random_state=42)\n",
      "TEST ACCURACY is: 0.6904784967067028\n",
      "TRAIN ACCURACY is: 0.6978786117568914\n",
      "EXPECTED VALUE is: 846240\n"
     ]
    }
   ],
   "source": [
    "params = {\n",
    "    'max_depth': [2, 4, 6],\n",
    "    'min_samples_split': [2, 4],\n",
    "    'min_samples_leaf': [1, 2]\n",
    "}\n",
    "\n",
    "classifier = tree.DecisionTreeClassifier(criterion='entropy', random_state=42)\n",
    "gcv = GridSearchCV(estimator=classifier, param_grid=params)\n",
    "gcv.fit(x_train, y_train)\n",
    "\n",
    "modelgcv = gcv.best_estimator_\n",
    "print(\"Best Fit Model:\", modelgcv)\n",
    "\n",
    "modelgcv.fit(x_train, y_train)\n",
    "\n",
    "# Predictions\n",
    "y_pred = modelgcv.predict(x_test)\n",
    "y_pred_train = modelgcv.predict(x_train)\n",
    "\n",
    "# Confusion matrix\n",
    "cm = confusion_matrix(y_test, y_pred, labels=labels)\n",
    "\n",
    "# Calculating Expected Value\n",
    "EV = np.sum(cm * cost_matrix)\n",
    "\n",
    "# Calculating other scores\n",
    "#f1 = f1_score(y_test, y_pred, average='weighted')\n",
    "#Recall = recall_score(y_test, y_pred, average='weighted')  # Add average='weighted' for multiclass\n",
    "#Precision = precision_score(y_test, y_pred, average='weighted')  # Add average='weighted' for multiclass\n",
    "\n",
    "# Printing results\n",
    "print(\"TEST ACCURACY is:\", accuracy_score(y_test, y_pred))\n",
    "print(\"TRAIN ACCURACY is:\", accuracy_score(y_train, y_pred_train))\n",
    "print(\"EXPECTED VALUE is:\", EV)\n",
    "#print(\"F-1 SCORE is:\", f1)\n",
    "#print(\"RECALL is:\", Recall)\n",
    "#print(\"PRECISION is:\", Precision)"
   ]
  },
  {
   "cell_type": "code",
   "execution_count": 43,
   "metadata": {},
   "outputs": [
    {
     "name": "stdout",
     "output_type": "stream",
     "text": [
      "Best Fit Model for GiniTree_NoEstimators DecisionTreeClassifier(max_depth=6, min_samples_leaf=2, random_state=42)\n",
      "TEST ACCURACY  GiniTree_NoEstimators  is : 0.6499903138318481\n",
      "TRAIN ACCURACY GiniTree_NoEstimators  is : 0.9993357688475589\n",
      "EXPECTED VALUE  GiniTree_NoEstimators  is : 232910\n",
      "___________________________\n",
      "Best Fit Model for EntropyTree_NoEstimators DecisionTreeClassifier(criterion='entropy', max_depth=6, min_samples_leaf=3,\n",
      "                       random_state=42)\n",
      "TEST ACCURACY  EntropyTree_NoEstimators  is : 0.6546881053855095\n",
      "TRAIN ACCURACY EntropyTree_NoEstimators  is : 0.9993357688475589\n",
      "EXPECTED VALUE  EntropyTree_NoEstimators  is : 226570\n",
      "___________________________\n",
      "Best Fit Model for RandomForest RandomForestClassifier(max_depth=6, min_samples_leaf=3, random_state=42)\n",
      "TEST ACCURACY  RandomForest  is : 0.7191979852770244\n",
      "TRAIN ACCURACY RandomForest  is : 0.9993150116240451\n",
      "EXPECTED VALUE  RandomForest  is : 507820\n",
      "___________________________\n",
      "Best Fit Model for ExtraTrees_Gini ExtraTreesClassifier(max_depth=6, min_samples_leaf=3, random_state=42)\n",
      "TEST ACCURACY  ExtraTrees_Gini  is : 0.6948372723750484\n",
      "TRAIN ACCURACY ExtraTrees_Gini  is : 0.9993357688475589\n",
      "EXPECTED VALUE  ExtraTrees_Gini  is : 556440\n",
      "___________________________\n",
      "Best Fit Model for ExtraTrees_Entropy ExtraTreesClassifier(criterion='entropy', max_depth=6, min_samples_leaf=3,\n",
      "                     random_state=42)\n",
      "TEST ACCURACY  ExtraTrees_Entropy  is : 0.6956605966679582\n",
      "TRAIN ACCURACY ExtraTrees_Entropy  is : 0.9993357688475589\n",
      "EXPECTED VALUE  ExtraTrees_Entropy  is : 559930\n",
      "___________________________\n"
     ]
    }
   ],
   "source": [
    "# Pre-pruning \n",
    "for name, classifier in Tree_models_42.items():\n",
    "    \n",
    "    # parameters \n",
    "    params = {'max_depth': [2,4,6],\n",
    "         'min_samples_split': [2,3,4],\n",
    "         'min_samples_leaf': [2,3]}\n",
    "    \n",
    "    \n",
    "    gcv = GridSearchCV(estimator=classifier,param_grid=params)\n",
    "    gcv.fit(x_train,y_train)\n",
    "\n",
    "    modelgcv = gcv.best_estimator_\n",
    "    print(\"Best Fit Model for\", name, modelgcv)\n",
    "    \n",
    "\n",
    "    modelgcv.fit(x_train,y_train)\n",
    "    \n",
    "    '''Calculating all the predicitons'''\n",
    "    #Prediction for the testing dataset \n",
    "    y_pred = classifier.predict(x_test)\n",
    "    #Prediction for the training dataset \n",
    "    y_pred_train =  classifier.predict(x_train)\n",
    "    \n",
    "    #Confusion matrix for calculation \n",
    "    cm = confusion_matrix(y_test, y_pred, labels=labels)\n",
    "\n",
    "    #hashed because I want to evaluate the models faster, can unhash to see the exact confusion matrixes\n",
    "    #plot_confusionmatrix(y_pred_train,y_train,dom='Train')\n",
    "    #plot_confusionmatrix(y_pred,y_test,dom='Test')\n",
    "    \n",
    "    #Calculating Expected Value \n",
    "    EV = np.sum(cm * cost_matrix)\n",
    "    \n",
    "    #Calculatinf other scores for comparision \n",
    "    #f1_score = f1_score(y_test, y_pred, average='weighted')\n",
    "    #Recall = recall_score(y_test, y_pred)\n",
    "    #Precision= precision_score(y_test, y_pred)\n",
    "    \n",
    "    print(\"TEST ACCURACY \",name,\" is :\", accuracy_score(y_test, y_pred))\n",
    "    print(\"TRAIN ACCURACY\",name,\" is :\", accuracy_score(y_train, y_pred_train))\n",
    "    print(\"EXPECTED VALUE \",name,\" is :\", EV)\n",
    "    print(\"___________________________\")\n",
    "    #print(\"F-1 SCORE \",name,\" is :\", f1_score)\n",
    "    #print(\"RECALL \",name,\" is :\", Recall)\n",
    "    #print(\"PRECISION \",name,\" is :\", Precision)"
   ]
  },
  {
   "cell_type": "code",
   "execution_count": 44,
   "metadata": {},
   "outputs": [
    {
     "name": "stdout",
     "output_type": "stream",
     "text": [
      "GiniTree_NoEstimators\n",
      "[0.00000000e+00 0.00000000e+00 3.45953725e-06 ... 7.35944459e-03\n",
      " 1.08513179e-02 1.55103832e-02]\n",
      "(4715,)\n",
      "0.015510383158656882\n",
      "______________________\n",
      "EntropyTree_NoEstimators\n",
      "[0.00000000e+00 0.00000000e+00 1.56693686e-05 ... 1.37716326e-02\n",
      " 1.46615453e-02 2.50003480e-02]\n",
      "(4487,)\n",
      "0.02500034795518391\n",
      "______________________\n",
      "GiniTree_BestGCV\n",
      "[0.00000000e+00 4.21925068e-06 1.10705192e-05 2.73217656e-05\n",
      " 2.76762980e-05 2.79276261e-05 2.99002863e-05 3.72709752e-05\n",
      " 3.84688960e-05 4.07294030e-05 4.25789200e-05 4.47328154e-05\n",
      " 4.94219607e-05 5.11076205e-05 5.51083934e-05 5.96056973e-05\n",
      " 7.59515049e-05 8.04056017e-05 8.09682270e-05 8.15356603e-05\n",
      " 9.36825183e-05 1.00274893e-04 1.00280530e-04 1.02626942e-04\n",
      " 1.54456293e-04 1.60827662e-04 1.70928504e-04 1.95662657e-04\n",
      " 2.12131342e-04 2.16688538e-04 2.76711649e-04 3.00845447e-04\n",
      " 3.04601311e-04 3.26591279e-04 3.78091087e-04 3.82123550e-04\n",
      " 4.13979957e-04 4.60992204e-04 5.88958349e-04 6.23806145e-04\n",
      " 7.99647942e-04 8.13714043e-04 1.08353264e-03 1.17142122e-03\n",
      " 1.53570383e-03 1.66448156e-03 2.68785573e-03 2.76587572e-03\n",
      " 6.77314655e-03 7.01832754e-03 7.35944459e-03 1.08513179e-02\n",
      " 1.55103832e-02]\n",
      "(53,)\n",
      "0.015510383158660712\n",
      "______________________\n",
      "EntropyTree_BestGCV\n",
      "[0.00000000e+00 2.58450784e-05 5.00826026e-05 6.85069334e-05\n",
      " 7.73277360e-05 7.77730702e-05 7.78971627e-05 8.60594427e-05\n",
      " 9.38316839e-05 9.56198828e-05 9.70102175e-05 9.95051787e-05\n",
      " 1.06290028e-04 1.16994390e-04 1.22709601e-04 1.37592847e-04\n",
      " 1.43466880e-04 1.47821570e-04 1.60358984e-04 1.71709864e-04\n",
      " 1.91515229e-04 2.19782691e-04 2.61247175e-04 2.93597217e-04\n",
      " 3.16704184e-04 3.56866573e-04 3.95142230e-04 3.98836232e-04\n",
      " 4.37529945e-04 4.77350688e-04 5.16904177e-04 5.29853287e-04\n",
      " 8.20834715e-04 8.33147130e-04 1.00281684e-03 1.01850607e-03\n",
      " 1.04738981e-03 1.04965488e-03 1.07489497e-03 1.10984783e-03\n",
      " 1.31236065e-03 1.59665740e-03 2.08540496e-03 3.07592992e-03\n",
      " 4.62720949e-03 6.61620361e-03 9.31710723e-03 1.08932864e-02\n",
      " 1.37716326e-02 1.46615453e-02 2.50003480e-02]\n",
      "(51,)\n",
      "0.025000347955186797\n",
      "______________________\n"
     ]
    }
   ],
   "source": [
    "#Post Pruning \n",
    "Tree_models_new = {\n",
    "    'GiniTree_NoEstimators' : tree.DecisionTreeClassifier(criterion='gini', random_state=42), \n",
    "    'EntropyTree_NoEstimators' : tree.DecisionTreeClassifier(criterion='entropy', random_state=42),\n",
    "    'GiniTree_BestGCV' : tree.DecisionTreeClassifier(criterion='gini',max_depth=6, min_samples_leaf=3, random_state=42), \n",
    "    'EntropyTree_BestGCV' : tree.DecisionTreeClassifier(criterion='entropy',max_depth=6, min_samples_leaf=2, random_state=42),\n",
    "    #'RandomForest' : RandomForestClassifier(random_state=42),\n",
    "    #'ExtraTrees_Gini': ExtraTreesClassifier( criterion='gini', random_state=42), \n",
    "    #'ExtraTrees_Entropy': ExtraTreesClassifier( criterion='entropy', random_state=42), \n",
    "       \n",
    "}\n",
    "for name, model in Tree_models_new.items():\n",
    "    path = model.cost_complexity_pruning_path(x_train, y_train)\n",
    "    ccp_alphas, impurities = path.ccp_alphas, path.impurities\n",
    "    print(name)\n",
    "    print(ccp_alphas)\n",
    "    print(ccp_alphas.shape)\n",
    "    print(max(ccp_alphas))\n",
    "    ccp_alphas2 = np.arange(0,max(ccp_alphas),0.001)\n",
    "    print(\"______________________\")\n"
   ]
  },
  {
   "cell_type": "code",
   "execution_count": 45,
   "metadata": {},
   "outputs": [
    {
     "data": {
      "image/png": "[encoded data removed]",
      "text/plain": [
       "<Figure size 640x480 with 1 Axes>"
      ]
     },
     "metadata": {},
     "output_type": "display_data"
    }
   ],
   "source": [
    "#For Entropy Tree GCV \n",
    "ccp_alphas2 = np.arange(0,0.037,0.01)\n",
    "models = []\n",
    "for ccp_alpha in ccp_alphas2:\n",
    "    model = tree.DecisionTreeClassifier(criterion='entropy',max_depth=6, min_samples_leaf=2, random_state=42, ccp_alpha=ccp_alpha)\n",
    "    model.fit(x_train, y_train)\n",
    "    models.append(model)\n",
    "    \n",
    "#Plotting the CCP alphas and their corresponding accuracy scores\n",
    "train_acc = []\n",
    "test_acc  = []\n",
    "for m in models:\n",
    "    y_train_pred = m.predict(x_train)\n",
    "    y_test_pred = m.predict(x_test)\n",
    "    train_acc.append(accuracy_score(y_train_pred,y_train))\n",
    "    test_acc.append(accuracy_score(y_test_pred,y_test))\n",
    "\n",
    "plt.scatter(ccp_alphas2,train_acc)\n",
    "plt.scatter(ccp_alphas2,test_acc)\n",
    "plt.plot(ccp_alphas2,train_acc,label='train_accuracy',drawstyle=\"steps-post\")\n",
    "plt.plot(ccp_alphas2,test_acc,label='test_accuracy',drawstyle=\"steps-post\")\n",
    "plt.legend()\n",
    "plt.title('Accuracy vs Alpha')\n",
    "plt.show()"
   ]
  },
  {
   "cell_type": "code",
   "execution_count": 46,
   "metadata": {},
   "outputs": [
    {
     "name": "stdout",
     "output_type": "stream",
     "text": [
      "TEST ACCURACY  EntropyTree_BestGCV  is : 0.6904300658659435\n",
      "TRAIN ACCURACY EntropyTree_BestGCV  is : 0.6978163400863501\n",
      "EXPECTED VALUE  EntropyTree_BestGCV  is : 846130\n",
      "___________________________\n"
     ]
    }
   ],
   "source": [
    "#performing post pruning for every model \n",
    "# alpha = select\n",
    "#selecting the alpha and trying out the accuracy and models\n",
    "\n",
    "classifier = tree.DecisionTreeClassifier(criterion='entropy',max_depth=6, min_samples_leaf=2, random_state=42, ccp_alpha=0)\n",
    "classifier.fit(x_train,y_train)\n",
    "\n",
    "#Prediction for the testing dataset \n",
    "y_pred = classifier.predict(x_test)\n",
    "#Prediction for the training dataset \n",
    "y_pred_train =  classifier.predict(x_train)\n",
    "\n",
    "#Confusion matrix for calculation \n",
    "cm = confusion_matrix(y_test, y_pred, labels=labels)\n",
    "\n",
    "#hashed because I want to evaluate the models faster, can unhash to see the exact confusion matrixes\n",
    "#plot_confusionmatrix(y_pred_train,y_train,dom='Train')\n",
    "#plot_confusionmatrix(y_pred,y_test,dom='Test')\n",
    "\n",
    "#Calculating Expected Value \n",
    "EV = np.sum(cm * cost_matrix)\n",
    "\n",
    "#Calculatinf other scores for comparision \n",
    "#f1_score = f1_score(y_test, y_pred, average='weighted')\n",
    "#Recall = recall_score(y_test, y_pred)\n",
    "#Precision= precision_score(y_test, y_pred)\n",
    "\n",
    "print(\"TEST ACCURACY \",name,\" is :\", accuracy_score(y_test, y_pred))\n",
    "print(\"TRAIN ACCURACY\",name,\" is :\", accuracy_score(y_train, y_pred_train))\n",
    "print(\"EXPECTED VALUE \",name,\" is :\", EV)\n",
    "print(\"___________________________\")\n",
    "#print(\"F-1 SCORE \",name,\" is :\", f1_score)\n",
    "#print(\"RECALL \",name,\" is :\", Recall)\n",
    "#print(\"PRECISION \",name,\" is :\", Precision)"
   ]
  },
  {
   "cell_type": "code",
   "execution_count": 47,
   "metadata": {},
   "outputs": [
    {
     "data": {
      "image/png": "[encoded data removed]",
      "text/plain": [
       "<Figure size 640x480 with 1 Axes>"
      ]
     },
     "metadata": {},
     "output_type": "display_data"
    }
   ],
   "source": [
    "#Gini GCV model\n",
    "ccp_alphas2 = np.arange(0,0.0167,0.001)\n",
    "models = []\n",
    "for ccp_alpha in ccp_alphas2:\n",
    "    model = tree.DecisionTreeClassifier(criterion='gini',max_depth=6, min_samples_leaf=3, random_state=42, ccp_alpha=ccp_alpha)\n",
    "    model.fit(x_train, y_train)\n",
    "    models.append(model)\n",
    "    \n",
    "#Plotting the CCP alphas and their corresponding accuracy scores\n",
    "train_acc = []\n",
    "test_acc  = []\n",
    "for m in models:\n",
    "    y_train_pred = m.predict(x_train)\n",
    "    y_test_pred = m.predict(x_test)\n",
    "    train_acc.append(accuracy_score(y_train_pred,y_train))\n",
    "    test_acc.append(accuracy_score(y_test_pred,y_test))\n",
    "\n",
    "plt.scatter(ccp_alphas2,train_acc)\n",
    "plt.scatter(ccp_alphas2,test_acc)\n",
    "plt.plot(ccp_alphas2,train_acc,label='train_accuracy',drawstyle=\"steps-post\")\n",
    "plt.plot(ccp_alphas2,test_acc,label='test_accuracy',drawstyle=\"steps-post\")\n",
    "plt.legend()\n",
    "plt.title('Accuracy vs Alpha')\n",
    "plt.show()"
   ]
  },
  {
   "cell_type": "code",
   "execution_count": 48,
   "metadata": {},
   "outputs": [
    {
     "name": "stdout",
     "output_type": "stream",
     "text": [
      "TEST ACCURACY  EntropyTree_BestGCV  is : 0.6913986826811314\n",
      "TRAIN ACCURACY EntropyTree_BestGCV  is : 0.6958859182995683\n",
      "EXPECTED VALUE  EntropyTree_BestGCV  is : 835100\n",
      "___________________________\n"
     ]
    }
   ],
   "source": [
    "#performing post pruning for every model \n",
    "# alpha = select\n",
    "#selecting the alpha and trying out the accuracy and models\n",
    "\n",
    "classifier = tree.DecisionTreeClassifier(criterion='gini',max_depth=6, min_samples_leaf=3, random_state=42, ccp_alpha=0)\n",
    "classifier.fit(x_train,y_train)\n",
    "\n",
    "#Prediction for the testing dataset \n",
    "y_pred = classifier.predict(x_test)\n",
    "#Prediction for the training dataset \n",
    "y_pred_train =  classifier.predict(x_train)\n",
    "\n",
    "#Confusion matrix for calculation \n",
    "cm = confusion_matrix(y_test, y_pred, labels=labels)\n",
    "\n",
    "#hashed because I want to evaluate the models faster, can unhash to see the exact confusion matrixes\n",
    "#plot_confusionmatrix(y_pred_train,y_train,dom='Train')\n",
    "#plot_confusionmatrix(y_pred,y_test,dom='Test')\n",
    "\n",
    "#Calculating Expected Value \n",
    "EV = np.sum(cm * cost_matrix)\n",
    "\n",
    "#Calculatinf other scores for comparision \n",
    "#f1_score = f1_score(y_test, y_pred, average='weighted')\n",
    "#Recall = recall_score(y_test, y_pred)\n",
    "#Precision= precision_score(y_test, y_pred)\n",
    "\n",
    "print(\"TEST ACCURACY \",name,\" is :\", accuracy_score(y_test, y_pred))\n",
    "print(\"TRAIN ACCURACY\",name,\" is :\", accuracy_score(y_train, y_pred_train))\n",
    "print(\"EXPECTED VALUE \",name,\" is :\", EV)\n",
    "print(\"___________________________\")\n",
    "#print(\"F-1 SCORE \",name,\" is :\", f1_score)\n",
    "#print(\"RECALL \",name,\" is :\", Recall)\n",
    "#print(\"PRECISION \",name,\" is :\", Precision)"
   ]
  },
  {
   "cell_type": "markdown",
   "metadata": {},
   "source": [
    "Stratified sampling for all the models "
   ]
  },
  {
   "cell_type": "markdown",
   "metadata": {},
   "source": [
    "### Stratified Sampling"
   ]
  },
  {
   "cell_type": "markdown",
   "metadata": {},
   "source": [
    "#### Stratified Sampling - Naive Bayes Models"
   ]
  },
  {
   "cell_type": "code",
   "execution_count": 49,
   "metadata": {},
   "outputs": [
    {
     "name": "stdout",
     "output_type": "stream",
     "text": [
      "Fold 1: Accuracy: 0.5506\n",
      "Fold 2: Accuracy: 0.5518\n",
      "Fold 3: Accuracy: 0.5489\n",
      "Fold 4: Accuracy: 0.5524\n",
      "Fold 5: Accuracy: 0.5616\n",
      "Fold 6: Accuracy: 0.5509\n",
      "Fold 7: Accuracy: 0.5494\n",
      "Fold 8: Accuracy: 0.5464\n",
      "Fold 9: Accuracy: 0.5573\n",
      "Fold 10: Accuracy: 0.5500\n",
      "Average Score for MultinomialNB is 0.5519150873256126\n",
      "Fold 1: Accuracy: 0.5506\n",
      "Fold 2: Accuracy: 0.5518\n",
      "Fold 3: Accuracy: 0.5489\n",
      "Fold 4: Accuracy: 0.5524\n",
      "Fold 5: Accuracy: 0.5616\n",
      "Fold 6: Accuracy: 0.5509\n",
      "Fold 7: Accuracy: 0.5494\n",
      "Fold 8: Accuracy: 0.5464\n",
      "Fold 9: Accuracy: 0.5573\n",
      "Fold 10: Accuracy: 0.5500\n",
      "Fold 11: Accuracy: 0.6433\n",
      "Fold 12: Accuracy: 0.6459\n",
      "Fold 13: Accuracy: 0.6350\n",
      "Fold 14: Accuracy: 0.6404\n",
      "Fold 15: Accuracy: 0.6423\n",
      "Fold 16: Accuracy: 0.6553\n",
      "Fold 17: Accuracy: 0.6479\n",
      "Fold 18: Accuracy: 0.6375\n",
      "Fold 19: Accuracy: 0.6437\n",
      "Fold 20: Accuracy: 0.6443\n",
      "Average Score for GaussianNB is 0.5977421649597838\n",
      "Fold 1: Accuracy: 0.5506\n",
      "Fold 2: Accuracy: 0.5518\n",
      "Fold 3: Accuracy: 0.5489\n",
      "Fold 4: Accuracy: 0.5524\n",
      "Fold 5: Accuracy: 0.5616\n",
      "Fold 6: Accuracy: 0.5509\n",
      "Fold 7: Accuracy: 0.5494\n",
      "Fold 8: Accuracy: 0.5464\n",
      "Fold 9: Accuracy: 0.5573\n",
      "Fold 10: Accuracy: 0.5500\n",
      "Fold 11: Accuracy: 0.6433\n",
      "Fold 12: Accuracy: 0.6459\n",
      "Fold 13: Accuracy: 0.6350\n",
      "Fold 14: Accuracy: 0.6404\n",
      "Fold 15: Accuracy: 0.6423\n",
      "Fold 16: Accuracy: 0.6553\n",
      "Fold 17: Accuracy: 0.6479\n",
      "Fold 18: Accuracy: 0.6375\n",
      "Fold 19: Accuracy: 0.6437\n",
      "Fold 20: Accuracy: 0.6443\n",
      "Fold 21: Accuracy: 0.5506\n",
      "Fold 22: Accuracy: 0.5515\n",
      "Fold 23: Accuracy: 0.5485\n",
      "Fold 24: Accuracy: 0.5522\n",
      "Fold 25: Accuracy: 0.5615\n",
      "Fold 26: Accuracy: 0.5504\n",
      "Fold 27: Accuracy: 0.5491\n",
      "Fold 28: Accuracy: 0.5462\n",
      "Fold 29: Accuracy: 0.5565\n",
      "Fold 30: Accuracy: 0.5495\n",
      "Average Score for ComplementNB is 0.5823647620194043\n",
      "Fold 1: Accuracy: 0.5506\n",
      "Fold 2: Accuracy: 0.5518\n",
      "Fold 3: Accuracy: 0.5489\n",
      "Fold 4: Accuracy: 0.5524\n",
      "Fold 5: Accuracy: 0.5616\n",
      "Fold 6: Accuracy: 0.5509\n",
      "Fold 7: Accuracy: 0.5494\n",
      "Fold 8: Accuracy: 0.5464\n",
      "Fold 9: Accuracy: 0.5573\n",
      "Fold 10: Accuracy: 0.5500\n",
      "Fold 11: Accuracy: 0.6433\n",
      "Fold 12: Accuracy: 0.6459\n",
      "Fold 13: Accuracy: 0.6350\n",
      "Fold 14: Accuracy: 0.6404\n",
      "Fold 15: Accuracy: 0.6423\n",
      "Fold 16: Accuracy: 0.6553\n",
      "Fold 17: Accuracy: 0.6479\n",
      "Fold 18: Accuracy: 0.6375\n",
      "Fold 19: Accuracy: 0.6437\n",
      "Fold 20: Accuracy: 0.6443\n",
      "Fold 21: Accuracy: 0.5506\n",
      "Fold 22: Accuracy: 0.5515\n",
      "Fold 23: Accuracy: 0.5485\n",
      "Fold 24: Accuracy: 0.5522\n",
      "Fold 25: Accuracy: 0.5615\n",
      "Fold 26: Accuracy: 0.5504\n",
      "Fold 27: Accuracy: 0.5491\n",
      "Fold 28: Accuracy: 0.5462\n",
      "Fold 29: Accuracy: 0.5565\n",
      "Fold 30: Accuracy: 0.5495\n",
      "Fold 31: Accuracy: 0.6382\n",
      "Fold 32: Accuracy: 0.6382\n",
      "Fold 33: Accuracy: 0.6382\n",
      "Fold 34: Accuracy: 0.6382\n",
      "Fold 35: Accuracy: 0.6383\n",
      "Fold 36: Accuracy: 0.6383\n",
      "Fold 37: Accuracy: 0.6383\n",
      "Fold 38: Accuracy: 0.6383\n",
      "Fold 39: Accuracy: 0.6382\n",
      "Fold 40: Accuracy: 0.6382\n",
      "Average Score for BernoulliNB is 0.5963400022158042\n"
     ]
    }
   ],
   "source": [
    "#Creating stratified sample \n",
    "\n",
    "stratified_sample =  StratifiedKFold(n_splits=10, shuffle=True, random_state=42)\n",
    "\n",
    "#Empty list to maintain all the scores\n",
    "scores = []\n",
    "\n",
    "#For loops for all calculations \n",
    "for model_name,model in NB_models.items():\n",
    "    for train_index, test_index in stratified_sample.split(x, y):\n",
    "        # Split the data into training and test sets for this fold\n",
    "        X_train, X_test = x.iloc[train_index], x.iloc[test_index]\n",
    "        Y_train, Y_test = y[train_index], y[test_index]\n",
    "\n",
    "        # Train the classifier and make predictions\n",
    "        model.fit(X_train, Y_train)\n",
    "        predictions = model.predict(X_test)\n",
    "\n",
    "        # Calculate and store the accuracy for this fold\n",
    "        score = accuracy_score(Y_test, predictions)\n",
    "        scores.append(score)\n",
    "    # Print the accuracy for each fold\n",
    "    for cnt, score in enumerate(scores, 1):\n",
    "        print(f'Fold {cnt}: Accuracy: {score:.4f}')\n",
    "    print(\"Average Score for\", model_name, \"is\", np.mean(scores))"
   ]
  },
  {
   "cell_type": "markdown",
   "metadata": {},
   "source": [
    "#### Stratified Sampling - Tree Models"
   ]
  },
  {
   "cell_type": "code",
   "execution_count": 50,
   "metadata": {},
   "outputs": [
    {
     "name": "stdout",
     "output_type": "stream",
     "text": [
      "Fold 1: Accuracy: 0.5506\n",
      "Fold 2: Accuracy: 0.5518\n",
      "Fold 3: Accuracy: 0.5489\n",
      "Fold 4: Accuracy: 0.5524\n",
      "Fold 5: Accuracy: 0.5616\n",
      "Fold 6: Accuracy: 0.5509\n",
      "Fold 7: Accuracy: 0.5494\n",
      "Fold 8: Accuracy: 0.5464\n",
      "Fold 9: Accuracy: 0.5573\n",
      "Fold 10: Accuracy: 0.5500\n",
      "Fold 11: Accuracy: 0.6433\n",
      "Fold 12: Accuracy: 0.6459\n",
      "Fold 13: Accuracy: 0.6350\n",
      "Fold 14: Accuracy: 0.6404\n",
      "Fold 15: Accuracy: 0.6423\n",
      "Fold 16: Accuracy: 0.6553\n",
      "Fold 17: Accuracy: 0.6479\n",
      "Fold 18: Accuracy: 0.6375\n",
      "Fold 19: Accuracy: 0.6437\n",
      "Fold 20: Accuracy: 0.6443\n",
      "Fold 21: Accuracy: 0.5506\n",
      "Fold 22: Accuracy: 0.5515\n",
      "Fold 23: Accuracy: 0.5485\n",
      "Fold 24: Accuracy: 0.5522\n",
      "Fold 25: Accuracy: 0.5615\n",
      "Fold 26: Accuracy: 0.5504\n",
      "Fold 27: Accuracy: 0.5491\n",
      "Fold 28: Accuracy: 0.5462\n",
      "Fold 29: Accuracy: 0.5565\n",
      "Fold 30: Accuracy: 0.5495\n",
      "Fold 31: Accuracy: 0.6382\n",
      "Fold 32: Accuracy: 0.6382\n",
      "Fold 33: Accuracy: 0.6382\n",
      "Fold 34: Accuracy: 0.6382\n",
      "Fold 35: Accuracy: 0.6383\n",
      "Fold 36: Accuracy: 0.6383\n",
      "Fold 37: Accuracy: 0.6383\n",
      "Fold 38: Accuracy: 0.6383\n",
      "Fold 39: Accuracy: 0.6382\n",
      "Fold 40: Accuracy: 0.6382\n",
      "Fold 41: Accuracy: 0.6507\n",
      "Fold 42: Accuracy: 0.6635\n",
      "Fold 43: Accuracy: 0.6551\n",
      "Fold 44: Accuracy: 0.6474\n",
      "Fold 45: Accuracy: 0.6584\n",
      "Fold 46: Accuracy: 0.6593\n",
      "Fold 47: Accuracy: 0.6523\n",
      "Fold 48: Accuracy: 0.6502\n",
      "Fold 49: Accuracy: 0.6530\n",
      "Fold 50: Accuracy: 0.6533\n",
      "Average Score for GiniTree_NoEstimators is 0.6079362367715158\n",
      "Fold 1: Accuracy: 0.5506\n",
      "Fold 2: Accuracy: 0.5518\n",
      "Fold 3: Accuracy: 0.5489\n",
      "Fold 4: Accuracy: 0.5524\n",
      "Fold 5: Accuracy: 0.5616\n",
      "Fold 6: Accuracy: 0.5509\n",
      "Fold 7: Accuracy: 0.5494\n",
      "Fold 8: Accuracy: 0.5464\n",
      "Fold 9: Accuracy: 0.5573\n",
      "Fold 10: Accuracy: 0.5500\n",
      "Fold 11: Accuracy: 0.6433\n",
      "Fold 12: Accuracy: 0.6459\n",
      "Fold 13: Accuracy: 0.6350\n",
      "Fold 14: Accuracy: 0.6404\n",
      "Fold 15: Accuracy: 0.6423\n",
      "Fold 16: Accuracy: 0.6553\n",
      "Fold 17: Accuracy: 0.6479\n",
      "Fold 18: Accuracy: 0.6375\n",
      "Fold 19: Accuracy: 0.6437\n",
      "Fold 20: Accuracy: 0.6443\n",
      "Fold 21: Accuracy: 0.5506\n",
      "Fold 22: Accuracy: 0.5515\n",
      "Fold 23: Accuracy: 0.5485\n",
      "Fold 24: Accuracy: 0.5522\n",
      "Fold 25: Accuracy: 0.5615\n",
      "Fold 26: Accuracy: 0.5504\n",
      "Fold 27: Accuracy: 0.5491\n",
      "Fold 28: Accuracy: 0.5462\n",
      "Fold 29: Accuracy: 0.5565\n",
      "Fold 30: Accuracy: 0.5495\n",
      "Fold 31: Accuracy: 0.6382\n",
      "Fold 32: Accuracy: 0.6382\n",
      "Fold 33: Accuracy: 0.6382\n",
      "Fold 34: Accuracy: 0.6382\n",
      "Fold 35: Accuracy: 0.6383\n",
      "Fold 36: Accuracy: 0.6383\n",
      "Fold 37: Accuracy: 0.6383\n",
      "Fold 38: Accuracy: 0.6383\n",
      "Fold 39: Accuracy: 0.6382\n",
      "Fold 40: Accuracy: 0.6382\n",
      "Fold 41: Accuracy: 0.6507\n",
      "Fold 42: Accuracy: 0.6635\n",
      "Fold 43: Accuracy: 0.6551\n",
      "Fold 44: Accuracy: 0.6474\n",
      "Fold 45: Accuracy: 0.6584\n",
      "Fold 46: Accuracy: 0.6593\n",
      "Fold 47: Accuracy: 0.6523\n",
      "Fold 48: Accuracy: 0.6502\n",
      "Fold 49: Accuracy: 0.6530\n",
      "Fold 50: Accuracy: 0.6533\n",
      "Fold 51: Accuracy: 0.6584\n",
      "Fold 52: Accuracy: 0.6642\n",
      "Fold 53: Accuracy: 0.6555\n",
      "Fold 54: Accuracy: 0.6560\n",
      "Fold 55: Accuracy: 0.6579\n",
      "Fold 56: Accuracy: 0.6609\n",
      "Fold 57: Accuracy: 0.6591\n",
      "Fold 58: Accuracy: 0.6452\n",
      "Fold 59: Accuracy: 0.6562\n",
      "Fold 60: Accuracy: 0.6534\n",
      "Average Score for EntropyTree_NoEstimators is 0.6160617671750758\n",
      "Fold 1: Accuracy: 0.5506\n",
      "Fold 2: Accuracy: 0.5518\n",
      "Fold 3: Accuracy: 0.5489\n",
      "Fold 4: Accuracy: 0.5524\n",
      "Fold 5: Accuracy: 0.5616\n",
      "Fold 6: Accuracy: 0.5509\n",
      "Fold 7: Accuracy: 0.5494\n",
      "Fold 8: Accuracy: 0.5464\n",
      "Fold 9: Accuracy: 0.5573\n",
      "Fold 10: Accuracy: 0.5500\n",
      "Fold 11: Accuracy: 0.6433\n",
      "Fold 12: Accuracy: 0.6459\n",
      "Fold 13: Accuracy: 0.6350\n",
      "Fold 14: Accuracy: 0.6404\n",
      "Fold 15: Accuracy: 0.6423\n",
      "Fold 16: Accuracy: 0.6553\n",
      "Fold 17: Accuracy: 0.6479\n",
      "Fold 18: Accuracy: 0.6375\n",
      "Fold 19: Accuracy: 0.6437\n",
      "Fold 20: Accuracy: 0.6443\n",
      "Fold 21: Accuracy: 0.5506\n",
      "Fold 22: Accuracy: 0.5515\n",
      "Fold 23: Accuracy: 0.5485\n",
      "Fold 24: Accuracy: 0.5522\n",
      "Fold 25: Accuracy: 0.5615\n",
      "Fold 26: Accuracy: 0.5504\n",
      "Fold 27: Accuracy: 0.5491\n",
      "Fold 28: Accuracy: 0.5462\n",
      "Fold 29: Accuracy: 0.5565\n",
      "Fold 30: Accuracy: 0.5495\n",
      "Fold 31: Accuracy: 0.6382\n",
      "Fold 32: Accuracy: 0.6382\n",
      "Fold 33: Accuracy: 0.6382\n",
      "Fold 34: Accuracy: 0.6382\n",
      "Fold 35: Accuracy: 0.6383\n",
      "Fold 36: Accuracy: 0.6383\n",
      "Fold 37: Accuracy: 0.6383\n",
      "Fold 38: Accuracy: 0.6383\n",
      "Fold 39: Accuracy: 0.6382\n",
      "Fold 40: Accuracy: 0.6382\n",
      "Fold 41: Accuracy: 0.6507\n",
      "Fold 42: Accuracy: 0.6635\n",
      "Fold 43: Accuracy: 0.6551\n",
      "Fold 44: Accuracy: 0.6474\n",
      "Fold 45: Accuracy: 0.6584\n",
      "Fold 46: Accuracy: 0.6593\n",
      "Fold 47: Accuracy: 0.6523\n",
      "Fold 48: Accuracy: 0.6502\n",
      "Fold 49: Accuracy: 0.6530\n",
      "Fold 50: Accuracy: 0.6533\n",
      "Fold 51: Accuracy: 0.6584\n",
      "Fold 52: Accuracy: 0.6642\n",
      "Fold 53: Accuracy: 0.6555\n",
      "Fold 54: Accuracy: 0.6560\n",
      "Fold 55: Accuracy: 0.6579\n",
      "Fold 56: Accuracy: 0.6609\n",
      "Fold 57: Accuracy: 0.6591\n",
      "Fold 58: Accuracy: 0.6452\n",
      "Fold 59: Accuracy: 0.6562\n",
      "Fold 60: Accuracy: 0.6534\n",
      "Fold 61: Accuracy: 0.7187\n",
      "Fold 62: Accuracy: 0.7302\n",
      "Fold 63: Accuracy: 0.7200\n",
      "Fold 64: Accuracy: 0.7157\n",
      "Fold 65: Accuracy: 0.7232\n",
      "Fold 66: Accuracy: 0.7239\n",
      "Fold 67: Accuracy: 0.7228\n",
      "Fold 68: Accuracy: 0.7203\n",
      "Fold 69: Accuracy: 0.7184\n",
      "Fold 70: Accuracy: 0.7190\n",
      "Average Score for RandomForest is 0.6310838632013288\n",
      "Fold 1: Accuracy: 0.5506\n",
      "Fold 2: Accuracy: 0.5518\n",
      "Fold 3: Accuracy: 0.5489\n",
      "Fold 4: Accuracy: 0.5524\n",
      "Fold 5: Accuracy: 0.5616\n",
      "Fold 6: Accuracy: 0.5509\n",
      "Fold 7: Accuracy: 0.5494\n",
      "Fold 8: Accuracy: 0.5464\n",
      "Fold 9: Accuracy: 0.5573\n",
      "Fold 10: Accuracy: 0.5500\n",
      "Fold 11: Accuracy: 0.6433\n",
      "Fold 12: Accuracy: 0.6459\n",
      "Fold 13: Accuracy: 0.6350\n",
      "Fold 14: Accuracy: 0.6404\n",
      "Fold 15: Accuracy: 0.6423\n",
      "Fold 16: Accuracy: 0.6553\n",
      "Fold 17: Accuracy: 0.6479\n",
      "Fold 18: Accuracy: 0.6375\n",
      "Fold 19: Accuracy: 0.6437\n",
      "Fold 20: Accuracy: 0.6443\n",
      "Fold 21: Accuracy: 0.5506\n",
      "Fold 22: Accuracy: 0.5515\n",
      "Fold 23: Accuracy: 0.5485\n",
      "Fold 24: Accuracy: 0.5522\n",
      "Fold 25: Accuracy: 0.5615\n",
      "Fold 26: Accuracy: 0.5504\n",
      "Fold 27: Accuracy: 0.5491\n",
      "Fold 28: Accuracy: 0.5462\n",
      "Fold 29: Accuracy: 0.5565\n",
      "Fold 30: Accuracy: 0.5495\n",
      "Fold 31: Accuracy: 0.6382\n",
      "Fold 32: Accuracy: 0.6382\n",
      "Fold 33: Accuracy: 0.6382\n",
      "Fold 34: Accuracy: 0.6382\n",
      "Fold 35: Accuracy: 0.6383\n",
      "Fold 36: Accuracy: 0.6383\n",
      "Fold 37: Accuracy: 0.6383\n",
      "Fold 38: Accuracy: 0.6383\n",
      "Fold 39: Accuracy: 0.6382\n",
      "Fold 40: Accuracy: 0.6382\n",
      "Fold 41: Accuracy: 0.6507\n",
      "Fold 42: Accuracy: 0.6635\n",
      "Fold 43: Accuracy: 0.6551\n",
      "Fold 44: Accuracy: 0.6474\n",
      "Fold 45: Accuracy: 0.6584\n",
      "Fold 46: Accuracy: 0.6593\n",
      "Fold 47: Accuracy: 0.6523\n",
      "Fold 48: Accuracy: 0.6502\n",
      "Fold 49: Accuracy: 0.6530\n",
      "Fold 50: Accuracy: 0.6533\n",
      "Fold 51: Accuracy: 0.6584\n",
      "Fold 52: Accuracy: 0.6642\n",
      "Fold 53: Accuracy: 0.6555\n",
      "Fold 54: Accuracy: 0.6560\n",
      "Fold 55: Accuracy: 0.6579\n",
      "Fold 56: Accuracy: 0.6609\n",
      "Fold 57: Accuracy: 0.6591\n",
      "Fold 58: Accuracy: 0.6452\n",
      "Fold 59: Accuracy: 0.6562\n",
      "Fold 60: Accuracy: 0.6534\n",
      "Fold 61: Accuracy: 0.7187\n",
      "Fold 62: Accuracy: 0.7302\n",
      "Fold 63: Accuracy: 0.7200\n",
      "Fold 64: Accuracy: 0.7157\n",
      "Fold 65: Accuracy: 0.7232\n",
      "Fold 66: Accuracy: 0.7239\n",
      "Fold 67: Accuracy: 0.7228\n",
      "Fold 68: Accuracy: 0.7203\n",
      "Fold 69: Accuracy: 0.7184\n",
      "Fold 70: Accuracy: 0.7190\n",
      "Fold 71: Accuracy: 0.6969\n",
      "Fold 72: Accuracy: 0.7141\n",
      "Fold 73: Accuracy: 0.6964\n",
      "Fold 74: Accuracy: 0.6974\n",
      "Fold 75: Accuracy: 0.6999\n",
      "Fold 76: Accuracy: 0.6972\n",
      "Fold 77: Accuracy: 0.7079\n",
      "Fold 78: Accuracy: 0.6982\n",
      "Fold 79: Accuracy: 0.7008\n",
      "Fold 80: Accuracy: 0.7002\n",
      "Average Score for ExtraTrees_Gini is 0.6398113475775598\n",
      "Fold 1: Accuracy: 0.5506\n",
      "Fold 2: Accuracy: 0.5518\n",
      "Fold 3: Accuracy: 0.5489\n",
      "Fold 4: Accuracy: 0.5524\n",
      "Fold 5: Accuracy: 0.5616\n",
      "Fold 6: Accuracy: 0.5509\n",
      "Fold 7: Accuracy: 0.5494\n",
      "Fold 8: Accuracy: 0.5464\n",
      "Fold 9: Accuracy: 0.5573\n",
      "Fold 10: Accuracy: 0.5500\n",
      "Fold 11: Accuracy: 0.6433\n",
      "Fold 12: Accuracy: 0.6459\n",
      "Fold 13: Accuracy: 0.6350\n",
      "Fold 14: Accuracy: 0.6404\n",
      "Fold 15: Accuracy: 0.6423\n",
      "Fold 16: Accuracy: 0.6553\n",
      "Fold 17: Accuracy: 0.6479\n",
      "Fold 18: Accuracy: 0.6375\n",
      "Fold 19: Accuracy: 0.6437\n",
      "Fold 20: Accuracy: 0.6443\n",
      "Fold 21: Accuracy: 0.5506\n",
      "Fold 22: Accuracy: 0.5515\n",
      "Fold 23: Accuracy: 0.5485\n",
      "Fold 24: Accuracy: 0.5522\n",
      "Fold 25: Accuracy: 0.5615\n",
      "Fold 26: Accuracy: 0.5504\n",
      "Fold 27: Accuracy: 0.5491\n",
      "Fold 28: Accuracy: 0.5462\n",
      "Fold 29: Accuracy: 0.5565\n",
      "Fold 30: Accuracy: 0.5495\n",
      "Fold 31: Accuracy: 0.6382\n",
      "Fold 32: Accuracy: 0.6382\n",
      "Fold 33: Accuracy: 0.6382\n",
      "Fold 34: Accuracy: 0.6382\n",
      "Fold 35: Accuracy: 0.6383\n",
      "Fold 36: Accuracy: 0.6383\n",
      "Fold 37: Accuracy: 0.6383\n",
      "Fold 38: Accuracy: 0.6383\n",
      "Fold 39: Accuracy: 0.6382\n",
      "Fold 40: Accuracy: 0.6382\n",
      "Fold 41: Accuracy: 0.6507\n",
      "Fold 42: Accuracy: 0.6635\n",
      "Fold 43: Accuracy: 0.6551\n",
      "Fold 44: Accuracy: 0.6474\n",
      "Fold 45: Accuracy: 0.6584\n",
      "Fold 46: Accuracy: 0.6593\n",
      "Fold 47: Accuracy: 0.6523\n",
      "Fold 48: Accuracy: 0.6502\n",
      "Fold 49: Accuracy: 0.6530\n",
      "Fold 50: Accuracy: 0.6533\n",
      "Fold 51: Accuracy: 0.6584\n",
      "Fold 52: Accuracy: 0.6642\n",
      "Fold 53: Accuracy: 0.6555\n",
      "Fold 54: Accuracy: 0.6560\n",
      "Fold 55: Accuracy: 0.6579\n",
      "Fold 56: Accuracy: 0.6609\n",
      "Fold 57: Accuracy: 0.6591\n",
      "Fold 58: Accuracy: 0.6452\n",
      "Fold 59: Accuracy: 0.6562\n",
      "Fold 60: Accuracy: 0.6534\n",
      "Fold 61: Accuracy: 0.7187\n",
      "Fold 62: Accuracy: 0.7302\n",
      "Fold 63: Accuracy: 0.7200\n",
      "Fold 64: Accuracy: 0.7157\n",
      "Fold 65: Accuracy: 0.7232\n",
      "Fold 66: Accuracy: 0.7239\n",
      "Fold 67: Accuracy: 0.7228\n",
      "Fold 68: Accuracy: 0.7203\n",
      "Fold 69: Accuracy: 0.7184\n",
      "Fold 70: Accuracy: 0.7190\n",
      "Fold 71: Accuracy: 0.6969\n",
      "Fold 72: Accuracy: 0.7141\n",
      "Fold 73: Accuracy: 0.6964\n",
      "Fold 74: Accuracy: 0.6974\n",
      "Fold 75: Accuracy: 0.6999\n",
      "Fold 76: Accuracy: 0.6972\n",
      "Fold 77: Accuracy: 0.7079\n",
      "Fold 78: Accuracy: 0.6982\n",
      "Fold 79: Accuracy: 0.7008\n",
      "Fold 80: Accuracy: 0.7002\n",
      "Fold 81: Accuracy: 0.6993\n",
      "Fold 82: Accuracy: 0.7078\n",
      "Fold 83: Accuracy: 0.6956\n",
      "Fold 84: Accuracy: 0.6978\n",
      "Fold 85: Accuracy: 0.7040\n",
      "Fold 86: Accuracy: 0.6998\n",
      "Fold 87: Accuracy: 0.7001\n",
      "Fold 88: Accuracy: 0.6950\n",
      "Fold 89: Accuracy: 0.7012\n",
      "Fold 90: Accuracy: 0.6999\n",
      "Average Score for ExtraTrees_Entropy is 0.6465057557545829\n"
     ]
    }
   ],
   "source": [
    "#For loops for all calculations \n",
    "for model_name,model in Tree_models_42.items():\n",
    "    for train_index, test_index in stratified_sample.split(x, y):\n",
    "        # Split the data into training and test sets for this fold\n",
    "        X_train, X_test = x.iloc[train_index], x.iloc[test_index]\n",
    "        Y_train, Y_test = y[train_index], y[test_index]\n",
    "\n",
    "        # Train the classifier and make predictions\n",
    "        model.fit(X_train, Y_train)\n",
    "        predictions = model.predict(X_test)\n",
    "\n",
    "        # Calculate and store the accuracy for this fold\n",
    "        score = accuracy_score(Y_test, predictions)\n",
    "        scores.append(score)\n",
    "    # Print the accuracy for each fold\n",
    "    for cnt, score in enumerate(scores, 1):\n",
    "        print(f'Fold {cnt}: Accuracy: {score:.4f}')\n",
    "    print(\"Average Score for\", model_name, \"is\", np.mean(scores))"
   ]
  },
  {
   "cell_type": "markdown",
   "metadata": {},
   "source": [
    "### Ensemble Learning "
   ]
  },
  {
   "cell_type": "markdown",
   "metadata": {},
   "source": [
    "Ensemble learning \n",
    "* Simple averaging \n",
    "* Boosting \n",
    "* Bagging "
   ]
  },
  {
   "cell_type": "markdown",
   "metadata": {},
   "source": [
    "#### Simple Averaging"
   ]
  },
  {
   "cell_type": "code",
   "execution_count": 51,
   "metadata": {},
   "outputs": [
    {
     "data": {
      "text/plain": [
       "(48176, 14)"
      ]
     },
     "execution_count": 51,
     "metadata": {},
     "output_type": "execute_result"
    }
   ],
   "source": [
    "x_train.shape"
   ]
  },
  {
   "cell_type": "code",
   "execution_count": 52,
   "metadata": {},
   "outputs": [
    {
     "data": {
      "text/plain": [
       "(48176,)"
      ]
     },
     "execution_count": 52,
     "metadata": {},
     "output_type": "execute_result"
    }
   ],
   "source": [
    "y_train.shape"
   ]
  },
  {
   "cell_type": "code",
   "execution_count": 53,
   "metadata": {},
   "outputs": [
    {
     "name": "stdout",
     "output_type": "stream",
     "text": [
      "TEST ACCURACY  GiniTree_NoEstimators  is : 0.6499903138318481\n",
      "TRAIN ACCURACY GiniTree_NoEstimators  is : 0.9993357688475589\n",
      "EXPECTED VALUE  GiniTree_NoEstimators  is : 232910\n",
      "TEST ACCURACY  EntropyTree_NoEstimators  is : 0.6546881053855095\n",
      "TRAIN ACCURACY EntropyTree_NoEstimators  is : 0.9993357688475589\n",
      "EXPECTED VALUE  EntropyTree_NoEstimators  is : 226570\n",
      "TEST ACCURACY  ExtraTrees_Gini  is : 0.6948372723750484\n",
      "TRAIN ACCURACY ExtraTrees_Gini  is : 0.9993357688475589\n",
      "EXPECTED VALUE  ExtraTrees_Gini  is : 556440\n",
      "TEST ACCURACY  ExtraTrees_Entropy  is : 0.6956605966679582\n",
      "TRAIN ACCURACY ExtraTrees_Entropy  is : 0.9993357688475589\n",
      "EXPECTED VALUE  ExtraTrees_Entropy  is : 559930\n",
      "TEST ACCURACY  MultinomialNB  is : 0.5509976753196435\n",
      "TRAIN ACCURACY MultinomialNB  is : 0.5527441049485221\n",
      "EXPECTED VALUE  MultinomialNB  is : 65310\n",
      "TEST ACCURACY  GaussianNB  is : 0.6439364587369236\n",
      "TRAIN ACCURACY GaussianNB  is : 0.6443664895383594\n",
      "EXPECTED VALUE  GaussianNB  is : 621190\n",
      "TEST ACCURACY  ComplementNB  is : 0.5507555211158466\n",
      "TRAIN ACCURACY ComplementNB  is : 0.5524327465958153\n",
      "EXPECTED VALUE  ComplementNB  is : 62600\n",
      "TEST ACCURACY  BernoulliNB  is : 0.6353157690817512\n",
      "TRAIN ACCURACY BernoulliNB  is : 0.639530056459648\n",
      "EXPECTED VALUE  BernoulliNB  is : 1260680\n"
     ]
    }
   ],
   "source": [
    "models_dict = {\n",
    "    'GiniTree_NoEstimators' : tree.DecisionTreeClassifier(criterion='gini', random_state=42), \n",
    "    'EntropyTree_NoEstimators' : tree.DecisionTreeClassifier(criterion='entropy', random_state=42),\n",
    "    'ExtraTrees_Gini': ExtraTreesClassifier( criterion='gini', random_state=42), \n",
    "    'ExtraTrees_Entropy': ExtraTreesClassifier( criterion='entropy', random_state=42),\n",
    "    'MultinomialNB': MultinomialNB(),\n",
    "    'GaussianNB': GaussianNB(),\n",
    "    'ComplementNB': ComplementNB(),\n",
    "    'BernoulliNB': BernoulliNB()\n",
    "}\n",
    "\n",
    "for name, classifier in models_dict.items():\n",
    "    #fit the model \n",
    "    classifier.fit(x_train, y_train)\n",
    "    #make prediciton \n",
    "    #Calculating all the predicitons \n",
    "    y_pred = classifier.predict(x_test)\n",
    "    y_pred_train =  classifier.predict(x_train)\n",
    "    \n",
    "    #confusion matrix \n",
    "    cm = confusion_matrix(y_test, y_pred, labels=labels)\n",
    "    \n",
    "    #Calculating Expected Value \n",
    "    EV = np.sum(cm * cost_matrix)\n",
    "    \n",
    "    print(\"TEST ACCURACY \",name,\" is :\", accuracy_score(y_test, y_pred))\n",
    "    print(\"TRAIN ACCURACY\",name,\" is :\", accuracy_score(y_train, y_pred_train))\n",
    "    print(\"EXPECTED VALUE \",name,\" is :\", EV)"
   ]
  },
  {
   "cell_type": "code",
   "execution_count": 54,
   "metadata": {},
   "outputs": [
    {
     "name": "stdout",
     "output_type": "stream",
     "text": [
      "Train accuracy:  0.8653894055131186\n",
      "Test accuracy:  0.6815187911662146\n",
      "Expected Value:  812120\n"
     ]
    }
   ],
   "source": [
    "#HARD VOTING\n",
    "models_dict_2 = [('GiniTree_NoEstimators' , tree.DecisionTreeClassifier(criterion='gini', random_state=42)), \n",
    "                 ('EntropyTree_NoEstimators' , tree.DecisionTreeClassifier(criterion='entropy', random_state=42)),\n",
    "                 ('ExtraTrees_Gini', ExtraTreesClassifier( criterion='gini', random_state=42)), \n",
    "                 ('ExtraTrees_Entropy', ExtraTreesClassifier( criterion='entropy', random_state=42)),\n",
    "                 ('MultinomialNB', MultinomialNB()),\n",
    "                 ('GaussianNB', GaussianNB()),\n",
    "                 ('ComplementNB', ComplementNB()),\n",
    "                 ('BernoulliNB', BernoulliNB())]\n",
    "\n",
    "\n",
    "model = VotingClassifier(estimators=[('GiniTree_NoEstimators' , tree.DecisionTreeClassifier(criterion='gini', random_state=42)), \n",
    "                 ('EntropyTree_NoEstimators' , tree.DecisionTreeClassifier(criterion='entropy', random_state=42)),\n",
    "                 ('ExtraTrees_Gini', ExtraTreesClassifier( criterion='gini', random_state=42)), \n",
    "                 ('ExtraTrees_Entropy', ExtraTreesClassifier( criterion='entropy', random_state=42)),\n",
    "                 ('MultinomialNB', MultinomialNB()),\n",
    "                 ('GaussianNB', GaussianNB()),\n",
    "                 ('ComplementNB', ComplementNB()),\n",
    "                 ('BernoulliNB', BernoulliNB())], voting='hard')\n",
    "#Fitting the model \n",
    "model.fit(x_train,y_train)\n",
    "#Calculating all the predicitons \n",
    "y_pred = model.predict(x_test)\n",
    "y_pred_train =  model.predict(x_train)\n",
    "\n",
    "#Confusion matrix \n",
    "cm = confusion_matrix(y_test, y_pred, labels=labels)\n",
    "\n",
    "#Calculating Expected Value \n",
    "EV = np.sum(cm * cost_matrix)\n",
    "\n",
    "print(\"Train accuracy: \",accuracy_score(y_train, y_pred_train))\n",
    "print(\"Test accuracy: \", accuracy_score(y_test, y_pred))\n",
    "print(\"Expected Value: \", EV)"
   ]
  },
  {
   "cell_type": "code",
   "execution_count": 55,
   "metadata": {},
   "outputs": [
    {
     "name": "stdout",
     "output_type": "stream",
     "text": [
      "Train accuracy:  0.9993357688475589\n",
      "Test accuracy:  0.6718810538550949\n",
      "Expected Value:  453270\n"
     ]
    }
   ],
   "source": [
    "#SOFT VOTING\n",
    "model = VotingClassifier(estimators=models_dict_2, voting='soft')\n",
    "#Fitting the model \n",
    "model.fit(x_train,y_train)\n",
    "#Calculating all the predicitons \n",
    "y_pred = model.predict(x_test)\n",
    "y_pred_train =  model.predict(x_train)\n",
    "\n",
    "#Confusion matrix \n",
    "cm = confusion_matrix(y_test, y_pred, labels=labels)\n",
    "\n",
    "#Calculating Expected Value \n",
    "EV = np.sum(cm * cost_matrix)\n",
    "\n",
    "print(\"Train accuracy: \",accuracy_score(y_train, y_pred_train))\n",
    "print(\"Test accuracy: \", accuracy_score(y_test, y_pred))\n",
    "print(\"Expected Value: \", EV)\n"
   ]
  },
  {
   "cell_type": "markdown",
   "metadata": {},
   "source": [
    "#### Bagging"
   ]
  },
  {
   "cell_type": "code",
   "execution_count": 59,
   "metadata": {},
   "outputs": [
    {
     "name": "stderr",
     "output_type": "stream",
     "text": [
      "/Users/pingle/Library/Python/3.8/lib/python/site-packages/sklearn/ensemble/_base.py:156: FutureWarning: `base_estimator` was renamed to `estimator` in version 1.2 and will be removed in 1.4.\n",
      "  warnings.warn(\n"
     ]
    },
    {
     "name": "stdout",
     "output_type": "stream",
     "text": [
      "TEST ACCURACY  MultinomialNB  is : 0.5509492444788842\n",
      "TRAIN ACCURACY MultinomialNB  is : 0.5526195616074394\n",
      "EXPECTED VALUE  MultinomialNB  is : 64930\n",
      "___________________________\n"
     ]
    },
    {
     "name": "stderr",
     "output_type": "stream",
     "text": [
      "/Users/pingle/Library/Python/3.8/lib/python/site-packages/sklearn/ensemble/_base.py:156: FutureWarning: `base_estimator` was renamed to `estimator` in version 1.2 and will be removed in 1.4.\n",
      "  warnings.warn(\n"
     ]
    },
    {
     "name": "stdout",
     "output_type": "stream",
     "text": [
      "TEST ACCURACY  GaussianNB  is : 0.6440333204184424\n",
      "TRAIN ACCURACY GaussianNB  is : 0.6443457323148456\n",
      "EXPECTED VALUE  GaussianNB  is : 620870\n",
      "___________________________\n"
     ]
    },
    {
     "name": "stderr",
     "output_type": "stream",
     "text": [
      "/Users/pingle/Library/Python/3.8/lib/python/site-packages/sklearn/ensemble/_base.py:156: FutureWarning: `base_estimator` was renamed to `estimator` in version 1.2 and will be removed in 1.4.\n",
      "  warnings.warn(\n"
     ]
    },
    {
     "name": "stdout",
     "output_type": "stream",
     "text": [
      "TEST ACCURACY  ComplementNB  is : 0.550561797752809\n",
      "TRAIN ACCURACY ComplementNB  is : 0.5523289604782464\n",
      "EXPECTED VALUE  ComplementNB  is : 62700\n",
      "___________________________\n"
     ]
    },
    {
     "name": "stderr",
     "output_type": "stream",
     "text": [
      "/Users/pingle/Library/Python/3.8/lib/python/site-packages/sklearn/ensemble/_base.py:156: FutureWarning: `base_estimator` was renamed to `estimator` in version 1.2 and will be removed in 1.4.\n",
      "  warnings.warn(\n"
     ]
    },
    {
     "name": "stdout",
     "output_type": "stream",
     "text": [
      "TEST ACCURACY  BernoulliNB  is : 0.6353157690817512\n",
      "TRAIN ACCURACY BernoulliNB  is : 0.639530056459648\n",
      "EXPECTED VALUE  BernoulliNB  is : 1260680\n",
      "___________________________\n",
      "Train accuracy of RandomForest algo:  0.9993150116240451\n",
      "Test accuracy of RandomForest algo:  0.7202634637737311\n",
      "Expected Value of RandomForest algo:  505380\n"
     ]
    },
    {
     "data": {
      "image/png": "[encoded data removed]",
      "text/plain": [
       "<Figure size 640x480 with 2 Axes>"
      ]
     },
     "metadata": {},
     "output_type": "display_data"
    }
   ],
   "source": [
    "#### Bagging for Naives Bayes models \n",
    "\n",
    "from sklearn.ensemble import BaggingClassifier\n",
    "\n",
    "for name, classifier in NB_models.items():\n",
    "    \n",
    "    model = BaggingClassifier(base_estimator=classifier, n_estimators=100, random_state=42)\n",
    "    \n",
    "    #fit the model to our data \n",
    "    model.fit(x_train, y_train)\n",
    "    \n",
    "    '''Calculating all the predicitons'''\n",
    "    #Prediction for the testing dataset \n",
    "    y_pred = model.predict(x_test)\n",
    "    #Prediction for the training dataset \n",
    "    y_pred_train =  model.predict(x_train)\n",
    "    \n",
    "    #Confusion matrix for calculation \n",
    "    cm = confusion_matrix(y_test, y_pred, labels=labels)\n",
    "\n",
    "    #hashed because I want to evaluate the models faster, can unhash to see the exact confusion matrixes\n",
    "    #plot_confusionmatrix(y_pred_train,y_train,dom='Train')\n",
    "    #plot_confusionmatrix(y_pred,y_test,dom='Test')\n",
    "    \n",
    "    #Calculating Expected Value \n",
    "    EV = np.sum(cm * cost_matrix)\n",
    "    \n",
    "    #Calculatinf other scores for comparision \n",
    "    #f1_score = f1_score(y_test, y_pred, average='weighted')\n",
    "    #Recall = recall_score(y_test, y_pred)\n",
    "    #Precision= precision_score(y_test, y_pred)\n",
    "    \n",
    "    print(\"TEST ACCURACY \",name,\" is :\", accuracy_score(y_test, y_pred))\n",
    "    print(\"TRAIN ACCURACY\",name,\" is :\", accuracy_score(y_train, y_pred_train))\n",
    "    print(\"EXPECTED VALUE \",name,\" is :\", EV)\n",
    "    print(\"___________________________\")\n",
    "    #print(\"F-1 SCORE \",name,\" is :\", f1_score)\n",
    "    #print(\"RECALL \",name,\" is :\", Recall)\n",
    "    #print(\"PRECISION \",name,\" is :\", Precision)\n",
    "\n",
    "\n",
    "\n",
    "# Bagging with Random Forest Classifier \n",
    "# Build a Gaussian Classifier\n",
    "modelMNB = RandomForestClassifier()\n",
    "modelMNB.fit(x_train, y_train)\n",
    "\n",
    "#Calculating all the predicitons \n",
    "y_pred = modelMNB.predict(x_test)\n",
    "y_pred_train =  modelMNB.predict(x_train)\n",
    "\n",
    "#Calculating accuracy \n",
    "mnb_train_accuracy = accuracy_score(y_train, modelMNB.predict(x_train))\n",
    "mnb_test_accuracy = accuracy_score(y_test, modelMNB.predict(x_test))\n",
    "\n",
    "#Confusion matrix \n",
    "cm = confusion_matrix(y_test, y_pred, labels=labels)\n",
    "disp = ConfusionMatrixDisplay(confusion_matrix=cm, display_labels=labels)\n",
    "disp.plot();\n",
    "#plot_confusionmatrix(y_pred_train,y_train,dom='Train')\n",
    "#plot_confusionmatrix(y_pred,y_test,dom='Test')\n",
    "\n",
    "#Calculating Expected Value \n",
    "EV_MNB = np.sum(cm * cost_matrix)\n",
    "\n",
    "print(\"Train accuracy of RandomForest algo: \", mnb_train_accuracy)\n",
    "print(\"Test accuracy of RandomForest algo: \", mnb_test_accuracy)\n",
    "print(\"Expected Value of RandomForest algo: \", EV_MNB)\n",
    "\n"
   ]
  },
  {
   "cell_type": "markdown",
   "metadata": {},
   "source": [
    "#### Boosting"
   ]
  },
  {
   "cell_type": "code",
   "execution_count": 60,
   "metadata": {},
   "outputs": [
    {
     "name": "stderr",
     "output_type": "stream",
     "text": [
      "/Users/pingle/Library/Python/3.8/lib/python/site-packages/sklearn/ensemble/_base.py:156: FutureWarning: `base_estimator` was renamed to `estimator` in version 1.2 and will be removed in 1.4.\n",
      "  warnings.warn(\n"
     ]
    },
    {
     "name": "stdout",
     "output_type": "stream",
     "text": [
      "TEST ACCURACY  GiniTree_NoEstimators  is : 0.6694595118171252\n",
      "TRAIN ACCURACY GiniTree_NoEstimators  is : 0.9993357688475589\n",
      "EXPECTED VALUE  GiniTree_NoEstimators  is : 567920\n",
      "___________________________\n"
     ]
    },
    {
     "name": "stderr",
     "output_type": "stream",
     "text": [
      "/Users/pingle/Library/Python/3.8/lib/python/site-packages/sklearn/ensemble/_base.py:156: FutureWarning: `base_estimator` was renamed to `estimator` in version 1.2 and will be removed in 1.4.\n",
      "  warnings.warn(\n"
     ]
    },
    {
     "name": "stdout",
     "output_type": "stream",
     "text": [
      "TEST ACCURACY  EntropyTree_NoEstimators  is : 0.6969197985277025\n",
      "TRAIN ACCURACY EntropyTree_NoEstimators  is : 0.9993357688475589\n",
      "EXPECTED VALUE  EntropyTree_NoEstimators  is : 386750\n",
      "___________________________\n"
     ]
    },
    {
     "name": "stderr",
     "output_type": "stream",
     "text": [
      "/Users/pingle/Library/Python/3.8/lib/python/site-packages/sklearn/ensemble/_base.py:156: FutureWarning: `base_estimator` was renamed to `estimator` in version 1.2 and will be removed in 1.4.\n",
      "  warnings.warn(\n"
     ]
    },
    {
     "ename": "KeyboardInterrupt",
     "evalue": "",
     "output_type": "error",
     "traceback": [
      "\u001b[0;31m---------------------------------------------------------------------------\u001b[0m",
      "\u001b[0;31mKeyboardInterrupt\u001b[0m                         Traceback (most recent call last)",
      "\u001b[1;32m/Users/pingle/Desktop/ML project/Data_Analysis_ML_only2021.ipynb Cell 48\u001b[0m line \u001b[0;36m1\n\u001b[1;32m     <a href='vscode-notebook-cell:/Users/pingle/Desktop/ML%20project/Data_Analysis_ML_only2021.ipynb#X60sZmlsZQ%3D%3D?line=12'>13</a>\u001b[0m y_pred \u001b[39m=\u001b[39m model\u001b[39m.\u001b[39mpredict(x_test)\n\u001b[1;32m     <a href='vscode-notebook-cell:/Users/pingle/Desktop/ML%20project/Data_Analysis_ML_only2021.ipynb#X60sZmlsZQ%3D%3D?line=13'>14</a>\u001b[0m \u001b[39m#Prediction for the training dataset \u001b[39;00m\n\u001b[0;32m---> <a href='vscode-notebook-cell:/Users/pingle/Desktop/ML%20project/Data_Analysis_ML_only2021.ipynb#X60sZmlsZQ%3D%3D?line=14'>15</a>\u001b[0m y_pred_train \u001b[39m=\u001b[39m  model\u001b[39m.\u001b[39;49mpredict(x_train)\n\u001b[1;32m     <a href='vscode-notebook-cell:/Users/pingle/Desktop/ML%20project/Data_Analysis_ML_only2021.ipynb#X60sZmlsZQ%3D%3D?line=16'>17</a>\u001b[0m \u001b[39m#Confusion matrix for calculation \u001b[39;00m\n\u001b[1;32m     <a href='vscode-notebook-cell:/Users/pingle/Desktop/ML%20project/Data_Analysis_ML_only2021.ipynb#X60sZmlsZQ%3D%3D?line=17'>18</a>\u001b[0m cm \u001b[39m=\u001b[39m confusion_matrix(y_test, y_pred, labels\u001b[39m=\u001b[39mlabels)\n",
      "File \u001b[0;32m~/Library/Python/3.8/lib/python/site-packages/sklearn/ensemble/_weight_boosting.py:710\u001b[0m, in \u001b[0;36mAdaBoostClassifier.predict\u001b[0;34m(self, X)\u001b[0m\n\u001b[1;32m    693\u001b[0m \u001b[39mdef\u001b[39;00m \u001b[39mpredict\u001b[39m(\u001b[39mself\u001b[39m, X):\n\u001b[1;32m    694\u001b[0m     \u001b[39m\"\"\"Predict classes for X.\u001b[39;00m\n\u001b[1;32m    695\u001b[0m \n\u001b[1;32m    696\u001b[0m \u001b[39m    The predicted class of an input sample is computed as the weighted mean\u001b[39;00m\n\u001b[0;32m   (...)\u001b[0m\n\u001b[1;32m    708\u001b[0m \u001b[39m        The predicted classes.\u001b[39;00m\n\u001b[1;32m    709\u001b[0m \u001b[39m    \"\"\"\u001b[39;00m\n\u001b[0;32m--> 710\u001b[0m     pred \u001b[39m=\u001b[39m \u001b[39mself\u001b[39;49m\u001b[39m.\u001b[39;49mdecision_function(X)\n\u001b[1;32m    712\u001b[0m     \u001b[39mif\u001b[39;00m \u001b[39mself\u001b[39m\u001b[39m.\u001b[39mn_classes_ \u001b[39m==\u001b[39m \u001b[39m2\u001b[39m:\n\u001b[1;32m    713\u001b[0m         \u001b[39mreturn\u001b[39;00m \u001b[39mself\u001b[39m\u001b[39m.\u001b[39mclasses_\u001b[39m.\u001b[39mtake(pred \u001b[39m>\u001b[39m \u001b[39m0\u001b[39m, axis\u001b[39m=\u001b[39m\u001b[39m0\u001b[39m)\n",
      "File \u001b[0;32m~/Library/Python/3.8/lib/python/site-packages/sklearn/ensemble/_weight_boosting.py:778\u001b[0m, in \u001b[0;36mAdaBoostClassifier.decision_function\u001b[0;34m(self, X)\u001b[0m\n\u001b[1;32m    774\u001b[0m classes \u001b[39m=\u001b[39m \u001b[39mself\u001b[39m\u001b[39m.\u001b[39mclasses_[:, np\u001b[39m.\u001b[39mnewaxis]\n\u001b[1;32m    776\u001b[0m \u001b[39mif\u001b[39;00m \u001b[39mself\u001b[39m\u001b[39m.\u001b[39malgorithm \u001b[39m==\u001b[39m \u001b[39m\"\u001b[39m\u001b[39mSAMME.R\u001b[39m\u001b[39m\"\u001b[39m:\n\u001b[1;32m    777\u001b[0m     \u001b[39m# The weights are all 1. for SAMME.R\u001b[39;00m\n\u001b[0;32m--> 778\u001b[0m     pred \u001b[39m=\u001b[39m \u001b[39msum\u001b[39;49m(\n\u001b[1;32m    779\u001b[0m         _samme_proba(estimator, n_classes, X) \u001b[39mfor\u001b[39;49;00m estimator \u001b[39min\u001b[39;49;00m \u001b[39mself\u001b[39;49m\u001b[39m.\u001b[39;49mestimators_\n\u001b[1;32m    780\u001b[0m     )\n\u001b[1;32m    781\u001b[0m \u001b[39melse\u001b[39;00m:  \u001b[39m# self.algorithm == \"SAMME\"\u001b[39;00m\n\u001b[1;32m    782\u001b[0m     pred \u001b[39m=\u001b[39m \u001b[39msum\u001b[39m(\n\u001b[1;32m    783\u001b[0m         (estimator\u001b[39m.\u001b[39mpredict(X) \u001b[39m==\u001b[39m classes)\u001b[39m.\u001b[39mT \u001b[39m*\u001b[39m w\n\u001b[1;32m    784\u001b[0m         \u001b[39mfor\u001b[39;00m estimator, w \u001b[39min\u001b[39;00m \u001b[39mzip\u001b[39m(\u001b[39mself\u001b[39m\u001b[39m.\u001b[39mestimators_, \u001b[39mself\u001b[39m\u001b[39m.\u001b[39mestimator_weights_)\n\u001b[1;32m    785\u001b[0m     )\n",
      "File \u001b[0;32m~/Library/Python/3.8/lib/python/site-packages/sklearn/ensemble/_weight_boosting.py:779\u001b[0m, in \u001b[0;36m<genexpr>\u001b[0;34m(.0)\u001b[0m\n\u001b[1;32m    774\u001b[0m classes \u001b[39m=\u001b[39m \u001b[39mself\u001b[39m\u001b[39m.\u001b[39mclasses_[:, np\u001b[39m.\u001b[39mnewaxis]\n\u001b[1;32m    776\u001b[0m \u001b[39mif\u001b[39;00m \u001b[39mself\u001b[39m\u001b[39m.\u001b[39malgorithm \u001b[39m==\u001b[39m \u001b[39m\"\u001b[39m\u001b[39mSAMME.R\u001b[39m\u001b[39m\"\u001b[39m:\n\u001b[1;32m    777\u001b[0m     \u001b[39m# The weights are all 1. for SAMME.R\u001b[39;00m\n\u001b[1;32m    778\u001b[0m     pred \u001b[39m=\u001b[39m \u001b[39msum\u001b[39m(\n\u001b[0;32m--> 779\u001b[0m         _samme_proba(estimator, n_classes, X) \u001b[39mfor\u001b[39;00m estimator \u001b[39min\u001b[39;00m \u001b[39mself\u001b[39m\u001b[39m.\u001b[39mestimators_\n\u001b[1;32m    780\u001b[0m     )\n\u001b[1;32m    781\u001b[0m \u001b[39melse\u001b[39;00m:  \u001b[39m# self.algorithm == \"SAMME\"\u001b[39;00m\n\u001b[1;32m    782\u001b[0m     pred \u001b[39m=\u001b[39m \u001b[39msum\u001b[39m(\n\u001b[1;32m    783\u001b[0m         (estimator\u001b[39m.\u001b[39mpredict(X) \u001b[39m==\u001b[39m classes)\u001b[39m.\u001b[39mT \u001b[39m*\u001b[39m w\n\u001b[1;32m    784\u001b[0m         \u001b[39mfor\u001b[39;00m estimator, w \u001b[39min\u001b[39;00m \u001b[39mzip\u001b[39m(\u001b[39mself\u001b[39m\u001b[39m.\u001b[39mestimators_, \u001b[39mself\u001b[39m\u001b[39m.\u001b[39mestimator_weights_)\n\u001b[1;32m    785\u001b[0m     )\n",
      "File \u001b[0;32m~/Library/Python/3.8/lib/python/site-packages/sklearn/ensemble/_weight_boosting.py:328\u001b[0m, in \u001b[0;36m_samme_proba\u001b[0;34m(estimator, n_classes, X)\u001b[0m\n\u001b[1;32m    320\u001b[0m \u001b[39mdef\u001b[39;00m \u001b[39m_samme_proba\u001b[39m(estimator, n_classes, X):\n\u001b[1;32m    321\u001b[0m     \u001b[39m\"\"\"Calculate algorithm 4, step 2, equation c) of Zhu et al [1].\u001b[39;00m\n\u001b[1;32m    322\u001b[0m \n\u001b[1;32m    323\u001b[0m \u001b[39m    References\u001b[39;00m\n\u001b[0;32m   (...)\u001b[0m\n\u001b[1;32m    326\u001b[0m \n\u001b[1;32m    327\u001b[0m \u001b[39m    \"\"\"\u001b[39;00m\n\u001b[0;32m--> 328\u001b[0m     proba \u001b[39m=\u001b[39m estimator\u001b[39m.\u001b[39;49mpredict_proba(X)\n\u001b[1;32m    330\u001b[0m     \u001b[39m# Displace zero probabilities so the log is defined.\u001b[39;00m\n\u001b[1;32m    331\u001b[0m     \u001b[39m# Also fix negative elements which may occur with\u001b[39;00m\n\u001b[1;32m    332\u001b[0m     \u001b[39m# negative sample weights.\u001b[39;00m\n\u001b[1;32m    333\u001b[0m     np\u001b[39m.\u001b[39mclip(proba, np\u001b[39m.\u001b[39mfinfo(proba\u001b[39m.\u001b[39mdtype)\u001b[39m.\u001b[39meps, \u001b[39mNone\u001b[39;00m, out\u001b[39m=\u001b[39mproba)\n",
      "File \u001b[0;32m~/Library/Python/3.8/lib/python/site-packages/sklearn/ensemble/_forest.py:876\u001b[0m, in \u001b[0;36mForestClassifier.predict_proba\u001b[0;34m(self, X)\u001b[0m\n\u001b[1;32m    871\u001b[0m all_proba \u001b[39m=\u001b[39m [\n\u001b[1;32m    872\u001b[0m     np\u001b[39m.\u001b[39mzeros((X\u001b[39m.\u001b[39mshape[\u001b[39m0\u001b[39m], j), dtype\u001b[39m=\u001b[39mnp\u001b[39m.\u001b[39mfloat64)\n\u001b[1;32m    873\u001b[0m     \u001b[39mfor\u001b[39;00m j \u001b[39min\u001b[39;00m np\u001b[39m.\u001b[39matleast_1d(\u001b[39mself\u001b[39m\u001b[39m.\u001b[39mn_classes_)\n\u001b[1;32m    874\u001b[0m ]\n\u001b[1;32m    875\u001b[0m lock \u001b[39m=\u001b[39m threading\u001b[39m.\u001b[39mLock()\n\u001b[0;32m--> 876\u001b[0m Parallel(n_jobs\u001b[39m=\u001b[39;49mn_jobs, verbose\u001b[39m=\u001b[39;49m\u001b[39mself\u001b[39;49m\u001b[39m.\u001b[39;49mverbose, require\u001b[39m=\u001b[39;49m\u001b[39m\"\u001b[39;49m\u001b[39msharedmem\u001b[39;49m\u001b[39m\"\u001b[39;49m)(\n\u001b[1;32m    877\u001b[0m     delayed(_accumulate_prediction)(e\u001b[39m.\u001b[39;49mpredict_proba, X, all_proba, lock)\n\u001b[1;32m    878\u001b[0m     \u001b[39mfor\u001b[39;49;00m e \u001b[39min\u001b[39;49;00m \u001b[39mself\u001b[39;49m\u001b[39m.\u001b[39;49mestimators_\n\u001b[1;32m    879\u001b[0m )\n\u001b[1;32m    881\u001b[0m \u001b[39mfor\u001b[39;00m proba \u001b[39min\u001b[39;00m all_proba:\n\u001b[1;32m    882\u001b[0m     proba \u001b[39m/\u001b[39m\u001b[39m=\u001b[39m \u001b[39mlen\u001b[39m(\u001b[39mself\u001b[39m\u001b[39m.\u001b[39mestimators_)\n",
      "File \u001b[0;32m~/Library/Python/3.8/lib/python/site-packages/sklearn/utils/parallel.py:65\u001b[0m, in \u001b[0;36mParallel.__call__\u001b[0;34m(self, iterable)\u001b[0m\n\u001b[1;32m     60\u001b[0m config \u001b[39m=\u001b[39m get_config()\n\u001b[1;32m     61\u001b[0m iterable_with_config \u001b[39m=\u001b[39m (\n\u001b[1;32m     62\u001b[0m     (_with_config(delayed_func, config), args, kwargs)\n\u001b[1;32m     63\u001b[0m     \u001b[39mfor\u001b[39;00m delayed_func, args, kwargs \u001b[39min\u001b[39;00m iterable\n\u001b[1;32m     64\u001b[0m )\n\u001b[0;32m---> 65\u001b[0m \u001b[39mreturn\u001b[39;00m \u001b[39msuper\u001b[39;49m()\u001b[39m.\u001b[39;49m\u001b[39m__call__\u001b[39;49m(iterable_with_config)\n",
      "File \u001b[0;32m~/Library/Python/3.8/lib/python/site-packages/joblib/parallel.py:1863\u001b[0m, in \u001b[0;36mParallel.__call__\u001b[0;34m(self, iterable)\u001b[0m\n\u001b[1;32m   1861\u001b[0m     output \u001b[39m=\u001b[39m \u001b[39mself\u001b[39m\u001b[39m.\u001b[39m_get_sequential_output(iterable)\n\u001b[1;32m   1862\u001b[0m     \u001b[39mnext\u001b[39m(output)\n\u001b[0;32m-> 1863\u001b[0m     \u001b[39mreturn\u001b[39;00m output \u001b[39mif\u001b[39;00m \u001b[39mself\u001b[39m\u001b[39m.\u001b[39mreturn_generator \u001b[39melse\u001b[39;00m \u001b[39mlist\u001b[39;49m(output)\n\u001b[1;32m   1865\u001b[0m \u001b[39m# Let's create an ID that uniquely identifies the current call. If the\u001b[39;00m\n\u001b[1;32m   1866\u001b[0m \u001b[39m# call is interrupted early and that the same instance is immediately\u001b[39;00m\n\u001b[1;32m   1867\u001b[0m \u001b[39m# re-used, this id will be used to prevent workers that were\u001b[39;00m\n\u001b[1;32m   1868\u001b[0m \u001b[39m# concurrently finalizing a task from the previous call to run the\u001b[39;00m\n\u001b[1;32m   1869\u001b[0m \u001b[39m# callback.\u001b[39;00m\n\u001b[1;32m   1870\u001b[0m \u001b[39mwith\u001b[39;00m \u001b[39mself\u001b[39m\u001b[39m.\u001b[39m_lock:\n",
      "File \u001b[0;32m~/Library/Python/3.8/lib/python/site-packages/joblib/parallel.py:1792\u001b[0m, in \u001b[0;36mParallel._get_sequential_output\u001b[0;34m(self, iterable)\u001b[0m\n\u001b[1;32m   1790\u001b[0m \u001b[39mself\u001b[39m\u001b[39m.\u001b[39mn_dispatched_batches \u001b[39m+\u001b[39m\u001b[39m=\u001b[39m \u001b[39m1\u001b[39m\n\u001b[1;32m   1791\u001b[0m \u001b[39mself\u001b[39m\u001b[39m.\u001b[39mn_dispatched_tasks \u001b[39m+\u001b[39m\u001b[39m=\u001b[39m \u001b[39m1\u001b[39m\n\u001b[0;32m-> 1792\u001b[0m res \u001b[39m=\u001b[39m func(\u001b[39m*\u001b[39;49margs, \u001b[39m*\u001b[39;49m\u001b[39m*\u001b[39;49mkwargs)\n\u001b[1;32m   1793\u001b[0m \u001b[39mself\u001b[39m\u001b[39m.\u001b[39mn_completed_tasks \u001b[39m+\u001b[39m\u001b[39m=\u001b[39m \u001b[39m1\u001b[39m\n\u001b[1;32m   1794\u001b[0m \u001b[39mself\u001b[39m\u001b[39m.\u001b[39mprint_progress()\n",
      "File \u001b[0;32m~/Library/Python/3.8/lib/python/site-packages/sklearn/utils/parallel.py:127\u001b[0m, in \u001b[0;36m_FuncWrapper.__call__\u001b[0;34m(self, *args, **kwargs)\u001b[0m\n\u001b[1;32m    125\u001b[0m     config \u001b[39m=\u001b[39m {}\n\u001b[1;32m    126\u001b[0m \u001b[39mwith\u001b[39;00m config_context(\u001b[39m*\u001b[39m\u001b[39m*\u001b[39mconfig):\n\u001b[0;32m--> 127\u001b[0m     \u001b[39mreturn\u001b[39;00m \u001b[39mself\u001b[39;49m\u001b[39m.\u001b[39;49mfunction(\u001b[39m*\u001b[39;49margs, \u001b[39m*\u001b[39;49m\u001b[39m*\u001b[39;49mkwargs)\n",
      "File \u001b[0;32m~/Library/Python/3.8/lib/python/site-packages/sklearn/ensemble/_forest.py:647\u001b[0m, in \u001b[0;36m_accumulate_prediction\u001b[0;34m(predict, X, out, lock)\u001b[0m\n\u001b[1;32m    640\u001b[0m \u001b[39mdef\u001b[39;00m \u001b[39m_accumulate_prediction\u001b[39m(predict, X, out, lock):\n\u001b[1;32m    641\u001b[0m     \u001b[39m\"\"\"\u001b[39;00m\n\u001b[1;32m    642\u001b[0m \u001b[39m    This is a utility function for joblib's Parallel.\u001b[39;00m\n\u001b[1;32m    643\u001b[0m \n\u001b[1;32m    644\u001b[0m \u001b[39m    It can't go locally in ForestClassifier or ForestRegressor, because joblib\u001b[39;00m\n\u001b[1;32m    645\u001b[0m \u001b[39m    complains that it cannot pickle it when placed there.\u001b[39;00m\n\u001b[1;32m    646\u001b[0m \u001b[39m    \"\"\"\u001b[39;00m\n\u001b[0;32m--> 647\u001b[0m     prediction \u001b[39m=\u001b[39m predict(X, check_input\u001b[39m=\u001b[39;49m\u001b[39mFalse\u001b[39;49;00m)\n\u001b[1;32m    648\u001b[0m     \u001b[39mwith\u001b[39;00m lock:\n\u001b[1;32m    649\u001b[0m         \u001b[39mif\u001b[39;00m \u001b[39mlen\u001b[39m(out) \u001b[39m==\u001b[39m \u001b[39m1\u001b[39m:\n",
      "File \u001b[0;32m~/Library/Python/3.8/lib/python/site-packages/sklearn/tree/_classes.py:993\u001b[0m, in \u001b[0;36mDecisionTreeClassifier.predict_proba\u001b[0;34m(self, X, check_input)\u001b[0m\n\u001b[1;32m    991\u001b[0m check_is_fitted(\u001b[39mself\u001b[39m)\n\u001b[1;32m    992\u001b[0m X \u001b[39m=\u001b[39m \u001b[39mself\u001b[39m\u001b[39m.\u001b[39m_validate_X_predict(X, check_input)\n\u001b[0;32m--> 993\u001b[0m proba \u001b[39m=\u001b[39m \u001b[39mself\u001b[39;49m\u001b[39m.\u001b[39;49mtree_\u001b[39m.\u001b[39;49mpredict(X)\n\u001b[1;32m    995\u001b[0m \u001b[39mif\u001b[39;00m \u001b[39mself\u001b[39m\u001b[39m.\u001b[39mn_outputs_ \u001b[39m==\u001b[39m \u001b[39m1\u001b[39m:\n\u001b[1;32m    996\u001b[0m     proba \u001b[39m=\u001b[39m proba[:, : \u001b[39mself\u001b[39m\u001b[39m.\u001b[39mn_classes_]\n",
      "\u001b[0;31mKeyboardInterrupt\u001b[0m: "
     ]
    }
   ],
   "source": [
    "#Adaboost for all our models \n",
    "from sklearn.ensemble import AdaBoostClassifier\n",
    "\n",
    "for name, classifier in models_dict.items():\n",
    "    \n",
    "    model = AdaBoostClassifier(base_estimator=classifier, n_estimators=100, random_state=42)\n",
    "    \n",
    "    #fit the model to our data \n",
    "    model.fit(x_train, y_train)\n",
    "    \n",
    "    '''Calculating all the predicitons'''\n",
    "    #Prediction for the testing dataset \n",
    "    y_pred = model.predict(x_test)\n",
    "    #Prediction for the training dataset \n",
    "    y_pred_train =  model.predict(x_train)\n",
    "    \n",
    "    #Confusion matrix for calculation \n",
    "    cm = confusion_matrix(y_test, y_pred, labels=labels)\n",
    "\n",
    "    #hashed because I want to evaluate the models faster, can unhash to see the exact confusion matrixes\n",
    "    #plot_confusionmatrix(y_pred_train,y_train,dom='Train')\n",
    "    #plot_confusionmatrix(y_pred,y_test,dom='Test')\n",
    "    \n",
    "    #Calculating Expected Value \n",
    "    EV = np.sum(cm * cost_matrix)\n",
    "    \n",
    "    #Calculatinf other scores for comparision \n",
    "    #f1_score = f1_score(y_test, y_pred, average='weighted')\n",
    "    #Recall = recall_score(y_test, y_pred)\n",
    "    #Precision= precision_score(y_test, y_pred)\n",
    "    \n",
    "    print(\"TEST ACCURACY \",name,\" is :\", accuracy_score(y_test, y_pred))\n",
    "    print(\"TRAIN ACCURACY\",name,\" is :\", accuracy_score(y_train, y_pred_train))\n",
    "    print(\"EXPECTED VALUE \",name,\" is :\", EV)\n",
    "    print(\"___________________________\")\n",
    "    #print(\"F-1 SCORE \",name,\" is :\", f1_score)\n",
    "    #print(\"RECALL \",name,\" is :\", Recall)\n",
    "    #print(\"PRECISION \",name,\" is :\", Precision)"
   ]
  },
  {
   "cell_type": "code",
   "execution_count": null,
   "metadata": {},
   "outputs": [],
   "source": [
    "#XGBoost \n",
    "import xgboost as xgb\n",
    "\n",
    "# Build a Gaussian Classifier\n",
    "modelXG = xgb.XGBClassifier(n_estimators=100, max_depth=10, random_state=42, \n",
    "                                 booster='gbtree', subsample=0.8, colsample_bytree=0.8)\n",
    "modelXG.fit(x_train, y_train)\n",
    "\n",
    "#Calculating all the predicitons \n",
    "y_pred = modelXG.predict(x_test)\n",
    "y_pred_train =  modelXG.predict(x_train)\n",
    "\n",
    "#Calculating accuracy \n",
    "mnb_train_accuracy = accuracy_score(y_train, modelXG.predict(x_train))\n",
    "mnb_test_accuracy = accuracy_score(y_test, modelXG.predict(x_test))\n",
    "\n",
    "#Confusion matrix \n",
    "labels = [0,1,2,3,4,5]\n",
    "classes = [0,1,2,3,4,5]\n",
    "cm = confusion_matrix(y_test, y_pred, labels=labels)\n",
    "disp = ConfusionMatrixDisplay(confusion_matrix=cm, display_labels=labels)\n",
    "disp.plot();\n",
    "#plot_confusionmatrix(y_pred_train,y_train,dom='Train')\n",
    "#plot_confusionmatrix(y_pred,y_test,dom='Test')\n",
    "\n",
    "#Calculating Expected Value \n",
    "EV_MNB = np.sum(cm * cost_matrix)\n",
    "\n",
    "print(\"Train accuracy of XGBoost algo: \", mnb_train_accuracy)\n",
    "print(\"Test accuracy of XGBoost algo: \", mnb_test_accuracy)\n",
    "print(\"Expected Value of XGBoost algo: \", EV_MNB)\n"
   ]
  },
  {
   "cell_type": "markdown",
   "metadata": {},
   "source": [
    "## Feature Selection - Data analysis Part 2"
   ]
  },
  {
   "cell_type": "markdown",
   "metadata": {},
   "source": [
    "Further improve accuracy by first feature selection - keeping only relevant features \n",
    "* For NB methods - simple + stratified \n",
    "* For tree methods - simple, pre-prune, post prune\n",
    "* Ensemble - simple, boosting, bagging"
   ]
  },
  {
   "cell_type": "code",
   "execution_count": null,
   "metadata": {},
   "outputs": [],
   "source": [
    "a"
   ]
  },
  {
   "cell_type": "code",
   "execution_count": 61,
   "metadata": {},
   "outputs": [
    {
     "data": {
      "image/png": "[encoded data removed]",
      "text/plain": [
       "<Figure size 640x480 with 1 Axes>"
      ]
     },
     "metadata": {},
     "output_type": "display_data"
    }
   ],
   "source": [
    "#Selecting features part 1 - using feature importances\n",
    "\n",
    "# storing the feature names in a list\n",
    "feature_names_from_dataset = df.columns.drop('Crime_Category').tolist()\n",
    "feature_names_from_dataset\n",
    "\n",
    "#rf model \n",
    "rf_model= RandomForestClassifier(n_estimators = 100)\n",
    "rf_model.fit(x_train, y_train)\n",
    "\n",
    "#Calculating importance of all features and plotting them\n",
    "importances = rf_model.feature_importances_\n",
    "std = np.std([tree.feature_importances_ for tree in rf_model.estimators_], axis=0)\n",
    "forest_importances = pd.Series(importances, index = feature_names_from_dataset)\n",
    "# print(forest_importances)\n",
    "\n",
    "fig, ax = plt.subplots()\n",
    "forest_importances.plot.bar(yerr=std, ax=ax)\n",
    "ax.set_title(\"Feature importances using MDI\")\n",
    "ax.set_ylabel(\"Mean decrease in impurity\")\n",
    "fig.tight_layout()"
   ]
  },
  {
   "cell_type": "code",
   "execution_count": 62,
   "metadata": {},
   "outputs": [
    {
     "data": {
      "image/png": "[encoded data removed]",
      "text/plain": [
       "<Figure size 640x480 with 1 Axes>"
      ]
     },
     "metadata": {},
     "output_type": "display_data"
    }
   ],
   "source": [
    "\n",
    "# storing the feature names in a list\n",
    "feature_names_from_dataset = df.columns.drop('Crime_Category').tolist()\n",
    "feature_names_from_dataset\n",
    "\n",
    "#rf model \n",
    "rf_model= RandomForestClassifier(n_estimators = 300)\n",
    "rf_model.fit(x_train, y_train)\n",
    "\n",
    "#Calculating importance of all features and plotting them\n",
    "importances = rf_model.feature_importances_\n",
    "std = np.std([tree.feature_importances_ for tree in rf_model.estimators_], axis=0)\n",
    "forest_importances = pd.Series(importances, index = feature_names_from_dataset)\n",
    "# print(forest_importances)\n",
    "\n",
    "fig, ax = plt.subplots()\n",
    "forest_importances.plot.bar(yerr=std, ax=ax)\n",
    "ax.set_title(\"Feature importances using MDI\")\n",
    "ax.set_ylabel(\"Mean decrease in impurity\")\n",
    "fig.tight_layout()"
   ]
  },
  {
   "cell_type": "markdown",
   "metadata": {},
   "source": [
    "['Rpt Dist No', 'Vict Age', 'Vict Descent', 'Premis Cd', 'Date', 'Month', 'Hour', 'Day', 'LatLon']"
   ]
  },
  {
   "cell_type": "code",
   "execution_count": null,
   "metadata": {},
   "outputs": [
    {
     "data": {
      "text/plain": [
       "Index(['AREA', 'Rpt Dist No', 'Vict Age', 'Vict Sex', 'Vict Descent',\n",
       "       'Premis Cd', 'Year', 'Date', 'Month', 'Hour', 'Vict_Age1', 'Vict_Age2',\n",
       "       'Day', 'LatLon'],\n",
       "      dtype='object')"
      ]
     },
     "execution_count": 20,
     "metadata": {},
     "output_type": "execute_result"
    }
   ],
   "source": [
    "x_train.columns\n",
    "\n"
   ]
  },
  {
   "cell_type": "markdown",
   "metadata": {},
   "source": [
    "Guassian NB gave highest accuracy, so we will do feature selection according to it. "
   ]
  },
  {
   "cell_type": "code",
   "execution_count": 63,
   "metadata": {},
   "outputs": [
    {
     "ename": "SyntaxError",
     "evalue": "invalid character in identifier (357937456.py, line 4)",
     "output_type": "error",
     "traceback": [
      "\u001b[0;36m  Cell \u001b[0;32mIn[63], line 4\u001b[0;36m\u001b[0m\n\u001b[0;31m    sfs = SequentialFeatureSelector(modelGB, n_features_to_select=3, direction=”forward”)\u001b[0m\n\u001b[0m                                                                                       ^\u001b[0m\n\u001b[0;31mSyntaxError\u001b[0m\u001b[0;31m:\u001b[0m invalid character in identifier\n"
     ]
    }
   ],
   "source": [
    "from sklearn.feature_selection import SequentialFeatureSelector\n",
    "\n",
    "\n",
    "sfs = SequentialFeatureSelector(modelGB, n_features_to_select=3, direction=”forward”)\n",
    "sfs.fit(x_train, y_train)\n",
    "X_selection = sfs.transform(X)"
   ]
  },
  {
   "cell_type": "code",
   "execution_count": 64,
   "metadata": {},
   "outputs": [
    {
     "name": "stderr",
     "output_type": "stream",
     "text": [
      "/Users/pingle/Library/Python/3.8/lib/python/site-packages/sklearn/naive_bayes.py:510: RuntimeWarning: divide by zero encountered in log\n",
      "  n_ij = -0.5 * np.sum(np.log(2.0 * np.pi * self.var_[i, :]))\n",
      "/Users/pingle/Library/Python/3.8/lib/python/site-packages/sklearn/naive_bayes.py:511: RuntimeWarning: invalid value encountered in divide\n",
      "  n_ij -= 0.5 * np.sum(((X - self.theta_[i, :]) ** 2) / (self.var_[i, :]), 1)\n",
      "/Users/pingle/Library/Python/3.8/lib/python/site-packages/sklearn/naive_bayes.py:510: RuntimeWarning: divide by zero encountered in log\n",
      "  n_ij = -0.5 * np.sum(np.log(2.0 * np.pi * self.var_[i, :]))\n",
      "/Users/pingle/Library/Python/3.8/lib/python/site-packages/sklearn/naive_bayes.py:511: RuntimeWarning: invalid value encountered in divide\n",
      "  n_ij -= 0.5 * np.sum(((X - self.theta_[i, :]) ** 2) / (self.var_[i, :]), 1)\n",
      "/Users/pingle/Library/Python/3.8/lib/python/site-packages/sklearn/naive_bayes.py:510: RuntimeWarning: divide by zero encountered in log\n",
      "  n_ij = -0.5 * np.sum(np.log(2.0 * np.pi * self.var_[i, :]))\n",
      "/Users/pingle/Library/Python/3.8/lib/python/site-packages/sklearn/naive_bayes.py:511: RuntimeWarning: invalid value encountered in divide\n",
      "  n_ij -= 0.5 * np.sum(((X - self.theta_[i, :]) ** 2) / (self.var_[i, :]), 1)\n",
      "/Users/pingle/Library/Python/3.8/lib/python/site-packages/sklearn/naive_bayes.py:510: RuntimeWarning: divide by zero encountered in log\n",
      "  n_ij = -0.5 * np.sum(np.log(2.0 * np.pi * self.var_[i, :]))\n",
      "/Users/pingle/Library/Python/3.8/lib/python/site-packages/sklearn/naive_bayes.py:511: RuntimeWarning: invalid value encountered in divide\n",
      "  n_ij -= 0.5 * np.sum(((X - self.theta_[i, :]) ** 2) / (self.var_[i, :]), 1)\n",
      "/Users/pingle/Library/Python/3.8/lib/python/site-packages/sklearn/naive_bayes.py:510: RuntimeWarning: divide by zero encountered in log\n",
      "  n_ij = -0.5 * np.sum(np.log(2.0 * np.pi * self.var_[i, :]))\n",
      "/Users/pingle/Library/Python/3.8/lib/python/site-packages/sklearn/naive_bayes.py:511: RuntimeWarning: invalid value encountered in divide\n",
      "  n_ij -= 0.5 * np.sum(((X - self.theta_[i, :]) ** 2) / (self.var_[i, :]), 1)\n",
      "/Users/pingle/Library/Python/3.8/lib/python/site-packages/sklearn/naive_bayes.py:510: RuntimeWarning: divide by zero encountered in log\n",
      "  n_ij = -0.5 * np.sum(np.log(2.0 * np.pi * self.var_[i, :]))\n",
      "/Users/pingle/Library/Python/3.8/lib/python/site-packages/sklearn/naive_bayes.py:511: RuntimeWarning: invalid value encountered in divide\n",
      "  n_ij -= 0.5 * np.sum(((X - self.theta_[i, :]) ** 2) / (self.var_[i, :]), 1)\n",
      "/Users/pingle/Library/Python/3.8/lib/python/site-packages/sklearn/naive_bayes.py:510: RuntimeWarning: divide by zero encountered in log\n",
      "  n_ij = -0.5 * np.sum(np.log(2.0 * np.pi * self.var_[i, :]))\n",
      "/Users/pingle/Library/Python/3.8/lib/python/site-packages/sklearn/naive_bayes.py:511: RuntimeWarning: invalid value encountered in divide\n",
      "  n_ij -= 0.5 * np.sum(((X - self.theta_[i, :]) ** 2) / (self.var_[i, :]), 1)\n",
      "/Users/pingle/Library/Python/3.8/lib/python/site-packages/sklearn/naive_bayes.py:510: RuntimeWarning: divide by zero encountered in log\n",
      "  n_ij = -0.5 * np.sum(np.log(2.0 * np.pi * self.var_[i, :]))\n",
      "/Users/pingle/Library/Python/3.8/lib/python/site-packages/sklearn/naive_bayes.py:511: RuntimeWarning: invalid value encountered in divide\n",
      "  n_ij -= 0.5 * np.sum(((X - self.theta_[i, :]) ** 2) / (self.var_[i, :]), 1)\n",
      "/Users/pingle/Library/Python/3.8/lib/python/site-packages/sklearn/naive_bayes.py:510: RuntimeWarning: divide by zero encountered in log\n",
      "  n_ij = -0.5 * np.sum(np.log(2.0 * np.pi * self.var_[i, :]))\n",
      "/Users/pingle/Library/Python/3.8/lib/python/site-packages/sklearn/naive_bayes.py:511: RuntimeWarning: invalid value encountered in divide\n",
      "  n_ij -= 0.5 * np.sum(((X - self.theta_[i, :]) ** 2) / (self.var_[i, :]), 1)\n",
      "/Users/pingle/Library/Python/3.8/lib/python/site-packages/sklearn/naive_bayes.py:510: RuntimeWarning: divide by zero encountered in log\n",
      "  n_ij = -0.5 * np.sum(np.log(2.0 * np.pi * self.var_[i, :]))\n",
      "/Users/pingle/Library/Python/3.8/lib/python/site-packages/sklearn/naive_bayes.py:511: RuntimeWarning: invalid value encountered in divide\n",
      "  n_ij -= 0.5 * np.sum(((X - self.theta_[i, :]) ** 2) / (self.var_[i, :]), 1)\n"
     ]
    },
    {
     "name": "stdout",
     "output_type": "stream",
     "text": [
      "['AREA' 'Rpt Dist No' 'Vict Sex' 'Vict Descent' 'Year' 'Date' 'Month'\n",
      " 'Hour' 'Vict_Age1' 'Day']\n"
     ]
    }
   ],
   "source": [
    "from sklearn.feature_selection import SequentialFeatureSelector as sfs\n",
    "modelGB= GaussianNB()\n",
    "\n",
    "modelGB_forward=sfs(modelGB,n_features_to_select=10, direction=\"forward\")\n",
    "modelGB_forward.fit(x_train,y_train)\n",
    "\n",
    "# Get the column names for the selected features\n",
    "selected_features = modelGB_forward.get_feature_names_out()\n",
    "print(selected_features)\n",
    "\n",
    "#modelGB_forward_r2=sfs(modelGB,n_features_to_select=8, direction=\"forward\",scoring='callable')\n",
    "#modelGB_forward_r1.fit(x_train,y_train)\n",
    "#Get the column name for the selected feature.\n",
    "#modelGB_forward_r1.k_feature_names_\n"
   ]
  },
  {
   "cell_type": "code",
   "execution_count": 65,
   "metadata": {},
   "outputs": [
    {
     "name": "stdout",
     "output_type": "stream",
     "text": [
      "['AREA' 'Rpt Dist No' 'Vict Sex' 'Vict Descent' 'Year' 'Date' 'Month'\n",
      " 'Hour' 'Vict_Age1' 'Day']\n"
     ]
    }
   ],
   "source": [
    "modelGB_back=sfs(modelGB,n_features_to_select=10, direction=\"backward\")\n",
    "modelGB_back.fit(x_train,y_train)\n",
    "\n",
    "# Get the column names for the selected features\n",
    "selected_features = modelGB_back.get_feature_names_out()\n",
    "print(selected_features)"
   ]
  },
  {
   "cell_type": "markdown",
   "metadata": {},
   "source": [
    "Based on this, we will trim our features and drop the remaining features. \n",
    "\n",
    "* For trees - ['Rpt Dist No', 'Vict Age', 'Vict Descent', 'Premis Cd', 'Date', 'Month', 'Hour', 'Day', 'LatLon']\n",
    "* For NB models - 'AREA' 'Rpt Dist No' 'Vict Sex' 'Vict Descent' 'Year' 'Date' 'Month'\n",
    " 'Hour' 'Vict_Age1' 'Day'\n",
    "\n",
    "* Both -'Rpt Dist No' 'Vict Sex' 'Vict Descent' Date' 'Month' 'Hour' 'Vict_Age1' 'Day' 'LatLon'"
   ]
  },
  {
   "cell_type": "code",
   "execution_count": null,
   "metadata": {},
   "outputs": [
    {
     "data": {
      "text/html": [
       "<div>\n",
       "<style scoped>\n",
       "    .dataframe tbody tr th:only-of-type {\n",
       "        vertical-align: middle;\n",
       "    }\n",
       "\n",
       "    .dataframe tbody tr th {\n",
       "        vertical-align: top;\n",
       "    }\n",
       "\n",
       "    .dataframe thead th {\n",
       "        text-align: right;\n",
       "    }\n",
       "</style>\n",
       "<table border=\"1\" class=\"dataframe\">\n",
       "  <thead>\n",
       "    <tr style=\"text-align: right;\">\n",
       "      <th></th>\n",
       "      <th>AREA</th>\n",
       "      <th>Rpt Dist No</th>\n",
       "      <th>Vict Age</th>\n",
       "      <th>Vict Sex</th>\n",
       "      <th>Vict Descent</th>\n",
       "      <th>Premis Cd</th>\n",
       "      <th>Crime_Category</th>\n",
       "      <th>Year</th>\n",
       "      <th>Date</th>\n",
       "      <th>Month</th>\n",
       "      <th>Hour</th>\n",
       "      <th>Vict_Age1</th>\n",
       "      <th>Vict_Age2</th>\n",
       "      <th>Day</th>\n",
       "      <th>LatLon</th>\n",
       "    </tr>\n",
       "  </thead>\n",
       "  <tbody>\n",
       "    <tr>\n",
       "      <th>0</th>\n",
       "      <td>3</td>\n",
       "      <td>377</td>\n",
       "      <td>36</td>\n",
       "      <td>0</td>\n",
       "      <td>1</td>\n",
       "      <td>501</td>\n",
       "      <td>1</td>\n",
       "      <td>2020</td>\n",
       "      <td>8</td>\n",
       "      <td>1</td>\n",
       "      <td>6</td>\n",
       "      <td>3</td>\n",
       "      <td>3</td>\n",
       "      <td>3</td>\n",
       "      <td>13212</td>\n",
       "    </tr>\n",
       "    <tr>\n",
       "      <th>1</th>\n",
       "      <td>1</td>\n",
       "      <td>163</td>\n",
       "      <td>25</td>\n",
       "      <td>0</td>\n",
       "      <td>3</td>\n",
       "      <td>102</td>\n",
       "      <td>1</td>\n",
       "      <td>2020</td>\n",
       "      <td>1</td>\n",
       "      <td>1</td>\n",
       "      <td>1</td>\n",
       "      <td>2</td>\n",
       "      <td>1</td>\n",
       "      <td>3</td>\n",
       "      <td>20466</td>\n",
       "    </tr>\n",
       "    <tr>\n",
       "      <th>2</th>\n",
       "      <td>12</td>\n",
       "      <td>1259</td>\n",
       "      <td>62</td>\n",
       "      <td>0</td>\n",
       "      <td>1</td>\n",
       "      <td>502</td>\n",
       "      <td>0</td>\n",
       "      <td>2020</td>\n",
       "      <td>16</td>\n",
       "      <td>9</td>\n",
       "      <td>3</td>\n",
       "      <td>4</td>\n",
       "      <td>5</td>\n",
       "      <td>3</td>\n",
       "      <td>7239</td>\n",
       "    </tr>\n",
       "    <tr>\n",
       "      <th>3</th>\n",
       "      <td>15</td>\n",
       "      <td>1543</td>\n",
       "      <td>76</td>\n",
       "      <td>0</td>\n",
       "      <td>2</td>\n",
       "      <td>502</td>\n",
       "      <td>0</td>\n",
       "      <td>2020</td>\n",
       "      <td>1</td>\n",
       "      <td>1</td>\n",
       "      <td>5</td>\n",
       "      <td>5</td>\n",
       "      <td>5</td>\n",
       "      <td>3</td>\n",
       "      <td>36772</td>\n",
       "    </tr>\n",
       "    <tr>\n",
       "      <th>4</th>\n",
       "      <td>19</td>\n",
       "      <td>1998</td>\n",
       "      <td>31</td>\n",
       "      <td>0</td>\n",
       "      <td>4</td>\n",
       "      <td>409</td>\n",
       "      <td>0</td>\n",
       "      <td>2020</td>\n",
       "      <td>1</td>\n",
       "      <td>1</td>\n",
       "      <td>1</td>\n",
       "      <td>3</td>\n",
       "      <td>2</td>\n",
       "      <td>3</td>\n",
       "      <td>43900</td>\n",
       "    </tr>\n",
       "  </tbody>\n",
       "</table>\n",
       "</div>"
      ],
      "text/plain": [
       "   AREA  Rpt Dist No  Vict Age  Vict Sex  Vict Descent  Premis Cd  \\\n",
       "0     3          377        36         0             1        501   \n",
       "1     1          163        25         0             3        102   \n",
       "2    12         1259        62         0             1        502   \n",
       "3    15         1543        76         0             2        502   \n",
       "4    19         1998        31         0             4        409   \n",
       "\n",
       "   Crime_Category  Year  Date  Month  Hour  Vict_Age1  Vict_Age2  Day  LatLon  \n",
       "0               1  2020     8      1     6          3          3    3   13212  \n",
       "1               1  2020     1      1     1          2          1    3   20466  \n",
       "2               0  2020    16      9     3          4          5    3    7239  \n",
       "3               0  2020     1      1     5          5          5    3   36772  \n",
       "4               0  2020     1      1     1          3          2    3   43900  "
      ]
     },
     "execution_count": 23,
     "metadata": {},
     "output_type": "execute_result"
    }
   ],
   "source": [
    "df.head(5)"
   ]
  },
  {
   "cell_type": "code",
   "execution_count": 78,
   "metadata": {},
   "outputs": [],
   "source": [
    "df_trim_2021 = df [['Rpt Dist No' ,'Vict Sex', 'Vict Descent', 'Date', 'Month', 'Hour' ,'Vict_Age1', 'Day' ,'LatLon', 'Crime_Category']]"
   ]
  },
  {
   "cell_type": "code",
   "execution_count": 79,
   "metadata": {},
   "outputs": [
    {
     "data": {
      "text/plain": [
       "Crime_Category\n",
       "0    43928\n",
       "1    24896\n",
       "Name: count, dtype: int64"
      ]
     },
     "execution_count": 79,
     "metadata": {},
     "output_type": "execute_result"
    }
   ],
   "source": [
    "df_trim_2021['Crime_Category'].value_counts()"
   ]
  },
  {
   "cell_type": "code",
   "execution_count": 80,
   "metadata": {},
   "outputs": [],
   "source": [
    "df_trim_2021.to_csv('df_trim_2021.csv', index=False)"
   ]
  }
 ],
 "metadata": {
  "kernelspec": {
   "display_name": "Python 3",
   "language": "python",
   "name": "python3"
  },
  "language_info": {
   "codemirror_mode": {
    "name": "ipython",
    "version": 3
   },
   "file_extension": ".py",
   "mimetype": "text/x-python",
   "name": "python",
   "nbconvert_exporter": "python",
   "pygments_lexer": "ipython3",
   "version": "3.8.9"
  }
 },
 "nbformat": 4,
 "nbformat_minor": 2
}
